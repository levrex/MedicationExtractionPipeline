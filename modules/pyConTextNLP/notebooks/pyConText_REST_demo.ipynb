{
 "cells": [
  {
   "cell_type": "markdown",
   "metadata": {},
   "source": [
    "# A demo showing the pyConTextNLP REST API implemented with cherrypy engine "
   ]
  },
  {
   "cell_type": "markdown",
   "metadata": {},
   "source": [
    "## First program source code"
   ]
  },
  {
   "cell_type": "code",
   "execution_count": 1,
   "metadata": {
    "collapsed": false
   },
   "outputs": [
    {
     "name": "stdout",
     "output_type": "stream",
     "text": [
      "Collecting randomcolor\n",
      "Installing collected packages: randomcolor\n",
      "Successfully installed randomcolor-0.4.4.4\n",
      "\u001b[33mYou are using pip version 8.1.2, however version 9.0.1 is available.\n",
      "You should consider upgrading via the 'pip install --upgrade pip' command.\u001b[0m\n"
     ]
    }
   ],
   "source": [
    "!pip install randomcolor"
   ]
  },
  {
   "cell_type": "markdown",
   "metadata": {},
   "source": [
    "## Run the program then stop and start manually from shell to release the cell"
   ]
  },
  {
   "cell_type": "code",
   "execution_count": 2,
   "metadata": {
    "collapsed": false
   },
   "outputs": [],
   "source": [
    "#run the program then start it manually from shell\n",
    "#%run ./cherrypy_pyConText.py &"
   ]
  },
  {
   "cell_type": "markdown",
   "metadata": {},
   "source": [
    "## HTTP request\n",
    "\n",
    "Create now a python HTTP object and send simple get request. Then wrap it up in IPython HTML object to show response. "
   ]
  },
  {
   "cell_type": "code",
   "execution_count": 8,
   "metadata": {
    "collapsed": false
   },
   "outputs": [
    {
     "data": {
      "text/plain": [
       "'Welcome to pyConTextNLP REST API. To start go to /markup_report.'"
      ]
     },
     "execution_count": 8,
     "metadata": {},
     "output_type": "execute_result"
    }
   ],
   "source": [
    "import requests\n",
    "import json\n",
    "import pyConTextNLP.itemData as itemData\n",
    "requests.get('http://127.0.0.1:3030/').text"
   ]
  },
  {
   "cell_type": "code",
   "execution_count": 6,
   "metadata": {
    "collapsed": false
   },
   "outputs": [
    {
     "name": "stdout",
     "output_type": "stream",
     "text": [
      "<!DOCTYPE html PUBLIC\n",
      "\"-//W3C//DTD XHTML 1.0 Transitional//EN\"\n",
      "\"http://www.w3.org/TR/xhtml1/DTD/xhtml1-transitional.dtd\">\n",
      "<html>\n",
      "<head>\n",
      "    <meta http-equiv=\"Content-Type\" content=\"text/html; charset=utf-8\"></meta>\n",
      "    <title>500 Internal Server Error</title>\n",
      "    <style type=\"text/css\">\n",
      "    #powered_by {\n",
      "        margin-top: 20px;\n",
      "        border-top: 2px solid black;\n",
      "        font-style: italic;\n",
      "    }\n",
      "\n",
      "    #traceback {\n",
      "        color: red;\n",
      "    }\n",
      "    </style>\n",
      "</head>\n",
      "    <body>\n",
      "        <h2>500 Internal Server Error</h2>\n",
      "        <p>The server encountered an unexpected condition which prevented it from fulfilling the request.</p>\n",
      "        <pre id=\"traceback\">Traceback (most recent call last):\n",
      "  File \"/Users/brian/anaconda/envs/radwords3/lib/python3.5/site-packages/cherrypy/_cprequest.py\", line 670, in respond\n",
      "    response.body = self.handler()\n",
      "  File \"/Users/brian/anaconda/envs/radwords3/lib/python3.5/site-packages/cherrypy/lib/encoding.py\", line 221, in __call__\n",
      "    self.body = self.oldhandler(*args, **kwargs)\n",
      "  File \"/Users/brian/anaconda/envs/radwords3/lib/python3.5/site-packages/cherrypy/_cpdispatch.py\", line 60, in __call__\n",
      "    return self.callable(*self.args, **self.kwargs)\n",
      "  File \"cherrypy_pyConText.py\", line 43, in markup_report\n",
      "    print(\"len of modifiers\",len(modifiers))\n",
      "TypeError: object of type 'NoneType' has no len()\n",
      "</pre>\n",
      "    <div id=\"powered_by\">\n",
      "      <span>\n",
      "        Powered by <a href=\"http://www.cherrypy.org\">CherryPy 10.2.1</a>\n",
      "      </span>\n",
      "    </div>\n",
      "    </body>\n",
      "</html>\n",
      "\n"
     ]
    }
   ],
   "source": [
    "print(requests.get('http://127.0.0.1:3030/markup_report').text)"
   ]
  },
  {
   "cell_type": "code",
   "execution_count": 7,
   "metadata": {
    "collapsed": false
   },
   "outputs": [
    {
     "data": {
      "text/html": [
       "<!DOCTYPE html PUBLIC\n",
       "\"-//W3C//DTD XHTML 1.0 Transitional//EN\"\n",
       "\"http://www.w3.org/TR/xhtml1/DTD/xhtml1-transitional.dtd\">\n",
       "<html>\n",
       "<head>\n",
       "    <meta http-equiv=\"Content-Type\" content=\"text/html; charset=utf-8\"></meta>\n",
       "    <title>500 Internal Server Error</title>\n",
       "    <style type=\"text/css\">\n",
       "    #powered_by {\n",
       "        margin-top: 20px;\n",
       "        border-top: 2px solid black;\n",
       "        font-style: italic;\n",
       "    }\n",
       "\n",
       "    #traceback {\n",
       "        color: red;\n",
       "    }\n",
       "    </style>\n",
       "</head>\n",
       "    <body>\n",
       "        <h2>500 Internal Server Error</h2>\n",
       "        <p>The server encountered an unexpected condition which prevented it from fulfilling the request.</p>\n",
       "        <pre id=\"traceback\">Traceback (most recent call last):\n",
       "  File \"/Users/brian/anaconda/envs/radwords3/lib/python3.5/site-packages/cherrypy/_cprequest.py\", line 670, in respond\n",
       "    response.body = self.handler()\n",
       "  File \"/Users/brian/anaconda/envs/radwords3/lib/python3.5/site-packages/cherrypy/lib/encoding.py\", line 221, in __call__\n",
       "    self.body = self.oldhandler(*args, **kwargs)\n",
       "  File \"/Users/brian/anaconda/envs/radwords3/lib/python3.5/site-packages/cherrypy/_cpdispatch.py\", line 60, in __call__\n",
       "    return self.callable(*self.args, **self.kwargs)\n",
       "  File \"cherrypy_pyConText.py\", line 43, in markup_report\n",
       "    print(\"len of modifiers\",len(modifiers))\n",
       "TypeError: object of type 'NoneType' has no len()\n",
       "</pre>\n",
       "    <div id=\"powered_by\">\n",
       "      <span>\n",
       "        Powered by <a href=\"http://www.cherrypy.org\">CherryPy 10.2.1</a>\n",
       "      </span>\n",
       "    </div>\n",
       "    </body>\n",
       "</html>\n"
      ],
      "text/plain": [
       "<IPython.core.display.HTML object>"
      ]
     },
     "execution_count": 7,
     "metadata": {},
     "output_type": "execute_result"
    }
   ],
   "source": [
    "from IPython.display import HTML\n",
    "response = requests.get('http://127.0.0.1:3030/markup_report').text\n",
    "HTML(response)"
   ]
  },
  {
   "cell_type": "markdown",
   "metadata": {},
   "source": [
    "## Send text for markup\n",
    "\n",
    "By default, the program will just send back an example output that is hardcoded. Now let's pass an argument containing the actuall report that we want to process. The modifiers and targets that came with the pyConTextNLP are used here."
   ]
  },
  {
   "cell_type": "code",
   "execution_count": 11,
   "metadata": {
    "collapsed": false
   },
   "outputs": [
    {
     "data": {
      "text/html": [
       "<p> impression: new opacity at the left lower lobe <span style=\"color: #ef8de4;\">consistent with</span> <span style=\"color: blue;\">pneumonia</span>. </p>"
      ],
      "text/plain": [
       "<IPython.core.display.HTML object>"
      ]
     },
     "execution_count": 11,
     "metadata": {},
     "output_type": "execute_result"
    }
   ],
   "source": [
    "response = requests.get('http://127.0.0.1:3030/markup_report',\n",
    "            params={'report':'''IMPRESSION:  New opacity at the left lower lobe consistent with pneumonia.''',\n",
    "                    'modifiers':json.dumps(mods),\n",
    "                    'targets':json.dumps(tars)}).text\n",
    "HTML(response)"
   ]
  },
  {
   "cell_type": "code",
   "execution_count": null,
   "metadata": {
    "collapsed": true
   },
   "outputs": [],
   "source": []
  },
  {
   "cell_type": "code",
   "execution_count": 7,
   "metadata": {
    "collapsed": true
   },
   "outputs": [],
   "source": [
    "_modifiers = itemData.itemData()\n",
    "_modifiers.extend(mods2)"
   ]
  },
  {
   "cell_type": "code",
   "execution_count": 10,
   "metadata": {
    "collapsed": true
   },
   "outputs": [],
   "source": [
    "mods = ((\"no definite\", \"PROBABLE_NEGATED_EXISTENCE\", \"\", \"forward\"),\n",
    "                  (\"no\", \"DEFINITE_NEGATED_EXISTENCE\", \"\", \"forward\"),\n",
    "       (\"consistent with\", \"PROBABLE_EXISTENCE\", \"\", \"forward\"))\n",
    "\n",
    "tars = ([\"pulmonary embolism\", \"PULMONARY_EMBOLISM\", \"\", \"\"],\n",
    "                [\"pulmonary emboli\", \"PULMONARY_EMBOLISM\", \"\", \"\"],\n",
    "               [\"pneumonia\", \"LUNG_DISEASE\", \"\", \"\"])"
   ]
  },
  {
   "cell_type": "code",
   "execution_count": null,
   "metadata": {
    "collapsed": true
   },
   "outputs": [],
   "source": []
  },
  {
   "cell_type": "code",
   "execution_count": null,
   "metadata": {
    "collapsed": false
   },
   "outputs": [],
   "source": [
    "json.loads(json.dumps(mods))"
   ]
  },
  {
   "cell_type": "code",
   "execution_count": 5,
   "metadata": {
    "collapsed": false
   },
   "outputs": [],
   "source": [
    "import pyConTextNLP.itemData as itemData\n",
    "mods2 = itemData.read_csv(\n",
    "    \"https://raw.githubusercontent.com/chapmanbe/pyConTextNLP/master/KB/lexical_kb_05042016.tsv\")"
   ]
  },
  {
   "cell_type": "code",
   "execution_count": 6,
   "metadata": {
    "collapsed": false
   },
   "outputs": [
    {
     "data": {
      "text/plain": [
       "[['are ruled out', 'DEFINITE_NEGATED_EXISTENCE', '', 'backward'],\n",
       " ['be ruled out', 'INDICATION', '', 'backward'],\n",
       " ['being ruled out', 'INDICATION', '', 'backward'],\n",
       " ['can be ruled out', 'DEFINITE_NEGATED_EXISTENCE', '', 'backward'],\n",
       " ['cannot be excluded', 'AMBIVALENT_EXISTENCE', '', 'backward'],\n",
       " ['cannot totally be excluded', 'PROBABLE_NEGATED_EXISTENCE', '', 'backward'],\n",
       " ['could be ruled out', 'DEFINITE_NEGATED_EXISTENCE', '', 'backward'],\n",
       " ['examination', 'INDICATION', '\\\\b(examination|exam|study)\\\\b', 'backward'],\n",
       " ['free', 'DEFINITE_NEGATED_EXISTENCE', '', 'backward'],\n",
       " ['has been ruled out', 'DEFINITE_NEGATED_EXISTENCE', '', 'backward'],\n",
       " ['have been ruled out', 'DEFINITE_NEGATED_EXISTENCE', '', 'backward'],\n",
       " ['is in the differential',\n",
       "  'AMBIVALENT_EXISTENCE',\n",
       "  'is\\\\sin\\\\sthe\\\\sdifferential',\n",
       "  'backward'],\n",
       " ['is negative',\n",
       "  'DEFINITE_NEGATED_EXISTENCE',\n",
       "  '(is|was) negative',\n",
       "  'backward'],\n",
       " ['is not excluded',\n",
       "  'AMBIVALENT_EXISTENCE',\n",
       "  '(is|was|are|were)\\\\snot\\\\sexcluded',\n",
       "  'backward'],\n",
       " ['is not entirely excluded',\n",
       "  'PROBABLE_NEGATED_EXISTENCE',\n",
       "  '(is|was|are|were|does)\\\\snot\\\\s(entirely|totally|definitely|completely\\\\s) excluded',\n",
       "  'backward'],\n",
       " ['is present', 'DEFINITE_EXISTENCE', '(is|are) present', 'backward'],\n",
       " ['is ruled out', 'DEFINITE_NEGATED_EXISTENCE', '', 'backward'],\n",
       " ['is to be ruled out', 'INDICATION', '', 'backward'],\n",
       " ['is ruled out', 'DEFINITE_NEGATED_EXISTENCE', '', 'backward'],\n",
       " ['might be ruled out', 'PROBABLE_NEGATED_EXISTENCE', '', 'backward'],\n",
       " ['must be ruled out', 'DEFINITE_NEGATED_EXISTENCE', '', 'backward'],\n",
       " ['not been ruled out', 'INDICATION', '', 'backward'],\n",
       " ['not definitively seen',\n",
       "  'PROBABLE_NEGATED_EXISTENCE',\n",
       "  'not definitively (seen|visualized)',\n",
       "  'backward'],\n",
       " ['not excluded',\n",
       "  'AMBIVALENT_EXISTENCE',\n",
       "  'not\\\\s(excluded|ruled\\\\sout)',\n",
       "  'backward'],\n",
       " ['now measuring', 'HISTORICAL', '', 'backward'],\n",
       " ['ought to be ruled out', 'INDICATION', '', 'backward'],\n",
       " ['progressed', 'HISTORICAL', '', 'backward'],\n",
       " ['protocol', 'INDICATION', '', 'backward'],\n",
       " ['resolved', 'HISTORICAL', '', 'backward'],\n",
       " ['should be ruled out', 'INDICATION', '', 'backward'],\n",
       " ['suspected', 'PROBABLE_EXISTENCE', '', 'backward'],\n",
       " ['unlikely', 'DEFINITE_NEGATED_EXISTENCE', '', 'bidirectional'],\n",
       " ['varying ages', 'HISTORICAL', '', 'backward'],\n",
       " ['was ruled out', 'DEFINITE_NEGATED_EXISTENCE', '', 'backward'],\n",
       " ['will be ruled out', 'INDICATION', '', 'backward'],\n",
       " ['would not be expected', 'PROBABLE_NEGATED_EXISTENCE', '', 'backward'],\n",
       " ['acute', 'ACUTE', '', 'bidirectional'],\n",
       " ['again', 'HISTORICAL', '', 'bidirectional'],\n",
       " ['age indeterminate', 'HISTORICAL', '', 'bidirectional'],\n",
       " ['appear',\n",
       "  'PROBABLE_EXISTENCE',\n",
       "  '(\\\\bappear\\\\b|\\\\bappears\\\\b)',\n",
       "  'bidirectional'],\n",
       " ['cannot be completely excluded',\n",
       "  'PROBABLE_NEGATED_EXISTENCE',\n",
       "  'cannot\\\\sbe\\\\s((entirely|completely|totally)\\\\s)?(excluded|ruled out)',\n",
       "  'bidirectional'],\n",
       " ['cannot be evaluated', 'AMBIVALENT_EXISTENCE', '', 'bidirectional'],\n",
       " ['chronic', 'HISTORICAL', '\\\\bchronic[a-z]*\\\\b', 'bidirectional'],\n",
       " ['clear', 'PROBABLE_NEGATED_EXISTENCE', '', 'bidirectional'],\n",
       " ['diminished', 'HISTORICAL', '', 'bidirectional'],\n",
       " ['equivocal', 'PROBABLE_EXISTENCE', '', 'bidirectional'],\n",
       " ['evaluation', 'INDICATION', '', 'bidirectional'],\n",
       " ['evolving', 'HISTORICAL', '', 'bidirectional'],\n",
       " ['healing', 'HISTORICAL', '\\\\b(healing|healed)\\\\b', 'bidirectional'],\n",
       " ['improved', 'HISTORICAL', 'improved|improving|improvement', 'bidirectional'],\n",
       " ['incompletely evaluated', 'AMBIVALENT_EXISTENCE', '', 'bidirectional'],\n",
       " ['interval change', 'HISTORICAL', '', 'bidirectional'],\n",
       " ['interval increase',\n",
       "  'HISTORICAL',\n",
       "  '(interval)\\\\b[\\\\d\\\\D\\\\s]*increase',\n",
       "  'bidirectional'],\n",
       " ['less likely', 'AMBIVALENT_EXISTENCE', '', 'bidirectional'],\n",
       " ['likely', 'PROBABLE_EXISTENCE', '', 'bidirectional'],\n",
       " ['likely chronic', 'HISTORICAL', '', 'bidirectional'],\n",
       " ['may be ruled out', 'DEFINITE_NEGATED_EXISTENCE', '', 'bidirectional'],\n",
       " ['new', 'ACUTE', '', 'bidirectional'],\n",
       " ['new from prior exam',\n",
       "  'ACUTE',\n",
       "  'new from(\\\\sthe)? prior (exam|study)',\n",
       "  'bidirectional'],\n",
       " ['no change in',\n",
       "  'HISTORICAL',\n",
       "  '(no(t)? ([a-zA-z] )?change(d)?( in)?)',\n",
       "  'bidirectional'],\n",
       " ['no longer noted',\n",
       "  'DEFINITE_NEGATED_EXISTENCE',\n",
       "  'no longer (seen|noted|visualized)',\n",
       "  'bidirectional'],\n",
       " ['not', 'DEFINITE_NEGATED_EXISTENCE', '\\\\bnot\\\\b', 'bidirectional'],\n",
       " ['not significantly changed', 'HISTORICAL', '', 'bidirectional'],\n",
       " ['old', 'HISTORICAL', '', 'bidirectional'],\n",
       " ['on previous exam',\n",
       "  'HISTORICAL',\n",
       "  '(on |from )?(previous|prior) exam',\n",
       "  'bidirectional'],\n",
       " ['persistent', 'HISTORICAL', '', 'bidirectional'],\n",
       " ['possible', 'PROBABLE_EXISTENCE', '', 'bidirectional'],\n",
       " ['previous', 'HISTORICAL', '', 'bidirectional'],\n",
       " ['previously described',\n",
       "  'HISTORICAL',\n",
       "  'previously (described|suspected)',\n",
       "  'bidirectional'],\n",
       " ['prior', 'HISTORICAL', '', 'bidirectional'],\n",
       " ['prior study', 'HISTORICAL', '', 'bidirectional'],\n",
       " ['probable', 'PROBABLE_EXISTENCE', '', 'bidirectional'],\n",
       " ['questionable', 'PROBABLE_NEGATED_EXISTENCE', '', 'bidirectional'],\n",
       " ['ruled out', 'DEFINITE_NEGATED_EXISTENCE', '', 'bidirectional'],\n",
       " ['should be considered', 'PROBABLE_EXISTENCE', '', 'bidirectional'],\n",
       " ['stable', 'HISTORICAL', '', 'bidirectional'],\n",
       " ['still evident', 'HISTORICAL', '', 'bidirectional'],\n",
       " ['subacute', 'HISTORICAL', '', 'bidirectional'],\n",
       " ['suggest', 'PROBABLE_EXISTENCE', '\\\\bsuggest[a-z]+\\\\b', 'bidirectional'],\n",
       " ['unchanged', 'HISTORICAL', 'unchanged|unchanging', 'bidirectional'],\n",
       " ['versus', 'AMBIVALENT_EXISTENCE', '', 'bidirectional'],\n",
       " ['absence of', 'DEFINITE_NEGATED_EXISTENCE', '', 'forward'],\n",
       " ['adequate to rule the patient out',\n",
       "  'DEFINITE_NEGATED_EXISTENCE',\n",
       "  '',\n",
       "  'forward'],\n",
       " ['appears to be', 'DEFINITE_EXISTENCE', '', 'forward'],\n",
       " ['assessment for', 'INDICATION', '', 'forward'],\n",
       " ['at risk for',\n",
       "  'FUTURE',\n",
       "  '(at\\\\s)?risk\\\\s(in\\\\sthe\\\\sfuture\\\\s)?(for|of)',\n",
       "  'forward'],\n",
       " ['atypical for', 'PROBABLE_NEGATED_EXISTENCE', '', 'forward'],\n",
       " ['be ruled out for', 'INDICATION', '', 'forward'],\n",
       " ['can be ruled out for', 'DEFINITE_NEGATED_EXISTENCE', '', 'forward'],\n",
       " ['can rule the patient out',\n",
       "  'DEFINITE_NEGATED_EXISTENCE',\n",
       "  'can rule (her|him|the patient) out',\n",
       "  'forward'],\n",
       " ['cannot', 'AMBIVALENT_EXISTENCE', '', 'forward'],\n",
       " ['cannot exclude', 'AMBIVALENT_EXISTENCE', 'cannot\\\\sexclude', 'forward'],\n",
       " ['cannot see', 'AMBIVALENT_EXISTENCE', '', 'forward'],\n",
       " ['cannot totally exclude', 'PROBABLE_NEGATED_EXISTENCE', '', 'forward'],\n",
       " ['change in', 'HISTORICAL', '', 'forward'],\n",
       " ['changing', 'HISTORICAL', '', 'forward'],\n",
       " ['checked for', 'PROBABLE_EXISTENCE', '', 'forward'],\n",
       " ['clinical concern', 'FUTURE', 'clinical (concern|suspicion)\\\\b', 'forward'],\n",
       " ['clinical history', 'HISTORICAL', '', 'forward'],\n",
       " ['compatible with', 'DEFINITE_EXISTENCE', '', 'forward'],\n",
       " ['concerning for', 'PROBABLE_EXISTENCE', '', 'forward'],\n",
       " ['consistent with', 'DEFINITE_EXISTENCE', '', 'forward'],\n",
       " ['convincing', 'DEFINITE_EXISTENCE', '', 'forward'],\n",
       " ['could be ruled out for', 'DEFINITE_NEGATED_EXISTENCE', '', 'forward'],\n",
       " ['declined', 'DEFINITE_NEGATED_EXISTENCE', '', 'forward'],\n",
       " ['declines', 'PROBABLE_NEGATED_EXISTENCE', '', 'forward'],\n",
       " ['decrease in', 'HISTORICAL', '', 'forward'],\n",
       " ['decrease in', 'HISTORICAL', '', 'forward'],\n",
       " ['definite', 'DEFINITE_EXISTENCE', '', 'forward'],\n",
       " ['denied', 'PROBABLE_NEGATED_EXISTENCE', '', 'forward'],\n",
       " ['denies', 'PROBABLE_NEGATED_EXISTENCE', '', 'forward'],\n",
       " ['deny', 'PROBABLE_NEGATED_EXISTENCE', '', 'forward'],\n",
       " ['denying', 'PROBABLE_NEGATED_EXISTENCE', '', 'forward'],\n",
       " ['did rule (the patient|him|her) out',\n",
       "  'DEFINITE_NEGATED_EXISTENCE',\n",
       "  '',\n",
       "  'forward'],\n",
       " ['did rule out', 'DEFINITE_NEGATED_EXISTENCE', '', 'forward'],\n",
       " ['differential diagnosis would include',\n",
       "  'AMBIVALENT_EXISTENCE',\n",
       "  'differential\\\\s((diagnosis|considerations)\\\\s)?((would|could)\\\\sinclud[a-z]*)?',\n",
       "  'forward'],\n",
       " ['documented', 'HISTORICAL', '', 'forward'],\n",
       " ['evaluate for', 'INDICATION', '', 'forward'],\n",
       " ['evaluation of', 'INDICATION', 'evaluation\\\\s(of|for)', 'forward'],\n",
       " ['evidence', 'DEFINITE_EXISTENCE', '', 'forward'],\n",
       " ['did rule her out against', 'DEFINITE_NEGATED_EXISTENCE', '', 'forward'],\n",
       " ['examination for', 'INDICATION', '(study|exam|examination) for', 'forward'],\n",
       " ['fails to reveal', 'DEFINITE_NEGATED_EXISTENCE', '', 'forward'],\n",
       " ['free of', 'DEFINITE_NEGATED_EXISTENCE', '', 'forward'],\n",
       " ['gram negative', 'PSEUDONEG', '', 'forward'],\n",
       " ['higher sensitivity for', 'INDICATION', '', 'forward'],\n",
       " ['highly suggestive', 'DEFINITE_EXISTENCE', '', 'forward'],\n",
       " ['history of', 'HISTORICAL', '', 'forward'],\n",
       " ['if there are', 'FUTURE', '', 'forward'],\n",
       " ['if there is concern for', 'FUTURE', '', 'forward'],\n",
       " ['is to be ruled out for', 'INDICATION', '', 'forward'],\n",
       " ['is more sensitive', 'INDICATION', 'is more sensitive', 'forward'],\n",
       " ['known', 'HISTORICAL', '\\\\bknown\\\\b', 'forward'],\n",
       " ['low probability', 'PROBABLE_NEGATED_EXISTENCE', '', 'forward'],\n",
       " ['may be related', 'PROBABLE_EXISTENCE', '', 'forward'],\n",
       " ['may represent',\n",
       "  'PROBABLE_EXISTENCE',\n",
       "  '(may|might)\\\\s(represent|reflect)',\n",
       "  'forward'],\n",
       " ['might be ruled out for', 'PROBABLE_NEGATED_EXISTENCE', '', 'forward'],\n",
       " ['mimicking', 'PROBABLE_NEGATED_EXISTENCE', '', 'forward'],\n",
       " ['must be ruled out for', 'DEFINITE_NEGATED_EXISTENCE', '', 'forward'],\n",
       " ['negative examination for',\n",
       "  'DEFINITE_NEGATED_EXISTENCE',\n",
       "  'negative (examination|study|exam|evaluation) for',\n",
       "  'forward'],\n",
       " ['negative for', 'DEFINITE_NEGATED_EXISTENCE', '', 'forward'],\n",
       " ['never developed', 'PROBABLE_NEGATED_EXISTENCE', '', 'forward'],\n",
       " ['never had', 'DEFINITE_NEGATED_EXISTENCE', '', 'forward'],\n",
       " ['no', 'DEFINITE_NEGATED_EXISTENCE', '\\\\bno\\\\b', 'forward'],\n",
       " ['no abnormal', 'DEFINITE_NEGATED_EXISTENCE', '', 'forward'],\n",
       " ['no cause of', 'PROBABLE_NEGATED_EXISTENCE', '', 'forward'],\n",
       " ['no complaints of', 'AMBIVALENT_EXISTENCE', '', 'forward'],\n",
       " ['no convincing', 'PROBABLE_NEGATED_EXISTENCE', '', 'forward'],\n",
       " ['no definite', 'DEFINITE_NEGATED_EXISTENCE', 'no[\\\\s]*definite', 'forward'],\n",
       " ['no definite change', 'HISTORICAL', '', 'forward'],\n",
       " ['no evidence of',\n",
       "  'DEFINITE_NEGATED_EXISTENCE',\n",
       "  '(no|without)\\\\s((definite|other|definitive|secondary|indirect)\\\\s)?((radiographic|sonographic|CT)\\\\s)?evidence\\\\s(of|for)',\n",
       "  'forward'],\n",
       " ['no findings of', 'PROBABLE_NEGATED_EXISTENCE', '', 'forward'],\n",
       " ['no findings to indicate', 'DEFINITE_NEGATED_EXISTENCE', '', 'forward'],\n",
       " ['no increase', 'HISTORICAL', '', 'forward'],\n",
       " ['no new', 'DEFINITE_NEGATED_EXISTENCE', '', 'forward'],\n",
       " ['no obvious', 'PROBABLE_NEGATED_EXISTENCE', '', 'forward'],\n",
       " ['no other', 'PROBABLE_NEGATED_EXISTENCE', '', 'forward'],\n",
       " ['no sign of', 'PROBABLE_NEGATED_EXISTENCE', '', 'forward'],\n",
       " ['no significant', 'PROBABLE_NEGATED_EXISTENCE', '', 'forward'],\n",
       " ['no significant change', 'HISTORICAL', '', 'forward'],\n",
       " ['no significant interval change', 'HISTORICAL', '', 'forward'],\n",
       " ['no signs', 'DEFINITE_NEGATED_EXISTENCE', 'no sign(s)?', 'forward'],\n",
       " ['no definite signs of',\n",
       "  'PROBABLE_NEGATED_EXISTENCE',\n",
       "  '(no|without) (definite|definitive|secondary|indirect) ((radiographic|sonographic|CT)\\\\s)?signs\\\\s(of|for)',\n",
       "  'forward'],\n",
       " ['no suggestion', 'DEFINITE_NEGATED_EXISTENCE', '', 'forward'],\n",
       " ['no suspicious change', 'HISTORICAL', '', 'forward'],\n",
       " ['no XYZ to suggest',\n",
       "  'DEFINITE_NEGATED_EXISTENCE',\n",
       "  '(\\\\b(without|no)\\\\b[\\\\d\\\\D\\\\s]*to suggest)',\n",
       "  'forward'],\n",
       " ['nor', 'PROBABLE_NEGATED_EXISTENCE', '\\\\bnor\\\\b', 'forward'],\n",
       " ['not appreciate', 'PROBABLE_NEGATED_EXISTENCE', '', 'forward'],\n",
       " ['not associated with', 'PROBABLE_NEGATED_EXISTENCE', '', 'forward'],\n",
       " ['not cause', 'PSEUDONEG', '', 'forward'],\n",
       " ['not certain whether', 'PSEUDONEG', '', 'forward'],\n",
       " ['not clearly evident', 'PROBABLE_NEGATED_EXISTENCE', '', 'forward'],\n",
       " ['not complain of', 'PROBABLE_NEGATED_EXISTENCE', '', 'forward'],\n",
       " ['not demonstrate', 'DEFINITE_NEGATED_EXISTENCE', '', 'forward'],\n",
       " ['not drain', 'PSEUDONEG', '', 'forward'],\n",
       " ['not exhibit', 'DEFINITE_NEGATED_EXISTENCE', '', 'forward'],\n",
       " ['not extend', 'PSEUDONEG', '', 'forward'],\n",
       " ['not feel', 'PROBABLE_NEGATED_EXISTENCE', '', 'forward'],\n",
       " ['not had', 'DEFINITE_NEGATED_EXISTENCE', '', 'forward'],\n",
       " ['not have', 'DEFINITE_NEGATED_EXISTENCE', '', 'forward'],\n",
       " ['not know of', 'AMBIVALENT_EXISTENCE', '', 'forward'],\n",
       " ['not known to have', 'AMBIVALENT_EXISTENCE', '', 'forward'],\n",
       " ['not necessarily', 'PSEUDONEG', '', 'forward'],\n",
       " ['not reveal', 'DEFINITE_NEGATED_EXISTENCE', '', 'forward'],\n",
       " ['not see', 'DEFINITE_NEGATED_EXISTENCE', '', 'forward'],\n",
       " ['not to be', 'PROBABLE_NEGATED_EXISTENCE', '', 'forward'],\n",
       " ['nothing', 'PROBABLE_NEGATED_EXISTENCE', '', 'forward'],\n",
       " ['obvious', 'DEFINITE_EXISTENCE', '', 'forward'],\n",
       " ['ought to be ruled out for', 'INDICATION', '', 'forward'],\n",
       " ['patient was not', 'DEFINITE_NEGATED_EXISTENCE', '', 'forward'],\n",
       " ['positive study for',\n",
       "  'DEFINITE_EXISTENCE',\n",
       "  'positive (study|exam|examination)( for)',\n",
       "  'forward'],\n",
       " ['predispose to ', 'FUTURE', '', 'forward'],\n",
       " ['progression of', 'HISTORICAL', 'progression\\\\s(of|in)', 'forward'],\n",
       " ['rather than', 'PROBABLE_EXISTENCE', '', 'forward'],\n",
       " ['redemonstration',\n",
       "  'HISTORICAL',\n",
       "  '(re-demonstrat[a-z]*|redemonstrat[a-z]*)',\n",
       "  'forward'],\n",
       " ['remote', 'HISTORICAL', '', 'forward'],\n",
       " ['represents', 'DEFINITE_EXISTENCE', '', 'forward'],\n",
       " ['residual', 'HISTORICAL', '', 'forward'],\n",
       " ['resolution of', 'HISTORICAL', '', 'forward'],\n",
       " ['resolving', 'HISTORICAL', '', 'forward'],\n",
       " ['rule her out', 'INDICATION', '', 'forward'],\n",
       " ['rule him out', 'INDICATION', '', 'forward'],\n",
       " ['rule him out for', 'INDICATION', '', 'forward'],\n",
       " ['rule out',\n",
       "  'INDICATION',\n",
       "  '(r/o|rule out|\\\\br o\\\\b|r\\\\.o\\\\.|\\\\bro\\\\b)',\n",
       "  'forward'],\n",
       " ['rule out for', 'INDICATION', '', 'forward'],\n",
       " ['rule patient out for',\n",
       "  'INDICATION',\n",
       "  'rule (him|her|patient|the patient|subject) out for',\n",
       "  'forward'],\n",
       " ['rule the patient out', 'INDICATION', '', 'forward'],\n",
       " ['rule the patient out for', 'INDICATION', '', 'forward'],\n",
       " ['ruled her out against',\n",
       "  'DEFINITE_NEGATED_EXISTENCE',\n",
       "  'ruled\\\\s(him|her|the subject|the patient|subject|patient)\\\\sout( against| for)?',\n",
       "  'forward'],\n",
       " ['ruled out against', 'DEFINITE_NEGATED_EXISTENCE', '', 'forward'],\n",
       " ['ruled out for', 'DEFINITE_NEGATED_EXISTENCE', '', 'forward'],\n",
       " ['rules her out', 'DEFINITE_NEGATED_EXISTENCE', '', 'forward'],\n",
       " ['rules her out for',\n",
       "  'DEFINITE_NEGATED_EXISTENCE',\n",
       "  'rules\\\\s(him|her)\\\\sout\\\\sfor',\n",
       "  'forward'],\n",
       " ['rules him out',\n",
       "  'DEFINITE_NEGATED_EXISTENCE',\n",
       "  'rules\\\\s(him|her)\\\\sout',\n",
       "  'forward'],\n",
       " ['rules him out for',\n",
       "  'DEFINITE_NEGATED_EXISTENCE',\n",
       "  'rules\\\\s(him|her)\\\\sout\\\\sfor',\n",
       "  'forward'],\n",
       " ['rules out', 'DEFINITE_NEGATED_EXISTENCE', '', 'forward'],\n",
       " ['rules out for', 'DEFINITE_NEGATED_EXISTENCE', '', 'forward'],\n",
       " ['rules the patient out', 'DEFINITE_NEGATED_EXISTENCE', '', 'forward'],\n",
       " ['rules the patient out for', 'DEFINITE_NEGATED_EXISTENCE', '', 'forward'],\n",
       " ['sequelae of', 'HISTORICAL', '', 'forward'],\n",
       " ['should be ruled out for', 'INDICATION', '', 'forward'],\n",
       " ['simulating', 'PROBABLE_NEGATED_EXISTENCE', '', 'forward'],\n",
       " ['study for detection', 'INDICATION', '', 'forward'],\n",
       " ['sufficient to rule out',\n",
       "  'DEFINITE_NEGATED_EXISTENCE',\n",
       "  'sufficient\\\\sto\\\\srule\\\\s((her|him|the patient|the subject)\\\\s)?out',\n",
       "  'forward'],\n",
       " ['suspicious', 'PROBABLE_EXISTENCE', '', 'forward'],\n",
       " ['suspicous', 'PROBABLE_EXISTENCE', '', 'forward'],\n",
       " ['test for', 'AMBIVALENT_EXISTENCE', '', 'forward'],\n",
       " ['to exclude', 'PROBABLE_NEGATED_EXISTENCE', '', 'forward'],\n",
       " ['unable to adequately assess', 'AMBIVALENT_EXISTENCE', '', 'forward'],\n",
       " ['unable to assess', 'AMBIVALENT_EXISTENCE', '', 'forward'],\n",
       " ['unremarkable for', 'DEFINITE_NEGATED_EXISTENCE', '', 'forward'],\n",
       " ['warned of', 'FUTURE', '', 'forward'],\n",
       " ['were warned', 'FUTURE', '', 'forward'],\n",
       " ['what must be ruled out is', 'INDICATION', '', 'forward'],\n",
       " ['will be ruled out for', 'INDICATION', '', 'forward'],\n",
       " ['with no', 'DEFINITE_NEGATED_EXISTENCE', '', 'forward'],\n",
       " ['without', 'DEFINITE_NEGATED_EXISTENCE', '', 'forward'],\n",
       " ['without difficulty', 'PSEUDONEG', '', 'forward'],\n",
       " ['without indication', 'PROBABLE_NEGATED_EXISTENCE', '', 'forward'],\n",
       " ['without sign', 'DEFINITE_NEGATED_EXISTENCE', 'without sign(s)?', 'forward'],\n",
       " ['worrisome', 'PROBABLE_EXISTENCE', '', 'forward'],\n",
       " ['#NAME?', 'DEFINITE_NEGATED_EXISTENCE', '', 'forward'],\n",
       " ['although', 'CONJ', '', 'terminate'],\n",
       " ['apart from', 'CONJ', '', 'terminate'],\n",
       " ['as a cause for', 'CONJ', '', 'terminate'],\n",
       " ['as a cause of', 'CONJ', '', 'terminate'],\n",
       " ['as a etiology for', 'CONJ', '', 'terminate'],\n",
       " ['as a etiology of', 'CONJ', '', 'terminate'],\n",
       " ['as a reason for', 'CONJ', '', 'terminate'],\n",
       " ['as a reason of', 'CONJ', '', 'terminate'],\n",
       " ['as a secondary cause for', 'CONJ', '', 'terminate'],\n",
       " ['as a secondary cause of', 'CONJ', '', 'terminate'],\n",
       " ['as a secondary etiology for', 'CONJ', '', 'terminate'],\n",
       " ['as a secondary etiology of', 'CONJ', '', 'terminate'],\n",
       " ['as a secondary origin for', 'CONJ', '', 'terminate'],\n",
       " ['as a secondary origin of', 'CONJ', '', 'terminate'],\n",
       " ['as a secondary reason for', 'CONJ', '', 'terminate'],\n",
       " ['as a secondary reason of', 'CONJ', '', 'terminate'],\n",
       " ['as a secondary source for', 'CONJ', '', 'terminate'],\n",
       " ['as a secondary source of', 'CONJ', '', 'terminate'],\n",
       " ['as a source for', 'CONJ', '', 'terminate'],\n",
       " ['as a source of', 'CONJ', '', 'terminate'],\n",
       " ['as an cause for', 'CONJ', '', 'terminate'],\n",
       " ['as an cause of', 'CONJ', '', 'terminate'],\n",
       " ['as an etiology for', 'CONJ', '', 'terminate'],\n",
       " ['as an etiology of', 'CONJ', '', 'terminate'],\n",
       " ['as an origin for', 'CONJ', '', 'terminate'],\n",
       " ['as an origin of', 'CONJ', '', 'terminate'],\n",
       " ['as an reason for', 'CONJ', '', 'terminate'],\n",
       " ['as an reason of', 'CONJ', '', 'terminate'],\n",
       " ['as an secondary cause for', 'CONJ', '', 'terminate'],\n",
       " ['as an secondary cause of', 'CONJ', '', 'terminate'],\n",
       " ['as an secondary etiology for', 'CONJ', '', 'terminate'],\n",
       " ['as an secondary etiology of', 'CONJ', '', 'terminate'],\n",
       " ['as an secondary origin for', 'CONJ', '', 'terminate'],\n",
       " ['as an secondary origin of', 'CONJ', '', 'terminate'],\n",
       " ['as an secondary reason for', 'CONJ', '', 'terminate'],\n",
       " ['as an secondary reason of', 'CONJ', '', 'terminate'],\n",
       " ['as an secondary source for', 'CONJ', '', 'terminate'],\n",
       " ['as an secondary source of', 'CONJ', '', 'terminate'],\n",
       " ['as an source for', 'CONJ', '', 'terminate'],\n",
       " ['as an source of', 'CONJ', '', 'terminate'],\n",
       " ['as the cause for', 'CONJ', '', 'terminate'],\n",
       " ['as the cause of', 'CONJ', '', 'terminate'],\n",
       " ['as the etiology for', 'CONJ', '', 'terminate'],\n",
       " ['as the etiology of', 'CONJ', '', 'terminate'],\n",
       " ['as the origin for', 'CONJ', '', 'terminate'],\n",
       " ['as the origin of', 'CONJ', '', 'terminate'],\n",
       " ['as the reason for', 'CONJ', '', 'terminate'],\n",
       " ['as the reason of', 'CONJ', '', 'terminate'],\n",
       " ['as the secondary cause for', 'CONJ', '', 'terminate'],\n",
       " ['as the secondary cause of', 'CONJ', '', 'terminate'],\n",
       " ['as the secondary etiology for', 'CONJ', '', 'terminate'],\n",
       " ['as the secondary etiology of', 'CONJ', '', 'terminate'],\n",
       " ['as the secondary origin for', 'CONJ', '', 'terminate'],\n",
       " ['as the secondary origin of', 'CONJ', '', 'terminate'],\n",
       " ['as the secondary reason for', 'CONJ', '', 'terminate'],\n",
       " ['as the secondary reason of', 'CONJ', '', 'terminate'],\n",
       " ['as the secondary source for', 'CONJ', '', 'terminate'],\n",
       " ['as the secondary source of', 'CONJ', '', 'terminate'],\n",
       " ['as the source for', 'CONJ', '', 'terminate'],\n",
       " ['as the source of', 'CONJ', '', 'terminate'],\n",
       " ['as there are ', 'CONJ', '', 'terminate'],\n",
       " ['aside from', 'CONJ', '', 'terminate'],\n",
       " ['but', 'CONJ', '', 'terminate'],\n",
       " ['cause for', 'CONJ', '', 'terminate'],\n",
       " ['cause of', 'CONJ', '', 'terminate'],\n",
       " ['causes for', 'CONJ', '', 'terminate'],\n",
       " ['causes of', 'CONJ', '', 'terminate'],\n",
       " ['etiology for', 'CONJ', '', 'terminate'],\n",
       " ['etiology of', 'CONJ', '', 'terminate'],\n",
       " ['except', 'CONJ', '', 'terminate'],\n",
       " ['however', 'CONJ', '', 'terminate'],\n",
       " ['involving', 'CONJ', '', 'terminate'],\n",
       " ['nevertheless', 'CONJ', '', 'terminate'],\n",
       " ['origin for', 'CONJ', '', 'terminate'],\n",
       " ['origin of', 'CONJ', '', 'terminate'],\n",
       " ['origins for', 'CONJ', '', 'terminate'],\n",
       " ['origins of', 'CONJ', '', 'terminate'],\n",
       " ['other possibilities of', 'CONJ', '', 'terminate'],\n",
       " ['reason for', 'CONJ', '', 'terminate'],\n",
       " ['reason of', 'CONJ', '', 'terminate'],\n",
       " ['reasons for', 'CONJ', '', 'terminate'],\n",
       " ['reasons of', 'CONJ', '', 'terminate'],\n",
       " ['secondary to', 'CONJ', '', 'terminate'],\n",
       " ['source for', 'CONJ', '', 'terminate'],\n",
       " ['source of', 'CONJ', '', 'terminate'],\n",
       " ['sources for', 'CONJ', '', 'terminate'],\n",
       " ['sources of', 'CONJ', '', 'terminate'],\n",
       " ['still', 'CONJ', '', 'terminate'],\n",
       " ['though', 'CONJ', '', 'terminate'],\n",
       " ['trigger event for', 'CONJ', '', 'terminate'],\n",
       " ['which', 'CONJ', '', 'terminate'],\n",
       " ['yet', 'CONJ', '', 'terminate'],\n",
       " ['(no|nothing) convincing', 'DEFINITE_NEGATED_EXISTENCE', '', 'forward'],\n",
       " ['(the patient|him|her) was not',\n",
       "  'DEFINITE_NEGATED_EXISTENCE',\n",
       "  '',\n",
       "  'forward'],\n",
       " ['as a suggestion', 'PROBABLE_EXISTENCE', '', 'bidirectional'],\n",
       " ['associated with', 'PROBABLE_EXISTENCE', '', 'forward'],\n",
       " ['believe', 'DEFINITE_EXISTENCE', '', 'bidirectional'],\n",
       " ['borderline', 'AMBIVALENT_EXISTENCE', '', 'bidirectional'],\n",
       " ['can rule out', 'DEFINITE_NEGATED_EXISTENCE', '', 'forward'],\n",
       " ['can rule out against', 'DEFINITE_NEGATED_EXISTENCE', '', 'forward'],\n",
       " ['can rule out for', 'DEFINITE_NEGATED_EXISTENCE', '', 'forward'],\n",
       " ['can see', 'DEFINITE_EXISTENCE', '', 'forward'],\n",
       " ['cannot rule out',\n",
       "  'AMBIVALENT_EXISTENCE',\n",
       "  'cannot rule (the patient |him |her )?out',\n",
       "  'forward'],\n",
       " ['completely excluded',\n",
       "  'DEFINITE_NEGATED_EXISTENCE',\n",
       "  '(completely|entirely)? excluded',\n",
       "  'backward'],\n",
       " ['construed as', 'PROBABLE_EXISTENCE', '', 'bidirectional'],\n",
       " ['could be', 'PROBABLE_EXISTENCE', '', 'forward'],\n",
       " ['could not be ruled', 'AMBIVALENT_EXISTENCE', '', 'bidirectional'],\n",
       " ['could represent', 'PROBABLE_EXISTENCE', '', 'forward'],\n",
       " ['equivocal', 'AMBIVALENT_EXISTENCE', '', 'bidirectional'],\n",
       " ['every indication', 'PROBABLE_EXISTENCE', '', 'forward'],\n",
       " ['excluded', 'DEFINITE_NEGATED_EXISTENCE', '', 'backward'],\n",
       " ['exhibit', 'PROBABLE_EXISTENCE', '', 'bidirectional'],\n",
       " ['gross evidence', 'DEFINITE_EXISTENCE', '', 'forward'],\n",
       " ['high probability', 'DEFINITE_EXISTENCE', '', 'bidirectional'],\n",
       " ['highly hesitant', 'AMBIVALENT_EXISTENCE', '', 'bidirectional'],\n",
       " ['indication', 'AMBIVALENT_EXISTENCE', '', 'bidirectional'],\n",
       " ['insufficient to rule (the patient|him|her) out for',\n",
       "  'AMBIVALENT_EXISTENCE',\n",
       "  '',\n",
       "  'forward'],\n",
       " ['is positive', 'DEFINITE_EXISTENCE', '', 'bidirectional'],\n",
       " ['no other (CT|radiographic|sonographic|MR|etc) evidence',\n",
       "  'PROBABLE_NEGATED_EXISTENCE',\n",
       "  '',\n",
       "  'forward'],\n",
       " ['no secondary (CT|radiographic|sonographic|MR|etc) signs',\n",
       "  'PROBABLE_NEGATED_EXISTENCE',\n",
       "  '',\n",
       "  'forward'],\n",
       " ['no suspicious', 'PROBABLE_NEGATED_EXISTENCE', '', 'forward'],\n",
       " ['not adequate to rule out',\n",
       "  'AMBIVALENT_EXISTENCE',\n",
       "  'not adequate to rule ((the patient|him|her)\\\\s)?out',\n",
       "  'forward'],\n",
       " ['not likely', 'DEFINITE_NEGATED_EXISTENCE', '', 'bidirectional'],\n",
       " ['not only', 'PSEUDONEG', '', 'forward'],\n",
       " ['reveals', 'DEFINITE_EXISTENCE', '', 'forward'],\n",
       " ['seen best', 'PROBABLE_EXISTENCE', '', 'backward'],\n",
       " ['signs of', 'PROBABLE_EXISTENCE', '', 'bidirectional'],\n",
       " ['was not excluded',\n",
       "  'AMBIVALENT_EXISTENCE',\n",
       "  '(was|were) not excluded',\n",
       "  'backward'],\n",
       " ['if', 'HYPOTHETICAL', '', 'forward'],\n",
       " ['decrease',\n",
       "  'HISTORICAL',\n",
       "  'decrease|decreased|decreasing|reduction|reduced',\n",
       "  'bidirectional'],\n",
       " ['increase', 'HISTORICAL', 'increase|increasing|increased', 'bidirectional'],\n",
       " ['possibly', 'PROBABLE_EXISTENCE', '', 'forward'],\n",
       " ['decrease the likelihood',\n",
       "  'PROBABLE_NEGATED_EXISTENCE',\n",
       "  'decreas[a-z]+(\\\\sthe)? likelihood',\n",
       "  'forward'],\n",
       " ['suspect', 'PROBABLE_EXISTENCE', '', 'forward'],\n",
       " ['likely represents',\n",
       "  'PROBABLE_EXISTENCE',\n",
       "  'likely (represents|representing)',\n",
       "  'forward'],\n",
       " ['without change', 'HISTORICAL', '', 'backwards'],\n",
       " ['risk factor', 'FUTURE', 'risk factor(s)?', 'bidirectional'],\n",
       " ['favor', 'PROBABLE_EXISTENCE', '', 'bidirectional']]"
      ]
     },
     "execution_count": 6,
     "metadata": {},
     "output_type": "execute_result"
    }
   ],
   "source": [
    "mods2"
   ]
  },
  {
   "cell_type": "code",
   "execution_count": null,
   "metadata": {
    "collapsed": false
   },
   "outputs": [],
   "source": [
    "json.dumps(mods2)"
   ]
  },
  {
   "cell_type": "code",
   "execution_count": 8,
   "metadata": {
    "collapsed": true
   },
   "outputs": [],
   "source": [
    "import ast"
   ]
  },
  {
   "cell_type": "code",
   "execution_count": 12,
   "metadata": {
    "collapsed": false
   },
   "outputs": [
    {
     "ename": "ValueError",
     "evalue": "malformed node or string: <_ast.Call object at 0x106dd5ac8>",
     "output_type": "error",
     "traceback": [
      "\u001b[0;31m---------------------------------------------------------------------------\u001b[0m",
      "\u001b[0;31mValueError\u001b[0m                                Traceback (most recent call last)",
      "\u001b[0;32m<ipython-input-12-ca735d932f71>\u001b[0m in \u001b[0;36m<module>\u001b[0;34m()\u001b[0m\n\u001b[0;32m----> 1\u001b[0;31m \u001b[0mast\u001b[0m\u001b[0;34m.\u001b[0m\u001b[0mliteral_eval\u001b[0m\u001b[0;34m(\u001b[0m\u001b[0;34m\"print('Hello, world')\"\u001b[0m\u001b[0;34m)\u001b[0m\u001b[0;34m\u001b[0m\u001b[0m\n\u001b[0m",
      "\u001b[0;32m/Users/brian/anaconda/envs/radwords3/lib/python3.5/ast.py\u001b[0m in \u001b[0;36mliteral_eval\u001b[0;34m(node_or_string)\u001b[0m\n\u001b[1;32m     82\u001b[0m                 \u001b[0;32mreturn\u001b[0m \u001b[0mleft\u001b[0m \u001b[0;34m-\u001b[0m \u001b[0mright\u001b[0m\u001b[0;34m\u001b[0m\u001b[0m\n\u001b[1;32m     83\u001b[0m         \u001b[0;32mraise\u001b[0m \u001b[0mValueError\u001b[0m\u001b[0;34m(\u001b[0m\u001b[0;34m'malformed node or string: '\u001b[0m \u001b[0;34m+\u001b[0m \u001b[0mrepr\u001b[0m\u001b[0;34m(\u001b[0m\u001b[0mnode\u001b[0m\u001b[0;34m)\u001b[0m\u001b[0;34m)\u001b[0m\u001b[0;34m\u001b[0m\u001b[0m\n\u001b[0;32m---> 84\u001b[0;31m     \u001b[0;32mreturn\u001b[0m \u001b[0m_convert\u001b[0m\u001b[0;34m(\u001b[0m\u001b[0mnode_or_string\u001b[0m\u001b[0;34m)\u001b[0m\u001b[0;34m\u001b[0m\u001b[0m\n\u001b[0m\u001b[1;32m     85\u001b[0m \u001b[0;34m\u001b[0m\u001b[0m\n\u001b[1;32m     86\u001b[0m \u001b[0;34m\u001b[0m\u001b[0m\n",
      "\u001b[0;32m/Users/brian/anaconda/envs/radwords3/lib/python3.5/ast.py\u001b[0m in \u001b[0;36m_convert\u001b[0;34m(node)\u001b[0m\n\u001b[1;32m     81\u001b[0m             \u001b[0;32melse\u001b[0m\u001b[0;34m:\u001b[0m\u001b[0;34m\u001b[0m\u001b[0m\n\u001b[1;32m     82\u001b[0m                 \u001b[0;32mreturn\u001b[0m \u001b[0mleft\u001b[0m \u001b[0;34m-\u001b[0m \u001b[0mright\u001b[0m\u001b[0;34m\u001b[0m\u001b[0m\n\u001b[0;32m---> 83\u001b[0;31m         \u001b[0;32mraise\u001b[0m \u001b[0mValueError\u001b[0m\u001b[0;34m(\u001b[0m\u001b[0;34m'malformed node or string: '\u001b[0m \u001b[0;34m+\u001b[0m \u001b[0mrepr\u001b[0m\u001b[0;34m(\u001b[0m\u001b[0mnode\u001b[0m\u001b[0;34m)\u001b[0m\u001b[0;34m)\u001b[0m\u001b[0;34m\u001b[0m\u001b[0m\n\u001b[0m\u001b[1;32m     84\u001b[0m     \u001b[0;32mreturn\u001b[0m \u001b[0m_convert\u001b[0m\u001b[0;34m(\u001b[0m\u001b[0mnode_or_string\u001b[0m\u001b[0;34m)\u001b[0m\u001b[0;34m\u001b[0m\u001b[0m\n\u001b[1;32m     85\u001b[0m \u001b[0;34m\u001b[0m\u001b[0m\n",
      "\u001b[0;31mValueError\u001b[0m: malformed node or string: <_ast.Call object at 0x106dd5ac8>"
     ]
    }
   ],
   "source": [
    "ast.literal_eval(\"print('Hello, world')\")"
   ]
  },
  {
   "cell_type": "code",
   "execution_count": 18,
   "metadata": {
    "collapsed": false
   },
   "outputs": [
    {
     "data": {
      "text/plain": [
       "{'a': 2, 3: 'xyz', 'b': 3}"
      ]
     },
     "execution_count": 18,
     "metadata": {},
     "output_type": "execute_result"
    }
   ],
   "source": [
    "ast.literal_eval(\"{'a': 2, 'b': 3, 3:'xyz'}\")"
   ]
  },
  {
   "cell_type": "code",
   "execution_count": 20,
   "metadata": {
    "collapsed": false
   },
   "outputs": [
    {
     "ename": "ValueError",
     "evalue": "malformed node or string: <_ast.BoolOp object at 0x106df0860>",
     "output_type": "error",
     "traceback": [
      "\u001b[0;31m---------------------------------------------------------------------------\u001b[0m",
      "\u001b[0;31mValueError\u001b[0m                                Traceback (most recent call last)",
      "\u001b[0;32m<ipython-input-20-01dd322d9ef3>\u001b[0m in \u001b[0;36m<module>\u001b[0;34m()\u001b[0m\n\u001b[0;32m----> 1\u001b[0;31m \u001b[0mast\u001b[0m\u001b[0;34m.\u001b[0m\u001b[0mliteral_eval\u001b[0m\u001b[0;34m(\u001b[0m\u001b[0;34m\"True or False\"\u001b[0m\u001b[0;34m)\u001b[0m\u001b[0;34m\u001b[0m\u001b[0m\n\u001b[0m",
      "\u001b[0;32m/Users/brian/anaconda/envs/radwords3/lib/python3.5/ast.py\u001b[0m in \u001b[0;36mliteral_eval\u001b[0;34m(node_or_string)\u001b[0m\n\u001b[1;32m     82\u001b[0m                 \u001b[0;32mreturn\u001b[0m \u001b[0mleft\u001b[0m \u001b[0;34m-\u001b[0m \u001b[0mright\u001b[0m\u001b[0;34m\u001b[0m\u001b[0m\n\u001b[1;32m     83\u001b[0m         \u001b[0;32mraise\u001b[0m \u001b[0mValueError\u001b[0m\u001b[0;34m(\u001b[0m\u001b[0;34m'malformed node or string: '\u001b[0m \u001b[0;34m+\u001b[0m \u001b[0mrepr\u001b[0m\u001b[0;34m(\u001b[0m\u001b[0mnode\u001b[0m\u001b[0;34m)\u001b[0m\u001b[0;34m)\u001b[0m\u001b[0;34m\u001b[0m\u001b[0m\n\u001b[0;32m---> 84\u001b[0;31m     \u001b[0;32mreturn\u001b[0m \u001b[0m_convert\u001b[0m\u001b[0;34m(\u001b[0m\u001b[0mnode_or_string\u001b[0m\u001b[0;34m)\u001b[0m\u001b[0;34m\u001b[0m\u001b[0m\n\u001b[0m\u001b[1;32m     85\u001b[0m \u001b[0;34m\u001b[0m\u001b[0m\n\u001b[1;32m     86\u001b[0m \u001b[0;34m\u001b[0m\u001b[0m\n",
      "\u001b[0;32m/Users/brian/anaconda/envs/radwords3/lib/python3.5/ast.py\u001b[0m in \u001b[0;36m_convert\u001b[0;34m(node)\u001b[0m\n\u001b[1;32m     81\u001b[0m             \u001b[0;32melse\u001b[0m\u001b[0;34m:\u001b[0m\u001b[0;34m\u001b[0m\u001b[0m\n\u001b[1;32m     82\u001b[0m                 \u001b[0;32mreturn\u001b[0m \u001b[0mleft\u001b[0m \u001b[0;34m-\u001b[0m \u001b[0mright\u001b[0m\u001b[0;34m\u001b[0m\u001b[0m\n\u001b[0;32m---> 83\u001b[0;31m         \u001b[0;32mraise\u001b[0m \u001b[0mValueError\u001b[0m\u001b[0;34m(\u001b[0m\u001b[0;34m'malformed node or string: '\u001b[0m \u001b[0;34m+\u001b[0m \u001b[0mrepr\u001b[0m\u001b[0;34m(\u001b[0m\u001b[0mnode\u001b[0m\u001b[0;34m)\u001b[0m\u001b[0;34m)\u001b[0m\u001b[0;34m\u001b[0m\u001b[0m\n\u001b[0m\u001b[1;32m     84\u001b[0m     \u001b[0;32mreturn\u001b[0m \u001b[0m_convert\u001b[0m\u001b[0;34m(\u001b[0m\u001b[0mnode_or_string\u001b[0m\u001b[0;34m)\u001b[0m\u001b[0;34m\u001b[0m\u001b[0m\n\u001b[1;32m     85\u001b[0m \u001b[0;34m\u001b[0m\u001b[0m\n",
      "\u001b[0;31mValueError\u001b[0m: malformed node or string: <_ast.BoolOp object at 0x106df0860>"
     ]
    }
   ],
   "source": [
    "ast.literal_eval(\"True or False\")"
   ]
  },
  {
   "cell_type": "code",
   "execution_count": 17,
   "metadata": {
    "collapsed": false
   },
   "outputs": [
    {
     "ename": "ValueError",
     "evalue": "malformed node or string: <_ast.Compare object at 0x106df0358>",
     "output_type": "error",
     "traceback": [
      "\u001b[0;31m---------------------------------------------------------------------------\u001b[0m",
      "\u001b[0;31mValueError\u001b[0m                                Traceback (most recent call last)",
      "\u001b[0;32m<ipython-input-17-b613204ec936>\u001b[0m in \u001b[0;36m<module>\u001b[0;34m()\u001b[0m\n\u001b[0;32m----> 1\u001b[0;31m \u001b[0mast\u001b[0m\u001b[0;34m.\u001b[0m\u001b[0mliteral_eval\u001b[0m\u001b[0;34m(\u001b[0m\u001b[0;34m\"1<2\"\u001b[0m\u001b[0;34m)\u001b[0m\u001b[0;34m\u001b[0m\u001b[0m\n\u001b[0m",
      "\u001b[0;32m/Users/brian/anaconda/envs/radwords3/lib/python3.5/ast.py\u001b[0m in \u001b[0;36mliteral_eval\u001b[0;34m(node_or_string)\u001b[0m\n\u001b[1;32m     82\u001b[0m                 \u001b[0;32mreturn\u001b[0m \u001b[0mleft\u001b[0m \u001b[0;34m-\u001b[0m \u001b[0mright\u001b[0m\u001b[0;34m\u001b[0m\u001b[0m\n\u001b[1;32m     83\u001b[0m         \u001b[0;32mraise\u001b[0m \u001b[0mValueError\u001b[0m\u001b[0;34m(\u001b[0m\u001b[0;34m'malformed node or string: '\u001b[0m \u001b[0;34m+\u001b[0m \u001b[0mrepr\u001b[0m\u001b[0;34m(\u001b[0m\u001b[0mnode\u001b[0m\u001b[0;34m)\u001b[0m\u001b[0;34m)\u001b[0m\u001b[0;34m\u001b[0m\u001b[0m\n\u001b[0;32m---> 84\u001b[0;31m     \u001b[0;32mreturn\u001b[0m \u001b[0m_convert\u001b[0m\u001b[0;34m(\u001b[0m\u001b[0mnode_or_string\u001b[0m\u001b[0;34m)\u001b[0m\u001b[0;34m\u001b[0m\u001b[0m\n\u001b[0m\u001b[1;32m     85\u001b[0m \u001b[0;34m\u001b[0m\u001b[0m\n\u001b[1;32m     86\u001b[0m \u001b[0;34m\u001b[0m\u001b[0m\n",
      "\u001b[0;32m/Users/brian/anaconda/envs/radwords3/lib/python3.5/ast.py\u001b[0m in \u001b[0;36m_convert\u001b[0;34m(node)\u001b[0m\n\u001b[1;32m     81\u001b[0m             \u001b[0;32melse\u001b[0m\u001b[0;34m:\u001b[0m\u001b[0;34m\u001b[0m\u001b[0m\n\u001b[1;32m     82\u001b[0m                 \u001b[0;32mreturn\u001b[0m \u001b[0mleft\u001b[0m \u001b[0;34m-\u001b[0m \u001b[0mright\u001b[0m\u001b[0;34m\u001b[0m\u001b[0m\n\u001b[0;32m---> 83\u001b[0;31m         \u001b[0;32mraise\u001b[0m \u001b[0mValueError\u001b[0m\u001b[0;34m(\u001b[0m\u001b[0;34m'malformed node or string: '\u001b[0m \u001b[0;34m+\u001b[0m \u001b[0mrepr\u001b[0m\u001b[0;34m(\u001b[0m\u001b[0mnode\u001b[0m\u001b[0;34m)\u001b[0m\u001b[0;34m)\u001b[0m\u001b[0;34m\u001b[0m\u001b[0m\n\u001b[0m\u001b[1;32m     84\u001b[0m     \u001b[0;32mreturn\u001b[0m \u001b[0m_convert\u001b[0m\u001b[0;34m(\u001b[0m\u001b[0mnode_or_string\u001b[0m\u001b[0;34m)\u001b[0m\u001b[0;34m\u001b[0m\u001b[0m\n\u001b[1;32m     85\u001b[0m \u001b[0;34m\u001b[0m\u001b[0m\n",
      "\u001b[0;31mValueError\u001b[0m: malformed node or string: <_ast.Compare object at 0x106df0358>"
     ]
    }
   ],
   "source": [
    "ast.literal_eval(\"1<2\")"
   ]
  },
  {
   "cell_type": "code",
   "execution_count": 21,
   "metadata": {
    "collapsed": false
   },
   "outputs": [
    {
     "name": "stdout",
     "output_type": "stream",
     "text": [
      "Collecting asteval\n",
      "  Downloading asteval-0.9.8.tar.gz\n",
      "Building wheels for collected packages: asteval\n",
      "  Running setup.py bdist_wheel for asteval ... \u001b[?25l-\b \b\\\b \bdone\n",
      "\u001b[?25h  Stored in directory: /Users/brian/Library/Caches/pip/wheels/e9/bd/9e/1831fe7942be5c3d625c28d3ca8a6b478ab56869e1d5f7d374\n",
      "Successfully built asteval\n",
      "Installing collected packages: asteval\n",
      "Successfully installed asteval-0.9.8\n",
      "\u001b[33mYou are using pip version 8.1.2, however version 9.0.1 is available.\n",
      "You should consider upgrading via the 'pip install --upgrade pip' command.\u001b[0m\n"
     ]
    }
   ],
   "source": [
    "!pip install asteval"
   ]
  },
  {
   "cell_type": "code",
   "execution_count": 24,
   "metadata": {
    "collapsed": true
   },
   "outputs": [],
   "source": [
    "import asteval\n",
    "from asteval import Interpreter\n",
    "aeval = Interpreter()"
   ]
  },
  {
   "cell_type": "code",
   "execution_count": 29,
   "metadata": {
    "collapsed": false
   },
   "outputs": [
    {
     "data": {
      "text/plain": [
       "True"
      ]
     },
     "execution_count": 29,
     "metadata": {},
     "output_type": "execute_result"
    }
   ],
   "source": [
    "aeval(\"\"\"5<4 or 9 > 6\"\"\")"
   ]
  },
  {
   "cell_type": "code",
   "execution_count": null,
   "metadata": {
    "collapsed": true
   },
   "outputs": [],
   "source": []
  }
 ],
 "metadata": {
  "anaconda-cloud": {},
  "kernelspec": {
   "display_name": "Python [radwords3]",
   "language": "python",
   "name": "Python [radwords3]"
  },
  "language_info": {
   "codemirror_mode": {
    "name": "ipython",
    "version": 3
   },
   "file_extension": ".py",
   "mimetype": "text/x-python",
   "name": "python",
   "nbconvert_exporter": "python",
   "pygments_lexer": "ipython3",
   "version": "3.5.2"
  }
 },
 "nbformat": 4,
 "nbformat_minor": 0
}
