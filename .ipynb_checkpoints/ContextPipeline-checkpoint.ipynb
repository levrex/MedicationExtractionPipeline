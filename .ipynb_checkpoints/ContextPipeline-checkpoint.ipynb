{
 "cells": [
  {
   "cell_type": "markdown",
   "metadata": {},
   "source": [
    "# Step 1 - 6\n",
    "### Here is a notebook for [the MedExtractionPipeline](./MedExtractionPipeline.ipynb)"
   ]
  },
  {
   "cell_type": "markdown",
   "metadata": {},
   "source": [
    "# Step 7: Processing Context\n",
    "\n",
    "The template of this notebook is largely based on the MultiSentenceDocuments.ipynb example notebook by pyContextNLP"
   ]
  },
  {
   "cell_type": "code",
   "execution_count": 16,
   "metadata": {},
   "outputs": [],
   "source": [
    "\n",
    "import sys\n",
    "sys.path.append('../') \n",
    "sys.path.append('../modules') # Append Map with modules to the source tree\n",
    "sys.path.append('H:\\\\ProjectCopy\\\\Files')\n",
    "sys.path.append('H:\\\\ProjectCopy\\\\Files\\\\output_files')\n",
    "import numpy as np\n",
    "import pandas as pd\n",
    "import re\n",
    "from textblob import TextBlob\n",
    "import EMR_functions as em\n",
    "from datetime import datetime, date, timedelta\n",
    "from acronyms import DMARD\n",
    "\n",
    "import modules.pyConTextNLP2.pyConTextNLP.pyConText as pyConText\n",
    "\n",
    "import modules.pyConTextNLP2 #import itemData\n",
    "#from textblob import TextBlob\n",
    "import modules.pyConTextNLP2.pyConTextNLP.display.html as html\n",
    "from IPython.display import display, HTML\n",
    "\n",
    "def read_csv(f_name):\n",
    "    return pd.read_csv(f_name, sep=\"|\")"
   ]
  },
  {
   "cell_type": "markdown",
   "metadata": {},
   "source": [
    "## 7.1 Open relevant datasets \n",
    "### 7.1.1 open explore dataset"
   ]
  },
  {
   "cell_type": "code",
   "execution_count": 18,
   "metadata": {
    "scrolled": true
   },
   "outputs": [
    {
     "name": "stdout",
     "output_type": "stream",
     "text": [
      "5992\n"
     ]
    }
   ],
   "source": [
    "df_explore = pd.read_csv(r'H:\\\\ProjectCopy\\\\Files\\\\output_files\\\\DF_explore.csv', index_col=0, sep=\"|\", na_values=['NA'])\n",
    "print(len(df_explore))"
   ]
  },
  {
   "cell_type": "markdown",
   "metadata": {},
   "source": [
    "### Create DAS-model dataset"
   ]
  },
  {
   "cell_type": "code",
   "execution_count": 8,
   "metadata": {},
   "outputs": [],
   "source": [
    "df_gewricht[['CATEGORIE', 'DATUM', 'TIJD', 'MUTDAT', 'MUTTIJD',\n",
    "       'GEBRUIKER', 'DEFINITIEF', 'COMPLEET', 'OPSLAGID', 'BEANTWID',\n",
    "       'PARENTSTATUS_D', 'PARENTSTATUS_S', 'GROEP', 'ANTWOORD', 'XANTWOORD',\n",
    "       'XSCORE', 'XEXT_CODE', 'YANTWOORD', 'YSCORE', 'YEXT_CODE', 'REALVRID',\n",
    "       'OBJALIAS', 'OBJID', 'STATUS', 'HIERARCHY', 'ITEMID', 'PARENTANTW',\n",
    "       'CONTROLID', 'NAAM', 'TABEL', 'VELD', 'RETURN_FIELD', 'ANCESTANTW',\n",
    "       'BEVAT_SIBL', 'DATUM_A', 'TIJD_A', 'OPSLAGID_B', 'COMMENTAAR',\n",
    "       'KOPPELID', 'AUTEURCD', 'SUPDAT', 'SUPTIJD', 'SUPERVISOR',\n",
    "       'VRLIJSTTYPEID', 'DOSSIERID', 'PARENTBEANTWID', 'REALSUBID',\n",
    "       'EENHEIDCD', 'MODEL_ID', 'CONFIG', 'DATA', 'STELLING']].head(500).to_csv(r'DF_BLIND_gewrichtspop.csv', sep='|', index=True)"
   ]
  },
  {
   "cell_type": "markdown",
   "metadata": {},
   "source": [
    "### 7.1.2 Medicator"
   ]
  },
  {
   "cell_type": "code",
   "execution_count": 19,
   "metadata": {},
   "outputs": [
    {
     "name": "stderr",
     "output_type": "stream",
     "text": [
      "E:\\modules\\Anaconda\\Program\\lib\\site-packages\\IPython\\core\\interactiveshell.py:2785: DtypeWarning: Columns (4,7,8,10,12,16,20,22,25,26,27,29,33,35) have mixed types. Specify dtype option on import or set low_memory=False.\n",
      "  interactivity=interactivity, compiler=compiler, result=result)\n"
     ]
    }
   ],
   "source": [
    "df_MV = pd.read_csv(r'H:\\\\ProjectCopy\\\\Files\\\\output_files\\\\DF_MV.csv', index_col=0, sep=\"|\") "
   ]
  },
  {
   "cell_type": "code",
   "execution_count": 20,
   "metadata": {},
   "outputs": [
    {
     "name": "stdout",
     "output_type": "stream",
     "text": [
      "3506\n",
      "3507\n"
     ]
    }
   ],
   "source": [
    "df_BezDat0 = df_MV.groupby('patient_id')['SchemaStartDatumtijd'].min()\n",
    "print(len(df_BezDat0))\n",
    "print(len(df_MV['patient_id'].unique()))"
   ]
  },
  {
   "cell_type": "markdown",
   "metadata": {},
   "source": [
    "### 7.1.3 Open annotated dataset"
   ]
  },
  {
   "cell_type": "code",
   "execution_count": 23,
   "metadata": {},
   "outputs": [
    {
     "data": {
      "text/plain": [
       "2    poli - bespreking ^nu bridging prednison ^stop...\n",
       "Name: XANTWOORD, dtype: object"
      ]
     },
     "execution_count": 23,
     "metadata": {},
     "output_type": "execute_result"
    }
   ],
   "source": [
    "df_corrected = pd.read_csv(r'H:\\\\ProjectCopy\\\\Files\\\\output_files\\\\DF_proc_annotated.csv', index_col=0, sep=\"|\", na_values=['NA'])\n",
    "df_corrected['XANTWOORD'] = df_corrected['XANTWOORD'].apply(lambda x: re.sub(r'\\s\\.',r'.',x))\n",
    "pc_df = em.Processing(df_corrected)\n",
    "\n",
    "pc_df.getDF().head(1)['XANTWOORD']"
   ]
  },
  {
   "cell_type": "markdown",
   "metadata": {},
   "source": [
    "## 7.2 Prepare pyContext \n",
    "\n",
    "### 7.2.1 Initialize list of modifiers & targets\n",
    "\n",
    "- Targets = other words for entities\n",
    "- Modifiers = terms that influence the meaning of the sentence (like negation terms)"
   ]
  },
  {
   "cell_type": "code",
   "execution_count": 28,
   "metadata": {
    "scrolled": true
   },
   "outputs": [
    {
     "name": "stdout",
     "output_type": "stream",
     "text": [
      "[literal<<methotrexaat>>; category<<['target']>>; re<<\\bmethotrexaat\\b>>; rule<<>>, literal<<leflunomide>>; category<<['target']>>; re<<\\bleflunomide\\b>>; rule<<>>, literal<<sulfasalazine>>; category<<['target']>>; re<<\\bsulfasalazine\\b>>; rule<<>>, literal<<hydroxychloroquine>>; category<<['target']>>; re<<\\bhydroxychloroquine\\b>>; rule<<>>, literal<<azathioprine>>; category<<['target']>>; re<<\\bazathioprine\\b>>; rule<<>>, literal<<ciclosporine>>; category<<['target']>>; re<<\\bciclosporine\\b>>; rule<<>>, literal<<azathioprine>>; category<<['target']>>; re<<\\bazathioprine\\b>>; rule<<>>, literal<<goud>>; category<<['target']>>; re<<\\bgoud\\b>>; rule<<>>, literal<<abatacept>>; category<<['target']>>; re<<\\babatacept\\b>>; rule<<>>, literal<<adalimumab>>; category<<['target']>>; re<<\\badalimumab\\b>>; rule<<>>, literal<<anakinra>>; category<<['target']>>; re<<\\banakinra\\b>>; rule<<>>, literal<<certolizumab>>; category<<['target']>>; re<<\\bcertolizumab\\b>>; rule<<>>, literal<<etanercept>>; category<<['target']>>; re<<\\betanercept\\b>>; rule<<>>, literal<<golimumab>>; category<<['target']>>; re<<\\bgolimumab\\b>>; rule<<>>, literal<<infliximab>>; category<<['target']>>; re<<\\binfliximab\\b>>; rule<<>>, literal<<rituximab>>; category<<['target']>>; re<<\\brituximab\\b>>; rule<<>>, literal<<tocilizumab>>; category<<['target']>>; re<<\\btocilizumab\\b>>; rule<<>>, literal<<depomedrol>>; category<<['target']>>; re<<\\bdepomedrol\\b>>; rule<<>>, literal<<tofacitinib>>; category<<['target']>>; re<<\\btofacitinib\\b>>; rule<<>>, literal<<baricitinib>>; category<<['target']>>; re<<\\bbaricitinib\\b>>; rule<<>>, literal<<prednison>>; category<<['target']>>; re<<\\bprednison\\b>>; rule<<>>, literal<<prednisolon>>; category<<['target']>>; re<<\\bprednisolon\\b>>; rule<<>>, literal<<medicatie>>; category<<['target']>>; re<<\\b(medicatie|med)\\b>>; rule<<>>]\n"
     ]
    }
   ],
   "source": [
    "import sys\n",
    "sys.path.append('../') \n",
    "sys.path.append('../modules') \n",
    "\n",
    "import modules.pyConTextNLP2.pyConTextNLP.pyConText as pyConText\n",
    "import modules.pyConTextNLP2.pyConTextNLP.itemData as itemData\n",
    "from IPython.display import display, HTML\n",
    "import EMR_functions as em\n",
    "\n",
    "\n",
    "cp = em.ContextProcessing('corpus/featureExtractionRegex.yml', 'corpus/targets.yml')\n",
    "\n",
    "print(cp.getTargets())\n",
    "# Maybe use different modifiers/ entities for different steps!!"
   ]
  },
  {
   "cell_type": "markdown",
   "metadata": {},
   "source": [
    "### 7.2.2 Install punkt (if not done before)"
   ]
  },
  {
   "cell_type": "code",
   "execution_count": 30,
   "metadata": {},
   "outputs": [
    {
     "name": "stdout",
     "output_type": "stream",
     "text": [
      "[nltk_data] Downloading package punkt to\n",
      "[nltk_data]     C:\\Users\\tdmaarseveen\\AppData\\Roaming\\nltk_data...\n",
      "[nltk_data]   Unzipping tokenizers\\punkt.zip.\n"
     ]
    },
    {
     "data": {
      "text/plain": [
       "True"
      ]
     },
     "execution_count": 30,
     "metadata": {},
     "output_type": "execute_result"
    }
   ],
   "source": [
    "import nltk\n",
    "nltk.download('punkt')"
   ]
  },
  {
   "cell_type": "markdown",
   "metadata": {},
   "source": [
    "### 7.2.3 Unit testing \n",
    "\n",
    "Assigning a unique color to every label"
   ]
  },
  {
   "cell_type": "code",
   "execution_count": 35,
   "metadata": {},
   "outputs": [],
   "source": [
    "clrs = {\\\n",
    "    \"route\": \"green\",\n",
    "    \"duration\" : \"yellow\",\n",
    "    \"target\": \"blue\",\n",
    "    \"definite_negated_existence\": \"red\",\n",
    "    \"continue\": \"indianred\",\n",
    "    \"hypothetical\": \"orange\",\n",
    "    \"probable_negated_existence\": \"forestgreen\",\n",
    "    \"definite_existence\": \"lime\",\n",
    "    \"historic\": \"goldenrod\",\n",
    "    \"frequency\": \"pink\",\n",
    "    \"concentration\": \"green\",\n",
    "    \"change\": \"violet\",\n",
    "    \"form\": \"silver\",\n",
    "    \"dosage\" : \"brick\"\n",
    "}\n",
    "units = ['ds opties mtx  23 mg en prednison 15 mg afbouwen?', 'hervatten mtx ; 15 mg', 'hydroxychloroquine ophogen naar 2 dd prednison d', 'eerst methotrexaat naar 4 tabletten ', ' start sulfasalazine in opbouw dosering tot 2 dd 1000 mg ', '1 x per week 2 gram mtx', 'per week 12,5 milligram methotrexaat, nu 24 g prednison', '1 x per 8 weken mtx os', ' 2 x per dag 75 milligram mtx', '12 x dd 15 mg mtx','2 maal a 3 weken adalimumab nu 4 tabl. adalimumab 2 ', '6 tabletten per week mtx', 'mtx voor 1 maand 1 dd 20 mg', 'iom patient probeer adalimumab naar 1 x 3 wkn', '1 dd 2 mtx', ' 1 x week mtx', 'plan : depomedrol 80 mg i.v ^check oogarts hydroxychloroquine ; volgens patient 2012 geweest', 'prednison naar 7.5 mg 1 dd 1 ', 'med : methotrexaat 15 mg ', 'verhogen van 20 tot 3.5 g per wk mtx.', 'mtx nr 2 d 100 mg ', 'methotrexaat naar 10 mg.',\n",
    "        'mtx om de dag 24 mg. prednison elke week', ' verlaag mtx naar 1 x 15 mg' , '1 x elke week mtx', '7.5 mg per wk mtx',  'mtx hervatten lagere dosis : 7.5 mg / wk per os ', 'mtx 25 mg s.c. ', 'prednison minderen naar 2.5 mg 1 dd ', 'rituximab na 2.5 mg 1 dd ', 'nog 2 maal a 3 weken adalimumab ',\n",
    "         'van 20 mg naar 3.5 mg mtx', 'mtx verhoogd naar 15 mg ', '4 spuiten 15 ml per week van mtx', 'mtx verhogen naar 1 x per week', 'mtx 3 - 2 weken', 'mtx verlagen naar 0', 'mtx verlagen naar 1 x per week', ' 1 maand 10 mg / d mtx', 'mtx vanaf begin feb. naar 20 mg / wk']"
   ]
  },
  {
   "cell_type": "markdown",
   "metadata": {},
   "source": [
    "### Testing units"
   ]
  },
  {
   "cell_type": "code",
   "execution_count": 36,
   "metadata": {},
   "outputs": [
    {
     "data": {
      "text/html": [
       "<p> ds <span style=\"color: orange;\">opties</span> <span style=\"color: blue;\">methotrexaat</span> <span style=\"color: green;\">23 mg </span>en <span style=\"color: blue;\">prednison</span> <span style=\"color: green;\">15 mg </span><span style=\"color: violet;\">afbouwen</span><span style=\"color: orange;\">?</span> </p>"
      ],
      "text/plain": [
       "<IPython.core.display.HTML object>"
      ]
     },
     "metadata": {},
     "output_type": "display_data"
    },
    {
     "data": {
      "text/html": [
       "<p> <span style=\"color: violet;\">hervatten <sp</span>an style=\"color: blue;\">methotrexaat</span> ; <span style=\"color: green;\">15 mg</span> </p>"
      ],
      "text/plain": [
       "<IPython.core.display.HTML object>"
      ]
     },
     "metadata": {},
     "output_type": "display_data"
    },
    {
     "data": {
      "text/html": [
       "<p> <span style=\"color: blue;\">hydroxychloroquine</span> <span style=\"color: violet;\">ophogen naar 2 dd <span style</span>=\"color: blue;\">prednison</span> d </p>"
      ],
      "text/plain": [
       "<IPython.core.display.HTML object>"
      ]
     },
     "metadata": {},
     "output_type": "display_data"
    },
    {
     "data": {
      "text/html": [
       "<p> eerst <span style=\"color: blue;\">methotrexaat</span> <span style=\"color: silver;\">naar 4 tabletten</span> </p>"
      ],
      "text/plain": [
       "<IPython.core.display.HTML object>"
      ]
     },
     "metadata": {},
     "output_type": "display_data"
    },
    {
     "data": {
      "text/html": [
       "<p>  <span style=\"color: violet;\">start</span> <span style=\"color: blue;\">sulfasalazine</span> in opbouw dosering <span style=\"color: pink;\">tot 2 dd 1000 mg</span> </p>"
      ],
      "text/plain": [
       "<IPython.core.display.HTML object>"
      ]
     },
     "metadata": {},
     "output_type": "display_data"
    }
   ],
   "source": [
    "for x in units[:5]: # [22:24]\n",
    "    x = x.replace(\"mtx\", \"methotrexaat\")\n",
    "    #print(x)\n",
    "    context = cp.readContext(x)\n",
    "    #print(context)\n",
    "    display(HTML(html.mark_document_with_html(context ,colors = clrs, default_color=\"black\")))"
   ]
  },
  {
   "cell_type": "markdown",
   "metadata": {},
   "source": [
    "### Some other examples"
   ]
  },
  {
   "cell_type": "code",
   "execution_count": null,
   "metadata": {},
   "outputs": [],
   "source": [
    "context = readContext('methotrexaat vervolgen nr 20 mg depomedrol doorzetten 80 mg im')\n",
    "#methotrexaat nr 20 mg depomedrol 80 mg im\n",
    "display(HTML(html.mark_document_with_html(context ,colors = clrs, default_color=\"black\")))"
   ]
  },
  {
   "cell_type": "code",
   "execution_count": 11,
   "metadata": {},
   "outputs": [
    {
     "data": {
      "image/png": "[encoded data removed]",
      "text/plain": [
       "<Figure size 1008x1008 with 1 Axes>"
      ]
     },
     "metadata": {},
     "output_type": "display_data"
    }
   ],
   "source": [
    "import matplotlib.pyplot as plt\n",
    "\n",
    "sent = 'tzc gestaakt ^opstarten infliximab 5 mg / kg gewicht = 400 mg per gift w 0,2.6 , daarna elke 6 wk ^prednison ophogen naar 7,5 mg ^hydroxychloroquine stoppen ^methotrexaat verlagen naar 20 mg / d , fz ophogen naar 2 tabl / week ^ssz door ^tc over 1 mnd , lab elke maand , controle over 3 mnd ^op verzoek van pt icc fysiotherapeut en ergotherapeut ^ ^pm hep b dna volgen '\n",
    "plt = cp.createSimpleNetwork(sent)\n",
    "\n",
    "plt.draw()\n",
    "plt.savefig('NetworkFeatures.png')"
   ]
  },
  {
   "cell_type": "markdown",
   "metadata": {},
   "source": [
    "# Step 8: Build the Pipeline"
   ]
  },
  {
   "cell_type": "markdown",
   "metadata": {},
   "source": [
    "## Write to new dataframe"
   ]
  },
  {
   "cell_type": "markdown",
   "metadata": {},
   "source": [
    "### 1. First time? -> Process TypoVal file"
   ]
  },
  {
   "cell_type": "code",
   "execution_count": null,
   "metadata": {},
   "outputs": [],
   "source": [
    "df_auto = pd.read_csv(r'H:\\\\ProjectCopy\\\\Files\\\\output_files\\\\DF_typoValidation.csv', index_col=0, sep=\"|\", na_values=['NA'])[['ID', 'PATNR', 'XANTWOORD', 'DATUM']]\n",
    "\n",
    "# Correct DF_auto\n",
    "pc_df = em.Processing(df_auto)\n",
    "pc_df.getDictCutOff()\n",
    "df_auto, l_typo_found = pc_df.typoProcessing('XANTWOORD')\n",
    "#df_auto = df_auto.sample(frac=0.5, replace=True, random_state=777)\n",
    "df_auto.to_csv(r'output_files/DF_TypoVal_proc.csv', sep='|', index=True)"
   ]
  },
  {
   "cell_type": "markdown",
   "metadata": {},
   "source": [
    "### 2. Not first time: Read processed TypoVal file"
   ]
  },
  {
   "cell_type": "code",
   "execution_count": 1,
   "metadata": {},
   "outputs": [],
   "source": [
    "import pandas as pd\n",
    "df_auto = pd.read_csv(r'H:\\\\ProjectCopy\\\\Files\\\\output_files\\\\DF_TypoVal_proc.csv', index_col=0, sep=\"|\", na_values=['NA'])\n",
    "df_auto['XANTWOORD'].head()"
   ]
  },
  {
   "cell_type": "code",
   "execution_count": null,
   "metadata": {},
   "outputs": [],
   "source": [
    "df_annotated_man = pd.read_csv(r'H:\\\\ProjectCopy\\\\Files\\\\output_files\\\\GoudenStandaard_FeatureExtraction2.csv', index_col=2, header=29, sep=\"|\", na_values=['NA'])\n",
    "df_annotated_man = df_annotated_man.dropna(thresh=5)\n",
    "df_annotated_man"
   ]
  },
  {
   "cell_type": "markdown",
   "metadata": {},
   "source": [
    "# Step 9: Feature Extraction Evaluation\n",
    "###  Split into train & test\n",
    "1. Select random sample of indices for trainingsset\n",
    "2. Create subselection according to list of indices"
   ]
  },
  {
   "cell_type": "code",
   "execution_count": null,
   "metadata": {},
   "outputs": [],
   "source": [
    "import random\n",
    "\n",
    "idx = df_annotated_man.index.intersection(df_auto.index).unique()\n",
    "random.seed(123)\n",
    "sub_selection = random.sample(list(idx), round(len(df_annotated_man.index.unique())*0.5))\n",
    "not_included = [x for x in list(idx) if x not in sub_selection]\n",
    "\n",
    "df_auto_train = df_auto.ix[sub_selection] #set for \n",
    "df_train = df_annotated_man.ix[sub_selection] # Man Annotation\n",
    "\n",
    "df_test = df_auto.ix[not_included]\n",
    "df_test.head()"
   ]
  },
  {
   "cell_type": "markdown",
   "metadata": {},
   "source": [
    "### Feature Extraction - Annotate Sample data for Manual review -> for training"
   ]
  },
  {
   "cell_type": "code",
   "execution_count": null,
   "metadata": {},
   "outputs": [],
   "source": [
    "\n",
    "def nearest(items, pivot):\n",
    "    return min(items, key=lambda x: abs(x - pivot))\n",
    "\n",
    "new_df= pd.DataFrame(columns=['index', 'ID', 'PATNR', 'DATUM', 'XANTWOORD', 'drug', 'actie', \n",
    "                              'freq_nr', 'freq_unit', 'strength_nr', 'strength_unit', 'form', \n",
    "                              'route', 'dosering', 'duur', 'Conclusie'])\n",
    "teller = 0\n",
    "proc = em.Processing(df_test)\n",
    "for index, row in df_test.iterrows():\n",
    "    l_entry = extractFeatures(row['XANTWOORD']) # ['XANTWOORD'])  row['MedicatieProductNaam']\n",
    "    for entry in l_entry: \n",
    "        new_df = new_df.append({'ID' : row['ID'], 'DATUM' : row['DATUM'], 'index':index, 'PATNR' : row['PATNR'], 'XANTWOORD' : row['XANTWOORD'], 'drug' : entry[0], \n",
    "                                'strength_nr': str(entry[1]), 'strength_unit' : str(entry[2]), 'freq_nr' : str(entry[3]), 'freq_unit' : str(entry[4]), \n",
    "                                'route': entry[5], 'duur' : str(entry[6])+' '+str(entry[7]), 'dosering': entry[8],\n",
    "                                'form': entry[9], 'actie': entry[10], 'Continue': entry[11], 'Hypothetical': entry[12], \n",
    "                                'Change': entry[13], 'Negation': entry[14], 'Confidence': entry[15], 'Conclusie': entry[16]}, ignore_index=True)\n",
    "        teller += 1\n",
    "        \n",
    "print(teller)\n",
    "new_df = new_df.replace('None{2}', '', regex=True)\n",
    "new_df = new_df.replace('None', '', regex=True)\n",
    "new_df.tail()\n",
    "\n"
   ]
  },
  {
   "cell_type": "markdown",
   "metadata": {},
   "source": [
    "### Feature Extraction - Visualize Most frequently prescribed"
   ]
  },
  {
   "cell_type": "code",
   "execution_count": 20,
   "metadata": {
    "scrolled": true
   },
   "outputs": [
    {
     "name": "stdout",
     "output_type": "stream",
     "text": [
      "561\n",
      "start 45\n",
      "methotrexaat 140\n",
      "10 18\n",
      "mg 130\n",
      "1.0 18\n",
      "week 40\n"
     ]
    }
   ],
   "source": [
    "df = pd.read_csv(r'output_files/DF_annotated_FeatureExtraction_NEW.csv', sep='|', index_col=0)\n",
    "print(len(df))\n",
    "print(df['actie'].value_counts().idxmax(), df['actie'].value_counts().max())\n",
    "print(df['drug'].value_counts().idxmax(), df['drug'].value_counts().max())\n",
    "print(df['strength_nr'].value_counts().idxmax(), df['strength_nr'].value_counts().max())\n",
    "print(df['strength_unit'].value_counts().idxmax(), df['strength_unit'].value_counts().max())\n",
    "print(df['freq_nr'].value_counts().idxmax(), df['freq_nr'].value_counts().max())\n",
    "# Most occuring freq_unit -> also count wk + w along side week\n",
    "print(df['freq_unit'].value_counts().idxmax(), df['freq_unit'].value_counts().max()) # remove this if new data!\n"
   ]
  },
  {
   "cell_type": "markdown",
   "metadata": {},
   "source": [
    "### Simple Postprocessing of dataframe\n",
    "1. Exclude entries from certain studies (best & improved -v)\n",
    "2. Write dataframe to csv file"
   ]
  },
  {
   "cell_type": "code",
   "execution_count": null,
   "metadata": {},
   "outputs": [],
   "source": [
    "cleansed_df = new_df.copy()\n",
    "exclude_list = ['improved\\s?\\^?\\s?v', 'best\\s\\:'] # exclude studies + best study ->> TODO Improved verbetern\n",
    "regexp = re.compile(r'|'.join(exclude_list))\n",
    "for index, row in cleansed_df.iterrows():\n",
    "    if regexp.search(row['XANTWOORD']):\n",
    "        cleansed_df.ix[index, 'Hypothetical'] = True\n",
    "        cleansed_df.ix[index, 'Conclusie'] = 'geen voorschrift' \n",
    "        #print(index, 'yes')\n",
    "cleansed_df.to_csv(r'output_files/DF_annotated_FeatureExtraction_NEW.csv', sep='|', index=True)"
   ]
  },
  {
   "cell_type": "markdown",
   "metadata": {},
   "source": [
    "# Step 10: LONGITUDINAL EVALUATION\n",
    "\n",
    "First data is processed and typos are removed"
   ]
  },
  {
   "cell_type": "code",
   "execution_count": 12,
   "metadata": {},
   "outputs": [
    {
     "name": "stdout",
     "output_type": "stream",
     "text": [
      "[48, 4, 1, 1, 7, 72]\n",
      "[137, 7, 1, 0.0, 5, 660]\n",
      "[28, 3, 0.0, 0.0, 0.0, 19]\n",
      "[5, 3, 0.0, 0.0, 0.0, 0.0]\n",
      "[9, 0.0, 0.0, 0.0, 0.0, 87]\n",
      "[6, 0.0, 0.0, 0.0, 16, 55]\n",
      "[79, 11, 2, 10, 7324, 27815]\n",
      "[26, 5, 44, 8, 67, 804]\n",
      "[0.0, 1, 0.0, 254, 26186, 121850]\n",
      "[8, 12, 3, 2, 77, 94]\n",
      "[25, 2, 6, 14, 1138, 13491]\n",
      "[18, 12, 6, 60, 339, 29170]\n",
      "[15, 0.0, 0.0, 6, 109, 1364]\n",
      "[12, 0.0, 1, 42, 519, 6090]\n",
      "[47, 35, 27, 7, 52, 79]\n",
      "[0.0, 0.0, 2, 0.0, 14, 137]\n",
      "[5, 1, 0.0, 0.0, 14, 3777]\n",
      "[255, 15, 11, 118, 27, 2314]\n",
      "[846, 44, 155, 78, 2918, 27334]\n",
      "[143, 27, 847, 38, 440, 383]\n",
      "tocilizumab Calculated amount of Typos: 107\n",
      "abatacept Calculated amount of Typos: 98\n",
      "depomedrol Calculated amount of Typos: 312\n",
      "leflunomide Calculated amount of Typos: 152\n",
      "prednisolon Calculated amount of Typos: 157\n",
      "certolizumab Calculated amount of Typos: 29\n",
      "prednison Calculated amount of Typos: 874\n",
      "hydroxychloroquine Calculated amount of Typos: 48\n",
      "adalimumab Calculated amount of Typos: 46\n",
      "infliximab Calculated amount of Typos: 20\n",
      "methotrexaat Calculated amount of Typos: 70\n",
      "etanercept Calculated amount of Typos: 39\n",
      "rituximab Calculated amount of Typos: 14\n",
      "golimumab Calculated amount of Typos: 34\n",
      "sulfasalazine Calculated amount of Typos: 82\n",
      "azathioprine Calculated amount of Typos: 13\n",
      "ciclosporine Calculated amount of Typos: 7\n",
      "baricitinib Calculated amount of Typos: 6\n"
     ]
    }
   ],
   "source": [
    "df_reubel = pd.read_csv(r'H:\\\\ProjectCopy\\\\Files\\\\output_files\\\\DF_REUBEL.csv', index_col=0, sep=\"|\")\n",
    "\n",
    "# Correct DF_auto\n",
    "pc_df = em.Processing(df_reubel)\n",
    "pc_df.generateTypoCuttOffPlot(pc_df.getDF())\n",
    "pc_df.getDictCutOff()\n",
    "df_reubel, l_typo_found = pc_df.typoProcessing('XANTWOORD')\n",
    "df_reubel.to_csv(r'featureExtraction/DF_REUBEL_proc.csv', sep='|', index=False)"
   ]
  },
  {
   "cell_type": "markdown",
   "metadata": {},
   "source": [
    "### Data option1: Read all entries of REUBEL (for final analysis)"
   ]
  },
  {
   "cell_type": "code",
   "execution_count": 2,
   "metadata": {},
   "outputs": [],
   "source": [
    "df_reubel = pd.read_csv(r'H:\\\\ProjectCopy\\\\Files\\\\featureExtraction\\\\DF_REUBEL_proc.csv', index_col=0, sep=\"|\")\n",
    "df_reubel.head()[['XANTWOORD', 'PATNR']]"
   ]
  },
  {
   "cell_type": "markdown",
   "metadata": {},
   "source": [
    "### Data option2: Only read subselection of REUBEL (for validation & exploration)"
   ]
  },
  {
   "cell_type": "code",
   "execution_count": 3,
   "metadata": {},
   "outputs": [],
   "source": [
    "pat_selection = df_reubel[df_reubel['PATNR'].isin(pat_l)]['PATNR'].unique()\n",
    "df_sub = df_reubel[df_reubel['PATNR'].isin(pat_selection)]\n",
    "df_sub.head()"
   ]
  },
  {
   "cell_type": "markdown",
   "metadata": {},
   "source": [
    "### Get matches METEOR & HIX"
   ]
  },
  {
   "cell_type": "code",
   "execution_count": null,
   "metadata": {},
   "outputs": [],
   "source": [
    "df_reuOverlap = pd.read_csv(r'featureExtraction/DF_OVERLAP_METEOR_HIX.csv', index_col=0, sep=\"|\")\n",
    "df_reubel = pd.read_csv(r'featureExtraction/DF_REUBEL_proc.csv', index_col=0, sep=\"|\")\n",
    "print(len(df_reubel['PATNR'].unique()))\n",
    "print(len(df_reubel[df_reubel['PATNR'].isin(df_reuOverlap['PATNR'].unique())]['PATNR'].unique()))\n",
    "df_reubel = df_reubel[df_reubel['PATNR'].isin(df_reuOverlap['PATNR'].unique())]\n",
    "df_cand = df_reubel \n",
    "df_cand.sort_values(['PATNR', 'DATUM'])\n",
    "len(df_cand)"
   ]
  },
  {
   "cell_type": "markdown",
   "metadata": {},
   "source": [
    "### Get first date from DDRA\n",
    "Ultimately utilized to perform selection criteria"
   ]
  },
  {
   "cell_type": "code",
   "execution_count": 56,
   "metadata": {},
   "outputs": [
    {
     "name": "stdout",
     "output_type": "stream",
     "text": [
      "2011-08-10 00:00:00+00:00\n"
     ]
    }
   ],
   "source": [
    "df_firstDDRA = pd.read_csv(r'H:\\\\ProjectCopy\\\\Files\\\\featureExtraction\\\\DF_firstDateFreeText.csv', sep='|', index_col=0, names=['PATNR', 'firstDate'], header=None)"
   ]
  },
  {
   "cell_type": "markdown",
   "metadata": {},
   "source": [
    "### Apply PyContext on the EMR data"
   ]
  },
  {
   "cell_type": "code",
   "execution_count": null,
   "metadata": {},
   "outputs": [],
   "source": [
    "def nearest(items, pivot):\n",
    "    return min(items, key=lambda x: abs(x - pivot))\n",
    "## df_cand = df_sub\n",
    "new_df_cand= pd.DataFrame(columns=['index', 'PATNR', 'DATUM', ])\n",
    "teller = 0\n",
    "proc = em.Processing(df_cand)\n",
    "for index, row in df_cand.iterrows():\n",
    "    l_entry = cp.extractFeatures(row['XANTWOORD'].lower())\n",
    "    firstDat = df_firstDDRA.loc[row['PATNR']]['firstDate']\n",
    "    \n",
    "    for entry in l_entry: \n",
    "        if (len(l_entry) == 1 or (entry[15] >= 0.15 and entry[12] != True)):\n",
    "            new_df_cand = new_df_cand.append({'DATUM' : row['DATUM'], 'index':index, 'PATNR' : row['PATNR'], 'XANTWOORD' : row['XANTWOORD'], 'drug' : entry[0], \n",
    "                                    'strength_nr': str(entry[1]), 'strength_unit' : str(entry[2]), 'freq_nr' : str(entry[3]), 'freq_unit' : str(entry[4]), \n",
    "                                    'route': entry[5], 'duur' : str(entry[6])+' '+str(entry[7]), 'dosering': entry[8],\n",
    "                                    'form': entry[9], 'actie': entry[10], 'Continue': entry[11], 'Hypothetical': entry[12], \n",
    "                                    'Change': entry[13], 'Negation': entry[14], 'Confidence': entry[15], 'Conclusie': entry[16], 'Bezdat0': firstDat, 'dosering': str(entry[8])+ ' ' + str(entry[1])+ ' ' + str(entry[2])  }, ignore_index=True)\n",
    "\n",
    "            teller += 1\n",
    "        \n",
    "print(teller)\n",
    "new_df_cand = new_df_cand.replace('None{2}', '', regex=True)\n",
    "new_df_cand = new_df_cand.replace('None', '', regex=True)\n",
    "new_df_cand.tail()\n"
   ]
  },
  {
   "cell_type": "markdown",
   "metadata": {},
   "source": [
    "### Exclude BeST & Improved studies"
   ]
  },
  {
   "cell_type": "code",
   "execution_count": 96,
   "metadata": {},
   "outputs": [
    {
     "name": "stderr",
     "output_type": "stream",
     "text": [
      "E:\\modules\\Anaconda\\Program\\lib\\site-packages\\ipykernel_launcher.py:8: DeprecationWarning: \n",
      ".ix is deprecated. Please use\n",
      ".loc for label based indexing or\n",
      ".iloc for positional indexing\n",
      "\n",
      "See the documentation here:\n",
      "http://pandas.pydata.org/pandas-docs/stable/indexing.html#ix-indexer-is-deprecated\n",
      "  \n",
      "E:\\modules\\Anaconda\\Program\\lib\\site-packages\\ipykernel_launcher.py:9: DeprecationWarning: \n",
      ".ix is deprecated. Please use\n",
      ".loc for label based indexing or\n",
      ".iloc for positional indexing\n",
      "\n",
      "See the documentation here:\n",
      "http://pandas.pydata.org/pandas-docs/stable/indexing.html#ix-indexer-is-deprecated\n",
      "  if __name__ == '__main__':\n",
      "E:\\modules\\Anaconda\\Program\\lib\\site-packages\\ipykernel_launcher.py:10: DeprecationWarning: \n",
      ".ix is deprecated. Please use\n",
      ".loc for label based indexing or\n",
      ".iloc for positional indexing\n",
      "\n",
      "See the documentation here:\n",
      "http://pandas.pydata.org/pandas-docs/stable/indexing.html#ix-indexer-is-deprecated\n",
      "  # Remove the CWD from sys.path while we load stuff.\n",
      "E:\\modules\\Anaconda\\Program\\lib\\site-packages\\ipykernel_launcher.py:11: DeprecationWarning: \n",
      ".ix is deprecated. Please use\n",
      ".loc for label based indexing or\n",
      ".iloc for positional indexing\n",
      "\n",
      "See the documentation here:\n",
      "http://pandas.pydata.org/pandas-docs/stable/indexing.html#ix-indexer-is-deprecated\n",
      "  # This is added back by InteractiveShellApp.init_path()\n"
     ]
    }
   ],
   "source": [
    "cleansed_df_cand = new_df_cand.copy()\n",
    "exclude_list = ['improved\\s?\\^?\\s?v', 'best\\s\\:'] # exclude studies + best study ->> TODO Improved verbetern\n",
    "regexp = re.compile(r'|'.join(exclude_list))\n",
    "for index, row in cleansed_df_cand.iterrows():\n",
    "    if regexp.search(row['XANTWOORD']): \n",
    "        cleansed_df_cand.ix[index, 'Hypothetical'] = True\n",
    "        cleansed_df_cand.ix[index, 'Conclusie'] = 'geen voorschrift' \n",
    "    if cleansed_df_cand.ix[index, 'Conclusie'] == 'geen voorschrift':\n",
    "        cleansed_df_cand.ix[index, 'drug'] = None\n",
    "        cleansed_df_cand.ix[index, 'actie'] = None\n",
    "        cleansed_df_cand.ix[index, 'dosering'] = None\n",
    "    \n",
    "\n",
    "    # \n",
    "#cleansed_df_cand[['PATNR', 'DATUM', 'Bezdat0', 'drug', 'actie']].head(10)\n",
    "#print(index, 'yes')\n",
    "#cleansed_df_cand.sort_values(['PATNR', 'DATUM']).to_csv(r'output_files/DF_LONG_candidates.csv', sep='|', index=True)\n",
    "#cleansed_df_cand['PATNR', 'DATUM', 'Bezdat0', 'drug', 'actie']"
   ]
  },
  {
   "cell_type": "markdown",
   "metadata": {},
   "source": [
    "### Import medicator data"
   ]
  },
  {
   "cell_type": "code",
   "execution_count": 11,
   "metadata": {},
   "outputs": [
    {
     "name": "stderr",
     "output_type": "stream",
     "text": [
      "G:\\newAnacondaG\\modules\\lib\\site-packages\\IPython\\core\\interactiveshell.py:2785: DtypeWarning: Columns (4,7,8,10,12,16,20,22,25,26,27,29,33,35) have mixed types. Specify dtype option on import or set low_memory=False.\n",
      "  interactivity=interactivity, compiler=compiler, result=result)\n"
     ]
    }
   ],
   "source": [
    "df_MV = pd.read_csv(r'output_files/DF_MV.csv', index_col=0, sep=\"|\", na_values=['NA']) # dubbelop?"
   ]
  },
  {
   "cell_type": "markdown",
   "metadata": {},
   "source": [
    "### Apply inclusion criteria"
   ]
  },
  {
   "cell_type": "code",
   "execution_count": 66,
   "metadata": {},
   "outputs": [
    {
     "name": "stdout",
     "output_type": "stream",
     "text": [
      "Number of Excluded entries:  0\n",
      "Prefilter:  435\n",
      "Afterfilter:  435\n",
      "26961\n"
     ]
    },
    {
     "name": "stderr",
     "output_type": "stream",
     "text": [
      "G:\\newAnacondaG\\modules\\lib\\site-packages\\pandas\\core\\frame.py:3137: SettingWithCopyWarning: \n",
      "A value is trying to be set on a copy of a slice from a DataFrame.\n",
      "Try using .loc[row_indexer,col_indexer] = value instead\n",
      "\n",
      "See the caveats in the documentation: http://pandas.pydata.org/pandas-docs/stable/indexing.html#indexing-view-versus-copy\n",
      "  self[k1] = value[k2]\n"
     ]
    },
    {
     "name": "stdout",
     "output_type": "stream",
     "text": [
      "After filter MV: 435\n"
     ]
    }
   ],
   "source": [
    "from acronyms import ACRONYM_MAP, MEDICINE\n",
    "import time\n",
    "#new_df.sort_values(['PATNR', 'DATUM']).groupby('PATNR')\n",
    "l_excludeEarlyPat = []\n",
    "\n",
    "df_firstDDRA = pd.read_csv(r'featureExtraction/DF_firstDateFreeText.csv', sep='|', index_col=0, names=['PATNR', 'firstDate'], header=None)\n",
    "#print(df_firstDDRA.head())\n",
    "l_excludeEarlyPat.extend(list(df_firstDDRA[(pd.to_datetime(df_firstDDRA['firstDate'])<(pd.to_datetime('2011-04-29')+timedelta(days=180)))].index.unique()))\n",
    "print('Number of Excluded entries: ', len(cleansed_df_cand[(cleansed_df_cand['PATNR'].isin(list(l_excludeEarlyPat)))]))\n",
    "\n",
    "print('Prefilter: ', len(cleansed_df_cand['PATNR'].unique()))\n",
    "cleansed_df_cand = cleansed_df_cand.drop_duplicates(subset=['PATNR', 'DATUM', 'drug', 'actie'])\n",
    "cleansed_df_cand = cleansed_df_cand[~(cleansed_df_cand['PATNR'].isin(list(l_excludeEarlyPat)))]\n",
    "print('Afterfilter: ', len(cleansed_df_cand['PATNR'].unique()))\n",
    "\n",
    "df_subMV = df_MV[df_MV['patient_id'].isin(cleansed_df_cand['PATNR'].unique())]\n",
    "print(len(df_subMV))\n",
    "\n",
    "df_subMV[['MedicatieGPKOmschrijving', 'SchemaOmschrijving']] = df_subMV[['MedicatieGPKOmschrijving', 'SchemaOmschrijving']].replace(np.nan, '')\n",
    "df_subMV = df_subMV[df_subMV['MedicatieGPKOmschrijving'].str.contains('|'.join(MEDICINE), case=False)]\n",
    "\n",
    "exclude_patients = list(df_subMV[pd.to_datetime(df_subMV['SchemaStartDatumtijd']) <= pd.to_datetime('2011-04-29')+timedelta(days=180)]['patient_id'].unique())\n",
    "\n",
    "l_excludeEarlyPat.extend(list(df_subMV[df_subMV['patient_id'].isin(exclude_patients)]['patient_id'].unique()))\n",
    "\n",
    "df_subMV = df_subMV[~(df_subMV['patient_id'].isin(list(l_excludeEarlyPat)))]\n",
    "cleansed_df_cand = cleansed_df_cand[~(cleansed_df_cand['PATNR'].isin(list(l_excludeEarlyPat)))]\n",
    "print('After filter MV:', len(cleansed_df_cand['PATNR'].unique()))\n",
    "###  cleansed_df_cand = cleansed_df_cand[(pd.to_datetime(cleansed_df_cand['Bezdat0'])>(pd.to_datetime('2011-04-29')+timedelta(days=180)))]\n",
    "#cleansed_df_cand[(pd.to_datetime(cleansed_df_cand['Bezdat0'])<(pd.to_datetime('2011-04-29')+timedelta(days=180)))]\n",
    "\n"
   ]
  },
  {
   "cell_type": "markdown",
   "metadata": {},
   "source": [
    "### Applying pyContext on the Medicator data and merging this with the EMR data"
   ]
  },
  {
   "cell_type": "code",
   "execution_count": 97,
   "metadata": {
    "scrolled": true
   },
   "outputs": [
    {
     "data": {
      "text/html": [
       "<div>\n",
       "<style scoped>\n",
       "    .dataframe tbody tr th:only-of-type {\n",
       "        vertical-align: middle;\n",
       "    }\n",
       "\n",
       "    .dataframe tbody tr th {\n",
       "        vertical-align: top;\n",
       "    }\n",
       "\n",
       "    .dataframe thead th {\n",
       "        text-align: right;\n",
       "    }\n",
       "</style>\n",
       "<table border=\"1\" class=\"dataframe\">\n",
       "  <thead>\n",
       "    <tr style=\"text-align: right;\">\n",
       "      <th></th>\n",
       "      <th>index</th>\n",
       "      <th>ID</th>\n",
       "      <th>PATNR</th>\n",
       "      <th>DATUM</th>\n",
       "      <th>XANTWOORD</th>\n",
       "      <th>drug</th>\n",
       "      <th>actie</th>\n",
       "      <th>freq_nr</th>\n",
       "      <th>freq_unit</th>\n",
       "      <th>strength_nr</th>\n",
       "      <th>...</th>\n",
       "      <th>route</th>\n",
       "      <th>dosering</th>\n",
       "      <th>duur</th>\n",
       "      <th>Conclusie</th>\n",
       "      <th>Bezdat0</th>\n",
       "      <th>Change</th>\n",
       "      <th>Confidence</th>\n",
       "      <th>Continue</th>\n",
       "      <th>Hypothetical</th>\n",
       "      <th>Negation</th>\n",
       "    </tr>\n",
       "  </thead>\n",
       "  <tbody>\n",
       "    <tr>\n",
       "      <th>0</th>\n",
       "      <td>487</td>\n",
       "      <td>0</td>\n",
       "      <td>6668858.0</td>\n",
       "      <td>2012-10-23 16:38:00</td>\n",
       "      <td>1 x per dag 5 milligram prednisolon</td>\n",
       "      <td>prednisolon</td>\n",
       "      <td>Start|Continue</td>\n",
       "      <td>1</td>\n",
       "      <td>dag</td>\n",
       "      <td>5</td>\n",
       "      <td>...</td>\n",
       "      <td>None</td>\n",
       "      <td>5 milligram</td>\n",
       "      <td></td>\n",
       "      <td>prednisolon 1 dag 5 milligram</td>\n",
       "      <td>2008-02-14 00:00:00</td>\n",
       "      <td>0</td>\n",
       "      <td>0.225</td>\n",
       "      <td>0</td>\n",
       "      <td>0</td>\n",
       "      <td>0</td>\n",
       "    </tr>\n",
       "    <tr>\n",
       "      <th>1</th>\n",
       "      <td>1492</td>\n",
       "      <td>1</td>\n",
       "      <td>5081898.0</td>\n",
       "      <td>2012-01-23 00:00:00</td>\n",
       "      <td>1 x per week 7,5 milligram methotrexaat</td>\n",
       "      <td>methotrexaat</td>\n",
       "      <td>Start|Continue</td>\n",
       "      <td>1</td>\n",
       "      <td>week</td>\n",
       "      <td>7,5</td>\n",
       "      <td>...</td>\n",
       "      <td>None</td>\n",
       "      <td>7,5 milligram</td>\n",
       "      <td></td>\n",
       "      <td>methotrexaat 1 week 7,5 milligram</td>\n",
       "      <td>2007-08-03 00:00:00</td>\n",
       "      <td>0</td>\n",
       "      <td>0.225</td>\n",
       "      <td>0</td>\n",
       "      <td>0</td>\n",
       "      <td>0</td>\n",
       "    </tr>\n",
       "    <tr>\n",
       "      <th>2</th>\n",
       "      <td>1944</td>\n",
       "      <td>2</td>\n",
       "      <td>5094776.0</td>\n",
       "      <td>2011-12-19 00:00:00</td>\n",
       "      <td>1 x per week 10 milligram methotrexaat</td>\n",
       "      <td>methotrexaat</td>\n",
       "      <td>Start|Continue</td>\n",
       "      <td>1</td>\n",
       "      <td>week</td>\n",
       "      <td>10</td>\n",
       "      <td>...</td>\n",
       "      <td>None</td>\n",
       "      <td>10 milligram</td>\n",
       "      <td></td>\n",
       "      <td>methotrexaat 1 week 10 milligram</td>\n",
       "      <td>2010-11-29 00:00:00</td>\n",
       "      <td>0</td>\n",
       "      <td>0.225</td>\n",
       "      <td>0</td>\n",
       "      <td>0</td>\n",
       "      <td>0</td>\n",
       "    </tr>\n",
       "    <tr>\n",
       "      <th>3</th>\n",
       "      <td>3170</td>\n",
       "      <td>3</td>\n",
       "      <td>5009478.0</td>\n",
       "      <td>2011-12-27 00:00:00</td>\n",
       "      <td>1 x per 2 weken 40 milligram adalimumab</td>\n",
       "      <td>adalimumab</td>\n",
       "      <td>Start|Continue</td>\n",
       "      <td>2</td>\n",
       "      <td>weken</td>\n",
       "      <td>40</td>\n",
       "      <td>...</td>\n",
       "      <td>None</td>\n",
       "      <td>40 milligram</td>\n",
       "      <td></td>\n",
       "      <td>adalimumab 2 weken 40 milligram</td>\n",
       "      <td>2009-02-17 00:00:00</td>\n",
       "      <td>0</td>\n",
       "      <td>0.225</td>\n",
       "      <td>0</td>\n",
       "      <td>0</td>\n",
       "      <td>0</td>\n",
       "    </tr>\n",
       "    <tr>\n",
       "      <th>4</th>\n",
       "      <td>3190</td>\n",
       "      <td>4</td>\n",
       "      <td>8246084.0</td>\n",
       "      <td>2012-03-19 00:00:00</td>\n",
       "      <td>1 x per dag 10 milligram prednisolon</td>\n",
       "      <td>prednisolon</td>\n",
       "      <td>Start|Continue</td>\n",
       "      <td>1</td>\n",
       "      <td>dag</td>\n",
       "      <td>10</td>\n",
       "      <td>...</td>\n",
       "      <td>None</td>\n",
       "      <td>10 milligram</td>\n",
       "      <td></td>\n",
       "      <td>prednisolon 1 dag 10 milligram</td>\n",
       "      <td>2012-01-09 00:00:00</td>\n",
       "      <td>0</td>\n",
       "      <td>0.225</td>\n",
       "      <td>0</td>\n",
       "      <td>0</td>\n",
       "      <td>0</td>\n",
       "    </tr>\n",
       "  </tbody>\n",
       "</table>\n",
       "<p>5 rows × 22 columns</p>\n",
       "</div>"
      ],
      "text/plain": [
       "   index ID      PATNR                DATUM  \\\n",
       "0    487  0  6668858.0  2012-10-23 16:38:00   \n",
       "1   1492  1  5081898.0  2012-01-23 00:00:00   \n",
       "2   1944  2  5094776.0  2011-12-19 00:00:00   \n",
       "3   3170  3  5009478.0  2011-12-27 00:00:00   \n",
       "4   3190  4  8246084.0  2012-03-19 00:00:00   \n",
       "\n",
       "                                  XANTWOORD          drug           actie  \\\n",
       "0      1 x per dag 5 milligram prednisolon    prednisolon  Start|Continue   \n",
       "1  1 x per week 7,5 milligram methotrexaat   methotrexaat  Start|Continue   \n",
       "2   1 x per week 10 milligram methotrexaat   methotrexaat  Start|Continue   \n",
       "3  1 x per 2 weken 40 milligram adalimumab     adalimumab  Start|Continue   \n",
       "4     1 x per dag 10 milligram prednisolon    prednisolon  Start|Continue   \n",
       "\n",
       "  freq_nr freq_unit strength_nr   ...    route        dosering duur  \\\n",
       "0       1       dag           5   ...     None     5 milligram        \n",
       "1       1      week         7,5   ...     None   7,5 milligram        \n",
       "2       1      week          10   ...     None    10 milligram        \n",
       "3       2     weken          40   ...     None    40 milligram        \n",
       "4       1       dag          10   ...     None    10 milligram        \n",
       "\n",
       "                            Conclusie              Bezdat0 Change Confidence  \\\n",
       "0      prednisolon 1 dag 5 milligram   2008-02-14 00:00:00      0      0.225   \n",
       "1  methotrexaat 1 week 7,5 milligram   2007-08-03 00:00:00      0      0.225   \n",
       "2   methotrexaat 1 week 10 milligram   2010-11-29 00:00:00      0      0.225   \n",
       "3    adalimumab 2 weken 40 milligram   2009-02-17 00:00:00      0      0.225   \n",
       "4     prednisolon 1 dag 10 milligram   2012-01-09 00:00:00      0      0.225   \n",
       "\n",
       "  Continue  Hypothetical Negation  \n",
       "0        0             0        0  \n",
       "1        0             0        0  \n",
       "2        0             0        0  \n",
       "3        0             0        0  \n",
       "4        0             0        0  \n",
       "\n",
       "[5 rows x 22 columns]"
      ]
     },
     "execution_count": 97,
     "metadata": {},
     "output_type": "execute_result"
    }
   ],
   "source": [
    "\n",
    "\n",
    "class PostProcessingTable(object):\n",
    "    def __init__(self, df_MV, df_EMR):\n",
    "        self.df_EMR = df_EMR.copy()\n",
    "        self.df_MV = df_MV.copy()\n",
    "        self.df_EMR = self.df_EMR.reset_index()\n",
    "        self.new_df = pd.DataFrame(columns=['index', 'ID', 'PATNR', 'DATUM', 'XANTWOORD', 'drug', 'actie', 'freq_nr', 'freq_unit', 'strength_nr', 'strength_unit', 'form', 'route', 'dosering', 'duur', 'Conclusie'])\n",
    "        \n",
    "        \n",
    "    def nearest(self, items, pivot):\n",
    "        \"\"\"\n",
    "        Get item from list, closest to the pivot\n",
    "        \"\"\"\n",
    "        return min(items, key=lambda x: abs(x - pivot))\n",
    "    \n",
    "    def getDF(self):\n",
    "        return self.new_df\n",
    "    \n",
    "    def merge(self, ix, row, l_rows_del):\n",
    "        \"\"\"\n",
    "        Merge the Medicator data with the EMR data and assess the new\n",
    "        first visit date.\n",
    "        \"\"\"\n",
    "        row_txt = self.handleStickyChars(row['SchemaOmschrijving'].lower()+ ' ' + row['MedicatieGPKOmschrijving'].lower())\n",
    "        l_features = cp.extractFeatures(row_txt)\n",
    "        entry = l_features[0]\n",
    "        firstDat = self.df_MV[self.df_MV['patient_id']==row['patient_id']]['SchemaStartDatumtijd'].min()\n",
    "        self.new_df = self.new_df.append({'index' : ix, 'ID' : str(len(self.new_df)), 'DATUM' :  row['SchemaStartDatumtijd'], 'PATNR' : row['patient_id'], 'XANTWOORD' : row_txt, 'drug' : entry[0], \n",
    "                                    'strength_nr': str(entry[1]), 'strength_unit' : str(entry[2]), 'freq_nr' : str(entry[3]), 'freq_unit' : str(entry[4]), \n",
    "                                    'route': entry[5], 'duur' : str(entry[6])+' '+str(entry[7]), 'dosering': entry[8],\n",
    "                                    'form': entry[9], 'actie': 'Start|Continue', 'Continue': entry[11], 'Hypothetical': entry[12], \n",
    "                                    'Change': entry[13], 'Negation': entry[14], 'Confidence': entry[15], 'Conclusie': entry[16], 'Bezdat0': firstDat, 'dosering': str(entry[8])+ ' ' + str(entry[1])+ ' ' + str(entry[2])  }, ignore_index=True)\n",
    "        return\n",
    "    \n",
    "    def handleStickyChars(self, text):\n",
    "        \"\"\"\n",
    "        At first this function surrounds all sticky characters with spaces.\n",
    "        This is ultimately to prevent the algorithm from misinterpreting\n",
    "        text (like medication or negation): mtx.depo -> mtx . depo \n",
    "        \n",
    "        After the splitting on sticky characters the algorithm will \n",
    "        assemble the special cases where a sticky character is allowed! \n",
    "        \n",
    "        Dots and commas between integers will be put together: \n",
    "            7 , 5 mg -> 7,5 mg (pattern 3 -> aka pat3)\n",
    "            \n",
    "        Medication with special/sticky characters in them will be assembled\n",
    "            as well:\n",
    "            (1) cortico ' s -> cortico's (yes)\n",
    "            (2) methotrexaat ' -> methotrexaat ' (no)\n",
    "            (3) anti - tnf -> anti-tnf (yes) (pat2)\n",
    "            (4) mtx - sasp -> mtx - sasp (no)\n",
    "            \n",
    "        Only medications that stick to a hyphen will be seperated with spaces: \n",
    "            mtx-infliximab -> mtx - infliximab \n",
    "        \n",
    "        The function also appends an whitespace to digits: 5mtx -> 5 mtx. \n",
    "        Except when there is an acronym like anti-il1 which consists of \n",
    "        an integer! (pattern 1 -> aka pat1)\n",
    "        \n",
    "        Acronyms like o.s and i.v. are preserved in this function aswell.\n",
    "        (pattern 4)\n",
    "            \n",
    "        Finally, this function removes all of the duplicate whitespace. \n",
    "        \"\"\"\n",
    "        sticky_chars = r'([!#?,.:\";@\\-\\+\\\\/&=$\\]\\[<>\\'\\*`â€™\\(\\)])'\n",
    "        words = text.split() \n",
    "        new_words = []\n",
    "        for word in words:\n",
    "            new_words.append(re.sub(sticky_chars, r' \\1 ', word))\n",
    "        new_text = \"\"\n",
    "        for word in new_words:\n",
    "            pat1 = re.compile(r'([a-z]{1,})(\\d{1,})')\n",
    "            for r1, r2 in pat1.findall(word):\n",
    "                if r1+r2 not in MEDICINE and r1+r2 not in ACRONYM_MAP.keys():\n",
    "                    word = re.sub(r1+r2,\" \" + r1 + \" \" + r2 + \" \", word)\n",
    "            pat2 = re.compile(r'([a-z]{1,})\\s'+sticky_chars+'\\s([a-z]{1,})')\n",
    "            for r1, r2, r3 in pat2.findall(word):\n",
    "                if r1+r2+r3 in MEDICINE or r1+r2+r3 in ACRONYM_MAP.keys():\n",
    "                    word = re.sub(r1 + \" \" + r2 + \" \" + r3,\" \" + \\\n",
    "                                  r1+r2+r3+ \" \", word)\n",
    "            pat3 = re.compile(r'(\\d{1,})\\s([,.])\\s(\\d{1,})')\n",
    "            for r1, r2, r3 in pat3.findall(word):\n",
    "                word = re.sub(r1 + \" \" + r2 + \" \" + r3, \" \"+ \\\n",
    "                              r1+r2+r3 + \" \", word)\n",
    "            word = re.sub(r'(\\d{1,})([a-z]{1,})', \" \" + r'\\1' + ' ' + r'\\2' \" \", word)\n",
    "            pat4 = re.compile(r'^([a-z])\\s(\\.)\\s([a-z])\\s?(\\.)?\\s?$')\n",
    "            for r1, r2, r3, r4 in pat4.findall(word):\n",
    "                word = re.sub(r1 + \" \" + r2 + \" \" + r3 + \" \"*len(r4) + r4, \" \"+ \\\n",
    "                              r1+r2+r3+r4 + \" \", word)\n",
    "            new_text += word + \" \"\n",
    "        new_text = re.sub(r'\\s+', ' ', new_text)      \n",
    "        return new_text\n",
    "    \n",
    "    def clean(self):\n",
    "        \"\"\"\n",
    "        Clean all of the None's\n",
    "        \"\"\"\n",
    "        self.new_df = self.new_df.replace('None{2}', '', regex=True)\n",
    "        self.new_df = self.new_df.replace('None', '', regex=True)\n",
    "        return\n",
    "        \n",
    "post1_df = PostProcessingTable(df_subMV, cleansed_df_cand)\n",
    "\n",
    "l_rows_del = [] \n",
    "for index, row in df_subMV.iterrows():\n",
    "    l_rows_del = post1_df.merge(index, row, l_rows_del)\n",
    "#print(l_rows_del)    \n",
    "\n",
    "post1_df.clean()\n",
    "post1_df.getDF().head()"
   ]
  },
  {
   "cell_type": "markdown",
   "metadata": {},
   "source": [
    "## Merge overlapping entries with Medicator"
   ]
  },
  {
   "cell_type": "code",
   "execution_count": 99,
   "metadata": {},
   "outputs": [
    {
     "name": "stdout",
     "output_type": "stream",
     "text": [
      "Nr of rows that match:  143\n"
     ]
    }
   ],
   "source": [
    "scope =7\n",
    "rows_overlap = []\n",
    "df_merge = pd.DataFrame(columns=['index', 'PATNR', 'DATUM', 'XANTWOORD', 'drug', 'actie', 'freq_nr', 'freq_unit', 'strength_nr', 'strength_unit', 'form', 'route', 'dosering', 'duur', 'Conclusie', 'Bezdat0', 'Change', 'Confidence', 'Continue', 'Hypothetical', 'Negation'])\n",
    "for index, row in post1_df.getDF().iterrows():\n",
    "    #print(index, row)\n",
    "    df_patEMR = cleansed_df_cand[(cleansed_df_cand['PATNR'] == row['PATNR']) & (cleansed_df_cand['drug'] == row['drug'])]\n",
    "    date = pd.to_datetime(row['DATUM'])\n",
    "    df_patEMR = df_patEMR[pd.to_datetime(df_patEMR['DATUM']).between(date- \\\n",
    "                                    timedelta(scope),date+timedelta(scope))]\n",
    "    d_new = row.to_dict()\n",
    "    if len(df_patEMR) > 0:\n",
    "        row_EMR = df_patEMR.iloc[0]\n",
    "        firstDat = df_cand[df_cand['PATNR']==row['PATNR']]['DATUM'].min()\n",
    "        d_new.update({'index2' : row_EMR['index'], 'DATUM2' : row_EMR['DATUM'], 'PATNR2' : row_EMR['PATNR'], 'XANTWOORD2' : row_EMR['XANTWOORD'], 'drug2' : row_EMR['drug'], \n",
    "                            'strength_nr2': row_EMR['strength_nr'], 'strength_unit2' : row_EMR['strength_unit'], 'freq_nr2' : row_EMR['freq_nr'], 'freq_unit2' : row_EMR['freq_unit'], \n",
    "                            'route2': row_EMR['route'], 'duur2' : row_EMR['duur'], 'dosering2': row_EMR['dosering'],\n",
    "                            'form2': row_EMR['form'], 'actie2': row_EMR['actie'], 'Continue2': row_EMR['Continue'], 'Hypothetical2': row_EMR['Hypothetical'], \n",
    "                            'Change2': row_EMR['Change'], 'Negation2': row_EMR['Negation'], 'Confidence2': row_EMR['Confidence'], 'Conclusie2': row_EMR['Conclusie'], 'Bezdat02': firstDat, 'dosering2': row_EMR['dosering']})\n",
    "        df_merge = df_merge.append(d_new, ignore_index=True)\n",
    "        #print()\n",
    "        rows_overlap.append([row_EMR['index'], row_EMR['Conclusie']])\n",
    "    else : \n",
    "        entry = [None]*18\n",
    "        d_new.update({'index2' : index, 'DATUM2' : None, 'PATNR2' : None, 'XANTWOORD2' : None, 'drug2' : entry[0], \n",
    "                    'strength_nr2': str(entry[1]), 'strength_unit2' : str(entry[2]), 'freq_nr2' : str(entry[3]), 'freq_unit2' : str(entry[4]), \n",
    "                    'route2': entry[5], 'duur2' : str(entry[6])+' '+str(entry[7]), 'dosering2': entry[8],\n",
    "                    'form2': entry[9], 'actie2': entry[10], 'Continue2': entry[11], 'Hypothetical2': entry[12], \n",
    "                    'Change2': entry[13], 'Negation2': entry[14], 'Confidence2': entry[15], 'Conclusie2': entry[16], 'Bezdat02': None, 'dosering2': None})\n",
    "        df_merge = df_merge.append(d_new, ignore_index=True)\n",
    "    #print(df_patEMR)\n",
    "    #cleansed_df_cand[(pd.to_datetime(cleansed_df_cand['Bezdat0'])>(pd.to_datetime('2011-04-29')+timedelta(days=7)))]\n",
    "#print(rows_overlap)\n",
    "print('Nr of rows that match: ', len(rows_overlap))"
   ]
  },
  {
   "cell_type": "markdown",
   "metadata": {},
   "source": [
    "## Merge overlapping entries with Joint\n",
    "Scope = 1 month"
   ]
  },
  {
   "cell_type": "code",
   "execution_count": 100,
   "metadata": {},
   "outputs": [
    {
     "name": "stderr",
     "output_type": "stream",
     "text": [
      "E:\\modules\\Anaconda\\Program\\lib\\site-packages\\IPython\\core\\interactiveshell.py:2785: DtypeWarning: Columns (8,17,18,33,34,35,41,43,47,48,53,54) have mixed types. Specify dtype option on import or set low_memory=False.\n",
      "  interactivity=interactivity, compiler=compiler, result=result)\n"
     ]
    },
    {
     "name": "stdout",
     "output_type": "stream",
     "text": [
      "Nr of rows that match:  432\n"
     ]
    }
   ],
   "source": [
    "df_joints = pd.read_csv(r'H:\\\\ProjectCopy\\\\Files\\\\featureExtraction\\\\DF_gewrichtspop.csv', sep='|', index_col=0)\n",
    "#print(df_joints['STELLING'].unique())\n",
    "\n",
    "l_distance = pd.DataFrame(columns=['PATNR', 'DIFF'])\n",
    "scope =180\n",
    "rows_overlap_joint = []\n",
    "df_mergeJ = pd.DataFrame(columns=['ID_DAS', 'DATUM_DAS'])\n",
    "for index, row in cleansed_df_cand.iterrows():\n",
    "    #print(index, row)\n",
    "    df_patEMR = df_joints[(df_joints['PATNR'] == row['PATNR'])]\n",
    "    date = pd.to_datetime(row['DATUM'])\n",
    "    df_patEMR = df_patEMR[pd.to_datetime(df_patEMR['DATUM']).between(date- \\\n",
    "                                    timedelta(scope), date+timedelta(1))]\n",
    "    d_new = row.to_dict()\n",
    "    \n",
    "    if len(df_patEMR) > 0:\n",
    "        row_EMR = df_patEMR\n",
    "        #print(len(row_EMR))\n",
    "        # only append DAS or other gewrichtspop values\n",
    "        d_new.update({'ID_DAS' : row_EMR.index, 'DATUM_DAS' : row_EMR['DATUM'], 'DATUM': date})\n",
    "        for ix , row_stel in row_EMR[['STELLING', 'NAAM', 'XANTWOORD']].iterrows():\n",
    "            #print(col_joint, '|'.join(row_EMR['XANTWOORD']))\n",
    "            l_distance = l_distance.append({'DIFF': (pd.to_datetime(date) - pd.to_datetime(row_EMR['DATUM'])).dt.days.iloc[0], 'PATNR': row_EMR['PATNR'].iloc[0]}, ignore_index=True)\n",
    "            if row_stel['NAAM'] == 'Metingen':\n",
    "                try:\n",
    "                    match = re.findall(r'VALUE1=(\\d*\\,?\\d+?)\\\"?', row_stel['XANTWOORD'])[0]\n",
    "                except :\n",
    "                    match = row_stel['XANTWOORD']\n",
    "                d_new.update({str(row_stel['STELLING'])+ '_' + str(row_stel['NAAM']) : match})\n",
    "            else:  \n",
    "                d_new.update({str(row_stel['STELLING'])+ '_' + str(row_stel['NAAM']) : row_stel['XANTWOORD']})\n",
    "        df_mergeJ = df_mergeJ.append(d_new, ignore_index=True)\n",
    "        #print()\n",
    "        rows_overlap_joint.append(row_EMR.index)\n",
    "    else : \n",
    "        entry = [None]*18\n",
    "        d_new.update({'index_DAS' : '', 'DATUM_DAS' : df_patEMR['DATUM'], 'DATUM': date})\n",
    "        df_mergeJ = df_mergeJ.append(d_new, ignore_index=True)\n",
    "        #l_distance = l_distance.append({'DIFF': (pd.to_datetime(date) - pd.to_datetime(row_EMR['DATUM'])).dt.days, 'PATNR': row_EMR['PATNR']}, ignore_index=True)\n",
    "print('Nr of rows that match: ', len(rows_overlap_joint))"
   ]
  },
  {
   "cell_type": "markdown",
   "metadata": {},
   "source": [
    "#### Histogram - visualizing the distribution of the distance of each Joint entry to the nearest Free text field entry "
   ]
  },
  {
   "cell_type": "code",
   "execution_count": 105,
   "metadata": {},
   "outputs": [
    {
     "data": {
      "text/plain": [
       "Text(0, 0.5, 'Occurence')"
      ]
     },
     "execution_count": 105,
     "metadata": {},
     "output_type": "execute_result"
    },
    {
     "data": {
      "image/png": "[encoded data removed]",
      "text/plain": [
       "<Figure size 432x288 with 1 Axes>"
      ]
     },
     "metadata": {},
     "output_type": "display_data"
    }
   ],
   "source": [
    "l_distance2 = l_distance.sort_values(by='DIFF').drop_duplicates(subset=['PATNR'])\n",
    "ax = pd.to_numeric(l_distance2['DIFF']).hist(bins=100)\n",
    "ax.set_title(\"Distribution of distance to nearest entry for each patient\")\n",
    "ax.set_xlabel(\"Distance between entries in days\")\n",
    "ax.set_ylabel(\"Occurence\")"
   ]
  },
  {
   "cell_type": "code",
   "execution_count": 101,
   "metadata": {},
   "outputs": [
    {
     "name": "stderr",
     "output_type": "stream",
     "text": [
      "E:\\modules\\Anaconda\\Program\\lib\\site-packages\\ipykernel_launcher.py:10: FutureWarning: Sorting because non-concatenation axis is not aligned. A future version\n",
      "of pandas will change to not sort by default.\n",
      "\n",
      "To accept the future behavior, pass 'sort=True'.\n",
      "\n",
      "To retain the current behavior and silence the warning, pass sort=False\n",
      "\n",
      "  # Remove the CWD from sys.path while we load stuff.\n"
     ]
    },
    {
     "data": {
      "text/html": [
       "<div>\n",
       "<style scoped>\n",
       "    .dataframe tbody tr th:only-of-type {\n",
       "        vertical-align: middle;\n",
       "    }\n",
       "\n",
       "    .dataframe tbody tr th {\n",
       "        vertical-align: top;\n",
       "    }\n",
       "\n",
       "    .dataframe thead th {\n",
       "        text-align: right;\n",
       "    }\n",
       "</style>\n",
       "<table border=\"1\" class=\"dataframe\">\n",
       "  <thead>\n",
       "    <tr style=\"text-align: right;\">\n",
       "      <th></th>\n",
       "      <th>Bezdat0</th>\n",
       "      <th>Bezdat02</th>\n",
       "      <th>Change</th>\n",
       "      <th>Change2</th>\n",
       "      <th>Conclusie</th>\n",
       "      <th>Conclusie2</th>\n",
       "      <th>Confidence</th>\n",
       "      <th>Confidence2</th>\n",
       "      <th>Continue</th>\n",
       "      <th>Continue2</th>\n",
       "      <th>...</th>\n",
       "      <th>freq_unit</th>\n",
       "      <th>freq_unit2</th>\n",
       "      <th>index</th>\n",
       "      <th>index2</th>\n",
       "      <th>route</th>\n",
       "      <th>route2</th>\n",
       "      <th>strength_nr</th>\n",
       "      <th>strength_nr2</th>\n",
       "      <th>strength_unit</th>\n",
       "      <th>strength_unit2</th>\n",
       "    </tr>\n",
       "  </thead>\n",
       "  <tbody>\n",
       "    <tr>\n",
       "      <th>0</th>\n",
       "      <td>2013-11-05 00:00:00+00:00</td>\n",
       "      <td>NaN</td>\n",
       "      <td>1</td>\n",
       "      <td>NaN</td>\n",
       "      <td>Stop prednison</td>\n",
       "      <td>NaN</td>\n",
       "      <td>0.15</td>\n",
       "      <td>NaN</td>\n",
       "      <td>0</td>\n",
       "      <td>NaN</td>\n",
       "      <td>...</td>\n",
       "      <td></td>\n",
       "      <td>NaN</td>\n",
       "      <td>CS00000503</td>\n",
       "      <td>NaN</td>\n",
       "      <td>None</td>\n",
       "      <td>NaN</td>\n",
       "      <td></td>\n",
       "      <td>NaN</td>\n",
       "      <td></td>\n",
       "      <td>NaN</td>\n",
       "    </tr>\n",
       "    <tr>\n",
       "      <th>1</th>\n",
       "      <td>2012-01-24 00:00:00+00:00</td>\n",
       "      <td>NaN</td>\n",
       "      <td>1</td>\n",
       "      <td>NaN</td>\n",
       "      <td>Start medicatie</td>\n",
       "      <td>NaN</td>\n",
       "      <td>0.15</td>\n",
       "      <td>NaN</td>\n",
       "      <td>0</td>\n",
       "      <td>NaN</td>\n",
       "      <td>...</td>\n",
       "      <td></td>\n",
       "      <td>NaN</td>\n",
       "      <td>CS00000503</td>\n",
       "      <td>NaN</td>\n",
       "      <td>None</td>\n",
       "      <td>NaN</td>\n",
       "      <td></td>\n",
       "      <td>NaN</td>\n",
       "      <td></td>\n",
       "      <td>NaN</td>\n",
       "    </tr>\n",
       "    <tr>\n",
       "      <th>2</th>\n",
       "      <td>2012-01-24 00:00:00+00:00</td>\n",
       "      <td>NaN</td>\n",
       "      <td>1</td>\n",
       "      <td>NaN</td>\n",
       "      <td>Start medicatie</td>\n",
       "      <td>NaN</td>\n",
       "      <td>0.15</td>\n",
       "      <td>NaN</td>\n",
       "      <td>0</td>\n",
       "      <td>NaN</td>\n",
       "      <td>...</td>\n",
       "      <td></td>\n",
       "      <td>NaN</td>\n",
       "      <td>CS00000503</td>\n",
       "      <td>NaN</td>\n",
       "      <td>None</td>\n",
       "      <td>NaN</td>\n",
       "      <td></td>\n",
       "      <td>NaN</td>\n",
       "      <td></td>\n",
       "      <td>NaN</td>\n",
       "    </tr>\n",
       "    <tr>\n",
       "      <th>3</th>\n",
       "      <td>2012-01-24 00:00:00+00:00</td>\n",
       "      <td>NaN</td>\n",
       "      <td>None</td>\n",
       "      <td>NaN</td>\n",
       "      <td>geen medicatie</td>\n",
       "      <td>NaN</td>\n",
       "      <td>NaN</td>\n",
       "      <td>NaN</td>\n",
       "      <td>None</td>\n",
       "      <td>NaN</td>\n",
       "      <td>...</td>\n",
       "      <td></td>\n",
       "      <td>NaN</td>\n",
       "      <td>CS00000503</td>\n",
       "      <td>NaN</td>\n",
       "      <td>None</td>\n",
       "      <td>NaN</td>\n",
       "      <td></td>\n",
       "      <td>NaN</td>\n",
       "      <td></td>\n",
       "      <td>NaN</td>\n",
       "    </tr>\n",
       "    <tr>\n",
       "      <th>4</th>\n",
       "      <td>2011-07-04 00:00:00+00:00</td>\n",
       "      <td>NaN</td>\n",
       "      <td>True</td>\n",
       "      <td>NaN</td>\n",
       "      <td>geen voorschrift</td>\n",
       "      <td>NaN</td>\n",
       "      <td>0.15</td>\n",
       "      <td>NaN</td>\n",
       "      <td>False</td>\n",
       "      <td>NaN</td>\n",
       "      <td>...</td>\n",
       "      <td></td>\n",
       "      <td>NaN</td>\n",
       "      <td>CS00000503</td>\n",
       "      <td>NaN</td>\n",
       "      <td>None</td>\n",
       "      <td>NaN</td>\n",
       "      <td></td>\n",
       "      <td>NaN</td>\n",
       "      <td></td>\n",
       "      <td>NaN</td>\n",
       "    </tr>\n",
       "  </tbody>\n",
       "</table>\n",
       "<p>5 rows × 43 columns</p>\n",
       "</div>"
      ],
      "text/plain": [
       "                     Bezdat0 Bezdat02 Change Change2         Conclusie  \\\n",
       "0  2013-11-05 00:00:00+00:00      NaN      1     NaN   Stop prednison    \n",
       "1  2012-01-24 00:00:00+00:00      NaN      1     NaN  Start medicatie    \n",
       "2  2012-01-24 00:00:00+00:00      NaN      1     NaN  Start medicatie    \n",
       "3  2012-01-24 00:00:00+00:00      NaN   None     NaN    geen medicatie   \n",
       "4  2011-07-04 00:00:00+00:00      NaN   True     NaN  geen voorschrift   \n",
       "\n",
       "  Conclusie2  Confidence Confidence2 Continue Continue2      ...        \\\n",
       "0        NaN        0.15         NaN        0       NaN      ...         \n",
       "1        NaN        0.15         NaN        0       NaN      ...         \n",
       "2        NaN        0.15         NaN        0       NaN      ...         \n",
       "3        NaN         NaN         NaN     None       NaN      ...         \n",
       "4        NaN        0.15         NaN    False       NaN      ...         \n",
       "\n",
       "  freq_unit freq_unit2       index index2 route route2 strength_nr  \\\n",
       "0                  NaN  CS00000503    NaN  None    NaN               \n",
       "1                  NaN  CS00000503    NaN  None    NaN               \n",
       "2                  NaN  CS00000503    NaN  None    NaN               \n",
       "3                  NaN  CS00000503    NaN  None    NaN               \n",
       "4                  NaN  CS00000503    NaN  None    NaN               \n",
       "\n",
       "   strength_nr2 strength_unit strength_unit2  \n",
       "0           NaN                          NaN  \n",
       "1           NaN                          NaN  \n",
       "2           NaN                          NaN  \n",
       "3           NaN                          NaN  \n",
       "4           NaN                          NaN  \n",
       "\n",
       "[5 rows x 43 columns]"
      ]
     },
     "execution_count": 101,
     "metadata": {},
     "output_type": "execute_result"
    }
   ],
   "source": [
    "\n",
    "cleansed_df_cand = cleansed_df_cand.loc[~(cleansed_df_cand[\"index\"].isin(rows_overlap[x][0] for x in range(len(rows_overlap))) & \n",
    "                               cleansed_df_cand[\"Conclusie\"].isin(rows_overlap[x][1] for x in range(len(rows_overlap))))]\n",
    "df_merge['DATUM'] = pd.to_datetime(df_merge['DATUM'], format=\"%Y-%m-%d\")\n",
    "cleansed_df_cand['DATUM'] = pd.to_datetime(cleansed_df_cand['DATUM'], format=\"%Y-%m-%d\")\n",
    "\n",
    "df_ult = pd.concat([cleansed_df_cand, df_merge], ignore_index=True)\n",
    "df_ult.head()"
   ]
  },
  {
   "cell_type": "markdown",
   "metadata": {},
   "source": [
    "### Remove corticosteroids"
   ]
  },
  {
   "cell_type": "code",
   "execution_count": 102,
   "metadata": {},
   "outputs": [
    {
     "name": "stdout",
     "output_type": "stream",
     "text": [
      "33\n"
     ]
    }
   ],
   "source": [
    "df_ult = df_ult[~(df_ult['drug'].isin(['prednison', 'depomedrol', 'prednisolon']))]\n",
    "print(len(df_ult['PATNR'].unique()))"
   ]
  },
  {
   "cell_type": "markdown",
   "metadata": {},
   "source": [
    "### Extensive postprocessing \n",
    "Both the unknown meds and the unknown drugs are imputated according to previous information (LOCF)"
   ]
  },
  {
   "cell_type": "code",
   "execution_count": null,
   "metadata": {
    "scrolled": true
   },
   "outputs": [],
   "source": [
    "#df = pd.DataFrame(columns=['PATNR', 'drug','DATUM', 'actie', 'trigger'])\n",
    "\n",
    "def appendToDF(row, actie, drug, trigger=''):\n",
    "    \"\"\"\n",
    "    Creates a dictionary consisting of all the values per column for \n",
    "    the provided row.\n",
    "    \n",
    "    \"\"\"\n",
    "    d = {'PATNR' : row['PATNR'], 'drug': drug,'DATUM': row['DATUM'], 'actie': actie, 'trigger' : trigger,\n",
    "        'index' : row['index'], 'XANTWOORD' : row['XANTWOORD'], 'freq_nr' : row['freq_nr'], \n",
    "        'freq_unit' : row['freq_unit'], 'strength_nr': row['strength_nr'], \n",
    "        'strength_unit' : row['strength_unit'], 'route': row['route'], 'duur' : row['duur'],\n",
    "        'dosering': row['dosering'], 'form': row['form'], 'Continue': row['Continue'], \n",
    "        'Hypothetical': row['Hypothetical'], 'Change': row['Change'], 'Negation': row['Negation'],\n",
    "        'Confidence': row['Confidence'], 'Conclusie': row['Conclusie'], 'Bezdat0': row['Bezdat0'],\n",
    "        'index2' : row['index2'], 'DATUM2' : row['DATUM2'], 'PATNR2' : row['PATNR2'], \n",
    "        'XANTWOORD2' : row['XANTWOORD2'], 'drug2' : row['drug2'], 'strength_nr2': row['strength_nr2'], \n",
    "        'strength_unit2' : row['strength_unit2'], 'freq_nr2' : row['freq_nr2'], \n",
    "        'freq_unit2' : row['freq_unit2'], 'route2': row['route2'], 'duur2' : row['duur2'], \n",
    "        'dosering2': row['dosering2'], 'form2': row['form2'], 'actie2': row['actie2'], \n",
    "        'Continue2': row['Continue2'], 'Hypothetical2': row['Hypothetical2'], \n",
    "        'Change2': row['Change2'], 'Negation2': row['Negation2'], 'Confidence2': row['Confidence2'], \n",
    "        'Conclusie2': row['Conclusie2'], 'Bezdat02': row['Bezdat02'], 'dosering2': row['dosering2']}\n",
    "    return d\n",
    "\n",
    "def concentrationUpdate(strength_nr, strength_unit, prev_nr='', prev_unit=''):\n",
    "    \"\"\"\n",
    "    Updates the concentration only if the newly provided\n",
    "    number is valid.\n",
    "    \"\"\"\n",
    "    if strength_nr != 'None' and strength_unit != 'None':\n",
    "        return [strength_nr, strength_unit]\n",
    "    elif strength_nr != 'None':\n",
    "        return [strength_nr, prev_unit]\n",
    "    elif strength_unit != 'None':\n",
    "        return [prev_nr, strength_unit]\n",
    "    else:\n",
    "        return [prev_nr, prev_unit]\n",
    "    \n",
    "def switchOperation(d_trajectories, d_cur_drugs, d_cur_conc, df, new_df, row, key, str_nr):\n",
    "    \"\"\"\n",
    "    Update the current treatment status because of switch. If a switch\n",
    "    happens while dmards are prescribed -> then the stop of the dmard\n",
    "    is assumed (1). If there are no dmards currently prescribed than \n",
    "    the switch implies that all of drugs should be stopped\n",
    "    \"\"\"\n",
    "    dmard_stop = 0\n",
    "    if len([x for x in DMARD if x in d_cur_drugs.keys()]) != 0:\n",
    "        dmard_stop = 1\n",
    "    for drug in d_cur_drugs:\n",
    "        l_val = d_trajectories[d_cur_drugs[drug]]\n",
    "        if drug != row['drug'] and drug != '' and (drug in DMARD or dmard_stop == 0):\n",
    "            df_drug = df[df['drug']==drug]\n",
    "            max_date = df_drug[df_drug['DATUM']<=row['DATUM']]['DATUM'].max()\n",
    "            drug_info = df_drug[df_drug['DATUM']==max_date].iloc[0]\n",
    "            drug_info['DATUM'] = row['DATUM']\n",
    "            drug_info['Conclusie'] = 'Stop want ' + row['Conclusie']\n",
    "            d_trajectories[d_cur_drugs[drug]] = [drug_info['PATNR'], drug, l_val[2], row['DATUM'], drug_info['Bezdat0']]\n",
    "            new_df = new_df.append(appendToDF(drug_info, 'Stop', drug, 'C: Drug stopped because of switch'), ignore_index=True)\n",
    "    if dmard_stop == 1:\n",
    "        [d_cur_drugs.pop(x) for x in DMARD if x in d_cur_drugs.keys()]\n",
    "        [d_cur_conc.pop(x) for x in DMARD if x in d_cur_conc.keys()]\n",
    "    else :\n",
    "        d_cur_drugs = {}\n",
    "        d_cur_conc = {}\n",
    "    if row['drug'] not in d_cur_drugs.keys():\n",
    "        d_trajectories[key] = [row['PATNR'], row['drug'], row['DATUM'], None, row['Bezdat0']]\n",
    "        d_cur_drugs[row['drug']] = key\n",
    "    d_cur_conc[row['drug']] = concentrationUpdate(str_nr, row['strength_unit']) # only if start\n",
    "    new_df = new_df.append(appendToDF(row, 'Verandering', row['drug'], ''), ignore_index=True)\n",
    "    return d_trajectories, d_cur_drugs, d_cur_conc, new_df\n",
    "\n",
    "def assumeContinuation(d_trajectories, d_cur_drugs, d_cur_conc, new_df, row, key, str_nr):\n",
    "    \"\"\"\n",
    "    If there are no drugs found in the report -> assume continuation of all\n",
    "    previously prescribed drugs (those that weren't stopped in the mean time)  \n",
    "    \"\"\"\n",
    "    if row['drug']==None :\n",
    "        if len(d_cur_drugs.keys()) > 0:\n",
    "            print('Unnamed Med named!!')\n",
    "            for k in d_cur_drugs.keys():\n",
    "                l_val = d_trajectories[d_cur_drugs[k]]\n",
    "                d_trajectories[d_cur_drugs[k]] = [row['PATNR'], k, l_val[2], row['DATUM'], row['Bezdat0']]\n",
    "                new_df = new_df.append(appendToDF(row, 'Continue', k, ''), ignore_index=True)\n",
    "                row['drug'] = k\n",
    "        else :\n",
    "            row['drug'] = ''; \n",
    "            row['conclusie'] = 'geen medicatie'\n",
    "    else :\n",
    "        if len(d_cur_drugs.keys()) > 0:\n",
    "            for k in d_cur_drugs.keys():\n",
    "                l_val = d_trajectories[d_cur_drugs[k]]\n",
    "                d_trajectories[d_cur_drugs[k]] = [row['PATNR'], k, l_val[2], row['DATUM'], row['Bezdat0']]\n",
    "    return d_trajectories, d_cur_drugs, d_cur_conc, new_df, row\n",
    "\n",
    "def assesActionStartOrChange(d_trajectories, d_cur_drugs, d_cur_conc, \n",
    "                             new_df, row, key, str_nr):\n",
    "    \"\"\"\n",
    "    This function tries to translate the ambigious action to the \n",
    "    either a start or a change. These ambigious actions \n",
    "    originates from the medicator data in which increase, decrease &\n",
    "    continue is not specified.\n",
    "    \"\"\"\n",
    "    conclusion= 'Start'\n",
    "    trig = ''\n",
    "    if row['drug'] in d_cur_conc.keys():\n",
    "        prev_nr = d_cur_conc[row['drug']][0].replace(',','.')\n",
    "        if str_nr != 'None' and prev_nr != '' and ' ' not in prev_nr:\n",
    "            if float(str_nr) > float(prev_nr):\n",
    "                conclusion = 'Verhoging'\n",
    "                trig = 'CONFLICT->' + str(row['actie'])+ ' voor start!'\n",
    "            elif float(str_nr) < float(prev_nr):\n",
    "                conclusion = 'Verlaging'\n",
    "                trig = 'CONFLICT->' + str(row['actie'])+ ' voor start!'\n",
    "    d_trajectories[key] = [row['PATNR'], row['drug'], row['DATUM'], None, row['Bezdat0']]\n",
    "    d_cur_drugs[row['drug']] = key\n",
    "    d_cur_conc[row['drug']] = concentrationUpdate(str_nr, row['strength_unit'])\n",
    "    new_df = new_df.append(appendToDF(row, conclusion, row['drug'], ''), ignore_index=True)\n",
    "    return d_trajectories, d_cur_drugs, d_cur_conc, new_df\n",
    "\n",
    "def assesActionContinueOrChange(d_trajectories, d_cur_drugs, d_cur_conc, \n",
    "                             df, new_df, row, key, str_nr):\n",
    "    \"\"\"\n",
    "    This function tries to translate the ambigious action to the \n",
    "    either a continue or a change. These ambigious actions \n",
    "    originates from the medicator data in which increase, decrease &\n",
    "    continue is not specified.\n",
    "    \"\"\"\n",
    "    l_val = d_trajectories[d_cur_drugs[row['drug']]]\n",
    "    d_trajectories[d_cur_drugs[row['drug']]] = [row['PATNR'], row['drug'], l_val[2], row['DATUM'], row['Bezdat0']]\n",
    "    prev_nr = d_cur_conc[row['drug']][0].replace(',','.')\n",
    "    if str_nr != 'None' and prev_nr != '' and str_nr != '' and prev_nr != None and ' ' not in prev_nr:\n",
    "        if float(str_nr) > float(prev_nr):\n",
    "            conclusion = 'Verhoging'\n",
    "            trig = 'CONFLICT->' + str(row['actie'])+ ' voor start!'\n",
    "        elif float(str_nr) < float(prev_nr):\n",
    "            conclusion = 'Verlaging'\n",
    "        elif row['Change']:\n",
    "            conclusion = 'Verandering'\n",
    "            print(key)\n",
    "            d_trajectories, d_cur_drugs, d_cur_conc, new_df = switchOperation(\n",
    "                    d_trajectories, d_cur_drugs, d_cur_conc, \n",
    "                    df, new_df, row, key, str_nr)\n",
    "            return d_trajectories, d_cur_drugs, d_cur_conc, new_df    \n",
    "        else:\n",
    "            conclusion = 'Continue'\n",
    "    else : \n",
    "        conclusion = 'Continue'\n",
    "    new_df = new_df.append(appendToDF(row, conclusion, row['drug'], ''), ignore_index=True)\n",
    "    \n",
    "    d_cur_conc[row['drug']] = concentrationUpdate(row['strength_nr'], row['strength_unit'], \n",
    "                                        d_cur_conc[row['drug']][0], d_cur_conc[row['drug']][1])\n",
    "    return d_trajectories, d_cur_drugs, d_cur_conc, new_df\n",
    "\n",
    "def assesConcentrationChange(d_trajectories, d_cur_drugs, d_cur_conc, new_df, \n",
    "                            row, key, str_nr):\n",
    "    \"\"\"\n",
    "    This function is utilized if the drug is known but the \n",
    "    operation is unknown. The operation is assessed by \n",
    "    comparing the current concentration with the previous concentration:\n",
    "        \n",
    "    If the concentration increases then conclusion='Verhoging' (1)\n",
    "    If the concentration decreases then conclusion='Verlaging' (2)\n",
    "    If the concentration stays the same then conclusion='Continue' (3)\n",
    "    \"\"\"\n",
    "    l_val = d_trajectories[d_cur_drugs[row['drug']]]\n",
    "    d_trajectories[d_cur_drugs[row['drug']]] = [row['PATNR'], row['drug'], \n",
    "                                                l_val[2], row['DATUM'], row['Bezdat0']]\n",
    "    prev_nr = d_cur_conc[row['drug']][0].replace(',','.')\n",
    "    if str_nr != 'None' and str_nr != '' and prev_nr != '' and \\\n",
    "        prev_nr != None and ' ' not in prev_nr:\n",
    "        print(prev_nr, str_nr)\n",
    "        if float(str_nr) > float(prev_nr):\n",
    "            conclusion = 'Verhoging'\n",
    "            trig = 'CONFLICT->' + str(row['actie'])+ ' voor start!'\n",
    "        elif float(str_nr) < float(prev_nr):\n",
    "            conclusion = 'Verlaging'\n",
    "        else:\n",
    "            conclusion = 'Continue'\n",
    "    else : \n",
    "        conclusion = 'Continue'\n",
    "    new_df = new_df.append(appendToDF(row, conclusion, row['drug'], ''), ignore_index=True)\n",
    "    d_cur_conc[row['drug']] = concentrationUpdate(row['strength_nr'], row['strength_unit'], d_cur_conc[row['drug']][0],  d_cur_conc[row['drug']][1])\n",
    "    return d_trajectories, d_cur_drugs, d_cur_conc, new_df, conclusion\n",
    "\n",
    "def getStrengthNr(row):\n",
    "    \"\"\"\n",
    "    Replaces the potential comma for a dot in strength numbers,\n",
    "    otherwise these numbers cant be interpreted as integers.\n",
    "    \"\"\"\n",
    "    str_nr = str(row['strength_nr']).replace(',','.')\n",
    "    if ' ' in str_nr:\n",
    "        str_nr = str_nr.split(\" \")[0]\n",
    "    prev_nr = str(row['strength_nr']).replace(',','.')\n",
    "    if ' ' in prev_nr:\n",
    "        prev_nr = prev_nr.split(\" \")[0]\n",
    "    return str_nr, prev_nr\n",
    "\n",
    "def drugNotFoundBefore(d_trajectories, d_cur_drugs, d_cur_conc, \n",
    "                             df, new_df, row, key, str_nr):\n",
    "    \"\"\"\n",
    "    If the drug hasnt been found in the previous entries of said patient\n",
    "    then this function is called.\n",
    "    \n",
    "    Triggers occur in this function in the following situations:\n",
    "        Stop -> if a drug is stopped: because it is impossible that a \n",
    "            drug that wasnt prescribed before can be stopped.\n",
    "        Continue -> similarly to the aforementioned, it is also\n",
    "            impossible for a drug to be continued if it there is \n",
    "            no initial start found.\n",
    "    \"\"\"\n",
    "    l_change = ['Verhogen', 'Verlagen', 'Afbouwen', 'Ophogen']\n",
    "    if (row['drug'] == 'med' or row['drug'] == 'medicatie') and row['actie'] != 'start':\n",
    "        for k in d_cur_drugs.keys():\n",
    "            l_val = d_trajectories[d_cur_drugs[k]]\n",
    "            d_trajectories[d_cur_drugs[k]] = [row['PATNR'], k, l_val[2], row['DATUM'], row['Bezdat0']]\n",
    "            new_df = new_df.append(appendToDF(row, 'Continue', k, ''), ignore_index=True)\n",
    "        print('Unspecified Med converted!!')\n",
    "    elif row['actie'] == 'Stop':\n",
    "        new_df = new_df.append(appendToDF(row, row['actie'], row['drug'], 'CONFLICT-> Is al eerder geeindigd'), ignore_index=True)\n",
    "    elif row['actie'] == 'Start' : # or row['actie'] == 'Start|Continue'\n",
    "        d_trajectories[key] = [row['PATNR'], row['drug'], row['DATUM'], None, row['Bezdat0']]\n",
    "        d_cur_drugs[row['drug']] = key\n",
    "        d_cur_conc[row['drug']] = concentrationUpdate(str_nr, row['strength_unit']) # only if start\n",
    "        new_df = new_df.append(appendToDF(row, 'Start', row['drug'], ''), ignore_index=True)\n",
    "    elif row['actie'] == 'Switch':\n",
    "        d_trajectories, d_cur_drugs, d_cur_conc, new_df = switchOperation(\n",
    "                d_trajectories, d_cur_drugs, d_cur_conc, df, new_df, row, key, str_nr)\n",
    "    elif row['actie'] == 'Start|Continue':\n",
    "        d_trajectories, d_cur_drugs, d_cur_conc, new_df = assesActionStartOrChange(\n",
    "                d_trajectories, d_cur_drugs, d_cur_conc, new_df, row, key, str_nr)\n",
    "    elif row['actie'] == 'Continue' or str(row['actie']) in l_change:\n",
    "        d_trajectories[key] = [row['PATNR'], row['drug'], row['DATUM'], None, row['Bezdat0']]\n",
    "        d_cur_drugs[row['drug']] = key\n",
    "        d_cur_conc[row['drug']] = concentrationUpdate(str_nr, row['strength_unit'])\n",
    "        new_df = new_df.append(appendToDF(row, row['actie'], row['drug'], 'CONFLICT->' + row['actie'] + ' voor start!'), ignore_index=True)   \n",
    "    return d_trajectories, d_cur_drugs, d_cur_conc, new_df, row\n",
    "\n",
    "def drugFoundBefore(d_trajectories, d_cur_drugs, d_cur_conc, \n",
    "                             df, new_df, row, key, str_nr, prev_nr):\n",
    "    \"\"\"\n",
    "    If the drug has been found in the previous entries of said patient\n",
    "    then this function is called.\n",
    "    \n",
    "    Triggers occur in this function in the following situations:\n",
    "        Start -> if a drug is started: The treatment has already started.\n",
    "        This second start is converted to a continue\n",
    "    \"\"\"\n",
    "    l_change = ['Verhogen', 'Verlagen', 'Afbouwen', 'Ophogen']\n",
    "    if row['actie'] == 'Stop': # niet eerder gestopt!\n",
    "        l_val = d_trajectories[d_cur_drugs[row['drug']]]\n",
    "        d_trajectories[d_cur_drugs[row['drug']]] = [row['PATNR'], row['drug'], l_val[2], row['DATUM'], row['Bezdat0']]\n",
    "        del d_cur_drugs [row['drug']]\n",
    "        del d_cur_conc [row['drug']]\n",
    "        new_df = new_df.append(appendToDF(row, row['actie'], row['drug'], ''), ignore_index=True)\n",
    "    elif row['actie'] == 'Start': # al eerder gestart\n",
    "        d_cur_conc[row['drug']] = concentrationUpdate(str_nr, row['strength_unit'], d_cur_conc[row['drug']][0],  d_cur_conc[row['drug']][1])\n",
    "        new_df = new_df.append(appendToDF(row, 'Continue', row['drug'], 'CONFLICT-> Tweede start is gecorrigeerd met een Continue!'), ignore_index=True)\n",
    "    elif row['actie'] == 'Continue':\n",
    "        d_cur_conc[row['drug']] = concentrationUpdate(str_nr, row['strength_unit'], d_cur_conc[row['drug']][0],  d_cur_conc[row['drug']][1])\n",
    "        l_val = d_trajectories[d_cur_drugs[row['drug']]]\n",
    "        d_trajectories[d_cur_drugs[row['drug']]] = [row['PATNR'], row['drug'], l_val[2], row['DATUM'], row['Bezdat0']]\n",
    "        new_df = new_df.append(appendToDF(row, 'Continue', row['drug'], ''), ignore_index=True)\n",
    "    elif row['actie'] == 'Start|Continue':\n",
    "        d_trajectories, d_cur_drugs, d_cur_conc, new_df = assesActionContinueOrChange(\n",
    "            d_trajectories, d_cur_drugs, d_cur_conc, df, new_df, row, key, str_nr)\n",
    "    elif row['actie'] == 'Verandering':\n",
    "        d_trajectories, d_cur_drugs, d_cur_conc, new_df = switchOperation(\n",
    "                d_trajectories, d_cur_drugs, d_cur_conc, df, new_df, row, key, str_nr)\n",
    "    elif str(row['actie']) in (l_change):\n",
    "        l_val = d_trajectories[d_cur_drugs[row['drug']]]\n",
    "        d_trajectories[d_cur_drugs[row['drug']]] = [row['PATNR'], row['drug'], l_val[2], row['DATUM'], row['Bezdat0']]\n",
    "        new_df = new_df.append(appendToDF(row, 'Continue', row['drug'], 'CONFLICT-> Tweede start is gecorrigeerd met een Continue!'), ignore_index=True)\n",
    "    elif row['actie'] == None and row['drug'] != None:\n",
    "        d_trajectories, d_cur_drugs, d_cur_conc, new_df, conclusion = assesConcentrationChange(\n",
    "            d_trajectories, d_cur_drugs, d_cur_conc, new_df, row, key, str_nr)\n",
    "        print('Actie unknown: ', index, row['drug'], row['DATUM'], '\\tConverted to -> ', conclusion)\n",
    "    return d_trajectories, d_cur_drugs, d_cur_conc, new_df, row\n",
    "\n",
    "def medTrajectories(df, new_df):\n",
    "    d_trajectories = {}\n",
    "    d_cur_drugs = {}\n",
    "    d_cur_conc = {}\n",
    "    l_change = ['Verhogen', 'Verlagen', 'Afbouwen', 'Ophogen']\n",
    "    for index, row in df.iterrows():\n",
    "        if row['drug'] != None:\n",
    "            key = row['drug'] + str(index)\n",
    "        else : \n",
    "            key = 'Nonel'\n",
    "        str_nr, prev_nr = getStrengthNr(row)\n",
    "        d_trajectories, d_cur_drugs, d_cur_conc, new_df, row = assumeContinuation(\n",
    "                                            d_trajectories, d_cur_drugs, d_cur_conc, \n",
    "                                            new_df, row, key, str_nr)\n",
    "        if (any(str(row['drug']) in s for s in d_cur_drugs.keys()) == False):\n",
    "            d_trajectories, d_cur_drugs, d_cur_conc, new_df, row = drugNotFoundBefore(d_trajectories, \n",
    "                                            d_cur_drugs, d_cur_conc, df, new_df, row, key, str_nr)\n",
    "        else :\n",
    "            d_trajectories, d_cur_drugs, d_cur_conc, new_df, row = drugFoundBefore(d_trajectories, \n",
    "                                            d_cur_drugs, d_cur_conc, df, new_df, row, key, str_nr, prev_nr)\n",
    "        if None in d_cur_drugs:\n",
    "            print('None', row['actie'])\n",
    "    return new_df, d_trajectories\n",
    "\n",
    "def formatTable(df, d_traject):\n",
    "    for key, val in d_traject.items():\n",
    "        df = df.append({'ID': key, 'PATNR' : val[0], 'drug' : val[1], 'BeginDat': val[2], 'EindDat': val[3], 'Bezdat0': val[4]}, ignore_index = True)\n",
    "    return df\n",
    "df_endTable = pd.DataFrame(columns=['index','ID', 'PATNR', 'drug', 'DATUM', 'strength_nr2'])\n",
    "df_tableNetwork = pd.DataFrame(columns=['PATNR', 'drug', 'BeginDat', 'EindDat'])\n",
    "for patnr in list(df_ult['PATNR'].unique()):\n",
    "    \n",
    "    df_pat = df_ult[df_ult['PATNR']==patnr].sort_values(by=['PATNR', 'DATUM']) \n",
    "    df_endTable, d_traject = medTrajectories(df_pat, df_endTable)\n",
    "    df_tableNetwork = formatTable(df_tableNetwork, d_traject)\n",
    "df_endTable.head()"
   ]
  },
  {
   "cell_type": "markdown",
   "metadata": {},
   "source": [
    "### Update first visit date \n",
    "The first visit date needs to be updated because more information has been added to the dataset due to all the merges (Medicator & Meteor)."
   ]
  },
  {
   "cell_type": "code",
   "execution_count": 145,
   "metadata": {},
   "outputs": [],
   "source": [
    "groups = df_endTable.groupby('PATNR')\n",
    "firstDate = groups['Bezdat0'].min()\n",
    "df_tableNetwork['Bezdat0'] = df_tableNetwork['PATNR'].map(firstDate)\n",
    "df_endTable['Bezdat0']= df_endTable['PATNR'].map(firstDate)"
   ]
  },
  {
   "cell_type": "code",
   "execution_count": 146,
   "metadata": {},
   "outputs": [],
   "source": [
    "df_tableNetwork.to_csv('test.csv', sep='|')"
   ]
  },
  {
   "cell_type": "markdown",
   "metadata": {},
   "source": [
    "### Merge WITH DAS model DATA"
   ]
  },
  {
   "cell_type": "code",
   "execution_count": 107,
   "metadata": {},
   "outputs": [
    {
     "name": "stdout",
     "output_type": "stream",
     "text": [
      "1045\n",
      "1222\n"
     ]
    }
   ],
   "source": [
    "#df_tableNetwork.to_csv(r'featureExtraction/DF_ExampleData_Network_CORRUPTED.csv', sep='|', index=True)\n",
    "selection_das = ['ID_DAS', 'DATUM_DAS', 'BSE_Getal', 'DAS 28_Metingen', 'DAS 44_Metingen', 'PATNR', 'DATUM',\n",
    "       'Gewrichten met prothese_Memo', 'Gezwollen gewrichten_Memo', 'Pijnlijke gewrichten_Memo',\n",
    "       'Totaal gezwollen gewrichten_Getal',\n",
    "       'Totaal pijnlijke gewrichten_Getal', 'VAS Patient (mm)_Getal',\n",
    "       'Geen gezwollen gewrichten_Afvinkhokje', 'Geen pijnlijke gewrichten_Afvinkhokje',\n",
    "       'DAS 28 links pijn_Getal', 'DAS 28 links zwelling_Getal',\n",
    "       'DAS 28 rechts pijn_Getal', 'DAS 28 rechts zwelling_Getal',\n",
    "       'DAS 28 totaal pijn_Getal', 'DAS 28 totaal zwelling_Getal',\n",
    "       'DAS 44 links pijn_Getal', 'DAS 44 links zwelling_Getal',\n",
    "       'DAS 44 rechts pijn_Getal', 'DAS 44 rechts zwelling_Getal',\n",
    "       'DAS 44 totaal pijn_Getal', 'DAS 44 totaal zwelling_Getal',\n",
    "       'DAS 44(3)_Metingen', 'DAS 28(3)_Metingen']\n",
    "print(len(df_endTable))\n",
    "df_endTable = df_endTable.merge(df_mergeJ[selection_das], on=['PATNR','DATUM'], how='left')\n",
    "print(len(df_endTable))"
   ]
  },
  {
   "cell_type": "markdown",
   "metadata": {},
   "source": [
    "### Assess the overall DAS at baseline and the final DAS (as well as the corresponding dates)."
   ]
  },
  {
   "cell_type": "code",
   "execution_count": null,
   "metadata": {},
   "outputs": [],
   "source": [
    "df_tableNetwork = df_tableNetwork[~(df_tableNetwork['drug']=='')] \n",
    "df_patDas1 = df_endTable.loc[df_endTable[~(df_endTable['DAS 44_Metingen'].isna())].groupby('PATNR')[\"DATUM\"].idxmin()][['PATNR', 'DAS 44_Metingen', 'DATUM']]\n",
    "df_eindDas = df_endTable.loc[df_endTable[~(df_endTable['DAS 44_Metingen'].isna())].groupby('PATNR')[\"DATUM\"].idxmax()][['PATNR', 'DAS 44_Metingen', 'DATUM']]\n",
    "\n",
    "df_patDas1['BeginDAS44'] = df_patDas1['DAS 44_Metingen'].str.replace(',','.')\n",
    "df_patDas1['BeginDAS44_datum'] = df_patDas1['DATUM']\n",
    "df_eindDas['EindDAS44'] = df_eindDas['DAS 44_Metingen'].str.replace(',','.')\n",
    "df_eindDas['EindDAS44_datum'] = df_eindDas['DATUM']\n",
    "\n",
    "df_patDas28 = df_endTable.loc[df_endTable[~(df_endTable['DAS 28_Metingen'].isna())].groupby('PATNR')[\"DATUM\"].idxmin()][['PATNR', 'DAS 28_Metingen', 'DATUM']]\n",
    "df_eindDas28 = df_endTable.loc[df_endTable[~(df_endTable['DAS 28_Metingen'].isna())].groupby('PATNR')[\"DATUM\"].idxmax()][['PATNR', 'DAS 28_Metingen', 'DATUM']]\n",
    "df_patDas28['BeginDAS28'] = df_patDas28['DAS 28_Metingen'].str.replace(',','.')\n",
    "df_eindDas28['EindDAS28'] = df_eindDas28['DAS 28_Metingen'].str.replace(',','.')\n",
    "\n",
    "\n",
    "df_endTable = df_endTable.merge(df_patDas1[['BeginDAS44', 'PATNR' , 'BeginDAS44_datum']], on=['PATNR'], how='left')\n",
    "df_endTable = df_endTable.merge(df_eindDas[['EindDAS44', 'PATNR', 'EindDAS44_datum']], on=['PATNR'], how='left')\n",
    "df_endTable = df_endTable.merge(df_patDas28[['BeginDAS28', 'PATNR']], on=['PATNR'], how='left')\n",
    "df_endTable = df_endTable.merge(df_eindDas28[['EindDAS28', 'PATNR']], on=['PATNR'], how='left')\n",
    "\n",
    "df_tableNetwork = df_tableNetwork.merge(df_patDas1[['BeginDAS44', 'PATNR' , 'BeginDAS44_datum']], on=['PATNR'], how='left')\n",
    "df_tableNetwork = df_tableNetwork.merge(df_eindDas[['EindDAS44', 'PATNR', 'EindDAS44_datum']], on=['PATNR'], how='left')\n",
    "df_tableNetwork = df_tableNetwork.merge(df_patDas28[['BeginDAS28', 'PATNR']], on=['PATNR'], how='left')\n",
    "df_tableNetwork = df_tableNetwork.merge(df_eindDas28[['EindDAS28', 'PATNR']], on=['PATNR'], how='left')\n",
    "\n",
    "df_endTable.head()\n"
   ]
  },
  {
   "cell_type": "markdown",
   "metadata": {},
   "source": [
    "### Assess first time remission date"
   ]
  },
  {
   "cell_type": "code",
   "execution_count": 109,
   "metadata": {},
   "outputs": [],
   "source": [
    "df_endTable[\"DAS 44_Metingen\"] =df_endTable[\"DAS 44_Metingen\"].str.replace(\",\",\".\").astype(float)\n",
    "df_endTable[\"DAS 28_Metingen\"] =df_endTable[\"DAS 28_Metingen\"].str.replace(\",\",\".\").astype(float)\n",
    "\n",
    "df_tableNetwork['RemissieDat'] = \"\"\n",
    "df_endTable['RemissieDat'] = \"\"\n",
    "groups1 = df_endTable[df_endTable['DAS 44_Metingen']<=1.6].groupby('PATNR')\n",
    "groups2 = df_endTable[df_endTable['DAS 28_Metingen']<=2.6].groupby('PATNR')\n",
    "groups3 = df_endTable[df_endTable['Geen pijnlijke gewrichten_Afvinkhokje']=='Y'].groupby('PATNR') # == True\n",
    "groups4 = df_endTable[df_endTable['Geen gezwollen gewrichten_Afvinkhokje']=='Y'].groupby('PATNR') # == Truue\n",
    "\n",
    "cnt = 0\n",
    "d_remission = {}\n",
    "for pat in df_endTable['PATNR'].unique():\n",
    "    l = []\n",
    "    if pat in groups1['DATUM'].min().keys():\n",
    "        l.append(groups1['DATUM'].min()[pat])\n",
    "    if pat in groups2['DATUM'].min().keys():\n",
    "        l.append(groups2['DATUM'].min()[pat])\n",
    "    if pat in groups3['DATUM'].min().keys():\n",
    "        l.append(groups3['DATUM'].min()[pat])\n",
    "    if pat in groups4['DATUM'].min().keys():\n",
    "        l.append(groups4['DATUM'].min()[pat])\n",
    "    if len(l) > 0:\n",
    "        d_remission[pat] = min(l)\n",
    "\n",
    "d_remission\n",
    "for key, val in d_remission.items():\n",
    "    df_tableNetwork.loc[df_tableNetwork['PATNR'] == key, 'RemissieDat'] = pd.to_datetime(val)\n",
    "    df_endTable.loc[df_endTable['PATNR'] == key, 'RemissieDat'] = pd.to_datetime(val)\n"
   ]
  },
  {
   "cell_type": "markdown",
   "metadata": {},
   "source": [
    "### Assess DAS datum if there are measures known"
   ]
  },
  {
   "cell_type": "code",
   "execution_count": null,
   "metadata": {},
   "outputs": [],
   "source": [
    "df_tableTest = pd.DataFrame(columns=['PATNR', 'drug', 'BeginDat', 'EindDat'])\n",
    "tolerance = 30\n",
    "for ix, row in df_tableNetwork.iterrows():\n",
    "    df = df_endTable[df_endTable['PATNR']==row['PATNR']]\n",
    "    if len(df[~(df['DAS 44_Metingen'].isna())]) != 0:\n",
    "        df = df[~(df['DAS 44_Metingen'].isna())]\n",
    "\n",
    "    if row['BeginDat'] != None:\n",
    "        if len(df[(df['DATUM']<=row['BeginDat']+timedelta(days=1)) & \n",
    "                  (df['DATUM']>=row['BeginDat']-timedelta(days=tolerance))]['DATUM']) > 0:\n",
    "            max_date = df[(df['DATUM']<=row['BeginDat']+timedelta(days=1)) & \n",
    "                  (df['DATUM']>=row['BeginDat']-timedelta(days=tolerance))]['DATUM'].max()\n",
    "            das_info = df[df['DATUM']==max_date].iloc[0]\n",
    "        else : \n",
    "            das_info = {'DAS 44_Metingen' : np.nan} \n",
    "            max_date = np.nan\n",
    "            \n",
    "    d_val = row\n",
    "    d_val['BeginDAS44_datum'] = max_date\n",
    "    d_val['BeginDAS44'] = das_info['DAS 44_Metingen']\n",
    "    #print(row['BeginDAS44_datum'], das_info['DAS 44_Metingen'])\n",
    "    df_tableTest = df_tableTest.append(d_val, ignore_index=True)\n",
    "    #df_tableTest['BeginDAS44'] = \n",
    "df_tableTest.head()"
   ]
  },
  {
   "cell_type": "markdown",
   "metadata": {},
   "source": [
    "### Format dates to a consistent format"
   ]
  },
  {
   "cell_type": "code",
   "execution_count": 111,
   "metadata": {},
   "outputs": [],
   "source": [
    "df_tableTest[\"BeginDat\"] = df_tableTest[\"BeginDat\"].dt.strftime('%d-%m-%Y')\n",
    "df_tableTest[\"EindDat\"] = df_tableTest[\"EindDat\"].dt.strftime('%d-%m-%Y')\n",
    "df_tableTest[\"Bezdat0\"] = pd.to_datetime(df_tableTest[\"Bezdat0\"])\n",
    "df_tableTest[\"Bezdat0\"] = df_tableTest[\"Bezdat0\"].dt.strftime('%d-%m-%Y')\n",
    "df_tableTest[\"RemissieDat\"] = pd.to_datetime(df_tableTest[\"RemissieDat\"])\n",
    "df_tableTest[\"RemissieDat\"] = df_tableTest[\"RemissieDat\"].dt.strftime('%d-%m-%Y')\n",
    "df_tableTest[\"BeginDAS44_datum\"] = df_tableTest[\"BeginDAS44_datum\"].dt.strftime('%d-%m-%Y')"
   ]
  },
  {
   "cell_type": "markdown",
   "metadata": {},
   "source": [
    "### Merge with METEOR"
   ]
  },
  {
   "cell_type": "code",
   "execution_count": 112,
   "metadata": {},
   "outputs": [
    {
     "name": "stderr",
     "output_type": "stream",
     "text": [
      "E:\\modules\\Anaconda\\Program\\lib\\site-packages\\IPython\\core\\interactiveshell.py:2785: DtypeWarning: Columns (4,5,6,48,49,50,59,60,61,114,115,116,125,126,127,136,137,138,147,148,149,158,159,160,169,170,171,180,181,182,212,259,268,269,270,279,280,281,290,291,292,301,302,303,451,452,453,514,515,516,523,524,525,595,596,597,604,605,606,613,614,615,658,659,660,667,668,669,676,677,678,685,686,687,703,704,705,712,713,714,730,731,732,739,740,741,757,758,759,766,767,768,775,776,777,784,785,786,793,794,795,802,803,804,829,830,831,838,839,840,847,848,849,865,866,867,874,875,876,892,893,894,901,902,903,927,928,929,930,937,938,939,973,974,975,982,983,984,991,992,993,1027,1028,1029,1036,1037,1038,1054,1055,1056,1063,1064,1065,1072,1073,1074,1081,1082,1083,1126,1127,1128,1134,1135,1136,1137,1144,1145,1146,1161,1180,1181,1182,1189,1190,1191,1198,1199,1200,1252,1253,1254,1261,1262,1263,1315,1316,1317,1324,1325,1326,1351,1352,1353,1360,1361,1362,1369,1370,1371,1378,1379,1380,1387,1388,1389,1396,1397,1398,1405,1406,1407,1414,1415,1416,1423,1424,1425,1462,1659,1660,1661) have mixed types. Specify dtype option on import or set low_memory=False.\n",
      "  interactivity=interactivity, compiler=compiler, result=result)\n"
     ]
    }
   ],
   "source": [
    "df_MET_new = pd.read_csv(r'featureExtraction/METEOR_subselectionFreeText2.csv', sep='|', index_col=0) # hier zitten nog geen corticos in\n",
    "df_match = df_MET_new[df_MET_new['patientId'].isin(list(df_endTable['PATNR'].unique()))][['patientId','sex', 'yearOfBirth', 'smoking', 'RFC', 'aCCP']] #.to_csv(r'output_files/DF_LONG_candidates_MET.csv', sep='|', index=True)\n",
    "df_match = df_match.rename(index=str, columns={\"patientId\": \"PATNR\"}) # , 'visitDate' : 'DATUM'\n",
    "\n"
   ]
  },
  {
   "cell_type": "code",
   "execution_count": null,
   "metadata": {},
   "outputs": [],
   "source": [
    "df_endTable = df_endTable.merge(df_match, on=['PATNR'], how='left')\n",
    "df_endTable = df_endTable.drop_duplicates(subset=['PATNR', 'DATUM', 'drug'])\n",
    "df_endTable.head()\n"
   ]
  },
  {
   "cell_type": "markdown",
   "metadata": {},
   "source": [
    "## Write TableNetwork file"
   ]
  },
  {
   "cell_type": "code",
   "execution_count": null,
   "metadata": {},
   "outputs": [],
   "source": [
    "df_tableTest= df_tableTest.merge(df_match, on=['PATNR'], how='left') # outer\n",
    "df_tableTest = df_tableTest.drop_duplicates(subset=['PATNR', 'ID'])\n",
    "df_tableTest[['PATNR', 'drug', 'BeginDat', 'EindDat', 'BeginDAS44', 'BeginDAS44_datum', 'Bezdat0', 'ID', 'RFC', 'RemissieDat', 'aCCP', 'sex', 'smoking', 'yearOfBirth']].to_csv(r'featureExtraction/DF_NetworkCortico'+ str(pd.datetime.now().strftime(\"%d%m%Y\")) + '.csv', sep='|', index=True)\n",
    "df_tableTest.head()"
   ]
  },
  {
   "cell_type": "markdown",
   "metadata": {},
   "source": [
    "## Write EndTable file"
   ]
  },
  {
   "cell_type": "code",
   "execution_count": 116,
   "metadata": {},
   "outputs": [],
   "source": [
    "df_endTable[['PATNR', 'drug', 'DATUM' ,'actie','Conclusie', 'strength_nr', 'strength_unit', 'Bezdat0', 'Bezdat02', 'Conclusie2', 'BSE_Getal', 'BeginDAS44', 'BeginDAS44_datum', 'EindDAS44', 'EindDAS44_datum', 'DAS 44_Metingen', 'DAS 28_Metingen', 'Geen gezwollen gewrichten_Afvinkhokje', 'Geen pijnlijke gewrichten_Afvinkhokje', 'RemissieDat','trigger']].to_csv(r'featureExtraction/DF_ENDTABLE_LONG' + str(pd.datetime.now().strftime(\"%d%m%Y\")) + '_CORTICO.csv', sep='|', index=True)\n",
    "df_endTable.to_csv(r'featureExtraction/DF_ENDTABLE_LONG_RAW' + str(pd.datetime.now().strftime(\"%d%m%Y\")) + '_CORTICO.csv', sep='|', index=True)"
   ]
  },
  {
   "cell_type": "code",
   "execution_count": null,
   "metadata": {},
   "outputs": [],
   "source": []
  }
 ],
 "metadata": {
  "kernelspec": {
   "display_name": "Python 3",
   "language": "python",
   "name": "python3"
  },
  "language_info": {
   "codemirror_mode": {
    "name": "ipython",
    "version": 3
   },
   "file_extension": ".py",
   "mimetype": "text/x-python",
   "name": "python",
   "nbconvert_exporter": "python",
   "pygments_lexer": "ipython3",
   "version": "3.7.3"
  }
 },
 "nbformat": 4,
 "nbformat_minor": 2
}
