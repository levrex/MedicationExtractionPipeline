{
 "cells": [
  {
   "cell_type": "markdown",
   "metadata": {},
   "source": [
    "### This notebook generates how to generate ConTextItems"
   ]
  },
  {
   "cell_type": "code",
   "execution_count": 1,
   "metadata": {
    "collapsed": true
   },
   "outputs": [],
   "source": [
    "import os\n",
    "import pyConTextNLP.functional.conTextItem as CI\n"
   ]
  },
  {
   "cell_type": "markdown",
   "metadata": {},
   "source": [
    "### ConTextItems can be read from the web"
   ]
  },
  {
   "cell_type": "code",
   "execution_count": 2,
   "metadata": {},
   "outputs": [
    {
     "name": "stdout",
     "output_type": "stream",
     "text": [
      "conTextItem(literal='are ruled out', category=('definite_negated_existence',), re='are ruled out', rule='backward')\n",
      "conTextItem(literal='be ruled out', category=('indication',), re='be ruled out', rule='backward')\n",
      "conTextItem(literal='being ruled out', category=('indication',), re='being ruled out', rule='backward')\n",
      "conTextItem(literal='can be ruled out', category=('definite_negated_existence',), re='can be ruled out', rule='backward')\n",
      "conTextItem(literal='cannot be excluded', category=('ambivalent_existence',), re='cannot be excluded', rule='backward')\n",
      "conTextItem(literal='cannot totally be excluded', category=('probable_negated_existence',), re='cannot totally be excluded', rule='backward')\n",
      "conTextItem(literal='could be ruled out', category=('definite_negated_existence',), re='could be ruled out', rule='backward')\n",
      "conTextItem(literal='examination', category=('indication',), re='\\\\b(examination|exam|study)\\\\b', rule='backward')\n",
      "conTextItem(literal='free', category=('definite_negated_existence',), re='free', rule='backward')\n",
      "conTextItem(literal='has been ruled out', category=('definite_negated_existence',), re='has been ruled out', rule='backward')\n"
     ]
    }
   ],
   "source": [
    "kb = [\"https://raw.githubusercontent.com/chapmanbe/pyConTextNLP/master/KB/lexical_kb_04292013.tsv\", \n",
    "      \"https://raw.githubusercontent.com/chapmanbe/pyConTextNLP/master/KB/criticalfinder_generalized_modifiers.tsv\"]\n",
    "items = []\n",
    "for k in kb:\n",
    "    items.extend(CI.readConTextItems(k)[0])\n",
    "for i in items[0:10]:\n",
    "    print(i)"
   ]
  },
  {
   "cell_type": "markdown",
   "metadata": {},
   "source": [
    "### ConTextItems can also be read from local files"
   ]
  },
  {
   "cell_type": "code",
   "execution_count": 3,
   "metadata": {},
   "outputs": [
    {
     "name": "stdout",
     "output_type": "stream",
     "text": [
      "conTextItem(literal='are ruled out', category=('definite_negated_existence',), re='are ruled out', rule='backward')\n",
      "conTextItem(literal='be ruled out', category=('indication',), re='be ruled out', rule='backward')\n",
      "conTextItem(literal='being ruled out', category=('indication',), re='being ruled out', rule='backward')\n",
      "conTextItem(literal='can be ruled out', category=('definite_negated_existence',), re='can be ruled out', rule='backward')\n",
      "conTextItem(literal='cannot be excluded', category=('ambivalent_existence',), re='cannot be excluded', rule='backward')\n",
      "conTextItem(literal='cannot totally be excluded', category=('probable_negated_existence',), re='cannot totally be excluded', rule='backward')\n",
      "conTextItem(literal='could be ruled out', category=('definite_negated_existence',), re='could be ruled out', rule='backward')\n",
      "conTextItem(literal='examination', category=('indication',), re='\\\\b(examination|exam|study)\\\\b', rule='backward')\n",
      "conTextItem(literal='free', category=('definite_negated_existence',), re='free', rule='backward')\n",
      "conTextItem(literal='has been ruled out', category=('definite_negated_existence',), re='has been ruled out', rule='backward')\n"
     ]
    }
   ],
   "source": [
    "PCDIR = os.path.join(os.path.expanduser(\"~\"),\n",
    "                        \"Documents\",\"NLP\",\"pyConTextNLP\")\n",
    "kb_local = [\"https://raw.githubusercontent.com/chapmanbe/pyConTextNLP/master/KB/lexical_kb_04292013.tsv\",\n",
    "            os.path.join(PCDIR,\"KB\",\"quality_artifacts.tsv\")]\n",
    "items_local = []\n",
    "for k in kb_local:\n",
    "    items_local.extend(CI.readConTextItems(k)[0])\n",
    "for i in items_local[0:10]:\n",
    "    print(i)"
   ]
  },
  {
   "cell_type": "code",
   "execution_count": null,
   "metadata": {
    "collapsed": true
   },
   "outputs": [],
   "source": []
  },
  {
   "cell_type": "code",
   "execution_count": null,
   "metadata": {
    "collapsed": true
   },
   "outputs": [],
   "source": []
  }
 ],
 "metadata": {
  "kernelspec": {
   "display_name": "Python 3",
   "language": "python",
   "name": "python3"
  },
  "language_info": {
   "codemirror_mode": {
    "name": "ipython",
    "version": 3
   },
   "file_extension": ".py",
   "mimetype": "text/x-python",
   "name": "python",
   "nbconvert_exporter": "python",
   "pygments_lexer": "ipython3",
   "version": "3.5.4"
  }
 },
 "nbformat": 4,
 "nbformat_minor": 1
}
