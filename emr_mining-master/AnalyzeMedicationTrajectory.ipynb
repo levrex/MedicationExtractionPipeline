{
 "cells": [
  {
   "cell_type": "markdown",
   "metadata": {},
   "source": [
    "# 1 Process Network data\n",
    "### Import the tableNetwork\n",
    "- NaT are replaced with nan (otherwise they are not recognised as nans)"
   ]
  },
  {
   "cell_type": "code",
   "execution_count": 98,
   "metadata": {},
   "outputs": [],
   "source": [
    "import pandas as pd\n",
    "import numpy as np\n",
    "from scipy import stats\n",
    "#from lifelines import CoxPHFitter\n",
    "df_tableTest = pd.read_csv(r'DF_BLIND_tableNetwork.csv', index_col=0, sep=\"|\", na_values=['NA'])\n",
    "df_tableTest['BeginDAS44_datum'] = df_tableTest['BeginDAS44_datum'].replace('NaT', np.nan)"
   ]
  },
  {
   "cell_type": "markdown",
   "metadata": {},
   "source": [
    "### 1.1 Adjust the network table\n",
    "Categorize the patients with the following columns (subdivided into three groups):\n",
    "1. Age at inclusion\n",
    "2. Year of birth \n",
    "3. asses durationCOX (either duration til remission or total duration trajectory) "
   ]
  },
  {
   "cell_type": "code",
   "execution_count": 99,
   "metadata": {},
   "outputs": [
    {
     "data": {
      "text/html": [
       "<div>\n",
       "<style scoped>\n",
       "    .dataframe tbody tr th:only-of-type {\n",
       "        vertical-align: middle;\n",
       "    }\n",
       "\n",
       "    .dataframe tbody tr th {\n",
       "        vertical-align: top;\n",
       "    }\n",
       "\n",
       "    .dataframe thead th {\n",
       "        text-align: right;\n",
       "    }\n",
       "</style>\n",
       "<table border=\"1\" class=\"dataframe\">\n",
       "  <thead>\n",
       "    <tr style=\"text-align: right;\">\n",
       "      <th></th>\n",
       "      <th>PATNR</th>\n",
       "      <th>drug</th>\n",
       "      <th>BeginDat</th>\n",
       "      <th>EindDat</th>\n",
       "      <th>BeginDAS44</th>\n",
       "      <th>BeginDAS44_datum</th>\n",
       "      <th>Bezdat0</th>\n",
       "      <th>ID</th>\n",
       "      <th>RFC</th>\n",
       "      <th>RemissieDat</th>\n",
       "      <th>...</th>\n",
       "      <th>yearOfBirth</th>\n",
       "      <th>duration</th>\n",
       "      <th>remission</th>\n",
       "      <th>drugCode</th>\n",
       "      <th>yob</th>\n",
       "      <th>age</th>\n",
       "      <th>firstVisit</th>\n",
       "      <th>incl</th>\n",
       "      <th>status</th>\n",
       "      <th>durationCOX</th>\n",
       "    </tr>\n",
       "  </thead>\n",
       "  <tbody>\n",
       "    <tr>\n",
       "      <th>0</th>\n",
       "      <td>7800.0</td>\n",
       "      <td>methotrexaat</td>\n",
       "      <td>13-09-2012</td>\n",
       "      <td>09-01-2014</td>\n",
       "      <td>NaN</td>\n",
       "      <td>NaN</td>\n",
       "      <td>13-09-2012</td>\n",
       "      <td>methotrexaat718</td>\n",
       "      <td>0.0</td>\n",
       "      <td>06-06-2013</td>\n",
       "      <td>...</td>\n",
       "      <td>1957.0</td>\n",
       "      <td>483.0</td>\n",
       "      <td>266.0</td>\n",
       "      <td>12</td>\n",
       "      <td>2</td>\n",
       "      <td>2</td>\n",
       "      <td>13</td>\n",
       "      <td>55.0</td>\n",
       "      <td>True</td>\n",
       "      <td>266.0</td>\n",
       "    </tr>\n",
       "    <tr>\n",
       "      <th>2</th>\n",
       "      <td>102309.0</td>\n",
       "      <td>tocilizumab</td>\n",
       "      <td>12-12-2011</td>\n",
       "      <td>13-11-2017</td>\n",
       "      <td>3.3</td>\n",
       "      <td>12-12-2011</td>\n",
       "      <td>08-11-2011</td>\n",
       "      <td>tocilizumab382</td>\n",
       "      <td>1.0</td>\n",
       "      <td>31-05-2012</td>\n",
       "      <td>...</td>\n",
       "      <td>1937.0</td>\n",
       "      <td>2197.0</td>\n",
       "      <td>205.0</td>\n",
       "      <td>15</td>\n",
       "      <td>1</td>\n",
       "      <td>3</td>\n",
       "      <td>13</td>\n",
       "      <td>74.0</td>\n",
       "      <td>True</td>\n",
       "      <td>205.0</td>\n",
       "    </tr>\n",
       "    <tr>\n",
       "      <th>33</th>\n",
       "      <td>102309.0</td>\n",
       "      <td>methotrexaat</td>\n",
       "      <td>05-10-2012</td>\n",
       "      <td>13-11-2017</td>\n",
       "      <td>1.4</td>\n",
       "      <td>05-10-2012</td>\n",
       "      <td>08-11-2011</td>\n",
       "      <td>methotrexaat822</td>\n",
       "      <td>1.0</td>\n",
       "      <td>31-05-2012</td>\n",
       "      <td>...</td>\n",
       "      <td>1937.0</td>\n",
       "      <td>2197.0</td>\n",
       "      <td>205.0</td>\n",
       "      <td>12</td>\n",
       "      <td>1</td>\n",
       "      <td>3</td>\n",
       "      <td>13</td>\n",
       "      <td>74.0</td>\n",
       "      <td>True</td>\n",
       "      <td>205.0</td>\n",
       "    </tr>\n",
       "    <tr>\n",
       "      <th>64</th>\n",
       "      <td>102309.0</td>\n",
       "      <td>leflunomide</td>\n",
       "      <td>27-11-2014</td>\n",
       "      <td>13-11-2017</td>\n",
       "      <td>3.5</td>\n",
       "      <td>27-11-2014</td>\n",
       "      <td>08-11-2011</td>\n",
       "      <td>leflunomide2849</td>\n",
       "      <td>1.0</td>\n",
       "      <td>31-05-2012</td>\n",
       "      <td>...</td>\n",
       "      <td>1937.0</td>\n",
       "      <td>2197.0</td>\n",
       "      <td>205.0</td>\n",
       "      <td>11</td>\n",
       "      <td>1</td>\n",
       "      <td>3</td>\n",
       "      <td>13</td>\n",
       "      <td>74.0</td>\n",
       "      <td>True</td>\n",
       "      <td>205.0</td>\n",
       "    </tr>\n",
       "    <tr>\n",
       "      <th>95</th>\n",
       "      <td>102309.0</td>\n",
       "      <td>hydroxychloroquine</td>\n",
       "      <td>19-05-2015</td>\n",
       "      <td>13-11-2017</td>\n",
       "      <td>2.1</td>\n",
       "      <td>19-05-2015</td>\n",
       "      <td>08-11-2011</td>\n",
       "      <td>hydroxychloroquine9681</td>\n",
       "      <td>1.0</td>\n",
       "      <td>31-05-2012</td>\n",
       "      <td>...</td>\n",
       "      <td>1937.0</td>\n",
       "      <td>2197.0</td>\n",
       "      <td>205.0</td>\n",
       "      <td>9</td>\n",
       "      <td>1</td>\n",
       "      <td>3</td>\n",
       "      <td>13</td>\n",
       "      <td>74.0</td>\n",
       "      <td>True</td>\n",
       "      <td>205.0</td>\n",
       "    </tr>\n",
       "  </tbody>\n",
       "</table>\n",
       "<p>5 rows × 23 columns</p>\n",
       "</div>"
      ],
      "text/plain": [
       "       PATNR                drug    BeginDat     EindDat  BeginDAS44  \\\n",
       "0     7800.0        methotrexaat  13-09-2012  09-01-2014         NaN   \n",
       "2   102309.0         tocilizumab  12-12-2011  13-11-2017         3.3   \n",
       "33  102309.0        methotrexaat  05-10-2012  13-11-2017         1.4   \n",
       "64  102309.0         leflunomide  27-11-2014  13-11-2017         3.5   \n",
       "95  102309.0  hydroxychloroquine  19-05-2015  13-11-2017         2.1   \n",
       "\n",
       "   BeginDAS44_datum     Bezdat0                      ID  RFC RemissieDat  \\\n",
       "0               NaN  13-09-2012         methotrexaat718  0.0  06-06-2013   \n",
       "2        12-12-2011  08-11-2011          tocilizumab382  1.0  31-05-2012   \n",
       "33       05-10-2012  08-11-2011         methotrexaat822  1.0  31-05-2012   \n",
       "64       27-11-2014  08-11-2011         leflunomide2849  1.0  31-05-2012   \n",
       "95       19-05-2015  08-11-2011  hydroxychloroquine9681  1.0  31-05-2012   \n",
       "\n",
       "       ...       yearOfBirth  duration  remission  drugCode  yob  age  \\\n",
       "0      ...            1957.0     483.0      266.0        12    2    2   \n",
       "2      ...            1937.0    2197.0      205.0        15    1    3   \n",
       "33     ...            1937.0    2197.0      205.0        12    1    3   \n",
       "64     ...            1937.0    2197.0      205.0        11    1    3   \n",
       "95     ...            1937.0    2197.0      205.0         9    1    3   \n",
       "\n",
       "    firstVisit  incl  status  durationCOX  \n",
       "0           13  55.0    True        266.0  \n",
       "2           13  74.0    True        205.0  \n",
       "33          13  74.0    True        205.0  \n",
       "64          13  74.0    True        205.0  \n",
       "95          13  74.0    True        205.0  \n",
       "\n",
       "[5 rows x 23 columns]"
      ]
     },
     "execution_count": 99,
     "metadata": {},
     "output_type": "execute_result"
    }
   ],
   "source": [
    "def ageGroup(row):\n",
    "    if row['yearOfBirth'] > 1923 and row['yearOfBirth'] < 1946 :\n",
    "        row['yob'] = 1\n",
    "    elif row['yearOfBirth'] > 1945 and row['yearOfBirth'] < 1959 :\n",
    "        row['yob'] = 2\n",
    "    elif row['yearOfBirth'] > 1958 and row['yearOfBirth'] < 1993 :\n",
    "        row['yob'] = 3\n",
    "    return row\n",
    "\n",
    "def inclGroup(row):\n",
    "    if row['incl'] > 20 and row['incl'] < 54:\n",
    "        row['age'] = 1\n",
    "    elif row['incl'] > 53 and row['incl'] < 67:\n",
    "        row['age'] = 2\n",
    "    elif row['incl'] > 66 and row['incl'] < 90:\n",
    "        row['age'] = 3\n",
    "    return row\n",
    "\n",
    "def firstVisitDate(row):\n",
    "    if pd.to_datetime(row['Bezdat0'], format=\"%d-%m-%Y\") > pd.to_datetime('2013-10-01') and pd.to_datetime(row['Bezdat0'], format=\"%d-%m-%Y\") < pd.to_datetime('2017-03-01'):\n",
    "        row['firstVisit'] = 1317\n",
    "    else:\n",
    "        row['firstVisit'] = 13\n",
    "    return row\n",
    "\n",
    "\n",
    "df_tableTest['yob'] = df_tableTest['smoking']\n",
    "df_tableTest['age'] = df_tableTest['smoking']\n",
    "df_tableTest['firstVisit'] = df_tableTest['smoking']\n",
    "df_tableTest['incl'] = df_tableTest['smoking']\n",
    "df_tableTest['incl'] = pd.to_datetime(df_tableTest['Bezdat0']).dt.year - df_tableTest['yearOfBirth']\n",
    "\n",
    "df_tableTest = df_tableTest.apply(lambda x: ageGroup(x), axis = 1)\n",
    "df_tableTest = df_tableTest.apply(lambda x: inclGroup(x), axis = 1)\n",
    "df_tableTest = df_tableTest.apply(lambda x: firstVisitDate(x), axis = 1)\n",
    "\n",
    "df_tableTest['duration'] = (pd.to_datetime(df_tableTest['EindDat'], format=\"%d-%m-%Y\") - pd.to_datetime(df_tableTest['Bezdat0'], format=\"%d-%m-%Y\")).dt.days\n",
    "df_tableTest['remission'] = (pd.to_datetime(df_tableTest['RemissieDat'], format=\"%d-%m-%Y\") - pd.to_datetime(df_tableTest['Bezdat0'], format=\"%d-%m-%Y\")).dt.days\n",
    "df_tableTest['status'] = ((df_tableTest['remission'] >= 0) & (~df_tableTest['remission'].isna()))\n",
    "\n",
    "df_tableTest['durationCOX'] = df_tableTest.apply(\n",
    "    lambda row: row['duration'] if np.isnan(row['remission']) else row['remission'],\n",
    "    axis=1\n",
    ")\n",
    "df_tableTest.head()\n"
   ]
  },
  {
   "cell_type": "markdown",
   "metadata": {},
   "source": [
    "### 1.2 Write updated table to csv"
   ]
  },
  {
   "cell_type": "code",
   "execution_count": 100,
   "metadata": {},
   "outputs": [],
   "source": [
    "df_tableTest['BeginDAS44_datum'] = df_tableTest['BeginDAS44_datum'].replace('NaT', np.nan)\n",
    "df_tableTest.to_csv(r'Test/DF_BLIND_EXTRACOLS.csv', sep='|', index=True)"
   ]
  },
  {
   "cell_type": "markdown",
   "metadata": {},
   "source": [
    "### 1.3 Import the adjusted tableNetwork"
   ]
  },
  {
   "cell_type": "code",
   "execution_count": 3,
   "metadata": {},
   "outputs": [
    {
     "data": {
      "text/html": [
       "<div>\n",
       "<style scoped>\n",
       "    .dataframe tbody tr th:only-of-type {\n",
       "        vertical-align: middle;\n",
       "    }\n",
       "\n",
       "    .dataframe tbody tr th {\n",
       "        vertical-align: top;\n",
       "    }\n",
       "\n",
       "    .dataframe thead th {\n",
       "        text-align: right;\n",
       "    }\n",
       "</style>\n",
       "<table border=\"1\" class=\"dataframe\">\n",
       "  <thead>\n",
       "    <tr style=\"text-align: right;\">\n",
       "      <th></th>\n",
       "      <th>PATNR</th>\n",
       "      <th>drug</th>\n",
       "      <th>BeginDat</th>\n",
       "      <th>EindDat</th>\n",
       "      <th>BeginDAS44</th>\n",
       "      <th>BeginDAS44_datum</th>\n",
       "      <th>Bezdat0</th>\n",
       "      <th>ID</th>\n",
       "      <th>RFC</th>\n",
       "      <th>RemissieDat</th>\n",
       "      <th>...</th>\n",
       "      <th>yearOfBirth</th>\n",
       "      <th>duration</th>\n",
       "      <th>remission</th>\n",
       "      <th>drugCode</th>\n",
       "      <th>yob</th>\n",
       "      <th>age</th>\n",
       "      <th>firstVisit</th>\n",
       "      <th>incl</th>\n",
       "      <th>status</th>\n",
       "      <th>durationCOX</th>\n",
       "    </tr>\n",
       "  </thead>\n",
       "  <tbody>\n",
       "    <tr>\n",
       "      <th>0</th>\n",
       "      <td>7800.0</td>\n",
       "      <td>methotrexaat</td>\n",
       "      <td>13-09-2012</td>\n",
       "      <td>09-01-2014</td>\n",
       "      <td>NaN</td>\n",
       "      <td>NaN</td>\n",
       "      <td>13-09-2012</td>\n",
       "      <td>methotrexaat718</td>\n",
       "      <td>0.0</td>\n",
       "      <td>06-06-2013</td>\n",
       "      <td>...</td>\n",
       "      <td>1957.0</td>\n",
       "      <td>483.0</td>\n",
       "      <td>266.0</td>\n",
       "      <td>12</td>\n",
       "      <td>2</td>\n",
       "      <td>2</td>\n",
       "      <td>13</td>\n",
       "      <td>55.0</td>\n",
       "      <td>True</td>\n",
       "      <td>266.0</td>\n",
       "    </tr>\n",
       "    <tr>\n",
       "      <th>2</th>\n",
       "      <td>102309.0</td>\n",
       "      <td>tocilizumab</td>\n",
       "      <td>12-12-2011</td>\n",
       "      <td>13-11-2017</td>\n",
       "      <td>3.3</td>\n",
       "      <td>12-12-2011</td>\n",
       "      <td>08-11-2011</td>\n",
       "      <td>tocilizumab382</td>\n",
       "      <td>1.0</td>\n",
       "      <td>31-05-2012</td>\n",
       "      <td>...</td>\n",
       "      <td>1937.0</td>\n",
       "      <td>2197.0</td>\n",
       "      <td>205.0</td>\n",
       "      <td>15</td>\n",
       "      <td>1</td>\n",
       "      <td>3</td>\n",
       "      <td>13</td>\n",
       "      <td>74.0</td>\n",
       "      <td>True</td>\n",
       "      <td>205.0</td>\n",
       "    </tr>\n",
       "    <tr>\n",
       "      <th>33</th>\n",
       "      <td>102309.0</td>\n",
       "      <td>methotrexaat</td>\n",
       "      <td>05-10-2012</td>\n",
       "      <td>13-11-2017</td>\n",
       "      <td>1.4</td>\n",
       "      <td>05-10-2012</td>\n",
       "      <td>08-11-2011</td>\n",
       "      <td>methotrexaat822</td>\n",
       "      <td>1.0</td>\n",
       "      <td>31-05-2012</td>\n",
       "      <td>...</td>\n",
       "      <td>1937.0</td>\n",
       "      <td>2197.0</td>\n",
       "      <td>205.0</td>\n",
       "      <td>12</td>\n",
       "      <td>1</td>\n",
       "      <td>3</td>\n",
       "      <td>13</td>\n",
       "      <td>74.0</td>\n",
       "      <td>True</td>\n",
       "      <td>205.0</td>\n",
       "    </tr>\n",
       "    <tr>\n",
       "      <th>64</th>\n",
       "      <td>102309.0</td>\n",
       "      <td>leflunomide</td>\n",
       "      <td>27-11-2014</td>\n",
       "      <td>13-11-2017</td>\n",
       "      <td>3.5</td>\n",
       "      <td>27-11-2014</td>\n",
       "      <td>08-11-2011</td>\n",
       "      <td>leflunomide2849</td>\n",
       "      <td>1.0</td>\n",
       "      <td>31-05-2012</td>\n",
       "      <td>...</td>\n",
       "      <td>1937.0</td>\n",
       "      <td>2197.0</td>\n",
       "      <td>205.0</td>\n",
       "      <td>11</td>\n",
       "      <td>1</td>\n",
       "      <td>3</td>\n",
       "      <td>13</td>\n",
       "      <td>74.0</td>\n",
       "      <td>True</td>\n",
       "      <td>205.0</td>\n",
       "    </tr>\n",
       "    <tr>\n",
       "      <th>95</th>\n",
       "      <td>102309.0</td>\n",
       "      <td>hydroxychloroquine</td>\n",
       "      <td>19-05-2015</td>\n",
       "      <td>13-11-2017</td>\n",
       "      <td>2.1</td>\n",
       "      <td>19-05-2015</td>\n",
       "      <td>08-11-2011</td>\n",
       "      <td>hydroxychloroquine9681</td>\n",
       "      <td>1.0</td>\n",
       "      <td>31-05-2012</td>\n",
       "      <td>...</td>\n",
       "      <td>1937.0</td>\n",
       "      <td>2197.0</td>\n",
       "      <td>205.0</td>\n",
       "      <td>9</td>\n",
       "      <td>1</td>\n",
       "      <td>3</td>\n",
       "      <td>13</td>\n",
       "      <td>74.0</td>\n",
       "      <td>True</td>\n",
       "      <td>205.0</td>\n",
       "    </tr>\n",
       "  </tbody>\n",
       "</table>\n",
       "<p>5 rows × 23 columns</p>\n",
       "</div>"
      ],
      "text/plain": [
       "       PATNR                drug    BeginDat     EindDat  BeginDAS44  \\\n",
       "0     7800.0        methotrexaat  13-09-2012  09-01-2014         NaN   \n",
       "2   102309.0         tocilizumab  12-12-2011  13-11-2017         3.3   \n",
       "33  102309.0        methotrexaat  05-10-2012  13-11-2017         1.4   \n",
       "64  102309.0         leflunomide  27-11-2014  13-11-2017         3.5   \n",
       "95  102309.0  hydroxychloroquine  19-05-2015  13-11-2017         2.1   \n",
       "\n",
       "   BeginDAS44_datum     Bezdat0                      ID  RFC RemissieDat  \\\n",
       "0               NaN  13-09-2012         methotrexaat718  0.0  06-06-2013   \n",
       "2        12-12-2011  08-11-2011          tocilizumab382  1.0  31-05-2012   \n",
       "33       05-10-2012  08-11-2011         methotrexaat822  1.0  31-05-2012   \n",
       "64       27-11-2014  08-11-2011         leflunomide2849  1.0  31-05-2012   \n",
       "95       19-05-2015  08-11-2011  hydroxychloroquine9681  1.0  31-05-2012   \n",
       "\n",
       "       ...       yearOfBirth  duration  remission  drugCode  yob  age  \\\n",
       "0      ...            1957.0     483.0      266.0        12    2    2   \n",
       "2      ...            1937.0    2197.0      205.0        15    1    3   \n",
       "33     ...            1937.0    2197.0      205.0        12    1    3   \n",
       "64     ...            1937.0    2197.0      205.0        11    1    3   \n",
       "95     ...            1937.0    2197.0      205.0         9    1    3   \n",
       "\n",
       "    firstVisit  incl  status  durationCOX  \n",
       "0           13  55.0    True        266.0  \n",
       "2           13  74.0    True        205.0  \n",
       "33          13  74.0    True        205.0  \n",
       "64          13  74.0    True        205.0  \n",
       "95          13  74.0    True        205.0  \n",
       "\n",
       "[5 rows x 23 columns]"
      ]
     },
     "execution_count": 3,
     "metadata": {},
     "output_type": "execute_result"
    }
   ],
   "source": [
    "df_tableTest = pd.read_csv(r'Test/DF_BLIND_EXTRACOLS.csv', index_col=0, sep=\"|\", na_values=['NA'])\n",
    "df_tableTest.head()"
   ]
  },
  {
   "cell_type": "markdown",
   "metadata": {},
   "source": [
    "# 2 First Analysis Initial Response"
   ]
  },
  {
   "cell_type": "markdown",
   "metadata": {},
   "source": [
    "### 2.1 Assess initial respons\n",
    "A new dataframe is created that keeps track of the initial therapy & the status during that therapy (df_full)\n",
    "##### Steps:\n",
    "- Initial: assess drug(s) from initial treatment\n",
    "- Status is updated: remission dat between BeginDat and EindDat then status = 1 else status = 0"
   ]
  },
  {
   "cell_type": "code",
   "execution_count": 6,
   "metadata": {},
   "outputs": [],
   "source": [
    "#print(l_firstDat)\n",
    "#df_tableTest[df_tableTest['PATNR']==919794.0  ]"
   ]
  },
  {
   "cell_type": "code",
   "execution_count": 7,
   "metadata": {},
   "outputs": [],
   "source": [
    "#df_tableTest[\"BeginDat\"]"
   ]
  },
  {
   "cell_type": "code",
   "execution_count": 101,
   "metadata": {},
   "outputs": [
    {
     "name": "stdout",
     "output_type": "stream",
     "text": [
      "Patients response to initial therapy:\n",
      "\n",
      "Remission:\t229\n",
      "No Remission:\t138\n"
     ]
    },
    {
     "data": {
      "text/html": [
       "<div>\n",
       "<style scoped>\n",
       "    .dataframe tbody tr th:only-of-type {\n",
       "        vertical-align: middle;\n",
       "    }\n",
       "\n",
       "    .dataframe tbody tr th {\n",
       "        vertical-align: top;\n",
       "    }\n",
       "\n",
       "    .dataframe thead th {\n",
       "        text-align: right;\n",
       "    }\n",
       "</style>\n",
       "<table border=\"1\" class=\"dataframe\">\n",
       "  <thead>\n",
       "    <tr style=\"text-align: right;\">\n",
       "      <th></th>\n",
       "      <th>PATNR</th>\n",
       "      <th>drug</th>\n",
       "      <th>BeginDat</th>\n",
       "      <th>EindDat</th>\n",
       "      <th>BeginDAS44</th>\n",
       "      <th>BeginDAS44_datum</th>\n",
       "      <th>Bezdat0</th>\n",
       "      <th>ID</th>\n",
       "      <th>RFC</th>\n",
       "      <th>RemissieDat</th>\n",
       "      <th>...</th>\n",
       "      <th>remission</th>\n",
       "      <th>drugCode</th>\n",
       "      <th>yob</th>\n",
       "      <th>age</th>\n",
       "      <th>firstVisit</th>\n",
       "      <th>incl</th>\n",
       "      <th>status</th>\n",
       "      <th>durationCOX</th>\n",
       "      <th>initial</th>\n",
       "      <th>TTC</th>\n",
       "    </tr>\n",
       "  </thead>\n",
       "  <tbody>\n",
       "    <tr>\n",
       "      <th>0</th>\n",
       "      <td>7800.0</td>\n",
       "      <td>methotrexaat</td>\n",
       "      <td>2012-09-13</td>\n",
       "      <td>09-01-2014</td>\n",
       "      <td>NaN</td>\n",
       "      <td>NaN</td>\n",
       "      <td>13-09-2012</td>\n",
       "      <td>methotrexaat718</td>\n",
       "      <td>0.0</td>\n",
       "      <td>06-06-2013</td>\n",
       "      <td>...</td>\n",
       "      <td>266.0</td>\n",
       "      <td>12</td>\n",
       "      <td>2</td>\n",
       "      <td>2</td>\n",
       "      <td>13</td>\n",
       "      <td>55.0</td>\n",
       "      <td>1</td>\n",
       "      <td>266.0</td>\n",
       "      <td>1</td>\n",
       "      <td>483.0</td>\n",
       "    </tr>\n",
       "    <tr>\n",
       "      <th>2</th>\n",
       "      <td>102309.0</td>\n",
       "      <td>tocilizumab</td>\n",
       "      <td>2011-12-12</td>\n",
       "      <td>13-11-2017</td>\n",
       "      <td>3.3</td>\n",
       "      <td>12-12-2011</td>\n",
       "      <td>08-11-2011</td>\n",
       "      <td>tocilizumab382</td>\n",
       "      <td>1.0</td>\n",
       "      <td>31-05-2012</td>\n",
       "      <td>...</td>\n",
       "      <td>205.0</td>\n",
       "      <td>15</td>\n",
       "      <td>1</td>\n",
       "      <td>3</td>\n",
       "      <td>13</td>\n",
       "      <td>74.0</td>\n",
       "      <td>1</td>\n",
       "      <td>205.0</td>\n",
       "      <td>1</td>\n",
       "      <td>2163.0</td>\n",
       "    </tr>\n",
       "    <tr>\n",
       "      <th>33</th>\n",
       "      <td>102309.0</td>\n",
       "      <td>methotrexaat</td>\n",
       "      <td>2012-10-05</td>\n",
       "      <td>13-11-2017</td>\n",
       "      <td>1.4</td>\n",
       "      <td>05-10-2012</td>\n",
       "      <td>08-11-2011</td>\n",
       "      <td>methotrexaat822</td>\n",
       "      <td>1.0</td>\n",
       "      <td>31-05-2012</td>\n",
       "      <td>...</td>\n",
       "      <td>205.0</td>\n",
       "      <td>12</td>\n",
       "      <td>1</td>\n",
       "      <td>3</td>\n",
       "      <td>13</td>\n",
       "      <td>74.0</td>\n",
       "      <td>0</td>\n",
       "      <td>205.0</td>\n",
       "      <td>0</td>\n",
       "      <td>1865.0</td>\n",
       "    </tr>\n",
       "    <tr>\n",
       "      <th>64</th>\n",
       "      <td>102309.0</td>\n",
       "      <td>leflunomide</td>\n",
       "      <td>2014-11-27</td>\n",
       "      <td>13-11-2017</td>\n",
       "      <td>3.5</td>\n",
       "      <td>27-11-2014</td>\n",
       "      <td>08-11-2011</td>\n",
       "      <td>leflunomide2849</td>\n",
       "      <td>1.0</td>\n",
       "      <td>31-05-2012</td>\n",
       "      <td>...</td>\n",
       "      <td>205.0</td>\n",
       "      <td>11</td>\n",
       "      <td>1</td>\n",
       "      <td>3</td>\n",
       "      <td>13</td>\n",
       "      <td>74.0</td>\n",
       "      <td>0</td>\n",
       "      <td>205.0</td>\n",
       "      <td>0</td>\n",
       "      <td>1082.0</td>\n",
       "    </tr>\n",
       "    <tr>\n",
       "      <th>95</th>\n",
       "      <td>102309.0</td>\n",
       "      <td>hydroxychloroquine</td>\n",
       "      <td>2015-05-19</td>\n",
       "      <td>13-11-2017</td>\n",
       "      <td>2.1</td>\n",
       "      <td>19-05-2015</td>\n",
       "      <td>08-11-2011</td>\n",
       "      <td>hydroxychloroquine9681</td>\n",
       "      <td>1.0</td>\n",
       "      <td>31-05-2012</td>\n",
       "      <td>...</td>\n",
       "      <td>205.0</td>\n",
       "      <td>9</td>\n",
       "      <td>1</td>\n",
       "      <td>3</td>\n",
       "      <td>13</td>\n",
       "      <td>74.0</td>\n",
       "      <td>0</td>\n",
       "      <td>205.0</td>\n",
       "      <td>0</td>\n",
       "      <td>909.0</td>\n",
       "    </tr>\n",
       "  </tbody>\n",
       "</table>\n",
       "<p>5 rows × 25 columns</p>\n",
       "</div>"
      ],
      "text/plain": [
       "       PATNR                drug   BeginDat     EindDat  BeginDAS44  \\\n",
       "0     7800.0        methotrexaat 2012-09-13  09-01-2014         NaN   \n",
       "2   102309.0         tocilizumab 2011-12-12  13-11-2017         3.3   \n",
       "33  102309.0        methotrexaat 2012-10-05  13-11-2017         1.4   \n",
       "64  102309.0         leflunomide 2014-11-27  13-11-2017         3.5   \n",
       "95  102309.0  hydroxychloroquine 2015-05-19  13-11-2017         2.1   \n",
       "\n",
       "   BeginDAS44_datum     Bezdat0                      ID  RFC RemissieDat  \\\n",
       "0               NaN  13-09-2012         methotrexaat718  0.0  06-06-2013   \n",
       "2        12-12-2011  08-11-2011          tocilizumab382  1.0  31-05-2012   \n",
       "33       05-10-2012  08-11-2011         methotrexaat822  1.0  31-05-2012   \n",
       "64       27-11-2014  08-11-2011         leflunomide2849  1.0  31-05-2012   \n",
       "95       19-05-2015  08-11-2011  hydroxychloroquine9681  1.0  31-05-2012   \n",
       "\n",
       "     ...    remission  drugCode  yob  age  firstVisit  incl  status  \\\n",
       "0    ...        266.0        12    2    2          13  55.0       1   \n",
       "2    ...        205.0        15    1    3          13  74.0       1   \n",
       "33   ...        205.0        12    1    3          13  74.0       0   \n",
       "64   ...        205.0        11    1    3          13  74.0       0   \n",
       "95   ...        205.0         9    1    3          13  74.0       0   \n",
       "\n",
       "    durationCOX  initial     TTC  \n",
       "0         266.0        1   483.0  \n",
       "2         205.0        1  2163.0  \n",
       "33        205.0        0  1865.0  \n",
       "64        205.0        0  1082.0  \n",
       "95        205.0        0   909.0  \n",
       "\n",
       "[5 rows x 25 columns]"
      ]
     },
     "execution_count": 101,
     "metadata": {},
     "output_type": "execute_result"
    }
   ],
   "source": [
    "df_tableTest[\"BeginDat\"] = pd.to_datetime(df_tableTest[\"BeginDat\"] , format=\"%d-%m-%Y\")\n",
    "l_firstDat = df_tableTest.sort_values(by=\"BeginDat\").groupby('PATNR').first()['BeginDat']\n",
    "def assesInitial(row):\n",
    "    row['initial'] = 0\n",
    "    if row['BeginDat'] == l_firstDat[row['PATNR']]:\n",
    "        row['initial'] = 1\n",
    "    else :\n",
    "        row['initial'] = 0\n",
    "    return row\n",
    "\n",
    "def updateStatusWithinInitial(row):\n",
    "    row['status'] = 0\n",
    "    if pd.to_datetime(row['RemissieDat'], format=\"%d-%m-%Y\") >= pd.to_datetime(row['BeginDat'], format=\"%d-%m-%Y\") \\\n",
    "    and pd.to_datetime(row['RemissieDat'], format=\"%d-%m-%Y\") <= pd.to_datetime(row['EindDat'], format=\"%d-%m-%Y\") +pd.Timedelta(pd.offsets.Day(1)):\n",
    "        row['status'] = 1\n",
    "    else :\n",
    "        row['status'] = 0\n",
    "    return row\n",
    "\n",
    "df_full = df_tableTest.copy()\n",
    "df_full['initial'] = df_full['ID']\n",
    "df_full['TTC'] = (pd.to_datetime(df_full['EindDat'], format=\"%d-%m-%Y\") - pd.to_datetime(df_full['BeginDat'], format=\"%d-%m-%Y\")).dt.days\n",
    "df_full['EindDat'] = df_full['EindDat'].replace('NaT', np.nan)\n",
    "df_full['BeginDat'] = df_full['BeginDat'].replace('NaT', np.nan)\n",
    "df_full = df_full[~(df_full['EindDat'].isna())]\n",
    "df_full = df_full[~(df_full['BeginDat'].isna())]\n",
    "df_full = df_full.apply(lambda x: assesInitial(x), axis = 1)\n",
    "df_full_noStat = df_full.copy()\n",
    "df_full = df_full.apply(lambda x: updateStatusWithinInitial(x), axis = 1)\n",
    "\n",
    "print('Patients response to initial therapy:\\n')\n",
    "print('Remission:\\t' + str(len(df_full[((df_full['status']==1) & (df_full['initial']==1))])))\n",
    "print('No Remission:\\t' + str(len(df_full[((df_full['status']==0) & (df_full['initial']==1))])))\n",
    "df_full.head()"
   ]
  },
  {
   "cell_type": "markdown",
   "metadata": {},
   "source": [
    "### Baseline in total"
   ]
  },
  {
   "cell_type": "code",
   "execution_count": 102,
   "metadata": {
    "scrolled": false
   },
   "outputs": [
    {
     "name": "stdout",
     "output_type": "stream",
     "text": [
      "N aCCP:0 = 128\n",
      "DAS44 (start): 3.1 (1.1-6.3) \n",
      "DAS44 N: 51\n",
      "Age at Inclusion: 65.0 (21.0-88.0) \n",
      "MTTC: 720.0 (13.0-2058.0) \n",
      "MTTC N: 128\n",
      "TTR : 266.0 (14.0-1666.0) \n",
      "TTR N: 89\n",
      "prop. sex = 0:46 1:82\t\tperc. 1: 0.640625\n",
      "prop. RFC = 0:58 1:15\t\tperc. 1: 0.2054794520547945\n",
      "prop. status = 0:39 1:89\t\tperc. 1: 0.6953125\n",
      "prop. smoking = 0: 14 1: 11\t\tperc. 1: 0.44\n",
      "\n",
      "N aCCP:1 = 190\n",
      "DAS44 (start): 2.9 (0.2-5.1) \n",
      "DAS44 N: 88\n",
      "Age at Inclusion: 59.0 (21.0-89.0) \n",
      "MTTC: 952.0 (14.0-2297.0) \n",
      "MTTC N: 190\n",
      "TTR : 378.5 (0.0-2024.0) \n",
      "TTR N: 144\n",
      "prop. sex = 0:58 1:132\t\tperc. 1: 0.6947368421052632\n",
      "prop. RFC = 0:8 1:110\t\tperc. 1: 0.9322033898305084\n",
      "prop. status = 0:46 1:144\t\tperc. 1: 0.7578947368421053\n",
      "prop. smoking = 0: 16 1: 32\t\tperc. 1: 0.6666666666666666\n",
      "\n"
     ]
    }
   ],
   "source": [
    "def baselineChar(feat, df_Init):\n",
    "    drugs = ['methotrexaat', 'hydroxychloroquine']\n",
    "    characteristics = ['sex', 'RFC', 'status' , 'smoking', 'aCCP'] \n",
    "    if feat in characteristics:\n",
    "        characteristics.remove(feat)\n",
    "    for feat_present in range(0,2):\n",
    "        df = df_Init[((df_Init[feat]==feat_present))]\n",
    "        print('N ' + str(feat) + ':' + str(feat_present) + ' = ' + str(len(df)))\n",
    "        print('DAS44 (start): ' + str(df['BeginDAS44'].median()) + ' (' + str(df['BeginDAS44'].min()) + '-' + str(df['BeginDAS44'].max()) + ') ')\n",
    "        print('DAS44 N: ' + str(len([x for x in list(df['BeginDAS44']) if x == x])))\n",
    "        print('Age at Inclusion: ' + str(df['incl'].median()) + ' (' + str(df['incl'].min()) + '-' + str(df['incl'].max()) + ') ')\n",
    "        \n",
    "        print('MTTC: ' + str(df['TTC'].median()) + ' (' + str(df['TTC'].min()) + '-' + str(df['TTC'].max()) + ') ')\n",
    "        print('MTTC N: ' + str(len([x for x in list(df['TTC']) if x == x])))\n",
    "        print('TTR : ' + str(df[df['status']==1]['remission'].median()) + ' (' + str(df[df['status']==1]['remission'].min()) + '-' + str(df[df['status']==1]['remission'].max()) + ') ')\n",
    "        print('TTR N: ' + str(len(list(df[df['status']==1]['remission']))))\n",
    "        for char in characteristics:\n",
    "            if char == 'smoking': \n",
    "                print('prop. smoking = 0: ' + str(len(df[df[char]==1])) + ' 1: ' + \n",
    "                      str(len(df[df[char].isin(list(range(2,8)))])) + '\\t\\tperc. 1: ' + \n",
    "                     str(len(df[df[char].isin(list(range(2,8)))])/len(df[(df[char].isin(list(range(1,8))))])))\n",
    "            else: \n",
    "                try :\n",
    "                    print('prop. ' + char + ' = 0:' + str(dict(df[char].value_counts())[0]) + \n",
    "                          ' 1:'+ str(dict(df[char].value_counts())[1]) + '\\t\\tperc. 1: ' + \n",
    "                            str(dict(df[char].value_counts())[1]/len(df[(~df[char].isna())])))\n",
    "                    #print()\n",
    "                except: \n",
    "                    print('prop. ' + char + ' = ' + str(dict(df[char].value_counts()))+ '\\t\\tperc. 1: ' + \n",
    "                            str(dict(df[char].value_counts())[1]/len(df[(~df[char].isna())])))\n",
    "            #l_size1 = list(df[char].value_counts().values)\n",
    "\n",
    "\n",
    "        print()\n",
    "        \n",
    "idx = df_full_noStat.groupby(['PATNR'])['BeginDat'].transform(min) == df_full['BeginDat'] # BeginDASdatum voor beginDAS\n",
    "# Voor de rest = durationCOX\n",
    "df_proc = df_full_noStat[idx]\n",
    "df_proc = df_proc.drop_duplicates('PATNR')\n",
    "\n",
    "\n",
    "        \n",
    "baselineChar('aCCP', df_proc)"
   ]
  },
  {
   "cell_type": "code",
   "execution_count": 103,
   "metadata": {},
   "outputs": [
    {
     "name": "stdout",
     "output_type": "stream",
     "text": [
      "N total :aCCP = 318\n",
      "DAS44 (start): 3.0 (0.2-6.3) \n",
      "DAS44 N: 139\n",
      "Age at Inclusion: 61.0 (21.0-89.0) \n",
      "MTTC: 852.0 (13.0-2297.0) \n",
      "MTTC N: 318\n",
      "TTR : 287.0 (0.0-2024.0) \n",
      "TTR N: 233\n",
      "prop. sex = 0:104 1:214\t\tperc. 1: 0.6729559748427673\n",
      "prop. RFC = 0:66 1:125\t\tperc. 1: 0.6544502617801047\n",
      "prop. status = 0:85 1:233\t\tperc. 1: 0.7327044025157232\n",
      "prop. smoking = 0: 30 1: 43\t\tperc. 1: 0.589041095890411\n",
      "prop. aCCP = 0:128 1:190\t\tperc. 1: 0.5974842767295597\n",
      "\n",
      "MannWhitney - DAS between groups (aCCP): \n",
      "0.0855916955912625\n"
     ]
    }
   ],
   "source": [
    "from scipy.stats import mannwhitneyu, ttest_ind\n",
    "characteristics = ['sex', 'RFC', 'status' , 'smoking', 'aCCP'] \n",
    "feat = 'aCCP'\n",
    "df = df_proc[df_proc[feat].isin([1,0])]\n",
    "\n",
    "#feat_present = 0\n",
    "print('N total :' + str(feat) + ' = ' + str(len(df)))\n",
    "print('DAS44 (start): ' + str(df['BeginDAS44'].median()) + ' (' + str(df['BeginDAS44'].min()) + '-' + str(df['BeginDAS44'].max()) + ') ')\n",
    "print('DAS44 N: ' + str(len([x for x in list(df['BeginDAS44']) if x == x])))\n",
    "print('Age at Inclusion: ' + str(df['incl'].median()) + ' (' + str(df['incl'].min()) + '-' + str(df['incl'].max()) + ') ')\n",
    "\n",
    "print('MTTC: ' + str(df['TTC'].median()) + ' (' + str(df['TTC'].min()) + '-' + str(df['TTC'].max()) + ') ')\n",
    "print('MTTC N: ' + str(len([x for x in list(df['TTC']) if x == x])))\n",
    "print('TTR : ' + str(df[df['status']==1]['remission'].median()) + ' (' + str(df[df['status']==1]['remission'].min()) + '-' + str(df[df['status']==1]['remission'].max()) + ') ')\n",
    "print('TTR N: ' + str(len(list(df[df['status']==1]['remission']))))\n",
    "for char in characteristics:\n",
    "    if char == 'smoking': \n",
    "        print('prop. smoking = 0: ' + str(len(df[df[char]==1])) + ' 1: ' + \n",
    "              str(len(df[df[char].isin(list(range(2,8)))])) + '\\t\\tperc. 1: ' + \n",
    "             str(len(df[df[char].isin(list(range(2,8)))])/len(df[(df[char].isin(list(range(1,8))))])))\n",
    "    else: \n",
    "        try :\n",
    "            print('prop. ' + char + ' = 0:' + str(dict(df[char].value_counts())[0]) + \n",
    "                  ' 1:'+ str(dict(df[char].value_counts())[1]) + '\\t\\tperc. 1: ' + \n",
    "                    str(dict(df[char].value_counts())[1]/len(df[(~df[char].isna())])))\n",
    "            #print()\n",
    "        except: \n",
    "            print('prop. ' + char + ' = ' + str(dict(df[char].value_counts()))+ '\\t\\tperc. 1: ' + \n",
    "                    str(dict(df[char].value_counts())[1]/len(df[(~df[char].isna())])))\n",
    "    #l_size1 = list(df[char].value_counts().values)\n",
    "\n",
    "subset_var = 'aCCP'\n",
    "feature = 'BeginDAS44' \n",
    "print('\\nMannWhitney - DAS between groups (' + subset_var + '): ') \n",
    "stat, p = mannwhitneyu(df[((df[subset_var]==0) & (df['status']==1))][feature],df[((df[subset_var]==1) & (df['status']==1))][feature])\n",
    "print(p)\n"
   ]
  },
  {
   "cell_type": "code",
   "execution_count": 6,
   "metadata": {},
   "outputs": [
    {
     "name": "stdout",
     "output_type": "stream",
     "text": [
      "\tInitial Response ACPA+: \n",
      "\n",
      "Fisher exact (p): 0.2633447639556213\n"
     ]
    }
   ],
   "source": [
    "subset_var = 'sex'\n",
    "feature = 'status' \n",
    "feat_present = 1\n",
    "test = 'f'\n",
    "l_size1 = list(df[((df[subset_var]==1))][feature].value_counts().sort_index().values)\n",
    "l_label1 = list(df[((df[subset_var]==1))][feature].value_counts().sort_index().keys())\n",
    "l_size2 = list(df[((df[subset_var]==0))][feature].value_counts().sort_index().values)\n",
    "l_label2 = list(df[((df[subset_var]==0))][feature].value_counts().sort_index().keys())\n",
    "\n",
    "obs = np.array([[23, 9+16], [12, 7+16]])\n",
    "if test == 'f':\n",
    "    oddsratio, p = stats.fisher_exact(obs)\n",
    "else :\n",
    "    chi2, p, dof, ex = stats.chi2_contingency(obs, correction=True)#u\n",
    "\n",
    "print('\\tInitial Response ACPA+: ')\n",
    "#print(drug + ' :\\t\\t', l_size1,'\\t', l_label1)\n",
    "#print(drug2 + ' :\\t', l_size2,'\\t', l_label2) \n",
    "print()\n",
    "print('Fisher exact (p):', p)"
   ]
  },
  {
   "cell_type": "markdown",
   "metadata": {},
   "source": [
    "### Create histogram"
   ]
  },
  {
   "cell_type": "code",
   "execution_count": 7,
   "metadata": {},
   "outputs": [
    {
     "data": {
      "text/plain": [
       "Text(0, 0.5, 'Nr of patients')"
      ]
     },
     "execution_count": 7,
     "metadata": {},
     "output_type": "execute_result"
    }
   ],
   "source": [
    "import matplotlib.pyplot as plt\n",
    "\n",
    "subset_var = 'sex'\n",
    "feature = 'TTC' \n",
    "\n",
    "plt.figure(figsize=(8,6))\n",
    "\n",
    "#feature = 'remission'\n",
    "plt.hist(df[df[subset_var]==1][feature], label='W', bins=25)\n",
    "plt.hist(df[df[subset_var]==0][feature], label='M', bins=25)\n",
    "plt.title('Distribution of Time To change - Sex')\n",
    "plt.legend(loc='upper right')\n",
    "plt.xlabel('Time to change in days')\n",
    "plt.ylabel('Nr of patients')"
   ]
  },
  {
   "cell_type": "markdown",
   "metadata": {},
   "source": [
    "### Baseline for global subgroups"
   ]
  },
  {
   "cell_type": "code",
   "execution_count": 18,
   "metadata": {},
   "outputs": [
    {
     "name": "stdout",
     "output_type": "stream",
     "text": [
      "0.24537523462060065\n"
     ]
    }
   ],
   "source": [
    "## Calculate difference between 2 groups\n",
    "obs = [[144, 46], [89, 39]]\n",
    "oddsratio, p = stats.fisher_exact(obs)\n",
    "print(p)"
   ]
  },
  {
   "cell_type": "code",
   "execution_count": 19,
   "metadata": {},
   "outputs": [
    {
     "name": "stdout",
     "output_type": "stream",
     "text": [
      "MannwhitneyuResult(statistic=5957.0, pvalue=0.1837185851620322)\n",
      "Ttest_indResult(statistic=3.096874114677811, pvalue=0.002197687294285063)\n"
     ]
    }
   ],
   "source": [
    "from scipy.stats import mannwhitneyu, ttest_ind\n",
    "\n",
    "feature = 'BeginDAS44' \n",
    "subset_var = 'aCCP'\n",
    "\n",
    "rem = mannwhitneyu(df_proc[((df_proc[subset_var]==0) & (df_proc['status']==1))][feature],df_proc[((df_proc[subset_var]==1) & (df_proc['status']==1))][feature])\n",
    "\n",
    "feature = 'incl'\n",
    "subset_var = 'aCCP'\n",
    "\n",
    "age = ttest_ind(df_proc[((df_proc[subset_var]==0) & (df_proc['status']==1))][feature],df_proc[((df_proc[subset_var]==1) & (df_proc['status']==1))][feature])\n",
    "\n",
    "print(rem)\n",
    "print(age)"
   ]
  },
  {
   "cell_type": "markdown",
   "metadata": {},
   "source": [
    "### 2.2 Create Initial response table\n",
    "##### Steps:\n",
    "- Only the initial rows are selected\n",
    "- All of the drugs from the initial therapy are collected and appended as values\n",
    "- The longitudinal aspect of the data therefore disappears and a new dataframe is created: df_Init()."
   ]
  },
  {
   "cell_type": "code",
   "execution_count": 104,
   "metadata": {},
   "outputs": [
    {
     "data": {
      "text/html": [
       "<div>\n",
       "<style scoped>\n",
       "    .dataframe tbody tr th:only-of-type {\n",
       "        vertical-align: middle;\n",
       "    }\n",
       "\n",
       "    .dataframe tbody tr th {\n",
       "        vertical-align: top;\n",
       "    }\n",
       "\n",
       "    .dataframe thead th {\n",
       "        text-align: right;\n",
       "    }\n",
       "</style>\n",
       "<table border=\"1\" class=\"dataframe\">\n",
       "  <thead>\n",
       "    <tr style=\"text-align: right;\">\n",
       "      <th></th>\n",
       "      <th>PATNR</th>\n",
       "      <th>drug</th>\n",
       "      <th>BeginDat</th>\n",
       "      <th>EindDat</th>\n",
       "      <th>BeginDAS44</th>\n",
       "      <th>BeginDAS44_datum</th>\n",
       "      <th>Bezdat0</th>\n",
       "      <th>ID</th>\n",
       "      <th>RFC</th>\n",
       "      <th>RemissieDat</th>\n",
       "      <th>...</th>\n",
       "      <th>incl</th>\n",
       "      <th>status</th>\n",
       "      <th>durationCOX</th>\n",
       "      <th>initial</th>\n",
       "      <th>TTC</th>\n",
       "      <th>drug1</th>\n",
       "      <th>drug2</th>\n",
       "      <th>drug3</th>\n",
       "      <th>drug4</th>\n",
       "      <th>comed</th>\n",
       "    </tr>\n",
       "  </thead>\n",
       "  <tbody>\n",
       "    <tr>\n",
       "      <th>0</th>\n",
       "      <td>7800.0</td>\n",
       "      <td>methotrexaat</td>\n",
       "      <td>2012-09-13</td>\n",
       "      <td>09-01-2014</td>\n",
       "      <td>NaN</td>\n",
       "      <td>NaN</td>\n",
       "      <td>13-09-2012</td>\n",
       "      <td>methotrexaat718</td>\n",
       "      <td>0.0</td>\n",
       "      <td>06-06-2013</td>\n",
       "      <td>...</td>\n",
       "      <td>55.0</td>\n",
       "      <td>1</td>\n",
       "      <td>266.0</td>\n",
       "      <td>1</td>\n",
       "      <td>483.0</td>\n",
       "      <td>methotrexaat</td>\n",
       "      <td>NaN</td>\n",
       "      <td>NaN</td>\n",
       "      <td>NaN</td>\n",
       "      <td>0.0</td>\n",
       "    </tr>\n",
       "    <tr>\n",
       "      <th>1</th>\n",
       "      <td>102309.0</td>\n",
       "      <td>tocilizumab</td>\n",
       "      <td>2011-12-12</td>\n",
       "      <td>13-11-2017</td>\n",
       "      <td>3.3</td>\n",
       "      <td>12-12-2011</td>\n",
       "      <td>08-11-2011</td>\n",
       "      <td>tocilizumab382</td>\n",
       "      <td>1.0</td>\n",
       "      <td>31-05-2012</td>\n",
       "      <td>...</td>\n",
       "      <td>74.0</td>\n",
       "      <td>1</td>\n",
       "      <td>205.0</td>\n",
       "      <td>1</td>\n",
       "      <td>2163.0</td>\n",
       "      <td>tocilizumab</td>\n",
       "      <td>NaN</td>\n",
       "      <td>NaN</td>\n",
       "      <td>NaN</td>\n",
       "      <td>0.0</td>\n",
       "    </tr>\n",
       "    <tr>\n",
       "      <th>2</th>\n",
       "      <td>614879.0</td>\n",
       "      <td>methotrexaat</td>\n",
       "      <td>2012-08-17</td>\n",
       "      <td>22-12-2017</td>\n",
       "      <td>NaN</td>\n",
       "      <td>NaN</td>\n",
       "      <td>12-07-2012</td>\n",
       "      <td>methotrexaat7505</td>\n",
       "      <td>1.0</td>\n",
       "      <td>20-08-2013</td>\n",
       "      <td>...</td>\n",
       "      <td>40.0</td>\n",
       "      <td>1</td>\n",
       "      <td>404.0</td>\n",
       "      <td>1</td>\n",
       "      <td>1953.0</td>\n",
       "      <td>methotrexaat</td>\n",
       "      <td>NaN</td>\n",
       "      <td>NaN</td>\n",
       "      <td>NaN</td>\n",
       "      <td>0.0</td>\n",
       "    </tr>\n",
       "    <tr>\n",
       "      <th>3</th>\n",
       "      <td>334769.0</td>\n",
       "      <td>methotrexaat</td>\n",
       "      <td>2012-01-20</td>\n",
       "      <td>15-05-2013</td>\n",
       "      <td>NaN</td>\n",
       "      <td>NaN</td>\n",
       "      <td>28-11-2011</td>\n",
       "      <td>methotrexaat5665</td>\n",
       "      <td>1.0</td>\n",
       "      <td>19-11-2012</td>\n",
       "      <td>...</td>\n",
       "      <td>40.0</td>\n",
       "      <td>1</td>\n",
       "      <td>357.0</td>\n",
       "      <td>1</td>\n",
       "      <td>481.0</td>\n",
       "      <td>methotrexaat</td>\n",
       "      <td>NaN</td>\n",
       "      <td>NaN</td>\n",
       "      <td>NaN</td>\n",
       "      <td>0.0</td>\n",
       "    </tr>\n",
       "    <tr>\n",
       "      <th>4</th>\n",
       "      <td>492022.0</td>\n",
       "      <td>methotrexaat</td>\n",
       "      <td>2012-01-24</td>\n",
       "      <td>16-04-2014</td>\n",
       "      <td>NaN</td>\n",
       "      <td>NaN</td>\n",
       "      <td>05-12-2011</td>\n",
       "      <td>methotrexaat6610</td>\n",
       "      <td>1.0</td>\n",
       "      <td>10-04-2012</td>\n",
       "      <td>...</td>\n",
       "      <td>69.0</td>\n",
       "      <td>1</td>\n",
       "      <td>127.0</td>\n",
       "      <td>1</td>\n",
       "      <td>813.0</td>\n",
       "      <td>methotrexaat</td>\n",
       "      <td>NaN</td>\n",
       "      <td>NaN</td>\n",
       "      <td>NaN</td>\n",
       "      <td>0.0</td>\n",
       "    </tr>\n",
       "  </tbody>\n",
       "</table>\n",
       "<p>5 rows × 30 columns</p>\n",
       "</div>"
      ],
      "text/plain": [
       "      PATNR          drug   BeginDat     EindDat  BeginDAS44 BeginDAS44_datum  \\\n",
       "0    7800.0  methotrexaat 2012-09-13  09-01-2014         NaN              NaN   \n",
       "1  102309.0   tocilizumab 2011-12-12  13-11-2017         3.3       12-12-2011   \n",
       "2  614879.0  methotrexaat 2012-08-17  22-12-2017         NaN              NaN   \n",
       "3  334769.0  methotrexaat 2012-01-20  15-05-2013         NaN              NaN   \n",
       "4  492022.0  methotrexaat 2012-01-24  16-04-2014         NaN              NaN   \n",
       "\n",
       "      Bezdat0                ID  RFC RemissieDat  ...   incl  status  \\\n",
       "0  13-09-2012   methotrexaat718  0.0  06-06-2013  ...   55.0       1   \n",
       "1  08-11-2011    tocilizumab382  1.0  31-05-2012  ...   74.0       1   \n",
       "2  12-07-2012  methotrexaat7505  1.0  20-08-2013  ...   40.0       1   \n",
       "3  28-11-2011  methotrexaat5665  1.0  19-11-2012  ...   40.0       1   \n",
       "4  05-12-2011  methotrexaat6610  1.0  10-04-2012  ...   69.0       1   \n",
       "\n",
       "   durationCOX  initial     TTC         drug1 drug2 drug3 drug4 comed  \n",
       "0        266.0        1   483.0  methotrexaat   NaN   NaN   NaN   0.0  \n",
       "1        205.0        1  2163.0   tocilizumab   NaN   NaN   NaN   0.0  \n",
       "2        404.0        1  1953.0  methotrexaat   NaN   NaN   NaN   0.0  \n",
       "3        357.0        1   481.0  methotrexaat   NaN   NaN   NaN   0.0  \n",
       "4        127.0        1   813.0  methotrexaat   NaN   NaN   NaN   0.0  \n",
       "\n",
       "[5 rows x 30 columns]"
      ]
     },
     "execution_count": 104,
     "metadata": {},
     "output_type": "execute_result"
    }
   ],
   "source": [
    "import numpy as np\n",
    "\n",
    "df_full = df_full[(df_full['initial']==1)]\n",
    "\n",
    "\n",
    "df_full['drug1'] = df_full['smoking']\n",
    "df_full['drug2'] = df_full['smoking']\n",
    "df_full['drug3'] = df_full['smoking']\n",
    "df_full['drug4'] = df_full['smoking']\n",
    "\n",
    "df_Init = pd.DataFrame(columns=list(df_full.columns))\n",
    "for pat in df_full['PATNR'].unique():\n",
    "    df_pat = df_full[df_full['PATNR']==pat]\n",
    "    l_drugs = list(df_pat['drug'].values)\n",
    "    d_items = dict(df_pat.iloc[0][:-4])\n",
    "    d_items.update({'drug1': np.nan, 'drug2': np.nan, 'drug3': np.nan, 'drug4': np.nan})\n",
    "    #print(d_items)\n",
    "    for x in range(len(l_drugs)):\n",
    "        column = 'drug' + str(x+1)\n",
    "        d_items[column] = l_drugs[x]\n",
    "    d_items['comed'] = 0 + 1 * (len(l_drugs)>1)\n",
    "        \n",
    "    #print(d_items)\n",
    "    df_Init = df_Init.append(d_items, ignore_index= True) \n",
    "    #print(d_items)\n",
    "    #print(l_drugs)\n",
    "df_Init.head()"
   ]
  },
  {
   "cell_type": "markdown",
   "metadata": {},
   "source": [
    "### 2.3 Process initial dataframe\n",
    "##### Steps:\n",
    "- Remove the few cases with co-medication as initial therapy \n",
    "- Drop columns that are not relevant for the statistical data or that can simply not be used\n",
    "- Assess the time to change (TTC) -> time till a treatment strategy is changed\n",
    "- Assess the new duration within the initial treatment (either time till remission or time til change)\n",
    "- The dataframe is then also written to a csv file\n"
   ]
  },
  {
   "cell_type": "code",
   "execution_count": 105,
   "metadata": {},
   "outputs": [
    {
     "data": {
      "text/plain": [
       "methotrexaat          254\n",
       "sulfasalazine          27\n",
       "hydroxychloroquine     22\n",
       "leflunomide             6\n",
       "etanercept              5\n",
       "adalimumab              5\n",
       "tocilizumab             3\n",
       "azathioprine            3\n",
       "certolizumab            2\n",
       "rituximab               1\n",
       "infliximab              1\n",
       "Name: drug1, dtype: int64"
      ]
     },
     "execution_count": 105,
     "metadata": {},
     "output_type": "execute_result"
    }
   ],
   "source": [
    "\n",
    "df_Init = df_Init[(df_Init['comed']==0)]\n",
    "df_Init['status'] = df_Init['status'].astype(float)\n",
    "df_Init.drug1 = pd.Categorical(df_Init.drug1)\n",
    "#df_Init = df_Init.drop(['PATNR', 'duration', 'durationCOX', 'RemissieDat', 'Bezdat0', 'BeginDAS44_datum', 'drug2', 'drug3', 'drug4', 'drug', 'ID'], axis=1)\n",
    "df_Init['TTC'] = (pd.to_datetime(df_Init['EindDat'], format=\"%d-%m-%Y\") - pd.to_datetime(df_Init['BeginDat'], format=\"%d-%m-%Y\")).dt.days\n",
    "df_Init['durationCOX'] = df_Init.apply(\n",
    "    lambda row: row['TTC'] if np.isnan(row['remission']) else row['remission'],\n",
    "    axis=1\n",
    ")\n",
    "#df_Init = df_Init.drop(['remission'], axis=1)\n",
    "df_Init['drug1'].value_counts()"
   ]
  },
  {
   "cell_type": "markdown",
   "metadata": {},
   "source": [
    "### 2.4 Baseline Characteristics - Initial Therapy"
   ]
  },
  {
   "cell_type": "code",
   "execution_count": 106,
   "metadata": {},
   "outputs": [
    {
     "data": {
      "text/plain": [
       "Text(0, 0.5, 'Nr of patients')"
      ]
     },
     "execution_count": 106,
     "metadata": {},
     "output_type": "execute_result"
    },
    {
     "data": {
      "image/png": "[encoded data removed]",
      "text/plain": [
       "<Figure size 432x288 with 1 Axes>"
      ]
     },
     "metadata": {},
     "output_type": "display_data"
    }
   ],
   "source": [
    "df_Init[((df_Init['aCCP']==1))]['remission'].hist(bins=15)\n",
    "df_Init[((df_Init['aCCP']==0))]['remission'].hist(bins=15)# .show()\n",
    "plt.title('Time to achieve remission for ACPA subgroups')\n",
    "plt.legend(['ACPA+', 'ACPA-'], loc='upper right')\n",
    "plt.xlabel('Time to achieve remission')\n",
    "plt.ylabel('Nr of patients')"
   ]
  },
  {
   "cell_type": "code",
   "execution_count": 47,
   "metadata": {},
   "outputs": [
    {
     "data": {
      "text/plain": [
       "0.0    58\n",
       "1.0    15\n",
       "Name: RFC, dtype: int64"
      ]
     },
     "execution_count": 47,
     "metadata": {},
     "output_type": "execute_result"
    }
   ],
   "source": [
    "df_proc[((df_proc['aCCP']==0))]['RFC'].value_counts()"
   ]
  },
  {
   "cell_type": "code",
   "execution_count": 9,
   "metadata": {},
   "outputs": [
    {
     "name": "stdout",
     "output_type": "stream",
     "text": [
      "N of DAS44:  190\n",
      "Max DAS44:  89.0\n",
      "Min DAS44:  21.0\n",
      "Median DAS44:  59.0\n"
     ]
    }
   ],
   "source": [
    "feature = 'aCCP'\n",
    "present = 1\n",
    "l_das1 = list(df_proc[(df_proc[feature]==present)]['incl'])\n",
    "#print(len(l_nonan))\n",
    "l_das1 = [x for x in l_das1 if x == x]\n",
    "print('N of DAS44: ', len(l_das1))\n",
    "print('Max DAS44: ', max(l_das1))\n",
    "print('Min DAS44: ', min(l_das1))\n",
    "print('Median DAS44: ', df_proc[(df_proc[feature]==present)]['incl'].median())"
   ]
  },
  {
   "cell_type": "code",
   "execution_count": 184,
   "metadata": {},
   "outputs": [],
   "source": [
    "#df_Init"
   ]
  },
  {
   "cell_type": "code",
   "execution_count": 176,
   "metadata": {},
   "outputs": [
    {
     "name": "stdout",
     "output_type": "stream",
     "text": [
      "326\n"
     ]
    }
   ],
   "source": [
    "#print(len(df_Init[~(df_Init['durationCOX'].isna())]))\n",
    "print(len(df_Init[~(df_Init['durationCOX'].isna())]))"
   ]
  },
  {
   "cell_type": "code",
   "execution_count": 107,
   "metadata": {},
   "outputs": [
    {
     "name": "stdout",
     "output_type": "stream",
     "text": [
      "aCCP 0\n",
      "N methotrexaat = 96\n",
      "DAS44 (start): 3.3 (1.1-6.3) \n",
      "DAS44 N: 43\n",
      "Age at Inclusion: 65.0 (23.0-86.0) \n",
      "MTTC: 736.5 (21-2058) \n",
      "MTTC N: 96\n",
      "TTR : 266.0 (21.0-1666.0) \n",
      "TTR N: 60\n",
      "prop. sex = 0:34 1:62\t\tperc. 1: 0.6458333333333334\tn:96\n",
      "prop. RFC = 0:43 1:12\t\tperc. 1: 0.21818181818181817\tn:55\n",
      "prop. status = 0:36 1:60\t\tperc. 1: 0.625\tn:96\n",
      "prop. smoking = 0: 12 1: 6\t\tperc. 1: 0.3333333333333333\tn:18\n",
      "\n",
      "N hydroxychloroquine = 13\n",
      "DAS44 (start): 2.8 (2.5-3.8) \n",
      "DAS44 N: 4\n",
      "Age at Inclusion: 73.0 (48.0-88.0) \n",
      "MTTC: 543.0 (13-1790) \n",
      "MTTC N: 13\n",
      "TTR : 148.0 (14.0-321.0) \n",
      "TTR N: 8\n",
      "prop. sex = 0:3 1:10\t\tperc. 1: 0.7692307692307693\tn:13\n",
      "prop. RFC = 0:6 1:2\t\tperc. 1: 0.25\tn:8\n",
      "prop. status = 0:5 1:8\t\tperc. 1: 0.6153846153846154\tn:13\n",
      "prop. smoking = 0: 1 1: 1\t\tperc. 1: 0.5\tn:2\n",
      "\n",
      "N sulfasalazine = 6\n",
      "DAS44 (start): 2.5 (2.5-2.5) \n",
      "DAS44 N: 1\n",
      "Age at Inclusion: 67.5 (21.0-73.0) \n",
      "MTTC: 308.5 (18-1663) \n",
      "MTTC N: 6\n",
      "TTR : 215.0 (83.0-1043.0) \n",
      "TTR N: 5\n",
      "prop. sex = 0:1 1:5\t\tperc. 1: 0.8333333333333334\tn:6\n",
      "prop. RFC = {0.0: 4}\t\tperc. 0: 1.0\tn:4\n",
      "prop. status = 0:1 1:5\t\tperc. 1: 0.8333333333333334\tn:6\n",
      "prop. smoking = 0: 0 1: 1\t\tperc. 1: 1.0\tn:1\n",
      "\n",
      "aCCP 1\n",
      "N methotrexaat = 142\n",
      "DAS44 (start): 2.95 (1.3-5.1) \n",
      "DAS44 N: 64\n",
      "Age at Inclusion: 60.0 (21.0-89.0) \n",
      "MTTC: 1011.5 (21-2272) \n",
      "MTTC N: 142\n",
      "TTR : 322.0 (35.0-1530.0) \n",
      "TTR N: 101\n",
      "prop. sex = 0:48 1:94\t\tperc. 1: 0.6619718309859155\tn:142\n",
      "prop. RFC = 0:7 1:90\t\tperc. 1: 0.9278350515463918\tn:97\n",
      "prop. status = 0:41 1:101\t\tperc. 1: 0.7112676056338029\tn:142\n",
      "prop. smoking = 0: 13 1: 22\t\tperc. 1: 0.6285714285714286\tn:35\n",
      "\n",
      "N hydroxychloroquine = 7\n",
      "DAS44 (start): 2.95 (2.7-3.2) \n",
      "DAS44 N: 2\n",
      "Age at Inclusion: 57.0 (28.0-78.0) \n",
      "MTTC: 786.0 (272-1722) \n",
      "MTTC N: 7\n",
      "TTR : 686.0 (247.0-757.0) \n",
      "TTR N: 3\n",
      "prop. sex = 0:2 1:5\t\tperc. 1: 0.7142857142857143\tn:7\n",
      "prop. RFC = {1.0: 1}\t\tperc. 1: 1.0\tn:1\n",
      "prop. status = 0:4 1:3\t\tperc. 1: 0.42857142857142855\tn:7\n",
      "prop. smoking = 0: 1 1: 0\t\tperc. 1: 0.0\tn:1\n",
      "\n",
      "N sulfasalazine = 17\n",
      "DAS44 (start): 2.75 (1.9-3.6) \n",
      "DAS44 N: 12\n",
      "Age at Inclusion: 37.0 (24.0-69.0) \n",
      "MTTC: 567.0 (14-2288) \n",
      "MTTC N: 17\n",
      "TTR : 392.0 (0.0-1709.0) \n",
      "TTR N: 9\n",
      "prop. sex = {1.0: 17}\t\tperc. 1: 1.0\tn:17\n",
      "prop. RFC = 0:1 1:9\t\tperc. 1: 0.9\tn:10\n",
      "prop. status = 0:8 1:9\t\tperc. 1: 0.5294117647058824\tn:17\n",
      "prop. smoking = 0: 1 1: 3\t\tperc. 1: 0.75\tn:4\n",
      "\n"
     ]
    }
   ],
   "source": [
    "\n",
    "def baselineCharTreatment(feat, df_Init):\n",
    "    drugs = ['methotrexaat', 'hydroxychloroquine', 'sulfasalazine']\n",
    "    characteristics = ['sex', 'RFC', 'status' , 'smoking'] \n",
    "    for feat_present in range(0,2):\n",
    "        print(feat, feat_present)\n",
    "        for d in drugs:\n",
    "            #print(d)\n",
    "            df = df_Init[((df_Init[feat]==feat_present) & (df_Init['drug1']==d))]\n",
    "            print('N ' + str(d) + ' = ' + str(len(df)))\n",
    "            print('DAS44 (start): ' + str(df['BeginDAS44'].median()) + ' (' + str(df['BeginDAS44'].min()) + '-' + str(df['BeginDAS44'].max()) + ') ')\n",
    "            print('DAS44 N: ' + str(len([x for x in list(df['BeginDAS44']) if x == x])) )\n",
    "            print('Age at Inclusion: ' + str(df['incl'].median()) + ' (' + str(df['incl'].min()) + '-' + str(df['incl'].max()) + ') ')\n",
    "            print('MTTC: ' + str(df['TTC'].median()) + ' (' + str(df['TTC'].min()) + '-' + str(df['TTC'].max()) + ') ')\n",
    "            print('MTTC N: ' + str(len([x for x in list(df['TTC']) if x == x])))\n",
    "            print('TTR : ' + str(df[df['status']==1]['remission'].median()) + ' (' + str(df[df['status']==1]['remission'].min()) + '-' + str(df[df['status']==1]['remission'].max()) + ') ')\n",
    "            print('TTR N: ' + str(len(list(df[df['status']==1]['remission']))))\n",
    "            for char in characteristics:\n",
    "                if char == 'smoking': \n",
    "                    print('prop. smoking = 0: ' + str(len(df[df[char]==1])) + ' 1: ' + \n",
    "                          str(len(df[df[char].isin(list(range(2,8)))])) + '\\t\\tperc. 1: ' + \n",
    "                         str(len(df[df[char].isin(list(range(2,8)))])/len(df[(df[char].isin(list(range(1,8))))])) + '\\tn:' +\n",
    "                         str(len(df[(df[char].isin(list(range(1,8))))])))\n",
    "                else: \n",
    "                    try :\n",
    "                        print('prop. ' + char + ' = 0:' + str(dict(df[char].value_counts())[0]) + \n",
    "                              ' 1:'+ str(dict(df[char].value_counts())[1]) + '\\t\\tperc. 1: ' + \n",
    "                                str(dict(df[char].value_counts())[1]/len(df[(~df[char].isna())]))+\n",
    "                                '\\tn:' + str(len(df[(~df[char].isna())])))\n",
    "                        #print()\n",
    "                    except: \n",
    "                        if 1 in list(df[char].value_counts().keys()):\n",
    "                            print('prop. ' + char + ' = ' + str(dict(df[char].value_counts()))+ '\\t\\tperc. 1: ' + \n",
    "                                    str(dict(df[char].value_counts())[1]/len(df[(~df[char].isna())])) + \n",
    "                                    '\\tn:' + str(len(df[(~df[char].isna())])))\n",
    "                        else :\n",
    "                            print('prop. ' + char + ' = ' + str(dict(df[char].value_counts()))+ '\\t\\tperc. 0: ' + \n",
    "                                    str(dict(df[char].value_counts())[0]/len(df[(~df[char].isna())])) + \n",
    "                                    '\\tn:' + str(len(df[(~df[char].isna())]))) \n",
    "                #l_size1 = list(df[char].value_counts().values)\n",
    "                \n",
    "                \n",
    "            print()\n",
    "baselineCharTreatment('aCCP', df_Init)\n"
   ]
  },
  {
   "cell_type": "markdown",
   "metadata": {},
   "source": [
    "### 2.5 Fisher exact test - Within ACPA+ differences between HCQ & MTX"
   ]
  },
  {
   "cell_type": "code",
   "execution_count": 244,
   "metadata": {},
   "outputs": [
    {
     "name": "stdout",
     "output_type": "stream",
     "text": [
      "\tInitial Response ACPA+: \n",
      "methotrexaat :\t\t [41, 101] \t [0.0, 1.0]\n",
      "methotrexaat :\t [36, 60] \t [0.0, 1.0]\n",
      "\n",
      "Fisher exact (p): 0.20358967235504666\n"
     ]
    }
   ],
   "source": [
    "\n",
    "feat = 'aCCP'\n",
    "feat_present = 1\n",
    "drug = ['hydroxychloroquine','methotrexaat', 'sulfasalazine'][1]\n",
    "drug2 = ['hydroxychloroquine','methotrexaat', 'sulfasalazine'][1]\n",
    "test = 'f'\n",
    "l_size1 = list(df_Init[((df_Init[feat]==1) & (df_Init['drug1']==drug))]['status'].value_counts().sort_index().values)\n",
    "l_label1 = list(df_Init[((df_Init[feat]==1) & (df_Init['drug1']==drug))]['status'].value_counts().sort_index().keys())\n",
    "l_size2 = list(df_Init[((df_Init[feat]==0) & (df_Init['drug1']==drug2))]['status'].value_counts().sort_index().values)\n",
    "l_label2 = list(df_Init[((df_Init[feat]==0) & (df_Init['drug1']==drug2))]['status'].value_counts().sort_index().keys())\n",
    "\n",
    "obs = np.array([l_size1, l_size2])\n",
    "if test == 'f':\n",
    "    oddsratio, p = stats.fisher_exact(obs)\n",
    "else :\n",
    "    chi2, p, dof, ex = stats.chi2_contingency(obs, correction=True)#u\n",
    "\n",
    "print('\\tInitial Response ACPA+: ')\n",
    "print(drug + ' :\\t\\t', l_size1,'\\t', l_label1)\n",
    "print(drug2 + ' :\\t', l_size2,'\\t', l_label2) \n",
    "print()\n",
    "print('Fisher exact (p):', p)"
   ]
  },
  {
   "cell_type": "markdown",
   "metadata": {},
   "source": [
    "### COX regression - HCQ & "
   ]
  },
  {
   "cell_type": "code",
   "execution_count": 16,
   "metadata": {},
   "outputs": [
    {
     "name": "stdout",
     "output_type": "stream",
     "text": [
      "101 94\n",
      "<lifelines.StatisticalResult>\n",
      "               t_0 = -1\n",
      " null_distribution = chi squared\n",
      "degrees_of_freedom = 1\n",
      "\n",
      "---\n",
      "test_statistic    p  -log2(p)\n",
      "          0.07 0.80      0.33\n"
     ]
    }
   ],
   "source": [
    "from lifelines import KaplanMeierFitter\n",
    "from lifelines.statistics import logrank_test\n",
    "feat = 'age'\n",
    "d_list = ['hydroxychloroquine','methotrexaat', 'sulfasalazine']\n",
    "\n",
    "df_group1 = df_Init[((df_Init[feat]==3))][['durationCOX', 'drug1', 'yob', 'age', 'incl', 'status', 'sex', 'aCCP']]\n",
    "df_group1 = df_group1.dropna()\n",
    "df_group2 = df_Init[((df_Init[feat]==2))][['durationCOX', 'drug1', 'yob', 'age', 'incl', 'status', 'sex', 'aCCP']]\n",
    "df_group2 = df_group2.dropna()\n",
    "df_group3 = df_Init[((df_Init[feat]==1))][['durationCOX', 'drug1', 'yob', 'age', 'incl', 'status', 'sex', 'aCCP']]\n",
    "df_group3 = df_group3.dropna()\n",
    "\n",
    "print(len(df_group2), len(df_group3))\n",
    "\n",
    "kmf = KaplanMeierFitter()\n",
    "\n",
    "kmf.fit(df_group3['durationCOX'], df_group3['status'], label='Age1' + ' n=' + str(len(df_group3)))\n",
    "ax = kmf.plot()\n",
    "\n",
    "kmf.fit(df_group2['durationCOX'], df_group2['status'], label='Age2'+ ' n=' + str(len(df_group2)))\n",
    "ax = kmf.plot(ax=ax)\n",
    "ax.set_title('Kaplan Meier plot of the treatment duration til remission for ' + feat )\n",
    "\n",
    "ax.set_ylabel('Prop. patients not in remission')\n",
    "\n",
    "kmf.fit(df_group1['durationCOX'], df_group1['status'], label='Age3' + ' n=' + str(len(df_group1)))\n",
    "ax = kmf.plot(ax=ax)\n",
    "#print(kmf.subtract(kmf2))\n",
    "ax.set_xlabel('Time in days')\n",
    "\n",
    "\n",
    "results = logrank_test(df_group2['aCCP'], df_group3['aCCP'], event_observed_A=df_group2['status'], event_observed_B=df_group3['status'])\n",
    "results.print_summary()\n"
   ]
  },
  {
   "cell_type": "code",
   "execution_count": 139,
   "metadata": {},
   "outputs": [
    {
     "name": "stdout",
     "output_type": "stream",
     "text": [
      "0.04914372052095619\n"
     ]
    },
    {
     "name": "stderr",
     "output_type": "stream",
     "text": [
      "G:\\newAnacondaG\\modules\\lib\\site-packages\\ipykernel_launcher.py:3: FutureWarning: elementwise comparison failed; returning scalar instead, but in the future will perform elementwise comparison\n",
      "  This is separate from the ipykernel package so we can avoid doing imports until\n"
     ]
    }
   ],
   "source": [
    "#table\n",
    "obs = np.array(table)\n",
    "if test == 'f':\n",
    "    oddsratio, p = stats.fisher_exact(obs)\n",
    "print(p)"
   ]
  },
  {
   "cell_type": "markdown",
   "metadata": {},
   "source": [
    "### Create a proportion table"
   ]
  },
  {
   "cell_type": "code",
   "execution_count": 17,
   "metadata": {},
   "outputs": [
    {
     "ename": "NameError",
     "evalue": "name 'd_color' is not defined",
     "output_type": "error",
     "traceback": [
      "\u001b[1;31m---------------------------------------------------------------------------\u001b[0m",
      "\u001b[1;31mNameError\u001b[0m                                 Traceback (most recent call last)",
      "\u001b[1;32m<ipython-input-17-9ab539a7cac7>\u001b[0m in \u001b[0;36m<module>\u001b[1;34m()\u001b[0m\n\u001b[0;32m      4\u001b[0m \u001b[0mcolors\u001b[0m \u001b[1;33m=\u001b[0m \u001b[1;33m[\u001b[0m\u001b[1;33m]\u001b[0m\u001b[1;33m\u001b[0m\u001b[0m\n\u001b[0;32m      5\u001b[0m \u001b[1;32mfor\u001b[0m \u001b[0mdrug\u001b[0m \u001b[1;32min\u001b[0m \u001b[0mtable\u001b[0m\u001b[1;33m.\u001b[0m\u001b[0mkeys\u001b[0m\u001b[1;33m(\u001b[0m\u001b[1;33m)\u001b[0m\u001b[1;33m.\u001b[0m\u001b[0mtolist\u001b[0m\u001b[1;33m(\u001b[0m\u001b[1;33m)\u001b[0m\u001b[1;33m:\u001b[0m\u001b[1;33m\u001b[0m\u001b[0m\n\u001b[1;32m----> 6\u001b[1;33m     \u001b[0mcolors\u001b[0m\u001b[1;33m.\u001b[0m\u001b[0mappend\u001b[0m\u001b[1;33m(\u001b[0m\u001b[0md_color\u001b[0m\u001b[1;33m[\u001b[0m\u001b[0mdrug\u001b[0m\u001b[1;33m]\u001b[0m\u001b[1;33m)\u001b[0m\u001b[1;33m\u001b[0m\u001b[0m\n\u001b[0m\u001b[0;32m      7\u001b[0m \u001b[1;33m\u001b[0m\u001b[0m\n\u001b[0;32m      8\u001b[0m \u001b[0max\u001b[0m \u001b[1;33m=\u001b[0m \u001b[0mtable\u001b[0m\u001b[1;33m.\u001b[0m\u001b[0mdiv\u001b[0m\u001b[1;33m(\u001b[0m\u001b[0mtable\u001b[0m\u001b[1;33m.\u001b[0m\u001b[0msum\u001b[0m\u001b[1;33m(\u001b[0m\u001b[1;36m1\u001b[0m\u001b[1;33m)\u001b[0m\u001b[1;33m.\u001b[0m\u001b[0mastype\u001b[0m\u001b[1;33m(\u001b[0m\u001b[0mfloat\u001b[0m\u001b[1;33m)\u001b[0m\u001b[1;33m,\u001b[0m \u001b[0maxis\u001b[0m\u001b[1;33m=\u001b[0m\u001b[1;36m0\u001b[0m\u001b[1;33m)\u001b[0m\u001b[1;33m.\u001b[0m\u001b[0mplot\u001b[0m\u001b[1;33m(\u001b[0m\u001b[0mkind\u001b[0m\u001b[1;33m=\u001b[0m\u001b[1;34m'bar'\u001b[0m\u001b[1;33m,\u001b[0m \u001b[0mstacked\u001b[0m\u001b[1;33m=\u001b[0m\u001b[1;32mTrue\u001b[0m\u001b[1;33m,\u001b[0m\u001b[0mfigsize\u001b[0m\u001b[1;33m=\u001b[0m\u001b[1;33m(\u001b[0m\u001b[1;36m8\u001b[0m\u001b[1;33m,\u001b[0m\u001b[1;36m6\u001b[0m\u001b[1;33m)\u001b[0m\u001b[1;33m,\u001b[0m \u001b[0mfontsize\u001b[0m\u001b[1;33m=\u001b[0m \u001b[1;36m12\u001b[0m\u001b[1;33m,\u001b[0m \u001b[0mcolor\u001b[0m\u001b[1;33m=\u001b[0m\u001b[0mcolors\u001b[0m\u001b[1;33m)\u001b[0m\u001b[1;33m\u001b[0m\u001b[0m\n",
      "\u001b[1;31mNameError\u001b[0m: name 'd_color' is not defined"
     ]
    }
   ],
   "source": [
    "feat = 'aCCP'\n",
    "table=pd.crosstab(df_Init[feat], df_Init['drug1'])\n",
    "\n",
    "colors = []\n",
    "for drug in table.keys().tolist():\n",
    "    colors.append(d_color[drug])\n",
    "\n",
    "ax = table.div(table.sum(1).astype(float), axis=0).plot(kind='bar', stacked=True,figsize=(8,6), fontsize= 12, color=colors)\n",
    "totals = {}\n",
    "\n",
    "labels = [item.get_text() for item in ax.get_xticklabels()]\n",
    "count = 0\n",
    "for x in labels:\n",
    "    labels[count] = str(x) + ' \\n(n = ' + \\\n",
    "        str(len(df_Init[((df_Init['aCCP']==float(x)))])) + ')' \n",
    "    count += 1\n",
    "\n",
    "for i in ax.patches:\n",
    "    if i.get_height() > 0.02:\n",
    "        ax.text(i.get_x()+i.get_width()/10, i.get_y()+i.get_height()/2, \\\n",
    "                str(round(i.get_height()*100, 2))+'%', fontsize=16,\n",
    "                    color='black' ) # bbox=dict(facecolor='green', edgecolor='red')\n",
    "ax.set_xticklabels(labels, rotation=0)\n",
    "ax.legend(title='Drug', fontsize= 10, loc='upper center', bbox_to_anchor=(0.5, -0.15), shadow=True, ncol=2)\n",
    "ax.set_title('Prescribed Initial treatment per ' + feat, fontsize= 16)\n",
    "ax.set_xlabel(feat, fontsize= 12)\n",
    "ax.set_ylabel('Prop. remission', fontsize= 12)\n",
    "plt.figure(figsize=(10,4))\n",
    "\n",
    "obs = np.array(table)\n",
    "test = 'c'\n",
    "if test == 'f':\n",
    "    oddsratio, p = stats.fisher_exact(obs)\n",
    "else :\n",
    "    chi2, p, dof, ex = stats.chi2_contingency(obs, correction=True)\n",
    "print(p)"
   ]
  },
  {
   "cell_type": "code",
   "execution_count": 234,
   "metadata": {},
   "outputs": [
    {
     "data": {
      "text/plain": [
       "LinearRegression(copy_X=True, fit_intercept=True, n_jobs=1, normalize=False)"
      ]
     },
     "execution_count": 234,
     "metadata": {},
     "output_type": "execute_result"
    }
   ],
   "source": [
    "from sklearn import linear_model\n",
    "reg = linear_model.LinearRegression()\n",
    "med = ['methotrexaat', 'adalimumab', 'rituximab', 'sulfasalazine',\n",
    "       'leflunomide', 'etanercept', 'hydroxychloroquine', 'tocilizumab',\n",
    "       'infliximab', 'certolizumab', 'azathioprine', 'goud']\n",
    "reg.fit(df_Init[df_Init['aCCP']==1][med][:125], df_Init[df_Init['aCCP']==0][med])"
   ]
  },
  {
   "cell_type": "code",
   "execution_count": 238,
   "metadata": {},
   "outputs": [
    {
     "data": {
      "text/plain": [
       "0.03794849472369319"
      ]
     },
     "execution_count": 238,
     "metadata": {},
     "output_type": "execute_result"
    }
   ],
   "source": [
    "reg.score(df_Init[df_Init['aCCP']==1][med][:125], df_Init[df_Init['aCCP']==0][med])"
   ]
  },
  {
   "cell_type": "code",
   "execution_count": 160,
   "metadata": {},
   "outputs": [],
   "source": [
    "#print(df_Init['drug1'])\n",
    "df_Init.drug1 = pd.Categorical(df_Init.drug1)\n",
    "l_drugs = list(df_Init.drug1.cat.categories)\n",
    "df_Init['drugCode'] = df_Init.drug1.cat.codes "
   ]
  },
  {
   "cell_type": "code",
   "execution_count": 315,
   "metadata": {},
   "outputs": [
    {
     "name": "stdout",
     "output_type": "stream",
     "text": [
      "5\n",
      "106\n",
      "17\n",
      "201\n"
     ]
    }
   ],
   "source": [
    "print(len(df_Init[((df_Init['drug1']=='hydroxychloroquine') & (df_Init['sex']==0.0))]))\n",
    "print(len(df_Init[(df_Init['sex']==0.0)])-5)\n",
    "print(len(df_Init[((df_Init['drug1']=='hydroxychloroquine') & (df_Init['sex']==1.0))]))\n",
    "print(len(df_Init[((df_Init['sex']==1.0))])-17)"
   ]
  },
  {
   "cell_type": "code",
   "execution_count": 317,
   "metadata": {},
   "outputs": [
    {
     "name": "stdout",
     "output_type": "stream",
     "text": [
      "0.35177940931161167\n"
     ]
    }
   ],
   "source": [
    "obs = np.array([[5, 106], [17, 201]])\n",
    "test = 'f'\n",
    "if test == 'f':\n",
    "    oddsratio, p = stats.fisher_exact(obs)\n",
    "else :\n",
    "    chi2, p, dof, ex = stats.chi2_contingency(obs, correction=True)\n",
    "print(p)"
   ]
  },
  {
   "cell_type": "markdown",
   "metadata": {},
   "source": [
    "### Classify rare drugs as Other"
   ]
  },
  {
   "cell_type": "code",
   "execution_count": 227,
   "metadata": {},
   "outputs": [],
   "source": [
    "feat = 'drug1'\n",
    "threshold = 10        \n",
    "#include = [k for k,v in dict(df_Init[feat].value_counts()).items() if v >= threshold]\n",
    "others = [k for k,v in dict(df_Init[feat].value_counts()).items() if v < threshold]\n",
    "df_Init[feat] = df_Init[feat].replace(others, 'Other')"
   ]
  },
  {
   "cell_type": "code",
   "execution_count": 228,
   "metadata": {},
   "outputs": [],
   "source": [
    "from acronyms import MEDICINE\n",
    "d_color = {'Other': 'gold'}\n",
    "count = 0\n",
    "palette = ['yellowgreen', 'gold', 'lightskyblue', 'lightcoral', 'red', 'blue', 'yellow', 'green', 'silver', 'pink', 'sienna', 'aqua', 'cyan', 'magenta', 'navy', 'maroon', 'teal', 'orange', 'brown']# viridis(18)\n",
    "for drug in MEDICINE:\n",
    "    if drug not in ['prednison', 'prednisolon', 'depomedrol']: \n",
    "        d_color[drug] = palette[count]\n",
    "        count+=1\n"
   ]
  },
  {
   "cell_type": "code",
   "execution_count": 311,
   "metadata": {},
   "outputs": [
    {
     "name": "stdout",
     "output_type": "stream",
     "text": [
      "status  0.0  1.0\n",
      "sex             \n",
      "0.0      25   64\n",
      "1.0      58  107\n",
      "[[25, 64], [58, 107]]\n",
      "Diff in MTX response by sex : 0.26567679053611115\n",
      "status  0.0  1.0\n",
      "sex             \n",
      "0.0       1    4\n",
      "1.0       9    8\n",
      "[[1, 4], [9, 8]]\n",
      "Diff in HCQ response by sex : 0.3233082706766917\n",
      "status  0.0  1.0\n",
      "sex             \n",
      "0.0       2    2\n",
      "1.0       9   14\n",
      "[[2, 2], [9, 14]]\n",
      "Diff in SSZ response by sex : 1.0\n",
      "111\n",
      "218\n"
     ]
    },
    {
     "data": {
      "image/png": "[encoded data removed]",
      "text/plain": [
       "<Figure size 360x432 with 1 Axes>"
      ]
     },
     "metadata": {},
     "output_type": "display_data"
    },
    {
     "data": {
      "image/png": "[encoded data removed]",
      "text/plain": [
       "<Figure size 360x432 with 1 Axes>"
      ]
     },
     "metadata": {},
     "output_type": "display_data"
    },
    {
     "data": {
      "image/png": "[encoded data removed]",
      "text/plain": [
       "<Figure size 360x432 with 1 Axes>"
      ]
     },
     "metadata": {},
     "output_type": "display_data"
    },
    {
     "data": {
      "image/png": "[encoded data removed]",
      "text/plain": [
       "<Figure size 432x288 with 1 Axes>"
      ]
     },
     "metadata": {},
     "output_type": "display_data"
    },
    {
     "data": {
      "image/png": "[encoded data removed]",
      "text/plain": [
       "<Figure size 432x288 with 1 Axes>"
      ]
     },
     "metadata": {},
     "output_type": "display_data"
    }
   ],
   "source": [
    "import matplotlib.pyplot as plt\n",
    "import matplotlib.gridspec as gridspec\n",
    "#fig = plt.figure(figsize=(10,4))\n",
    "\n",
    "\n",
    "\n",
    "def makeStackedBar(state, subset, feat, present, desc):\n",
    "    lbls = ['Men', 'Women']\n",
    "    drug_list = ['methotrexaat', 'sulfasalazine', 'hydroxychloroquine']\n",
    "    d_convert = {'hydroxychloroquine': 'HCQ', 'methotrexaat' : 'MTX', 'sulfasalazine' : 'SSZ'}\n",
    "    colors = ['indianred', 'yellowgreen','yellowgreen', 'gold', 'lightskyblue',  'red', 'blue', 'yellow', 'green']\n",
    "    table=pd.crosstab(df_Init[((df_Init[subset]==present))][feat],df_Init[((df_Init[subset]==present))][state])\n",
    "    print(table)\n",
    "    ax = table.div(table.sum(1).astype(float), axis=0).plot(kind='bar', width=0.9, stacked=True,figsize=(5,6), color=colors, fontsize= 12)\n",
    "\n",
    "    totals = {}\n",
    "\n",
    "    labels = [item.get_text() for item in ax.get_xticklabels()]\n",
    "    count = 0\n",
    "    for x in labels:\n",
    "        #print(x, len(df_Init[(df_Init[feat]==x)]))\n",
    "        labels[count] = str(x) + ' \\n(n = ' + \\\n",
    "            str(len(df_Init[((df_Init[subset]==present) & (df_Init[feat]==int(float(x))))])) + ')' \n",
    "        count += 1\n",
    "    grp1 = df_Init[((df_Init[subset]==present) & (df_Init[feat] == 0))]['status'].value_counts().sort_index().values\n",
    "    grp2 = df_Init[((df_Init[subset]==present) & (df_Init[feat] == 1))]['status'].value_counts().sort_index().values\n",
    "\n",
    "    \n",
    "    obs= [list(grp1), list(grp2)]\n",
    "    print(obs)\n",
    "    oddsratio, p = stats.fisher_exact(obs)\n",
    "    print('Diff in ' + d_convert[present] + ' response by ' + feat + ' :' , p)\n",
    "\n",
    "    for i in ax.patches:\n",
    "        ax.text(i.get_x()+i.get_width()/10, i.get_y()+i.get_height()/2, \\\n",
    "                str(round(i.get_height()*100, 2))+'%', fontsize=16,\n",
    "                    color='white')\n",
    "    ax.set_xticklabels(labels, rotation=0)\n",
    "    ax.legend(bbox_to_anchor=(1.10, -0.2, 0.2, 1.7), fontsize=12)\n",
    "    L=ax.legend(bbox_to_anchor=(1.10, -1.4, 0.4, 1.7), fontsize=12)\n",
    "    L.get_texts()[0].set_text('No remission')\n",
    "    L.get_texts()[1].set_text('Remission')\n",
    "    #ax.get_legend().remove()\n",
    "    ax.set_title('Remission rate of initial treatment ' + desc, fontsize= 16)\n",
    "    ax.set_xlabel('\\n'+ desc, fontsize= 16)\n",
    "    ax.set_ylim(0, 1.5)\n",
    "    ax.set_ylabel('Prop. remission', fontsize= 12)\n",
    "    return ax\n",
    "\n",
    "def makeCirclePlot(state, subset, present, desc):\n",
    "    colors = []\n",
    "    group_size=list(df_Init[(df_Init[subset]==present)]['drug1'].value_counts().values)\n",
    "    labels=list(df_Init[(df_Init[subset]==present)]['drug1'].value_counts().keys())\n",
    "    d_short = {'methotrexaat': 'MTX', 'hydroxychloroquine': 'HCQ', 'sulfasalazine': 'SSZ', 'Other' : 'Other'}\n",
    "    for drug in labels:\n",
    "        colors.append(d_color[drug])\n",
    "    labels= list(map(d_short.get, labels))\n",
    "    \n",
    "    \n",
    "    #colors = ['yellowgreen', 'gold', 'lightskyblue', 'lightcoral']\n",
    "    fig, ax = plt.subplots()\n",
    "    ax.axis('equal')\n",
    "\n",
    "    pie1 = ax.pie(group_size, radius=2,  rotatelabels = 90, startangle=180,counterclock=False, autopct='%1.1f%%', textprops={'fontsize': 15 , 'color': 'white', 'weight':'bold'})\n",
    "    pie2 = ax.pie(group_size, radius=2,  colors=colors, labeldistance=1, labels=labels, rotatelabels = 90,\n",
    "    startangle=180,counterclock=False, textprops={'fontsize': 15})\n",
    "\n",
    "    #plt.title('Occurences of treatment')\n",
    "    plt.suptitle('Most occuring initial treatment options in ' + desc + '(n='+ str(len(df_Init[(df_Init[subset]==present)])) + ')', size=20, y=1.60, x=.70)\n",
    "    plt.legend(bbox_to_anchor=(1.10, -0.2, 0.2, 1.7), fontsize=12)\n",
    "    return plt\n",
    "\n",
    "#plt.subplots(2, 2, sharex='col')\n",
    "state = 'status'\n",
    "subset = 'drug1'\n",
    "feat = 'sex'\n",
    "#grid = plt.GridSpec(2, 3, wspace=0.4, hspace=0.3)\n",
    "\n",
    "\n",
    "makeStackedBar(state, subset, feat, 'methotrexaat', 'MTX')\n",
    "makeStackedBar(state, subset, feat, 'hydroxychloroquine', 'HCQ')\n",
    "makeStackedBar(state, subset, feat, 'sulfasalazine', 'SSZ')\n",
    "subset = 'sex'\n",
    "\n",
    "makeCirclePlot(state, subset, 0, 'Men')\n",
    "\n",
    "print(len(df_Init[(df_Init[subset]==0)]))\n",
    "print(len(df_Init[(df_Init[subset]==1)]))\n",
    "\n",
    "makeCirclePlot(state, subset, 1, 'Women')\n",
    "\n",
    "#plt.subplot(2, 1, 2)\n",
    "#makeStackedBar(state, subset, 1, 'Women')\n",
    "\n",
    "\n",
    "\n",
    "#obs = np.array(table)\n",
    "test = 'c'\n",
    "if test == 'f':\n",
    "    oddsratio, p = stats.fisher_exact(obs)\n",
    "else :\n",
    "    chi2, p, dof, ex = stats.chi2_contingency(obs, correction=True)\n",
    "#print(p)\n",
    "#print(oddsratio)\n",
    "#plt.Annotation('lala')\n",
    "\n",
    "#plt.savefig('figures/ ' + feat + 'ProportionsInitialTreatment.png')"
   ]
  },
  {
   "cell_type": "code",
   "execution_count": 122,
   "metadata": {},
   "outputs": [
    {
     "name": "stdout",
     "output_type": "stream",
     "text": [
      "254\n",
      "254\n"
     ]
    }
   ],
   "source": [
    "print(len(df_set))\n",
    "print(len(df_set[df_set['remission']>-1]) + len(df_set[df_set['remission'].isna()]))"
   ]
  },
  {
   "cell_type": "code",
   "execution_count": 237,
   "metadata": {},
   "outputs": [
    {
     "name": "stdout",
     "output_type": "stream",
     "text": [
      "[10 25] Float64Index([0.0, 1.0], dtype='float64')\n",
      "[10 24]\n",
      "[16 23]\n"
     ]
    },
    {
     "data": {
      "image/png": "[encoded data removed]",
      "text/plain": [
       "<Figure size 432x288 with 1 Axes>"
      ]
     },
     "metadata": {},
     "output_type": "display_data"
    }
   ],
   "source": [
    "import seaborn as sns\n",
    "#sns.set(style=\"whitegrid\")\n",
    "#tips = sns.load_dataset(\"tips\")\n",
    "#ax = sns.violinplot(x=tips[\"total_bill\"])\n",
    "subset = ['age', 'aCCP'][0]\n",
    "feat = 'sex'\n",
    "continuous = 'remission'\n",
    "present= 0\n",
    "df_set = df_Init[((df_Init['drug1'].isin(['methotrexaat'])))].copy()\n",
    "# df_set['drug1'] = df_set['drug1'].cat.remove_unused_categories()\n",
    "df_set =df_set[~df_set[continuous].isna()]\n",
    "ax = sns.violinplot(x=feat, y=continuous, hue=subset, data=df_set, height=2, aspect=.7, bw=.3).set(ylim=(0))\n",
    "#plt.Axes.set_xticklabels(self, labels=['a','b','c', 'd', 'e', 'f', 'g'])\n",
    "\n",
    "plt.title('Violin plot of initial DAS44-score by sex and age')\n",
    "L=plt.legend(bbox_to_anchor=(1.10, -1.4, 0.4, 1.7), fontsize=12)\n",
    "for i in range(len(L.get_texts())):\n",
    "    score0 = list(df_set[df_set[subset]==i+1][feat].value_counts().sort_index().values)[0]\n",
    "    score1 = list(df_set[df_set[subset]==i+1][feat].value_counts().sort_index().values)[1]\n",
    "    L.get_texts()[i].set_text('Age ' + str(i+1) + '\\nM(n)=' + str(score0) + ' W(n)=' + str(score1))\n",
    "    #L.get_\n",
    "\n",
    "print(df_set[df_set[subset]==1][feat].value_counts().sort_index().values, df_set[df_set[subset]==1][feat].value_counts().sort_index().keys())\n",
    "print(df_set[df_set[subset]==2][feat].value_counts().sort_index().values)\n",
    "print(df_set[df_set[subset]==3][feat].value_counts().sort_index().values)"
   ]
  },
  {
   "cell_type": "code",
   "execution_count": 211,
   "metadata": {},
   "outputs": [
    {
     "name": "stdout",
     "output_type": "stream",
     "text": [
      "[12 31] Float64Index([0.0, 1.0], dtype='float64')\n",
      "[24 40]\n"
     ]
    },
    {
     "data": {
      "image/png": "[encoded data removed]",
      "text/plain": [
       "<Figure size 432x288 with 1 Axes>"
      ]
     },
     "metadata": {},
     "output_type": "display_data"
    }
   ],
   "source": [
    "import seaborn as sns\n",
    "#sns.set(style=\"whitegrid\")\n",
    "#tips = sns.load_dataset(\"tips\")\n",
    "#ax = sns.violinplot(x=tips[\"total_bill\"])\n",
    "subset = ['age', 'aCCP'][1]\n",
    "feat = 'sex'\n",
    "continuous = 'BeginDAS44'\n",
    "present= 0\n",
    "df_set = df_Init[((df_Init['drug1'].isin(['methotrexaat'])))].copy()\n",
    "df_set['drug1'] = df_set['drug1'].cat.remove_unused_categories()\n",
    "df_set =df_set[~df_set[continuous].isna()]\n",
    "ax = sns.violinplot(x=feat, y=continuous, hue=subset, data=df_set, height=2, aspect=.7, bw=.3).set(ylim=(0))\n",
    "#plt.Axes.set_xticklabels(self, labels=['a','b','c', 'd', 'e', 'f', 'g'])\n",
    "\n",
    "plt.title('Violin plot of initial DAS44-score by sex and ACPA')\n",
    "L=plt.legend(bbox_to_anchor=(1.10, -1.4, 0.4, 1.7), fontsize=12)\n",
    "for i in range(len(L.get_texts())):\n",
    "    L.get_texts()[i].set_text(subset + ' == ' + str(i))\n",
    "\n",
    "print(df_set[df_set[subset]==0][feat].value_counts().sort_index().values, df_set[df_set[subset]==1][feat].value_counts().sort_index().keys())\n",
    "print(df_set[df_set[subset]==1][feat].value_counts().sort_index().values)"
   ]
  },
  {
   "cell_type": "code",
   "execution_count": 142,
   "metadata": {},
   "outputs": [
    {
     "name": "stdout",
     "output_type": "stream",
     "text": [
      "0.0    32\n",
      "1.0    35\n",
      "Name: sex, dtype: int64\n"
     ]
    }
   ],
   "source": [
    "print(df_set[df_set['age']==3]['sex'].value_counts().sort_index())"
   ]
  },
  {
   "cell_type": "code",
   "execution_count": 77,
   "metadata": {},
   "outputs": [
    {
     "data": {
      "image/png": "[encoded data removed]",
      "text/plain": [
       "<Figure size 432x288 with 1 Axes>"
      ]
     },
     "metadata": {
      "needs_background": "light"
     },
     "output_type": "display_data"
    }
   ],
   "source": [
    "\n",
    "import numpy as np\n",
    "import matplotlib.pyplot as plt\n",
    "from matplotlib.ticker import MaxNLocator\n",
    "from collections import namedtuple\n",
    "\n",
    "\n",
    "n_groups = 5\n",
    "\n",
    "means_men = (20, 35, 30, 35, 27)\n",
    "std_men = (2, 3, 4, 1, 2)\n",
    "\n",
    "means_women = (25, 32, 34, 20, 25)\n",
    "std_women = (3, 5, 2, 3, 3)\n",
    "\n",
    "fig, ax = plt.subplots()\n",
    "\n",
    "index = np.arange(n_groups)\n",
    "bar_width = 0.35\n",
    "\n",
    "opacity = 0.4\n",
    "error_config = {'ecolor': '0.3'}\n",
    "\n",
    "rects1 = ax.bar(index, means_men, bar_width,\n",
    "                alpha=opacity, color='b',\n",
    "                yerr=std_men, error_kw=error_config,\n",
    "                label='Men')\n",
    "\n",
    "rects2 = ax.bar(index + bar_width, means_women, bar_width,\n",
    "                alpha=opacity, color='r',\n",
    "                yerr=std_women, error_kw=error_config,\n",
    "                label='Women')\n",
    "\n",
    "ax.set_xlabel('Group')\n",
    "ax.set_ylabel('Scores')\n",
    "ax.set_title('Scores by group and gender')\n",
    "ax.set_xticks(index + bar_width / 2)\n",
    "ax.set_xticklabels(('A', 'B', 'C', 'D', 'E'))\n",
    "ax.legend()\n",
    "\n",
    "fig.tight_layout()\n",
    "plt.show()\n"
   ]
  },
  {
   "cell_type": "code",
   "execution_count": 132,
   "metadata": {},
   "outputs": [
    {
     "name": "stdout",
     "output_type": "stream",
     "text": [
      "301 301\n",
      "[0.9024023773746379, 0.8079596949968552, 0.7437404501974907, 0.7715303391794567, 0.826310103343754, 0.9474863637433497, 0.9519673911548322, 0.870423190069201, 0.9480467673853618, 0.946090811241066]\n",
      "\n"
     ]
    }
   ],
   "source": [
    "from sklearn.linear_model import LinearRegression\n",
    "from sklearn.model_selection import KFold\n",
    "#X = pd.DataFrame(df[‘OAT (F)’])\n",
    "#y = pd.DataFrame(df[‘Power (kW)’])\n",
    "model = LinearRegression()\n",
    "scores = []\n",
    "x = df_Init[(df_Init[feat].isin([1,0]))][['yob']]\n",
    "y = df_Init[(df_Init[feat].isin([1,0]))][['age']]\n",
    "print(len(x) , len(y))\n",
    "kfold = KFold(n_splits=10, shuffle=True, random_state=42)\n",
    "for i, (train, test) in enumerate(kfold.split(x, y)):\n",
    "    #print(i, (train, test))\n",
    "    model.fit(x.iloc[train,:], y.iloc[train,:])\n",
    "    score = model.score(x.iloc[test,:], y.iloc[test,:])\n",
    "    #print(model.coef_, model.rank_, summary(model))\n",
    "    scores.append(score)\n",
    "print(scores)\n",
    "print()\n",
    "\n",
    "\n",
    "# all parameters not specified are set to their defaults\n"
   ]
  },
  {
   "cell_type": "code",
   "execution_count": 114,
   "metadata": {},
   "outputs": [],
   "source": [
    "x = df_Init[(df_Init[feat].isin([1,0]))][['yob']]\n",
    "y = df_Init[(df_Init[feat].isin([1,0]))][['age']]\n",
    "#np.asarray(x)"
   ]
  },
  {
   "cell_type": "code",
   "execution_count": 113,
   "metadata": {},
   "outputs": [
    {
     "name": "stdout",
     "output_type": "stream",
     "text": [
      "                            OLS Regression Results                            \n",
      "==============================================================================\n",
      "Dep. Variable:                    sex   R-squared:                       0.004\n",
      "Model:                            OLS   Adj. R-squared:                 -0.002\n",
      "Method:                 Least Squares   F-statistic:                    0.6532\n",
      "Date:                Wed, 01 May 2019   Prob (F-statistic):              0.521\n",
      "Time:                        12:42:19   Log-Likelihood:                -217.74\n",
      "No. Observations:                 326   AIC:                             441.5\n",
      "Df Residuals:                     323   BIC:                             452.8\n",
      "Df Model:                           2                                         \n",
      "Covariance Type:            nonrobust                                         \n",
      "==============================================================================\n",
      "                 coef    std err          t      P>|t|      [0.025      0.975]\n",
      "------------------------------------------------------------------------------\n",
      "Intercept      0.7030      0.047     14.903      0.000       0.610       0.796\n",
      "age[T.2]      -0.0424      0.065     -0.648      0.518      -0.171       0.086\n",
      "age[T.3]      -0.0737      0.065     -1.142      0.254      -0.201       0.053\n",
      "==============================================================================\n",
      "Omnibus:                       22.145   Durbin-Watson:                   1.928\n",
      "Prob(Omnibus):                  0.000   Jarque-Bera (JB):               56.552\n",
      "Skew:                          -0.683   Prob(JB):                     5.25e-13\n",
      "Kurtosis:                       1.485   Cond. No.                         3.86\n",
      "==============================================================================\n",
      "\n",
      "Warnings:\n",
      "[1] Standard Errors assume that the covariance matrix of the errors is correctly specified.\n"
     ]
    }
   ],
   "source": [
    "#import statsmodels.api as sm\n",
    "import statsmodels.formula.api as sm\n",
    "#logit_model=sm.Logit(np.asarray(y),np.asarray(x))\n",
    "#result=logit_model.fit()\n",
    "\n",
    "result = sm.ols(formula=\"sex ~ age\", data=df_Init).fit()\n",
    "print(result.summary())"
   ]
  },
  {
   "cell_type": "code",
   "execution_count": 110,
   "metadata": {},
   "outputs": [
    {
     "name": "stdout",
     "output_type": "stream",
     "text": [
      "\tChi Rem Response ACPA+: \n",
      "aCCP0 :\t [39, 89] \t [False, True]\n",
      "aCCP1 :\t [46, 144] \t [False, True]\n",
      "\n",
      "CHI squared (p): 0.24537523462060015\n"
     ]
    }
   ],
   "source": [
    "feat = 'aCCP'\n",
    "feat_present = 1\n",
    "test = 'f'\n",
    "l_size1 = list(df_proc[((df_proc[feat]==0))]['status'].value_counts().sort_index().values)\n",
    "l_label1 = list(df_proc[((df_proc[feat]==0))]['status'].value_counts().sort_index().keys())\n",
    "l_size2 = list(df_proc[((df_proc[feat]==1))]['status'].value_counts().sort_index().values)\n",
    "l_label2 = list(df_proc[((df_proc[feat]==1))]['status'].value_counts().sort_index().keys())\n",
    "\n",
    "obs = np.array([l_size1, l_size2])\n",
    "if test == 'f':\n",
    "    oddsratio, p = stats.fisher_exact(obs)\n",
    "else :\n",
    "    chi2, p, dof, ex = stats.chi2_contingency(obs, correction=True)#u\n",
    "\n",
    "print('\\tChi Rem Response ACPA+: ')\n",
    "print(feat + '0 :\\t', l_size1,'\\t', l_label1)\n",
    "print(feat + '1 :\\t', l_size2,'\\t', l_label2) \n",
    "print()\n",
    "print('CHI squared (p):', p)"
   ]
  },
  {
   "cell_type": "code",
   "execution_count": 95,
   "metadata": {},
   "outputs": [
    {
     "name": "stdout",
     "output_type": "stream",
     "text": [
      "278.5\n",
      "122.0\n",
      "1169.0\n"
     ]
    }
   ],
   "source": [
    "#df_proc[((df_proc[feat]==0) & (df_proc['status']==0))]\n",
    "print(df_Init[((df_Init[feat]==1) & (df_Init['drug1']==drug))]['remission'].median())\n",
    "print(df_Init[((df_Init[feat]==1) & (df_Init['drug1']==drug))]['remission'].min())\n",
    "print(df_Init[((df_Init[feat]==1) & (df_Init['drug1']==drug))]['remission'].max())"
   ]
  },
  {
   "cell_type": "code",
   "execution_count": 81,
   "metadata": {},
   "outputs": [
    {
     "data": {
      "text/plain": [
       "<Figure size 864x864 with 0 Axes>"
      ]
     },
     "metadata": {},
     "output_type": "display_data"
    },
    {
     "data": {
      "image/png": "[encoded data removed]",
      "text/plain": [
       "<Figure size 432x288 with 1 Axes>"
      ]
     },
     "metadata": {},
     "output_type": "display_data"
    }
   ],
   "source": [
    "import matplotlib.pyplot as plt\n",
    "feature = 'aCCP'\n",
    "feat_present = 1\n",
    "drug = 'hydroxychloroquine'\n",
    "\n",
    "plt.figure(figsize=[12, 12])\n",
    "labels=list(df_Init[((df_Init[feat]==feat_present) & (df_Init['drug1']==drug))]['yob'].value_counts().sort_index().keys())\n",
    "group_size = list(df_Init[((df_Init[feat]==feat_present) & (df_Init['drug1']==drug))]['yob'].value_counts().sort_index().values)\n",
    "colors = ['red', 'green', 'blue']\n",
    "#colors = ['yellowgreen', 'gold', 'lightskyblue', 'lightcoral']\n",
    "fig, ax = plt.subplots()\n",
    "ax.axis('equal')\n",
    "\n",
    "pie1 = ax.pie(group_size, radius=2,  rotatelabels = 90, startangle=180,counterclock=False, autopct='%1.1f%%', textprops={'fontsize': 15 , 'color': 'white', 'weight':'bold'})\n",
    "pie2 = ax.pie(group_size, radius=2,  colors=colors, labeldistance=1.0, labels=labels, rotatelabels = 90,\n",
    "startangle=180,counterclock=False, textprops={'fontsize': 15})\n",
    "\n",
    "#plt.title('Occurences of treatment')\n",
    "plt.suptitle('Remission achieved in Initial HCQ therapy in ACPA+ (n='+ str(29) + ')', size=20, y=1.60, x=.70);   \n",
    "plt.legend(bbox_to_anchor=(1.10, -0.2, 0.2, 1.7))\n",
    "\n",
    "#pie = ax.pie(group_size, radius=2.05, colors=['k'] ,startangle=180,counterclock=False)\n",
    "# View the plot\n",
    "#plt.tight_layout()\n",
    "plt.show()"
   ]
  },
  {
   "cell_type": "code",
   "execution_count": 75,
   "metadata": {},
   "outputs": [
    {
     "data": {
      "text/plain": [
       "<Figure size 864x864 with 0 Axes>"
      ]
     },
     "metadata": {},
     "output_type": "display_data"
    },
    {
     "data": {
      "image/png": "[encoded data removed]",
      "text/plain": [
       "<Figure size 432x288 with 1 Axes>"
      ]
     },
     "metadata": {},
     "output_type": "display_data"
    }
   ],
   "source": [
    "import matplotlib.pyplot as plt\n",
    "feature = 'aCCP'\n",
    "feat_present = 0\n",
    "drug = 'hydroxychloroquine'\n",
    "\n",
    "plt.figure(figsize=[12, 12])\n",
    "labels=['No remission', 'Remission']\n",
    "group_size = list(df_Init[((df_Init[feat]==feat_present) & (df_Init['drug1']==drug))]['status'].value_counts().sort_index().values)\n",
    "colors = ['red', 'green']\n",
    "#colors = ['yellowgreen', 'gold', 'lightskyblue', 'lightcoral']\n",
    "fig, ax = plt.subplots()\n",
    "ax.axis('equal')\n",
    "\n",
    "pie1 = ax.pie(group_size, radius=2,  rotatelabels = 90, startangle=180,counterclock=False, autopct='%1.1f%%', textprops={'fontsize': 15 , 'color': 'white', 'weight':'bold'})\n",
    "pie2 = ax.pie(group_size, radius=2,  colors=colors, labeldistance=1.0, labels=labels, rotatelabels = 90,\n",
    "startangle=180,counterclock=False, textprops={'fontsize': 15})\n",
    "\n",
    "#plt.title('Occurences of treatment')\n",
    "plt.suptitle('Remission achieved in Initial HCQ therapy in ACPA+ (n='+ str(29) + ')', size=20, y=1.60, x=.70);   \n",
    "plt.legend(bbox_to_anchor=(1.10, -0.2, 0.2, 1.7))\n",
    "\n",
    "#pie = ax.pie(group_size, radius=2.05, colors=['k'] ,startangle=180,counterclock=False)\n",
    "# View the plot\n",
    "#plt.tight_layout()\n",
    "plt.show()"
   ]
  },
  {
   "cell_type": "code",
   "execution_count": 78,
   "metadata": {},
   "outputs": [
    {
     "data": {
      "text/plain": [
       "0.0    10\n",
       "1.0     9\n",
       "Name: status, dtype: int64"
      ]
     },
     "execution_count": 78,
     "metadata": {},
     "output_type": "execute_result"
    }
   ],
   "source": [
    "feat_present = 0\n",
    "df_Init[((df_Init[feat]==feat_present) & (df_Init['drug1']==drug))]['status'].value_counts()"
   ]
  },
  {
   "cell_type": "code",
   "execution_count": null,
   "metadata": {},
   "outputs": [],
   "source": []
  }
 ],
 "metadata": {
  "kernelspec": {
   "display_name": "Python 3",
   "language": "python",
   "name": "python3"
  },
  "language_info": {
   "codemirror_mode": {
    "name": "ipython",
    "version": 3
   },
   "file_extension": ".py",
   "mimetype": "text/x-python",
   "name": "python",
   "nbconvert_exporter": "python",
   "pygments_lexer": "ipython3",
   "version": "3.6.5"
  }
 },
 "nbformat": 4,
 "nbformat_minor": 2
}
