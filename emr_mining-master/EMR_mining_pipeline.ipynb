{
 "cells": [
  {
   "cell_type": "markdown",
   "metadata": {},
   "source": [
    "# Pipeline for analysing the RA data"
   ]
  },
  {
   "cell_type": "code",
   "execution_count": 1,
   "metadata": {},
   "outputs": [
    {
     "name": "stdout",
     "output_type": "stream",
     "text": [
      "Pandas version 0.23.0\n",
      "Matplotlib version 3.0.3\n"
     ]
    }
   ],
   "source": [
    "# Initializing Pandas & Matplotlib\n",
    "import os\n",
    "import pandas as pd\n",
    "import matplotlib as plt\n",
    "import matplotlib.pyplot as pyplt\n",
    "import io\n",
    "import re\n",
    "import numpy as np\n",
    "import datetime\n",
    "import EMR_functions as em\n",
    "from acronyms import ACRONYM_MAP\n",
    "from acronyms import MEDICINE\n",
    "#from datecols import DATECOLS\n",
    "\n",
    "def getcwd():\n",
    "    cwd = os.getcwd()\n",
    "    return cwd\n",
    "\n",
    "def read_csv(f_name):\n",
    "    return pd.read_csv(f_name, sep=\"|\")\n",
    "\n",
    "def remove_rtf(df_rtf, column):\n",
    "    df_clean = df_rtf[~df_rtf[column].str.contains(r\"^\\{.*\\}.*\", na=False)]\n",
    "    return df_clean\n",
    "\n",
    "\n",
    "#input_path = r\"\\\\vf-reuma-e-it-health\\reuma-e-it-health$\\Uitvoer_dd_20180328\" # absolute path\n",
    "\n",
    "print('Pandas version ' + pd.__version__)\n",
    "print('Matplotlib version ' + plt.__version__)\n",
    "#print(getcwd())\n",
    "#em.makeFile('TestFile.txt', 'LALALALA')\n",
    "\n"
   ]
  },
  {
   "cell_type": "code",
   "execution_count": 2,
   "metadata": {},
   "outputs": [
    {
     "name": "stderr",
     "output_type": "stream",
     "text": [
      "ERROR:root:Internal Python error in the inspect module.\n",
      "Below is the traceback from this internal error.\n",
      "\n"
     ]
    },
    {
     "name": "stdout",
     "output_type": "stream",
     "text": [
      "Traceback (most recent call last):\n",
      "  File \"G:\\newAnacondaG\\modules\\lib\\site-packages\\IPython\\core\\interactiveshell.py\", line 2963, in run_code\n",
      "    exec(code_obj, self.user_global_ns, self.user_ns)\n",
      "  File \"<ipython-input-2-1b5dba10beb3>\", line 4, in <module>\n",
      "    pc_df.setDF(df_REUBEL)\n",
      "NameError: name 'pc_df' is not defined\n",
      "\n",
      "During handling of the above exception, another exception occurred:\n",
      "\n",
      "Traceback (most recent call last):\n",
      "  File \"G:\\newAnacondaG\\modules\\lib\\site-packages\\IPython\\core\\interactiveshell.py\", line 1863, in showtraceback\n",
      "    stb = value._render_traceback_()\n",
      "AttributeError: 'NameError' object has no attribute '_render_traceback_'\n",
      "\n",
      "During handling of the above exception, another exception occurred:\n",
      "\n",
      "Traceback (most recent call last):\n",
      "  File \"G:\\newAnacondaG\\modules\\lib\\site-packages\\IPython\\core\\ultratb.py\", line 1095, in get_records\n",
      "    return _fixed_getinnerframes(etb, number_of_lines_of_context, tb_offset)\n",
      "  File \"G:\\newAnacondaG\\modules\\lib\\site-packages\\IPython\\core\\ultratb.py\", line 311, in wrapped\n",
      "    return f(*args, **kwargs)\n",
      "  File \"G:\\newAnacondaG\\modules\\lib\\site-packages\\IPython\\core\\ultratb.py\", line 345, in _fixed_getinnerframes\n",
      "    records = fix_frame_records_filenames(inspect.getinnerframes(etb, context))\n",
      "  File \"G:\\newAnacondaG\\modules\\lib\\inspect.py\", line 1483, in getinnerframes\n",
      "    frameinfo = (tb.tb_frame,) + getframeinfo(tb, context)\n",
      "  File \"G:\\newAnacondaG\\modules\\lib\\inspect.py\", line 1441, in getframeinfo\n",
      "    filename = getsourcefile(frame) or getfile(frame)\n",
      "  File \"G:\\newAnacondaG\\modules\\lib\\inspect.py\", line 696, in getsourcefile\n",
      "    if getattr(getmodule(object, filename), '__loader__', None) is not None:\n",
      "  File \"G:\\newAnacondaG\\modules\\lib\\inspect.py\", line 739, in getmodule\n",
      "    f = getabsfile(module)\n",
      "  File \"G:\\newAnacondaG\\modules\\lib\\inspect.py\", line 708, in getabsfile\n",
      "    _filename = getsourcefile(object) or getfile(object)\n",
      "  File \"G:\\newAnacondaG\\modules\\lib\\inspect.py\", line 693, in getsourcefile\n",
      "    if os.path.exists(filename):\n",
      "  File \"G:\\newAnacondaG\\modules\\lib\\genericpath.py\", line 19, in exists\n",
      "    os.stat(path)\n",
      "KeyboardInterrupt\n"
     ]
    },
    {
     "ename": "NameError",
     "evalue": "name 'pc_df' is not defined",
     "output_type": "error",
     "traceback": [
      "\u001b[1;31m---------------------------------------------------------------------------\u001b[0m"
     ]
    }
   ],
   "source": [
    "# (is gelijk aan pipe_df = 2)pipe_df = 2\n",
    "# Zorgen dat df_explore -> 100% juist is\n",
    "df_REUBEL = read_csv(r'output_files/DF_REUBEL.csv')\n",
    "pc_df.setDF(df_REUBEL)\n",
    "df_total, df_gold = em.midasTouch(pc_df.getDF())\n",
    "print(len(df_gold))\n",
    "pc_df.setDF(df_total)\n",
    "df_test, df_explore, df_typo_val = em.createExplorationSet(pc_df.getDF(), 12345, 0.15)\n",
    "\n",
    "print(len(df_total['PATNR'].unique()))\n",
    "print(len(df_typo_val['PATNR'].unique()))\n",
    "print(len(df_explore['PATNR'].unique()))\n",
    "print(len(df_test['PATNR'].unique()))\n",
    "\n",
    "pc_df.setDF(df_explore)\n",
    "pc_df.getDim()\n",
    "\n",
    "print(pc_df.getDF().iloc[2780]['XANTWOORD'])"
   ]
  },
  {
   "cell_type": "code",
   "execution_count": 5,
   "metadata": {},
   "outputs": [
    {
     "name": "stdout",
     "output_type": "stream",
     "text": [
      "1696\n",
      "1696\n"
     ]
    }
   ],
   "source": [
    "#pc_df.setDF(df_REUBEL)\n",
    "from acronyms_old import PARENT_MAP\n",
    "\n",
    "sample4 = read_csv(r'test/Sample4_raw.csv')\n",
    "\n",
    "pc_df = em.Processing(sample4)\n",
    "sample4['XANTWOORD']= sample4['XANTWOORD'].apply(lambda x: pc_df.handleAcronym(str(x)))\n",
    "sample4['XANTWOORD']= sample4['XANTWOORD'].apply(lambda x: pc_df.handleAcronym(str(x), PARENT_MAP))\n",
    "\n",
    "l_med = pc_df.getRowsMedicine(sample4)\n",
    "\n",
    "# df_corrected.iloc[l_typo_found]\n",
    "#print(type(df_typo_rows.index.values))\n",
    "for index, row in sample4.drop(l_med).iterrows():\n",
    "    print(row['XANTWOORD'], \"\\n\")\n",
    "print(len(sample4))\n",
    "print(len(l_med))\n",
    "sample4.to_csv('output_files/Sample4_corrected.csv', sep='|', index=False)"
   ]
  },
  {
   "cell_type": "markdown",
   "metadata": {},
   "source": [
    "### Open Checkpoint Tables"
   ]
  },
  {
   "cell_type": "code",
   "execution_count": 2,
   "metadata": {},
   "outputs": [
    {
     "name": "stdout",
     "output_type": "stream",
     "text": [
      "C:\\Users\\tdmaarseveen\\Desktop\\EMR_mining\n",
      "     eacnumm zkhpatnr comet  studie  geslacht age_incl  diagstat  bezdat_rn1  \\\n",
      "0       1110  0865644             0         1     49,8         1    4/7/1999   \n",
      "1       1121  6110525             0         2     51,6         1    4/6/1999   \n",
      "2       1128  6311520             0         1     35,4         1   4/29/1999   \n",
      "3       1142  0304500             0         1     68,4         1   5/20/1999   \n",
      "4       1151  0262900             0         1     37,1         1   6/22/1999   \n",
      "5       1160  5354748             0         1     48,3         1    7/8/1999   \n",
      "6       1163  2182107             0         2     67,7         1    7/8/1999   \n",
      "7       1173  6260616             0         1     50,6         1   7/20/1999   \n",
      "8       1175  6346506             0         1     18,2         1    3/2/2000   \n",
      "9       1178  9112084             0         1     73,2         1   8/17/1999   \n",
      "10      1181  1210900             0         1     47,6         1   9/22/1999   \n",
      "11      1188  6054708             0         1     63,3         1    9/3/1999   \n",
      "12      1191  9620488             0         1       74         1   11/2/1999   \n",
      "13      1203  4047415             0         2     75,4         1   9/30/1999   \n",
      "14      1204  3282017             0         2     67,1         1   9/30/1999   \n",
      "15      1205  4832891             0         2     78,4         1   10/5/1999   \n",
      "16      1209  4028806             0         1     57,5         1   9/22/1999   \n",
      "17      1215  3437240             0         1     75,8         1   11/2/1999   \n",
      "18      1220  4264376             0         1       35         1  11/10/1999   \n",
      "19      1223  9162717             0         2     43,4         1   11/8/1999   \n",
      "20      1226  9220338             0         1       77         1   12/6/1999   \n",
      "21      1229  7192745             0         2     74,2         1  11/18/1999   \n",
      "22      1248  2627152             0         1     31,1         1   3/23/2000   \n",
      "23      1262  4344172             0         1     47,8         1   2/28/2000   \n",
      "24      1264  9631885             0         2     69,6         1    3/2/2000   \n",
      "25      1268  5508674             0         1     27,7         1    3/7/2000   \n",
      "26      1278  2383107             0         2     52,4         1    4/7/2000   \n",
      "27      1307  0658862             0         1     38,8         1   6/15/2000   \n",
      "28      1314  4135006             0         1     55,8         1    7/5/2000   \n",
      "29      1332  3512413             0         2     67,7         1   9/20/2000   \n",
      "..       ...      ...   ...     ...       ...      ...       ...         ...   \n",
      "609     3796  6662473             0         2     51,7         1   6/16/2014   \n",
      "610     3797  9564615             0         2       57         1   6/24/2014   \n",
      "611     3803  6218400             0         1     53,9         1   6/18/2014   \n",
      "612     3804  5019666             0         1     62,7         1   6/19/2014   \n",
      "613     3806  0397849             0         1     49,3         1   6/25/2014   \n",
      "614     3811  5400748             0         1     43,7         1   7/18/2014   \n",
      "615     3818  2463755             0         2     79,3         1   7/16/2014   \n",
      "616     3821  4000913             0         2     52,5         1   7/30/2014   \n",
      "617     3822  4452578             0         1     72,4         1   7/17/2014   \n",
      "618     3825  4275790             0         1     72,6         1   8/12/2014   \n",
      "619     3829  2546423             0         2     79,4         1   7/30/2014   \n",
      "620     3830  7225840             0         1     62,8         1    8/6/2014   \n",
      "621     3834  0405520             0         2     89,9         1   8/11/2014   \n",
      "622     3836  6472440             0         1     62,8         1   8/19/2014   \n",
      "623     3837  5069558             0         1     70,9         1   8/20/2014   \n",
      "624     3838  4237876             0         1     77,1         1    9/1/2014   \n",
      "625     3841  0362328             0         1     64,3         1   8/28/2014   \n",
      "626     3843  2498366             0         1     59,1         1    9/2/2014   \n",
      "627     3844  5054404             0         1     53,8         1   9/10/2014   \n",
      "628     3848  7078345             0         2     67,8         1    9/5/2014   \n",
      "629     3849  7412776             0         1     81,3         1    9/9/2014   \n",
      "630     3854  9718800             0         1     29,1         1   9/15/2014   \n",
      "631     3855  7699400             0         1     61,1         1  10/23/2014   \n",
      "632     3859  0024488             0         1       77         1   9/22/2014   \n",
      "633     3863  9063662             0         1     63,1         1   10/1/2014   \n",
      "634     3866  3429562             0         1     35,6         1   10/1/2014   \n",
      "635     3873  9495020             0         1     54,2         1  10/17/2014   \n",
      "636     3877  8967950             0         1     47,4         1  11/17/2014   \n",
      "637     3878  2046020             0         1       50         1  11/14/2014   \n",
      "638     3880  8174933             0         2     74,7         1  11/12/2014   \n",
      "\n",
      "    mtx_pn  mtxmis   ...   medici3 medici4 medicia inclusie_medica1  \\\n",
      "0        1       0   ...       NaN     NaN     NaN              NaN   \n",
      "1        0       0   ...                                          2   \n",
      "2        0       0   ...                                          2   \n",
      "3        1       0   ...                                          2   \n",
      "4        1       0   ...                                          2   \n",
      "5        0       0   ...                                          0   \n",
      "6        0       0   ...                                          2   \n",
      "7        0       0   ...                                          2   \n",
      "8        0       0   ...                                          2   \n",
      "9        1       1   ...       NaN     NaN     NaN              NaN   \n",
      "10       0       0   ...                                          2   \n",
      "11       0       0   ...       NaN     NaN     NaN              NaN   \n",
      "12       0       0   ...       NaN     NaN     NaN              NaN   \n",
      "13       1       0   ...                                          0   \n",
      "14       1       0   ...                                          0   \n",
      "15       0       0   ...                                          2   \n",
      "16       1       0   ...                                          1   \n",
      "17       0       0   ...                                          1   \n",
      "18       0       0   ...                                          2   \n",
      "19       1       0   ...                                          2   \n",
      "20       1       0   ...                                          2   \n",
      "21       0       0   ...       NaN     NaN     NaN              NaN   \n",
      "22       1       0   ...                                          2   \n",
      "23       0       0   ...       NaN     NaN     NaN              NaN   \n",
      "24       1       0   ...                                          2   \n",
      "25       0       0   ...                                          2   \n",
      "26       0       0   ...                                          2   \n",
      "27       1       0   ...                                          5   \n",
      "28       1       0   ...       NaN     NaN     NaN              NaN   \n",
      "29       0       0   ...                                          2   \n",
      "..     ...     ...   ...       ...     ...     ...              ...   \n",
      "609      1       0   ...                                              \n",
      "610      1       0   ...                                              \n",
      "611      1       0   ...                                              \n",
      "612      0       0   ...                                              \n",
      "613      1       0   ...                                              \n",
      "614      1       0   ...                                              \n",
      "615      1       0   ...                                              \n",
      "616      1       0   ...                                              \n",
      "617      1       0   ...                                              \n",
      "618      1       0   ...                                              \n",
      "619      1       0   ...                                              \n",
      "620      1       0   ...                                              \n",
      "621      0       0   ...                                              \n",
      "622      1       0   ...                                              \n",
      "623      1       0   ...                                              \n",
      "624      1       0   ...                                              \n",
      "625      1       0   ...                                              \n",
      "626      1       0   ...                                              \n",
      "627      1       0   ...                                              \n",
      "628      1       0   ...                                              \n",
      "629      1       0   ...                                              \n",
      "630      1       0   ...                                              \n",
      "631      1       0   ...                                              \n",
      "632      1       0   ...                                              \n",
      "633      1       0   ...                                              \n",
      "634      1       0   ...                                              \n",
      "635      1       0   ...                                              \n",
      "636      0       0   ...                                              \n",
      "637      1       0   ...                                              \n",
      "638      0       0   ...                                              \n",
      "\n",
      "    inclusie_medica2 inclusie_medicat diag1_medica1 diag4_beznr diag4_bezdat  \\\n",
      "0                NaN              NaN           NaN         NaN          NaN   \n",
      "1                  7                              2           4    9/12/2000   \n",
      "2                                                 2           4    5/30/2000   \n",
      "3                  4                              2           4    6/13/2000   \n",
      "4                                                 2           4    8/11/2000   \n",
      "5                                                 0           4    8/31/2000   \n",
      "6                                                 2           4    8/10/2000   \n",
      "7                                                 2           4   11/29/2000   \n",
      "8                                                 2           4     8/2/2001   \n",
      "9                NaN              NaN           NaN         NaN          NaN   \n",
      "10                                                2           4   11/30/2000   \n",
      "11               NaN              NaN           NaN         NaN          NaN   \n",
      "12               NaN              NaN           NaN         NaN          NaN   \n",
      "13                                                0           4     9/6/2000   \n",
      "14                                                0           4   10/13/2000   \n",
      "15                                                2           4    12/8/2000   \n",
      "16                 7                              1           4    9/25/2000   \n",
      "17                 2                              1           4   12/14/2000   \n",
      "18                                                2           4    3/19/2001   \n",
      "19                                                2           4    10/9/2000   \n",
      "20                                                2           4   11/28/2000   \n",
      "21               NaN              NaN           NaN         NaN          NaN   \n",
      "22                                                2           4    5/28/2001   \n",
      "23               NaN              NaN           NaN         NaN          NaN   \n",
      "24                                                2           4    3/20/2001   \n",
      "25                 7                              2           4     3/9/2001   \n",
      "26                                                2           4    7/13/2001   \n",
      "27                                                5           4   10/18/2001   \n",
      "28               NaN              NaN           NaN         NaN          NaN   \n",
      "29                                                2           4    8/16/2001   \n",
      "..               ...              ...           ...         ...          ...   \n",
      "609                                                                            \n",
      "610                                                                            \n",
      "611                                                                            \n",
      "612                                                                            \n",
      "613                                                                            \n",
      "614                                                                            \n",
      "615                                                                            \n",
      "616                                                                            \n",
      "617                                                                            \n",
      "618                                                                            \n",
      "619                                                                            \n",
      "620                                                                            \n",
      "621                                                                            \n",
      "622                                                                            \n",
      "623                                                                            \n",
      "624                                                                            \n",
      "625                                                                            \n",
      "626                                                                            \n",
      "627                                                                            \n",
      "628                                                                            \n",
      "629                                                                            \n",
      "630                                                                            \n",
      "631                                                                            \n",
      "632                                                                            \n",
      "633                                                                            \n",
      "634                                                                            \n",
      "635                                                                            \n",
      "636                                                                            \n",
      "637                                                                            \n",
      "638                                                                            \n",
      "\n",
      "    medica3  \n",
      "0       NaN  \n",
      "1            \n",
      "2            \n",
      "3            \n",
      "4         7  \n",
      "5            \n",
      "6            \n",
      "7            \n",
      "8            \n",
      "9       NaN  \n",
      "10           \n",
      "11      NaN  \n",
      "12      NaN  \n",
      "13           \n",
      "14           \n",
      "15           \n",
      "16           \n",
      "17           \n",
      "18           \n",
      "19           \n",
      "20           \n",
      "21      NaN  \n",
      "22           \n",
      "23      NaN  \n",
      "24           \n",
      "25           \n",
      "26           \n",
      "27           \n",
      "28      NaN  \n",
      "29           \n",
      "..      ...  \n",
      "609          \n",
      "610          \n",
      "611          \n",
      "612          \n",
      "613          \n",
      "614          \n",
      "615          \n",
      "616          \n",
      "617          \n",
      "618          \n",
      "619          \n",
      "620          \n",
      "621          \n",
      "622          \n",
      "623          \n",
      "624          \n",
      "625          \n",
      "626          \n",
      "627          \n",
      "628          \n",
      "629          \n",
      "630          \n",
      "631          \n",
      "632          \n",
      "633          \n",
      "634          \n",
      "635          \n",
      "636          \n",
      "637          \n",
      "638          \n",
      "\n",
      "[639 rows x 208 columns]\n",
      "2771\n"
     ]
    },
    {
     "ename": "NameError",
     "evalue": "name 'df_REU' is not defined",
     "output_type": "error",
     "traceback": [
      "\u001b[1;31m---------------------------------------------------------------------------\u001b[0m",
      "\u001b[1;31mNameError\u001b[0m                                 Traceback (most recent call last)",
      "\u001b[1;32m<ipython-input-2-ed34fa857a4f>\u001b[0m in \u001b[0;36m<module>\u001b[1;34m()\u001b[0m\n\u001b[0;32m     16\u001b[0m \u001b[1;33m\u001b[0m\u001b[0m\n\u001b[0;32m     17\u001b[0m \u001b[0mprint\u001b[0m\u001b[1;33m(\u001b[0m\u001b[0mpc_df\u001b[0m\u001b[1;33m.\u001b[0m\u001b[0mgetPatients\u001b[0m\u001b[1;33m(\u001b[0m\u001b[1;33m)\u001b[0m\u001b[1;33m)\u001b[0m\u001b[1;33m\u001b[0m\u001b[0m\n\u001b[1;32m---> 18\u001b[1;33m \u001b[0mprint\u001b[0m\u001b[1;33m(\u001b[0m\u001b[0mdf_REU\u001b[0m\u001b[1;33m[\u001b[0m\u001b[0mdf_REU\u001b[0m\u001b[1;33m[\u001b[0m\u001b[1;34m'PATNR'\u001b[0m\u001b[1;33m]\u001b[0m \u001b[1;33m==\u001b[0m \u001b[1;36m96745944\u001b[0m\u001b[1;33m]\u001b[0m\u001b[1;33m)\u001b[0m\u001b[1;33m\u001b[0m\u001b[0m\n\u001b[0m\u001b[0;32m     19\u001b[0m \u001b[0mdf_pat\u001b[0m \u001b[1;33m=\u001b[0m \u001b[0mdf_REU\u001b[0m\u001b[1;33m[\u001b[0m\u001b[0mdf_REU\u001b[0m\u001b[1;33m[\u001b[0m\u001b[1;34m'PATNR'\u001b[0m\u001b[1;33m]\u001b[0m \u001b[1;33m==\u001b[0m \u001b[1;36m96745944\u001b[0m\u001b[1;33m]\u001b[0m\u001b[1;33m\u001b[0m\u001b[0m\n\u001b[0;32m     20\u001b[0m \u001b[0mdf_pat\u001b[0m\u001b[1;33m.\u001b[0m\u001b[0mto_csv\u001b[0m\u001b[1;33m(\u001b[0m\u001b[1;34m'output_files/DF_pat96745944.csv'\u001b[0m\u001b[1;33m,\u001b[0m \u001b[0msep\u001b[0m\u001b[1;33m=\u001b[0m\u001b[1;34m'|'\u001b[0m\u001b[1;33m,\u001b[0m \u001b[0mindex\u001b[0m\u001b[1;33m=\u001b[0m\u001b[1;32mFalse\u001b[0m\u001b[1;33m)\u001b[0m\u001b[1;33m\u001b[0m\u001b[0m\n",
      "\u001b[1;31mNameError\u001b[0m: name 'df_REU' is not defined"
     ]
    }
   ],
   "source": [
    "pipe_df = 1\n",
    "print(os.getcwd())\n",
    "\n",
    "if pipe_df == 0:\n",
    "    df_REU = read_csv(r'output_files/DF_REU.csv')\n",
    "    pc_df = em.Processing(df_REU)\n",
    "    pc_df.createTableREUBEL()\n",
    "elif pipe_df == 1:\n",
    "    df_REUBEL = read_csv(r'output_files/DF_REUBEL.csv')\n",
    "    pc_df = em.Processing(df_REUBEL)\n",
    "    df_gold = read_csv(r'input_files/EMR_goldenstandard.csv')\n",
    "    print(df_gold)\n",
    "elif pipe_df == 2:\n",
    "    df_nlp = read_csv(r'output_files/DF_REUBEL_nlp.csv')\n",
    "    pc_df = em.Processing(df_nlp)\n",
    "\n",
    "print(pc_df.getPatients())\n",
    "print(df_REU[df_REU['PATNR'] == 96745944])\n",
    "df_pat = df_REU[df_REU['PATNR'] == 96745944]\n",
    "df_pat.to_csv('output_files/DF_pat96745944.csv', sep='|', index=False)"
   ]
  },
  {
   "cell_type": "markdown",
   "metadata": {},
   "source": [
    "# Validate Typo Algorithm"
   ]
  },
  {
   "cell_type": "code",
   "execution_count": 3,
   "metadata": {},
   "outputs": [
    {
     "ename": "ParserError",
     "evalue": "Error tokenizing data. C error: Expected 1 fields in line 3, saw 2\n",
     "output_type": "error",
     "traceback": [
      "\u001b[1;31m---------------------------------------------------------------------------\u001b[0m",
      "\u001b[1;31mParserError\u001b[0m                               Traceback (most recent call last)",
      "\u001b[1;32m<ipython-input-3-6259d9ceb4cb>\u001b[0m in \u001b[0;36m<module>\u001b[1;34m()\u001b[0m\n\u001b[1;32m----> 1\u001b[1;33m \u001b[0mdf\u001b[0m \u001b[1;33m=\u001b[0m \u001b[0mpd\u001b[0m\u001b[1;33m.\u001b[0m\u001b[0mread_csv\u001b[0m\u001b[1;33m(\u001b[0m\u001b[1;34mr'gold_standard/goudenstandaard_typoval.xlsx'\u001b[0m\u001b[1;33m,\u001b[0m \u001b[0msep\u001b[0m\u001b[1;33m=\u001b[0m\u001b[1;34m\"|\"\u001b[0m\u001b[1;33m)\u001b[0m\u001b[1;33m\u001b[0m\u001b[0m\n\u001b[0m",
      "\u001b[1;32mE:\\modules\\Anaconda\\Program\\lib\\site-packages\\pandas\\io\\parsers.py\u001b[0m in \u001b[0;36mparser_f\u001b[1;34m(filepath_or_buffer, sep, delimiter, header, names, index_col, usecols, squeeze, prefix, mangle_dupe_cols, dtype, engine, converters, true_values, false_values, skipinitialspace, skiprows, nrows, na_values, keep_default_na, na_filter, verbose, skip_blank_lines, parse_dates, infer_datetime_format, keep_date_col, date_parser, dayfirst, iterator, chunksize, compression, thousands, decimal, lineterminator, quotechar, quoting, escapechar, comment, encoding, dialect, tupleize_cols, error_bad_lines, warn_bad_lines, skipfooter, doublequote, delim_whitespace, low_memory, memory_map, float_precision)\u001b[0m\n\u001b[0;32m    676\u001b[0m                     skip_blank_lines=skip_blank_lines)\n\u001b[0;32m    677\u001b[0m \u001b[1;33m\u001b[0m\u001b[0m\n\u001b[1;32m--> 678\u001b[1;33m         \u001b[1;32mreturn\u001b[0m \u001b[0m_read\u001b[0m\u001b[1;33m(\u001b[0m\u001b[0mfilepath_or_buffer\u001b[0m\u001b[1;33m,\u001b[0m \u001b[0mkwds\u001b[0m\u001b[1;33m)\u001b[0m\u001b[1;33m\u001b[0m\u001b[0m\n\u001b[0m\u001b[0;32m    679\u001b[0m \u001b[1;33m\u001b[0m\u001b[0m\n\u001b[0;32m    680\u001b[0m     \u001b[0mparser_f\u001b[0m\u001b[1;33m.\u001b[0m\u001b[0m__name__\u001b[0m \u001b[1;33m=\u001b[0m \u001b[0mname\u001b[0m\u001b[1;33m\u001b[0m\u001b[0m\n",
      "\u001b[1;32mE:\\modules\\Anaconda\\Program\\lib\\site-packages\\pandas\\io\\parsers.py\u001b[0m in \u001b[0;36m_read\u001b[1;34m(filepath_or_buffer, kwds)\u001b[0m\n\u001b[0;32m    444\u001b[0m \u001b[1;33m\u001b[0m\u001b[0m\n\u001b[0;32m    445\u001b[0m     \u001b[1;32mtry\u001b[0m\u001b[1;33m:\u001b[0m\u001b[1;33m\u001b[0m\u001b[0m\n\u001b[1;32m--> 446\u001b[1;33m         \u001b[0mdata\u001b[0m \u001b[1;33m=\u001b[0m \u001b[0mparser\u001b[0m\u001b[1;33m.\u001b[0m\u001b[0mread\u001b[0m\u001b[1;33m(\u001b[0m\u001b[0mnrows\u001b[0m\u001b[1;33m)\u001b[0m\u001b[1;33m\u001b[0m\u001b[0m\n\u001b[0m\u001b[0;32m    447\u001b[0m     \u001b[1;32mfinally\u001b[0m\u001b[1;33m:\u001b[0m\u001b[1;33m\u001b[0m\u001b[0m\n\u001b[0;32m    448\u001b[0m         \u001b[0mparser\u001b[0m\u001b[1;33m.\u001b[0m\u001b[0mclose\u001b[0m\u001b[1;33m(\u001b[0m\u001b[1;33m)\u001b[0m\u001b[1;33m\u001b[0m\u001b[0m\n",
      "\u001b[1;32mE:\\modules\\Anaconda\\Program\\lib\\site-packages\\pandas\\io\\parsers.py\u001b[0m in \u001b[0;36mread\u001b[1;34m(self, nrows)\u001b[0m\n\u001b[0;32m   1034\u001b[0m                 \u001b[1;32mraise\u001b[0m \u001b[0mValueError\u001b[0m\u001b[1;33m(\u001b[0m\u001b[1;34m'skipfooter not supported for iteration'\u001b[0m\u001b[1;33m)\u001b[0m\u001b[1;33m\u001b[0m\u001b[0m\n\u001b[0;32m   1035\u001b[0m \u001b[1;33m\u001b[0m\u001b[0m\n\u001b[1;32m-> 1036\u001b[1;33m         \u001b[0mret\u001b[0m \u001b[1;33m=\u001b[0m \u001b[0mself\u001b[0m\u001b[1;33m.\u001b[0m\u001b[0m_engine\u001b[0m\u001b[1;33m.\u001b[0m\u001b[0mread\u001b[0m\u001b[1;33m(\u001b[0m\u001b[0mnrows\u001b[0m\u001b[1;33m)\u001b[0m\u001b[1;33m\u001b[0m\u001b[0m\n\u001b[0m\u001b[0;32m   1037\u001b[0m \u001b[1;33m\u001b[0m\u001b[0m\n\u001b[0;32m   1038\u001b[0m         \u001b[1;31m# May alter columns / col_dict\u001b[0m\u001b[1;33m\u001b[0m\u001b[1;33m\u001b[0m\u001b[0m\n",
      "\u001b[1;32mE:\\modules\\Anaconda\\Program\\lib\\site-packages\\pandas\\io\\parsers.py\u001b[0m in \u001b[0;36mread\u001b[1;34m(self, nrows)\u001b[0m\n\u001b[0;32m   1846\u001b[0m     \u001b[1;32mdef\u001b[0m \u001b[0mread\u001b[0m\u001b[1;33m(\u001b[0m\u001b[0mself\u001b[0m\u001b[1;33m,\u001b[0m \u001b[0mnrows\u001b[0m\u001b[1;33m=\u001b[0m\u001b[1;32mNone\u001b[0m\u001b[1;33m)\u001b[0m\u001b[1;33m:\u001b[0m\u001b[1;33m\u001b[0m\u001b[0m\n\u001b[0;32m   1847\u001b[0m         \u001b[1;32mtry\u001b[0m\u001b[1;33m:\u001b[0m\u001b[1;33m\u001b[0m\u001b[0m\n\u001b[1;32m-> 1848\u001b[1;33m             \u001b[0mdata\u001b[0m \u001b[1;33m=\u001b[0m \u001b[0mself\u001b[0m\u001b[1;33m.\u001b[0m\u001b[0m_reader\u001b[0m\u001b[1;33m.\u001b[0m\u001b[0mread\u001b[0m\u001b[1;33m(\u001b[0m\u001b[0mnrows\u001b[0m\u001b[1;33m)\u001b[0m\u001b[1;33m\u001b[0m\u001b[0m\n\u001b[0m\u001b[0;32m   1849\u001b[0m         \u001b[1;32mexcept\u001b[0m \u001b[0mStopIteration\u001b[0m\u001b[1;33m:\u001b[0m\u001b[1;33m\u001b[0m\u001b[0m\n\u001b[0;32m   1850\u001b[0m             \u001b[1;32mif\u001b[0m \u001b[0mself\u001b[0m\u001b[1;33m.\u001b[0m\u001b[0m_first_chunk\u001b[0m\u001b[1;33m:\u001b[0m\u001b[1;33m\u001b[0m\u001b[0m\n",
      "\u001b[1;32mpandas\\_libs\\parsers.pyx\u001b[0m in \u001b[0;36mpandas._libs.parsers.TextReader.read\u001b[1;34m()\u001b[0m\n",
      "\u001b[1;32mpandas\\_libs\\parsers.pyx\u001b[0m in \u001b[0;36mpandas._libs.parsers.TextReader._read_low_memory\u001b[1;34m()\u001b[0m\n",
      "\u001b[1;32mpandas\\_libs\\parsers.pyx\u001b[0m in \u001b[0;36mpandas._libs.parsers.TextReader._read_rows\u001b[1;34m()\u001b[0m\n",
      "\u001b[1;32mpandas\\_libs\\parsers.pyx\u001b[0m in \u001b[0;36mpandas._libs.parsers.TextReader._tokenize_rows\u001b[1;34m()\u001b[0m\n",
      "\u001b[1;32mpandas\\_libs\\parsers.pyx\u001b[0m in \u001b[0;36mpandas._libs.parsers.raise_parser_error\u001b[1;34m()\u001b[0m\n",
      "\u001b[1;31mParserError\u001b[0m: Error tokenizing data. C error: Expected 1 fields in line 3, saw 2\n"
     ]
    }
   ],
   "source": [
    "df = pd.read_csv(r'gold_standard/goudenstandaard_typoval.xlsx', sep=\"|\")"
   ]
  },
  {
   "cell_type": "markdown",
   "metadata": {},
   "source": [
    "### Read & Process Golden standard"
   ]
  },
  {
   "cell_type": "code",
   "execution_count": 3,
   "metadata": {},
   "outputs": [
    {
     "name": "stdout",
     "output_type": "stream",
     "text": [
      "Rows: 45012\tColumns: 56\n"
     ]
    }
   ],
   "source": [
    "print(pc_df.getDim())"
   ]
  },
  {
   "cell_type": "code",
   "execution_count": null,
   "metadata": {},
   "outputs": [],
   "source": [
    "def getSurroundingWords(row):\n",
    "    return\n",
    "\n",
    "pc_df.getDF()['XANTWOORD'].apply(lambda x : getSurroundingWords(x))\n",
    "\n"
   ]
  },
  {
   "cell_type": "code",
   "execution_count": 5,
   "metadata": {},
   "outputs": [
    {
     "name": "stdout",
     "output_type": "stream",
     "text": [
      "1\n",
      "11\n",
      "14\n",
      "16\n",
      "26\n",
      "29\n",
      "35\n",
      "39\n",
      "40\n",
      "53\n",
      "88\n",
      "89\n",
      "99\n",
      "  eacnumm zkhpatnr comet studie geslacht age_incl diagstat bezdat_rn1 mtx_pn  \\\n",
      "0    1110  0865644            0        1     49,8        1   4/7/1999      1   \n",
      "1    1121  6110525            0        2     51,6        1   4/6/1999      0   \n",
      "2    1128  6311520            0        1     35,4        1  4/29/1999      0   \n",
      "3    1142  0304500            0        1     68,4        1  5/20/1999      1   \n",
      "4    1151  0262900            0        1     37,1        1  6/22/1999      1   \n",
      "\n",
      "  mtxmis   ...   medici3 medici4 medicia inclusie_medica1 inclusie_medica2  \\\n",
      "0      0   ...       NaN     NaN     NaN              NaN              NaN   \n",
      "1      0   ...                                          2                7   \n",
      "2      0   ...                                          2                    \n",
      "3      0   ...                                          2                4   \n",
      "4      0   ...                                          2                    \n",
      "\n",
      "  inclusie_medicat diag1_medica1 diag4_beznr diag4_bezdat medica3  \n",
      "0              NaN           NaN         NaN          NaN     NaN  \n",
      "1                              2           4    9/12/2000          \n",
      "2                              2           4    5/30/2000          \n",
      "3                              2           4    6/13/2000          \n",
      "4                              2           4    8/11/2000       7  \n",
      "\n",
      "[5 rows x 208 columns]\n"
     ]
    }
   ],
   "source": [
    "def isDigit(string):\n",
    "    try: \n",
    "        int(string)\n",
    "        return True\n",
    "    except ValueError:\n",
    "        return False\n",
    "        \n",
    "df = pd.read_csv(r'input_files/goldstandardEMR_mining.csv', sep=\";\")\n",
    "index_list = []\n",
    "for index, row in df.iterrows(): # some rows incorrectly interpreted.\n",
    "    if isDigit(row['eacnumm']) == False:\n",
    "        index_list.append(index)\n",
    "        print(index)\n",
    "df_cor = df.copy()\n",
    "start = df.columns.get_loc(\"diag4_medicat\")+1\n",
    "for x in index_list:\n",
    "    df_cor.loc[x-1, 'diag4_medicat'] = str(df.loc[x-1, 'diag4_medicat']) + ', ' + str(df.loc[x, 'eacnumm'])\n",
    "    for key, value in df.iloc[x-1, start:].iteritems():\n",
    "        df_cor.loc[x-1, key] = value\n",
    "df_cor = df_cor.drop(df_cor.index[index_list])\n",
    "df_cor.reset_index(inplace=True)\n",
    "del df_cor['index']\n",
    "print(df_cor.head())\n",
    "df_cor.to_csv('input_files/EMR_goldenstandard.csv', sep='|', index=False)"
   ]
  },
  {
   "cell_type": "code",
   "execution_count": 67,
   "metadata": {},
   "outputs": [
    {
     "name": "stdout",
     "output_type": "stream",
     "text": [
      "[9655006 7043920 4071686 ... 1999476 7475742 7614373]\n"
     ]
    },
    {
     "data": {
      "text/plain": [
       "417"
      ]
     },
     "execution_count": 67,
     "metadata": {},
     "output_type": "execute_result"
    }
   ],
   "source": [
    "# Determine intersection Golden Standard\n",
    "def determineIntersection(s1, s2):\n",
    "    # Input = column (Pandas Series)\n",
    "    a1 = s1.unique()\n",
    "    a1 = a1[a1 != np.array(None)]\n",
    "    a2 = s2.unique()\n",
    "    a2 = a2[a2 != np.array(None)]\n",
    "    print(a2)\n",
    "    return len(np.intersect1d(a1, a2))\n",
    "\n",
    "df_gold = df_gold.replace(r'^\\s+$', np.nan, regex=True)\n",
    "df_gold['zkhpatnr'] = df_gold['zkhpatnr'].fillna(-1)\n",
    "df_gold['zkhpatnr'] = df_gold['zkhpatnr'].astype(int)\n",
    "determineIntersection(df_gold['zkhpatnr'], pc_df.getDF()['PATNR'])"
   ]
  },
  {
   "cell_type": "code",
   "execution_count": 4,
   "metadata": {},
   "outputs": [
    {
     "name": "stdout",
     "output_type": "stream",
     "text": [
      "21\n",
      "21\n",
      "anti-tnf Calculated amount of Typos: 2\n",
      "sulfasalazine Calculated amount of Typos: 5\n",
      "adalimumab Calculated amount of Typos: 3\n",
      "prednison Calculated amount of Typos: 4\n",
      "etanercept Calculated amount of Typos: 4\n",
      "tocilizumab Calculated amount of Typos: 2\n",
      "methotrexaat Calculated amount of Typos: 1\n",
      "prednisolon Calculated amount of Typos: 3\n",
      "depomedrol Calculated amount of Typos: 5\n",
      "hydroxychloroquine Calculated amount of Typos: 1\n",
      "leflunomide Calculated amount of Typos: 7\n",
      "infliximab Calculated amount of Typos: 1\n",
      "32\n"
     ]
    }
   ],
   "source": [
    "#print(MEDICINE)\n",
    "#print(pc_df.med_list)\n",
    "#df_REUBEL = read_csv(r'output_files/DF_REUBEL.csv')\n",
    "#pc_df = em.Processing(df_REUBEL)\n",
    "#print(pc_df.med_list)\n",
    "\n",
    "df_test = pc_df.getDF().sample(n=1000)\n",
    "#print(df_test.head(5))\n",
    "pc_df.setDF(df_test)\n",
    "print(len(pc_df.d_cutoff))\n",
    "print(len(pc_df.med_list))\n",
    "df_corrected, l_typo_found = pc_df.typoProcessing('XANTWOORD')\n",
    "print(len(l_typo_found))\n",
    "\n",
    "# daarna .getDF -> daar kun je de resterende regels (l_typo_found van af trekken)\n",
    "\n",
    "\n",
    "#d_cut = pc_df.getDictCutOff()\n",
    "#print(pc_df.d_cut)"
   ]
  },
  {
   "cell_type": "code",
   "execution_count": 8,
   "metadata": {},
   "outputs": [
    {
     "name": "stdout",
     "output_type": "stream",
     "text": [
      "2412     controle 1 jaar lab a 6 maanden ( gezien stabi...\n",
      "26385    brief nog afmaken retour huisarts ( tzt colchi...\n",
      "37309    prberen methotrexaat naar 12,5 mg per week con...\n",
      "27322                     heeft afspraak in dec lab vooraf\n",
      "15904                     recept hydroxychloroquine gefaxt\n",
      "Name: XANTWOORD, dtype: object\n",
      "['509', '820', '508', '384', '651', '783', '28', '965', '286', '98', '987', '456', '177', '454', '79', '605', '631', '134', '533', '471', '758', '927', '541', '347', '818', '719', '776', '559', '135', '204', '830', '887']\n",
      "   methotrexaat  leflunomide  sulfasalazine  hydroxychloroquine  azathioprine  \\\n",
      "0             1            7              5                   1             0   \n",
      "\n",
      "   ciclosporine  abatacept  adalimumab  anakinra  certolizumab    ...     \\\n",
      "0             0          0           3         0             0    ...      \n",
      "\n",
      "   golimumab  infliximab  rituximab  tocilizumab  tofacitinib  baricitinib  \\\n",
      "0          0           1          0            2            0            0   \n",
      "\n",
      "   depomedrol  prednison  prednisolon  anti-tnf  \n",
      "0           5          4            3         2  \n",
      "\n",
      "[1 rows x 21 columns]\n"
     ]
    }
   ],
   "source": [
    "import pickle\n",
    "print(df_corrected['XANTWOORD'].head(5))\n",
    "print(l_typo_found)\n",
    "df_nlp = read_csv(r'output_files/DF_TyposPerCat.csv')\n",
    "print(df_nlp.head())\n"
   ]
  },
  {
   "cell_type": "code",
   "execution_count": 86,
   "metadata": {},
   "outputs": [
    {
     "name": "stdout",
     "output_type": "stream",
     "text": [
      "[3, 2, 4, 1]\n"
     ]
    }
   ],
   "source": [
    "import random\n",
    "group_of_items = [1, 2, 3, 4]               # a sequence or set will work here.\n",
    "num_to_select = 4                           # set the number to select here.\n",
    "list_of_random_items = random.sample(group_of_items, num_to_select)\n",
    "print(str(list_of_random_items))"
   ]
  },
  {
   "cell_type": "code",
   "execution_count": 31,
   "metadata": {
    "scrolled": false
   },
   "outputs": [
    {
     "name": "stdout",
     "output_type": "stream",
     "text": [
      "['corpus/GSC-v1.1\\\\EMEA_en_de_mal.xml', 'corpus/GSC-v1.1\\\\EMEA_en_es_mal.xml', 'corpus/GSC-v1.1\\\\EMEA_en_fr_mal.xml', 'corpus/GSC-v1.1\\\\EMEA_en_nl_mal.xml', 'corpus/GSC-v1.1\\\\EMEA_GSC_de_man.xml', 'corpus/GSC-v1.1\\\\EMEA_GSC_en_man.xml', 'corpus/GSC-v1.1\\\\EMEA_GSC_es_man.xml', 'corpus/GSC-v1.1\\\\EMEA_GSC_fr_man.xml', 'corpus/GSC-v1.1\\\\EMEA_GSC_nl_man.xml', 'corpus/GSC-v1.1\\\\MantraAlign.xsd', 'corpus/GSC-v1.1\\\\MantraAnnotate.xsd', 'corpus/GSC-v1.1\\\\mantraDataEncoding.pdf', 'corpus/GSC-v1.1\\\\Medline_en_de_mal.xml', 'corpus/GSC-v1.1\\\\Medline_en_es_mal.xml', 'corpus/GSC-v1.1\\\\Medline_en_fr_mal.xml', 'corpus/GSC-v1.1\\\\Medline_en_nl_mal.xml', 'corpus/GSC-v1.1\\\\Medline_GSC_de_man.xml', 'corpus/GSC-v1.1\\\\Medline_GSC_en_de_man.xml', 'corpus/GSC-v1.1\\\\Medline_GSC_en_es_man.xml', 'corpus/GSC-v1.1\\\\Medline_GSC_en_fr_man.xml', 'corpus/GSC-v1.1\\\\Medline_GSC_en_nl_man.xml', 'corpus/GSC-v1.1\\\\Medline_GSC_es_man.xml', 'corpus/GSC-v1.1\\\\Medline_GSC_fr_man.xml', 'corpus/GSC-v1.1\\\\Medline_GSC_nl_man.xml', 'corpus/GSC-v1.1\\\\Patent_en_de_mal.xml', 'corpus/GSC-v1.1\\\\Patent_en_fr_mal.xml', 'corpus/GSC-v1.1\\\\Patent_GSC_de_man.xml', 'corpus/GSC-v1.1\\\\Patent_GSC_en_man.xml', 'corpus/GSC-v1.1\\\\Patent_GSC_fr_man.xml', 'corpus/GSC-v1.1\\\\readme.txt', 'corpus/GSC-v1.1\\\\sample.txt']\n"
     ]
    },
    {
     "ename": "ParseError",
     "evalue": "syntax error: line 1, column 0 (<string>)",
     "output_type": "error",
     "traceback": [
      "Traceback \u001b[1;36m(most recent call last)\u001b[0m:\n",
      "  File \u001b[0;32m\"E:\\modules\\Anaconda\\Program\\lib\\site-packages\\IPython\\core\\interactiveshell.py\"\u001b[0m, line \u001b[0;32m2963\u001b[0m, in \u001b[0;35mrun_code\u001b[0m\n    exec(code_obj, self.user_global_ns, self.user_ns)\n",
      "  File \u001b[0;32m\"<ipython-input-31-37234d383b6c>\"\u001b[0m, line \u001b[0;32m21\u001b[0m, in \u001b[0;35m<module>\u001b[0m\n    print(corpus.words('sample.txt'))\n",
      "  File \u001b[0;32m\"E:\\modules\\Anaconda\\Program\\lib\\site-packages\\nltk\\corpus\\reader\\xmldocs.py\"\u001b[0m, line \u001b[0;32m66\u001b[0m, in \u001b[0;35mwords\u001b[0m\n    elt = self.xml(fileid)\n",
      "  File \u001b[0;32m\"E:\\modules\\Anaconda\\Program\\lib\\site-packages\\nltk\\corpus\\reader\\xmldocs.py\"\u001b[0m, line \u001b[0;32m49\u001b[0m, in \u001b[0;35mxml\u001b[0m\n    elt = ElementTree.parse(self.abspath(fileid).open()).getroot()\n",
      "  File \u001b[0;32m\"E:\\modules\\Anaconda\\Program\\lib\\xml\\etree\\ElementTree.py\"\u001b[0m, line \u001b[0;32m1196\u001b[0m, in \u001b[0;35mparse\u001b[0m\n    tree.parse(source, parser)\n",
      "\u001b[1;36m  File \u001b[1;32m\"E:\\modules\\Anaconda\\Program\\lib\\xml\\etree\\ElementTree.py\"\u001b[1;36m, line \u001b[1;32m597\u001b[1;36m, in \u001b[1;35mparse\u001b[1;36m\u001b[0m\n\u001b[1;33m    self._root = parser._parse_whole(source)\u001b[0m\n",
      "\u001b[1;36m  File \u001b[1;32m\"<string>\"\u001b[1;36m, line \u001b[1;32munknown\u001b[0m\n\u001b[1;31mParseError\u001b[0m\u001b[1;31m:\u001b[0m syntax error: line 1, column 0\n"
     ]
    }
   ],
   "source": [
    "import nltk.corpus\n",
    "from nltk.tokenize import RegexpTokenizer\n",
    "from nltk.corpus.util import LazyCorpusLoader\n",
    "from nltk.corpus.reader import *\n",
    "from nltk.corpus.reader import AlignedCorpusReader\n",
    "from glob import glob\n",
    "from nltk.corpus.reader import XMLCorpusReader\n",
    "import re\n",
    "\n",
    "texts = glob('corpus/GSC-v1.1/*')\n",
    "print(texts)\n",
    "#for item_path in texts:\n",
    "#    print(item_path)\n",
    "    \n",
    "file_ids = []\n",
    "for item_path in texts:\n",
    "    file_ids.append(re.sub('corpus/GSC-v1.1/', '', item_path))    \n",
    "corpus = XMLCorpusReader('corpus/GSC-v1.1/', file_ids)\n",
    "#eader = corpus.xml('EMEA_en_nl_mal.xml')\n",
    "\n",
    "print(corpus.words('sample.txt'))\n",
    "\"\"\"\n",
    "corpus_root = './'\n",
    "#reader = XMLCorpusReader(r'corpus/GSC-v1.1', r'Medline_en_nl_mal.xml')\n",
    "reader = XMLCorpusReader(r'corpus/GSC-v1.1', r'Medline_en_nl_mal.xml')\n",
    "#gnpec = AlignedCorpusReader(r'corpus/GSC-v1.1', r'EMEA_en_nl_mal.xml')\n",
    "print(len(reader.words()))\n",
    "emma = reader.words(r'sample.txt')\n",
    "print(emma)\n",
    "\n",
    "abc = LazyCorpusLoader(\n",
    "    'abc',\n",
    "    PlaintextCorpusReader,\n",
    "    r'(?!\\.).*\\.txt',\n",
    "    encoding=[('science', 'latin_1'), ('rural', 'utf8')],\n",
    ")\n",
    "#reader = XMLCorpusReader(r'corpus/GSC-v1.1', r'EMEA_en_nl_mal.xml')\n",
    "\n",
    "\n",
    "#newcorpus = PlaintextCorpusReader(r'corpus/GSC-v1.1/EMEA_en_nl_mal.xml', '.*')\n",
    "print(reader)\n",
    "print(len(reader.raw())) #[1]\n",
    "\"\"\""
   ]
  },
  {
   "cell_type": "code",
   "execution_count": 45,
   "metadata": {},
   "outputs": [
    {
     "name": "stdout",
     "output_type": "stream",
     "text": [
      "[nltk_data] Downloading package punkt to\n",
      "[nltk_data]     C:\\Users\\tdmaarseveen\\AppData\\Roaming\\nltk_data...\n",
      "[nltk_data]   Unzipping tokenizers\\punkt.zip.\n",
      "['<', '?', 'xml', 'version=', \"''\", '1.0', \"''\", 'encoding=', \"''\", 'UTF-8', \"''\", 'standalone=', \"''\", 'yes', \"''\", '?', '>', '<', 'CorpusAlign', 'id=', \"''\", 'Medline_en_nl_mal', \"''\", 'sourceLang=', \"''\", 'en', \"''\", 'targetLang=', \"''\", 'nl', \"''\", 'sourceCorpus=', \"''\", 'Medline_en_man', \"''\", 'targetCorpus=', \"''\", 'Medline_nl_man', \"''\", 'date=', \"''\", '2012-11-12', \"''\", 'description=', \"''\", 'Link', 'between', 'en', 'and', 'nl', 'corpora', 'by', 'julielab', '.']\n"
     ]
    }
   ],
   "source": [
    "import io\n",
    "import xml.etree.ElementTree as ET\n",
    "tree = ET.parse('country_data.xml')\n",
    "root = tree.getroot()\n",
    "nltk.download('punkt')\n",
    "\n",
    "tree = ET.parse(r'corpus/GSC-v1.1/Medline_en_nl_mal.xml' , 'r', encoding='utf8')\n",
    "raw = f.read()\n",
    "#my method\n",
    "tokens = [nltk.word_tokenize(sent) for sent in nltk.sent_tokenize(raw)]\n",
    "train_sents = nltk.Text(tokens)\n",
    "print(train_sents[0])"
   ]
  },
  {
   "cell_type": "code",
   "execution_count": 3,
   "metadata": {},
   "outputs": [
    {
     "name": "stdout",
     "output_type": "stream",
     "text": [
      "[<bratreader.sentence.Sentence object at 0x00000000084104E0>]\n",
      "[Annotation: b'braken', Annotation: b'braken', Annotation: b'braken', Annotation: b'koorts', Annotation: b'koorts', Annotation: b'koorts', Annotation: b'infectie', Annotation: b'infectie', Annotation: b'infectie']\n"
     ]
    }
   ],
   "source": [
    "import bratreader\n",
    "from bratreader.repomodel import RepoModel\n",
    "\n",
    "r = RepoModel(r\"C:/Users/tdmaarseveen/Desktop/EMR_mining/corpus/EMCDutchClinicalCorpus/EMCDutchClinicalCorpus/SP\") # load repomodel\n",
    "r.documents            \t\t\t    # all documents in your brat corpus\n",
    "\n",
    "doc = r.documents[\"SP1111\"] \t\t\t# get document with key 001\n",
    "print(doc.sentences)    \t\t\t# a list of sentences in document\n",
    "print(doc.annotations)  \t\t\t# the annotation objects in a document\n",
    "\n",
    "# Save to XML\n",
    "r.save_xml(\"my_folder\")"
   ]
  },
  {
   "cell_type": "code",
   "execution_count": 30,
   "metadata": {
    "scrolled": true
   },
   "outputs": [
    {
     "name": "stdout",
     "output_type": "stream",
     "text": [
      "         ID     LIJSTID CATEGORIE                      DATUM   TIJD  \\\n",
      "0  96763433  CS00000503  REU       2011-07-08 00:00:00+00:00  13:07   \n",
      "1  96776947  CS00000503  REU       2011-07-25 00:00:00+00:00  12:18   \n",
      "2  96761548  CS00000503  REU       2011-07-05 00:00:00+00:00  11:42   \n",
      "3  96904311  CS00000503  REU       2011-12-13 00:00:00+00:00  13:46   \n",
      "4  96816027  CS00000503  REU       2011-08-25 00:00:00+00:00  10:46   \n",
      "\n",
      "                MUTDAT MUTTIJD GEBRUIKER  DEFINITIEF  COMPLEET   ...     \\\n",
      "0  2011-07-08 00:00:00  13:10   10388     False       False      ...      \n",
      "1  2011-07-25 00:00:00  12:25   10388     False       False      ...      \n",
      "2  2011-07-05 00:00:00  11:51   06800     False       False      ...      \n",
      "3  2011-12-13 00:00:00  22:16   11085     False       False      ...      \n",
      "4  2011-08-25 00:00:00  10:47   16283     False       False      ...      \n",
      "\n",
      "   VRLIJSTTYPEID   DOSSIERID  PARENTBEANTWID  REALSUBID  EENHEIDCD  MODEL_ID  \\\n",
      "0  TC             REU9655006 NaN             NaN        NaN        NaN         \n",
      "1  PVC            REU7043920 NaN             NaN        NaN        NaN         \n",
      "2  PVC            REU4071686 NaN             NaN        NaN        NaN         \n",
      "3  PVC            1000021726 NaN             NaN        NaN        NaN         \n",
      "4  OA             1000091007 NaN             NaN        NaN        NaN         \n",
      "\n",
      "  CONFIG DATA  STELLING  DUURTOT  \n",
      "0 NaN    NaN   Beleid    2783     \n",
      "1 NaN    NaN   Beleid    843      \n",
      "2 NaN    NaN   Beleid    1455     \n",
      "3 NaN    NaN   Beleid    2289     \n",
      "4 NaN    NaN   Beleid    2338     \n",
      "\n",
      "[5 rows x 56 columns]\n"
     ]
    },
    {
     "data": {
      "text/plain": [
       "225      expectatief, hoofdbehandelaar longarts co over 4 maanden of bij klachten pcm 3dd toevoegen aan naproxen                                                                                                                                                                                                                                                                                                                                                                                                                                                                                                                                                                                                                  \n",
       "360      iom jvr : zo door bij verhoogde rr bij voglende infuus dan contact opnemen met de huisarts voor vervolg rr. tc volgende week : zoveel dorst door droge slijmvliezen. retour 4 maanden met lab                                                                                                                                                                                                                                                                                                                                                                                                                                                                                                                            \n",
       "393      herstart methotrexaat iom jvr 10mg / week + fz info methotrexaat gegeven                                                                                                                                                                                                                                                                                                                                                                                                                                                                                                                                                                                                                                                 \n",
       "398      voorstel methotrexaat verlagen. pt wil niet. de vorige keer te snel weer opvalmming. is bang dat het zijn werk beinvloed. retour over 6 maanden , 3 maandelijks lab                                                                                                                                                                                                                                                                                                                                                                                                                                                                                                                                                      \n",
       "413      iom dr van gaalen over 4 weken herhaal lab. indien ontstekingsparameters hersteld dan stop hydroxychloroquine. co 1 jaar met lab, 6 maandelijks lab gb = gb longfunctie door longarts gecontroleerd                                                                                                                                                                                                                                                                                                                                                                                                                                                                                                                      \n",
       "417      naar huisarts met glucose ( 15, niet nuchter ) reotur 6 maanden , 3 maandelijks lab pm brief                                                                                                                                                                                                                                                                                                                                                                                                                                                                                                                                                                                                                             \n",
       "1601     start etanercept pen                                                                                                                                                                                                                                                                                                                                                                                                                                                                                                                                                                                                                                                                                                     \n",
       "2024     nu op 12.5 mg laten ( in overleg met patiente, had van mij ook naar 1dd15mg gemogen )                                                                                                                                                                                                                                                                                                                                                                                                                                                                                                                                                                                                                                    \n",
       "2025     met name op verzoek pte door met hydroxychloroquine en arcoxia co over 6 maanden                                                                                                                                                                                                                                                                                                                                                                                                                                                                                                                                                                                                                                         \n",
       "2063     start toclizumab iom dr in t veldt prednison nu 6 wekekn door op 7.5 mg , nadien met 2.5 mg per week dalen. en dan stop. indien toch snel weer kalchten ( pt heeft bijan jaar lang prednison gebruikt, dan 2.5mg om de dag. retour bij dr vd woude augustus                                                                                                                                                                                                                                                                                                                                                                                                                                                              \n",
       "2073     methotrexaat verhogen naar 20mg / week + 4 wekelijks wa voor de volgende keer i . m familie depomedrol 120mg i . m ( familie benoemt hoog risico op extra pillen gebruik stop morfine pillen x-handen en voeten                                                                                                                                                                                                                                                                                                                                                                                                                                                                                                          \n",
       "2074     start etanercept 50mg / week in pen brief buitenland                                                                                                                                                                                                                                                                                                                                                                                                                                                                                                                                                                                                                                                                     \n",
       "2075     iom dr vd woude : indien actieve ziekte / nog activiteit in de voeten i . a. injecties en / of hydroxychloroquine toevoegen bloed afnemen onderzoek                                                                                                                                                                                                                                                                                                                                                                                                                                                                                                                                                                      \n",
       "2088     iom fga : nsaids expectatief hoe dan ook eerst de 6 weken klachten afmaken co over 3 weken met lab en urine pcm 3dd toevoegen                                                                                                                                                                                                                                                                                                                                                                                                                                                                                                                                                                                            \n",
       "2167     x-thorax hep b, c mantoux bel afspraak na uitslagen ( wel doen vorige net een jaar geedlen ) iccoogarts                                                                                                                                                                                                                                                                                                                                                                                                                                                                                                                                                                                                                  \n",
       "2171     advies : bij stil zitten de benen blijven bewegen probeer hometrainer activiteit te verhogen naar 2x op een dag 20 rondjes overleg fysio : mogelijk instructie gericht op preventie startsitjfheid ? volgende week weer lab herhalen                                                                                                                                                                                                                                                                                                                                                                                                                                                                                     \n",
       "2245     nu screening voor start x-thorax hep b, c, mantoux bel afspraak na uitslagen                                                                                                                                                                                                                                                                                                                                                                                                                                                                                                                                                                                                                                             \n",
       "2249     iom jdv : nogmaals 120 mg depomedrol methotrexaat 25mg / week eerst lab prikken indien ruimte dan methotrexaat omhoog naar 25mg, tenzij geen activiteit meer > gefaxt naar schoolstraat potheek voorschoten n . b. gezien nierfunctie verhoging even uitgesteld en dus niet gefaxt co poli 4 mdn x-cwk aanmelden voor raz : fysio : optimailseren . beweeglijkheid ergo : veel beperkingen door artrose, hoe te bewegen met pijn, zelfzorg arts : optimalisatie behandeling en pijnstliing ( aandahct combi methotrexaat en nierfuncite ) maatschappelijk werk : nog aanvullende mogelijkheden voor zorg / vergoeding thuis vpgk : uitleg over wanneer aan de bel trekken, belang van . bloed controles netjes laten doen\n",
       "2316     gezien de zwellingen pragmatische oplossing : - nu starten colchicine, kijken naar het effect, indien over een week geen effect dan alsnog starten met methotrexaat iom dwo plan was om te starten met methotrexaat                                                                                                                                                                                                                                                                                                                                                                                                                                                                                                      \n",
       "2318     iom jdv sulfasalazine zo houden prednison afbouwen ( pt heeft moeite het allemaal te begrijpen ) calci + vit d alendroline zuur us crp nabepalen                                                                                                                                                                                                                                                                                                                                                                                                                                                                                                                                                                         \n",
       "2543     fga infuus plannen geen rescreening nodig voor tbc / hep b                                                                                                                                                                                                                                                                                                                                                                                                                                                                                                                                                                                                                                                               \n",
       "2544     99040 pt akkoord voor synovium en serum voor onderzoek met patient besproken dat er afwijkende bloeduitslagen blijven. gezien de urologische operatie ( zou op korte termijn kunnen ) eerst dat doen , daarna aandacht voor resterende klachten en bloedafwijkingen wij kopelen dit ook terug naar de huisarts. pt is hiermee akkoord.                                                                                                                                                                                                                                                                                                                                                                                   \n",
       "2545     doel : streven naar behoud van zelfstandigheid door verhogen van functioneren en eventueel accepteren van hulpmiddelen. orthostatische hypotensie medicatie wijzigingen overwegen.                                                                                                                                                                                                                                                                                                                                                                                                                                                                                                                                       \n",
       "2595     iom jdv : damrd op geleide van kliniek > geen activiteit geen reden voor dmard geen methotrexaat combineren met co-trim ! n . b. pt was in de veronderstelling dat hij cotrim vandaag kon staken echter inzi heeft het t / m 10 sept voorgeschreven opnieuw recept meegegeven ) co zoals al stond gepland oktober 2015 bij dwo                                                                                                                                                                                                                                                                                                                                                                                           \n",
       "2624     iom jdv voorstel : opties : indien nog actief of klachten laagdrempeling 1. toevoegen van sulfasalazine en hydroxychloroquine ( of alleen ) 2. methotrexaat s . c. 3. switch leflunomide ( indien methotrexaat echt niets heeft gedaan ) gekozen voor 2 ivm lage ziekte actiivteit en maagklachten een maande na anavang methotrexaat s . c. lab controle afh. daarvan vervolg lab controle s of niet co 4 maanden met lab vooraf                                                                                                                                                                                                                                                                                        \n",
       "2676     nu urinesediemnt + complement x-thorax > geen afwijkingen zichtbaar. iom fga ivm pijn en artrtitis start prednison 15mg per dag voor 3 dagen, nadien 1dd10mg stop advil co einde van de week tzt switch naar methotrexaat > > voor thuisgang had ik het creat en overleg met fga gezien onveranderde nierfunctie werkdiagnose bijwerking advil . start prednison ivm artritis > > vanavond zie ik uitslag urinesediment : proteinurie, leucocyturie, verhoogd creat verlies. serum albumine 27 . dd toch nefrotisch syndroom bij sle of bij advil pt geinformeerd niet met prednison te starten om evt diagnostiek niet te beinvloeden morgen overleg met nefroloog                                                      \n",
       "2683     plan was aanvang methotrexaat, nu eerst opnieuw beoordelen zwelling n . b. pt ook doorverwijzen naar de early artritis zorgpad                                                                                                                                                                                                                                                                                                                                                                                                                                                                                                                                                                                           \n",
       "2685     biological zinvol na bevalling ( mede gezien uvetitis en recidiverden prednison nodig ) lab herhalen brief                                                                                                                                                                                                                                                                                                                                                                                                                                                                                                                                                                                                               \n",
       "2704     binnenkort afspraak internist ( heptisit serologi e . d. aan diegene overlaten ) echo hand volgt, ben heel benieuwd naar de uitslagn : als artritis dan reoutr onze poli. indien geen artritis dan einde betrokkenhe . d reumatologie                                                                                                                                                                                                                                                                                                                                                                                                                                                                                    \n",
       "23511    iom thu in overleg met pt : nu adalimumab zo door 1x / 4weken door met methotrexaat co 6m met lab + x-hv                                                                                                                                                                                                                                                                                                                                                                                                                                                                                                                                                                                                                 \n",
       "                                                           ...                                                                                                                                                                                                                                                                                                                                                                                                                                                                                                                                                                                                                                                                    \n",
       "35197    bovenstaande besprokene door met afbouw prednison vnadaag lab                                                                                                                                                                                                                                                                                                                                                                                                                                                                                                                                                                                                                                                            \n",
       "35409    iom cal x-wervelkolom tc donderdag dan retour huisarrts                                                                                                                                                                                                                                                                                                                                                                                                                                                                                                                                                                                                                                                                  \n",
       "35418    iom fga : indicatie voor incisie icc heelkunde @ ( zou i . p. via seh moeten echter aldaar twee oranje getrieerde patienten dus ange wachttijd ) iom heelkunde pt kan langs poli algemene heelkunde lopen om te kijken of zij voor vanmiddag nog een plekje open hebben                                                                                                                                                                                                                                                                                                                                                                                                                                                  \n",
       "35422    mantoux en x-thorax uitleg gegeven over biological, risico op infectie, n . b. wanneer was het voorlichtingsgesprek bij liesbeth. gezien rapportage van . bijwerkingen, lijkt mij een goed gesprek met een verpleegkundige niet overbodig. etanercept maar per maand voor schrijven                                                                                                                                                                                                                                                                                                                                                                                                                                      \n",
       "35519    donderdag langskomen. woensdag lab prikken overweeg corticosteroiden ( veel pijn, pte zit in exame weken )                                                                                                                                                                                                                                                                                                                                                                                                                                                                                                                                                                                                               \n",
       "35530    voor nu door met prednison voor 3 weken ,nadien herbeoordeling ( 21 jan ) reeds een afsrpaak )                                                                                                                                                                                                                                                                                                                                                                                                                                                                                                                                                                                                                           \n",
       "35541    nu naar morgen lab herhalen opgeleide van klachten aanvulelnde infectie serologie ast + anti-dnase b . iom cal : 1dd7.5mg voor 3 weken                                                                                                                                                                                                                                                                                                                                                                                                                                                                                                                                                                                   \n",
       "35561    over op leflunomide extra afspraak bij liesbeht tusendoor maandeliks lab controle                                                                                                                                                                                                                                                                                                                                                                                                                                                                                                                                                                                                                                        \n",
       "35845    switch naar etanercept, toevoegen van methotrexaat en korte kuur verhoging prednison ( pijn staat nu minder op, maar dan krijgen ) we inzicht in hoeveel van de klachten herstelbaar zijn door anti-inflammatoire medicaite en welke problemen meer andere aanpassingen vragen . echo abdomen ? ( mede op suggestie dochter, ik ben voor ) @ fece op occult bloed evt .voglende keer ( nu niet aan toegekomen en ik zie ook niet hoe pt dat gaat doen, evt geen reden meer voor indien afwijkingen echo buik ) geen hepatitis en mantoux ivm reeds certolizumab gebruik                                                                                                                                                  \n",
       "36292    iom jdv : indien artirtis dan start leflunomide afspraak 8 feb laten staant prednison 30 dagen 1dd10mg daarna 30 dagen 1dd7.5mg daarna poli bezoek en vervolg prednison bepalen rr bij huisarts                                                                                                                                                                                                                                                                                                                                                                                                                                                                                                                          \n",
       "36307    tc 22 na uitlsag pa                                                                                                                                                                                                                                                                                                                                                                                                                                                                                                                                                                                                                                                                                                      \n",
       "37009    swtich tocilizumab naar adalimumab x-handen en voeten knieen prednison naar 1dd10mg ( later nog afbouw alendroline zuur ( ivm prendison en fractuur zonder duidelijk lab incl vit d en schildklier                                                                                                                                                                                                                                                                                                                                                                                                                                                                                                                       \n",
       "42916    iom met prof huizinga - co over 6 maanden x-handen en voeten vooraf en bekken vooraf - 3 maandelijks lab - alendrolinezuur is door de patiente gestaakt ivm advies dat te doen na 5 jaar gebruik .dat is idd zoals het geadviseerd wordt. nu ook geen verdere achteruitgang op dexa dus geen reden om dit anders te adviseren. - gezien het algemene # risico wel over een jaar de dexa herhalen. indien verdere daling dan doorverwijzen naar endocrinoloog ter overweging denosumab - voldoende kalk intake dus geen calcium toegevoegd                                                                                                                                                                                \n",
       "43070    belang van blijven bewegen en spieropbouw besproken. iom dr de vries voor nu door met etanercept en azathioprine beleid depomedrol : volgende depomedrol injectie over 2 maanden daarna proberen verlengen van de tussenpozen. retour poli 4.5 mnd met lab voordien                                                                                                                                                                                                                                                                                                                                                                                                                                                      \n",
       "43424    iom prof huizinga -aangezien goed effect zo door. pte was iets teleurgestedl dat de methotrexaat door moest, maar begreep uitleg ( voorkom flair bij te vroeg staken ) - retour over 3 maanden met lab                                                                                                                                                                                                                                                                                                                                                                                                                                                                                                                   \n",
       "43429    iom prof huizinga ivm remissie : afbouw naar 3mg / kg / 12weken. pt is akkoord. dus volgende infuus begin februari over een maand lab gb = gb co 6m met lab icc oogarts ivm hydroxychloroquine remsima ! ! ! voorschrijven inclusief opnames @ 2 febr degene daarna ook aangevraagd                                                                                                                                                                                                                                                                                                                                                                                                                                      \n",
       "43709    iom pt : methotrexaat naar 5mg / week co 6m met lab                                                                                                                                                                                                                                                                                                                                                                                                                                                                                                                                                                                                                                                                      \n",
       "43927    depo120mg i . m geen nieuwe tabletten voorgeschreven door met sulfasalazine i . m fga : plan van 03-01-2018 alsnog uitvoeren infliximab ( na screening ) + low dose leflunomide of hydroxychloroquine. ( waarom geen sulfasalazine ? vw. finch ? ) x- thorax + hepatitis screening ingezet. mantoux via raz advies pcm 3dd1000mg iburpofen z . n. voorlichting biological gegeven, echter graag zo vaak mogeliijk herhalen.                                                                                                                                                                                                                                                                                              \n",
       "44135    iom jvr methotrexaat 5mg / wk retour 6 mnd met lab + x-hv pt gaat akkoord met 5 buisjes bloed afname voor b cel onderzoek dr schrerer                                                                                                                                                                                                                                                                                                                                                                                                                                                                                                                                                                                    \n",
       "44354    iom prof huizinga : stabiele ziekte zo door op advies oogarts : stop hydroxychloroquine retour over 3 maanden lab maandelijks ( waaronder vandaag ) gb = gb advies : gewicht in de gaten houden. bi jverder verlies naar huisarts indien leverchemie > 100 dan tijdelijk staken methotrexaat voor 4 weken en herhalen 2-wekelijks lab plus tc. indien nog ziekteactiviteit overweeg swtich naar ? ? leflunomide en sulfasalazine geen goed plan ivm lever. biological ?                                                                                                                                                                                                                                                  \n",
       "44380    iom dr de vries co 6 mnd met lab , 3 maandelijks lab zo door tenzij nieuwe bevindingen indien arthritis : herstart methotrexaat op 10mg / wk met 4-wekelijks lab brief                                                                                                                                                                                                                                                                                                                                                                                                                                                                                                                                                   \n",
       "44415    iom jvr : lab herhalen over 4 weken gb = = gb retour poli over 5 maanden ( tegelijk of na longgeneeskunde ) met lab vooraf stop hydroxychloroquine                                                                                                                                                                                                                                                                                                                                                                                                                                                                                                                                                                       \n",
       "44422    methotrexaat + fz recepten meegegeven                                                                                                                                                                                                                                                                                                                                                                                                                                                                                                                                                                                                                                                                                    \n",
       "44707    zo door                                                                                                                                                                                                                                                                                                                                                                                                                                                                                                                                                                                                                                                                                                                  \n",
       "44789    keuze voorgelegd : door met methotrexaat of verhogen van methotrexaat ( dan wel maandelijks lab ) > pt verkiest methotrexaat zo door omdat hij geen zin heeft in meer lab keuze : retour over 3 maanden of 6 > pt kiest 6 mnd 3 maandelijks lab + voglende keer ook xhv huidafwijkingen oor aan huisarts laten zien ! ( dochter gemitiveerd, pt niet ) pm gloria > > niet mogelijk bij bepekrte                                                                                                                                                                                                                                                                                                                          \n",
       "44805    iom dr de vries mede op verzoek van pt ( ik kan mij hier goed in vinden ) door met mtx10mg . week retour 6 maanden + 3 maandelijks lab                                                                                                                                                                                                                                                                                                                                                                                                                                                                                                                                                                                   \n",
       "44809    i . m de vries : vandaag lab voor hep b load i . m raz : vandaag prikinstructies + voorlichting ( screening is rond : x-throax ok, mantoux was negatief, hept b pos maar i . m mdl zijn status geen contracindicatie voor start biological ) in afwachting op mdl depomedrol injectie ( 120mg i . m ) start etanercept 1w50mg ( recept is naar apotheek ) stop sap en hydroxychloroquine door met methotrexaat retour poli 3 maanden + lab                                                                                                                                                                                                                                                                               \n",
       "44861    lab volgt, gb = gb ( das dan bereken ) patiente wilt door met methotrexaat en prednison nu methotrexaat voor 1 maand voorgeschreven gaat eerst lab naar ons sturen en dan kan meer recepten vragen co 1j met lab en met lab tussendoor pm methotrexaat voor 6m pas voorschrijven en zorgen dat patiente lab heeft geprikt voor een nieuw recept                                                                                                                                                                                                                                                                                                                                                                          \n",
       "44888    herstart methotrexaat 1 maand op 10mg / week gevolgd door 15mg pwer + fz bijwerkingen doorgenomen x-hv + schouders lab - maandelijks gb = = gb depomedrol depomedrol 120mg i . m gegeven ( ik twijfel enigzins of ik wel diep genoeg zat voor i . m ) langs huisarts voor rr en glucose                                                                                                                                                                                                                                                                                                                                                                                                                                  \n",
       "44906    iom thu nog actief : voeg sulfasalazine toe pt wil over naar antoniushove ? ik stuur brief, pt kan opgeropen worden. zodra onder bij aanvang controle daar dan stop onze controle s brief anthoniushove @ brief huisarts @ verzoek polisecr. tot afronden overname naar ahove @                                                                                                                                                                                                                                                                                                                                                                                                                                          \n",
       "Name: XANTWOORD, Length: 425, dtype: object"
      ]
     },
     "execution_count": 30,
     "metadata": {},
     "output_type": "execute_result"
    }
   ],
   "source": [
    "#pc_df.getDF().head(20)['AUTEURCD']\n",
    "df_REU = pc_df.getDF()\n",
    "df_REU = df_REU.dropna(subset=['GEBRUIKER'])\n",
    "print(df_REU.head(5))\n",
    "#df_REU = df_REU.dropna(subset=['XANTWOORD'])\n",
    "#for x in pc_df.getDF():\n",
    "df_REU[df_REU['GEBRUIKER'].str.contains('18471')]['XANTWOORD']"
   ]
  },
  {
   "cell_type": "code",
   "execution_count": 16,
   "metadata": {},
   "outputs": [],
   "source": [
    "#print(pc_df.getDF().sample(n=10)['XANTWOORD'])\n",
    "#matchers = ['boven']\n",
    "#freq_list = []\n",
    "\n",
    "#print(len(['methotrexaat', 'leflunomide', 'sulfasalazine', 'hydroxychloroquine', 'azathioprine', 'ciclosporine', 'goud', 'abatacept', 'adalimumab', 'anakinra', 'certolizumab', 'etanercept', 'golimumab', 'infliximab', 'rituximab', 'tocilizumab', 'tofacitinib', 'baricitinib', 'depomedrol', 'prednison', 'prednisolon', 'anti-tnf']))\n",
    "\n",
    "pd.set_option('display.max_colwidth', -1)\n",
    "#pc_df.getDF()[pc_df.getDF()['XANTWOORD'].str.contains(' voud ')]['XANTWOORD']\n",
    "pc_df.getDF()[pc_df.getDF()['XANTWOORD'].str.contains(' voud ')]['XANTWOORD'].to_csv(r'output_files/DF_voud.csv', sep='|', index=False)"
   ]
  },
  {
   "cell_type": "markdown",
   "metadata": {},
   "source": [
    "# Step 1: Formatting data from files into pandas dataframe\n",
    "\n",
    "### 1.1 LOADING DDR_A table\n",
    "\n",
    "#### Convert DDR_A table from UTF16-le to ASCII \n",
    "    The DDR_A is converted to ASCII\n",
    "    Reminder: The DDR_A input table must first be cleansed of newlines!"
   ]
  },
  {
   "cell_type": "code",
   "execution_count": 10,
   "metadata": {},
   "outputs": [],
   "source": [
    "em.convert_to_ascii(r\"output_files/dbo.proc_DDR_A.txt\", r'fin_DDR_A.txt')"
   ]
  },
  {
   "cell_type": "markdown",
   "metadata": {},
   "source": [
    "### Loading DDR_A table & Taking patient selection with REU dossier\n",
    "\n",
    "1. Taking all of the rows where CATEGORIE equals REU\n",
    "2. Converting DATUM to DatetimeIndex\n",
    "3. Calculating the total timespan for every patient (this function causes errors if you havent loaded python3.5 and conda3)\n",
    "    - first sort values on patientnr and datum, then group by the patientnr and then select the greates difference\n",
    "4. Converting Time to Integer\n",
    "5. Replacing empty strings in XANTWOORD and DUURTOT with Nan\n",
    "6. Removing the Nans in XANTWOORD & STELLING\n",
    "7. Writing dataframe to DF_REU.csv\n",
    "8. Only selecting rows where STELLING == Beleid\n",
    "9. Writing dataframe to DF_REUBEL.csv\n"
   ]
  },
  {
   "cell_type": "code",
   "execution_count": 3,
   "metadata": {},
   "outputs": [
    {
     "name": "stderr",
     "output_type": "stream",
     "text": [
      "/exports/reum/tdmaarseveen/EMR_mining/emr_mining.py:98: SettingWithCopyWarning: \n",
      "A value is trying to be set on a copy of a slice from a DataFrame.\n",
      "Try using .loc[row_indexer,col_indexer] = value instead\n",
      "\n",
      "See the caveats in the documentation: http://pandas.pydata.org/pandas-docs/stable/indexing.html#indexing-view-versus-copy\n",
      "  self.df['DATUM'] = pd.DatetimeIndex(pd.to_datetime(self.df['DATUM'])).tz_localize('UTC')\n"
     ]
    },
    {
     "name": "stdout",
     "output_type": "stream",
     "text": [
      "Rows: 352161\tColumns: 56\n"
     ]
    }
   ],
   "source": [
    "conv_ddrA = em.build_convenient_list(r\"output_files/fin_DDR_A.txt\", \"|\", \"ascii\")\n",
    "df_ddrA = em.list_to_df(conv_ddrA)\n",
    "\n",
    "pc_df = em.Processing(df_ddrA)\n",
    "pc_df.createTableREU()\n",
    "pc_df.createTableREUBEL()\n",
    "print(pc_df.getDim())\n",
    "\n",
    "conv_ddrA = None\n",
    "\n",
    "#dcm_mv = build_convenient_list(r\"dbo.proc_DCM_MV.txt\", \"|\", \"utf-16\")\n",
    "#df_mv = list_to_df(dcm_mv)\n",
    "#dcm_mv = None\n"
   ]
  },
  {
   "cell_type": "markdown",
   "metadata": {},
   "source": [
    "## Step 2: Observing Data\n",
    "\n",
    "\n",
    "#### DDR_A Plot: Total timespan per patient in days (REU)"
   ]
  },
  {
   "cell_type": "code",
   "execution_count": 5,
   "metadata": {},
   "outputs": [
    {
     "data": {
      "text/plain": [
       "Text(-0.1,0.5,'Number of dossier entries')"
      ]
     },
     "execution_count": 5,
     "metadata": {},
     "output_type": "execute_result"
    },
    {
     "data": {
      "image/png": "[encoded data removed]",
      "text/plain": [
       "<matplotlib.figure.Figure at 0x7f3ccb22af98>"
      ]
     },
     "metadata": {},
     "output_type": "display_data"
    }
   ],
   "source": [
    "fig = pc_df.getDF().groupby('PATNR')['DUURTOT'].mean().hist(bins=20, figsize = (8,8))\n",
    "fig.set_title('Total timespan of care per patient with REU dossier', x=0.5, y=1.05, ha='center', fontsize='xx-large')\n",
    "\n",
    "fig.text(0.5, -0.1, 'Timespan in years', ha='center', fontsize='large', transform=fig.transAxes)\n",
    "fig.text(-0.1, 0.5, 'Number of dossier entries', va='center', rotation='vertical', fontsize='large', transform=fig.transAxes)\n"
   ]
  },
  {
   "cell_type": "markdown",
   "metadata": {},
   "source": [
    "#### DDR_A Plot: Unique dossier entries added per day with REU category\n",
    "\n",
    "##### Description figure:\n",
    "EZIS/ HIX started being utilized in 2011, which explains the sudden peak in 2011. Data before 2011 -> (old dossiers from meteor -> converted to HIX). Those rows don't have a Beleid section as well.\n",
    "These old dossiers are characterized with the line 'Conversie gegevens meteor'. "
   ]
  },
  {
   "cell_type": "code",
   "execution_count": 7,
   "metadata": {},
   "outputs": [
    {
     "data": {
      "text/plain": [
       "Text(-0.1,0.5,'Number of dossier entries')"
      ]
     },
     "execution_count": 7,
     "metadata": {},
     "output_type": "execute_result"
    },
    {
     "data": {
      "image/png": "[encoded data removed]",
      "text/plain": [
       "<matplotlib.figure.Figure at 0x7f3fb2c00780>"
      ]
     },
     "metadata": {},
     "output_type": "display_data"
    }
   ],
   "source": [
    "fig2 = pc_df.getDF().groupby(['DOSSIERID'])['DATUM'].nsmallest(1).hist(bins=50, figsize = (8,8)) \n",
    "\n",
    "fig2.set_title('Unique entries added per day with REU category', x=0.5, y=1.05, ha='center', fontsize='xx-large')\n",
    "fig2.text(0.5, -0.1, 'Timespan in years', ha='center', fontsize='large', transform=fig2.transAxes)\n",
    "fig2.text(-0.1, 0.5, 'Number of dossier entries', va='center', rotation='vertical', fontsize='large', transform=fig2.transAxes)"
   ]
  },
  {
   "cell_type": "markdown",
   "metadata": {},
   "source": [
    "#### Determine patients without REU category"
   ]
  },
  {
   "cell_type": "code",
   "execution_count": 8,
   "metadata": {},
   "outputs": [
    {
     "name": "stdout",
     "output_type": "stream",
     "text": [
      "3046\n"
     ]
    }
   ],
   "source": [
    "print(em.determineIntersection(df_ddrA['PATNR'], pc_df.getDF()['PATNR']))"
   ]
  },
  {
   "cell_type": "markdown",
   "metadata": {},
   "source": [
    "#### Frequency of Methotrexaat in different parts of the dossier (default: DF_REU)"
   ]
  },
  {
   "cell_type": "code",
   "execution_count": 10,
   "metadata": {},
   "outputs": [
    {
     "data": {
      "image/png": "[encoded data removed]",
      "text/plain": [
       "<matplotlib.figure.Figure at 0x7f52947c0668>"
      ]
     },
     "metadata": {},
     "output_type": "display_data"
    }
   ],
   "source": [
    "matchers = ['methotrexaat', 'mtx']\n",
    "freq_list = []\n",
    "\n",
    "for x in ['Algemeen', 'Anamnese', 'Conclusie', 'Beleid']:\n",
    "    matching = [s for s in pc_df.getDF()[pc_df.getDF()['STELLING'].isin([x])]['XANTWOORD'] if any(xs in s for xs in matchers)]\n",
    "    freq_list.append(len(matching))\n",
    "\n",
    "df = pd.DataFrame({'section':['Algemeen', 'Anamnese', 'Conclusie', 'Beleid'], 'frequency':freq_list})\n",
    "\n",
    "ax = df.plot(kind='bar', title =\"Frequency of Methotrexaat and associated terms in dossier\", x='section', figsize=(8, 8), legend=True, fontsize=12, rot=0)\n",
    "\n"
   ]
  },
  {
   "cell_type": "markdown",
   "metadata": {},
   "source": [
    "## Step 3: Natural Language Processing | Feature extraction\n"
   ]
  },
  {
   "cell_type": "markdown",
   "metadata": {},
   "source": [
    "### Reading df_REUBEL table & Removing Stopwords "
   ]
  },
  {
   "cell_type": "code",
   "execution_count": 5,
   "metadata": {},
   "outputs": [
    {
     "name": "stdout",
     "output_type": "stream",
     "text": [
      "2771\n"
     ]
    }
   ],
   "source": [
    "df_REUBEL = read_csv(r'output_files/DF_REUBEL.csv')\n",
    "pc_df = em.Processing(df_REUBEL)\n",
    "print(pc_df.getPatients())"
   ]
  },
  {
   "cell_type": "code",
   "execution_count": 57,
   "metadata": {
    "scrolled": true
   },
   "outputs": [
    {
     "name": "stdout",
     "output_type": "stream",
     "text": [
      "start methotrexaat stop de sulfasalazine verhoog dosis\n",
      "{}\n"
     ]
    }
   ],
   "source": [
    "import spacy\n",
    "from spacy import displacy as dis\n",
    "nlp = spacy.load(r'E:\\modules\\Anaconda\\Program\\Lib\\site-packages\\nl_core_news_sm\\nl_core_news_sm-2.0.0', parser=True)\n",
    "#nlp = spacy.load(r'E:\\modules\\Anaconda\\Program\\Lib\\site-packages\\nl_core_news_sm\\nl_core_news_sm-2.0.0', chunking=True)\n",
    "sent = \"D\"\n",
    "\n",
    "#print(nlp.chunks)\n",
    "\n",
    "def removeStop(sent):\n",
    "    # zo door -> door wordt gezien als Stop woord!\n",
    "    proc_sent = \"\"\n",
    "    doc = nlp(sent)\n",
    "    print(doc)\n",
    "    for word in doc:\n",
    "        print(word, word.tag_)\n",
    "        if (word.is_stop == False) or (word.dep_ == 'advmod' or word.dep_ == 'nmod'):\n",
    "            proc_sent += str(word) + \" \"\n",
    "    \n",
    "    #for chunk in doc.noun_chunks:\n",
    "\n",
    "    return proc_sent\n",
    "\n",
    "doc = nlp('zo door met mtx en leflunomide. start methotrexaat stop de sulfasalazine verhoog dosis')\n",
    "\n",
    "sentences = [x for x in doc.sents]\n",
    "print(sentences[1])\n",
    "#print([np.text for np in nlp('zo door met mtx en leflunomide. start methotrexaat stop de sulfasalazine verhoog dosis').noun_chunks])\n",
    "#print([(x.text, x.pos_) for x in nlp('zo door met mtx en leflunomide. start methotrexaat stop de sulfasalazine verhoog dosis') if x.pos_ != u'SPACE'])\n",
    "\n",
    "#dis.render(doc, style='dep', jupyter=True)\n",
    "print(dict([(str(x), x.label_) for x in nlp(str(sentences[1])).ents]))\n",
    "#print(removeStop('zo door met mtx en leflunomide. start methotrexaat stop de sulfasalazine verhoog dosis'))\n",
    "\n",
    "\n",
    "\n",
    "#df_nlp = df_REUBEL\n",
    "#df_nlp['XANTWOORD'] = df_REUBEL['XANTWOORD'].apply(lambda x: removeStop(str(x)))\n",
    "#df_nlp.to_csv('output_files/REUBEL_nlp.csv', sep='|')\n",
    "#df_nlp = read_csv('output_files/REUBEL_nlp.csv')"
   ]
  },
  {
   "cell_type": "code",
   "execution_count": 4,
   "metadata": {},
   "outputs": [],
   "source": [
    "import pattern.text.nl "
   ]
  },
  {
   "cell_type": "code",
   "execution_count": 48,
   "metadata": {},
   "outputs": [
    {
     "name": "stdout",
     "output_type": "stream",
     "text": [
      "\n",
      "cat1\n",
      "\n",
      "cat2\n",
      "\n",
      "dog1\n",
      "dog 0.2309401076758498\n",
      "wags 0.1154700538379249\n",
      "tail 0.1154700538379249\n",
      "happy 0.34641016151377513\n",
      "dog 0.06963106238227981\n",
      "wags 0.557048499058234\n",
      "tail 0.557048499058234\n",
      "happy 0.4177863742936744\n",
      "\n",
      "dog2\n",
      "dog 0.46188021535170054\n",
      "wags 0.23094010767585027\n",
      "tail 0.23094010767585027\n",
      "happy 0.6928203230275517\n",
      "dog 0.03481553119113982\n",
      "wags 0.27852424952911636\n",
      "tail 0.27852424952911636\n",
      "happy 0.2088931871468367\n"
     ]
    }
   ],
   "source": [
    "\n",
    "\n",
    "from pattern.vector import Document, Model\n",
    "\n",
    "d1 = Document('De kat kwispelt.', name='cat1')\n",
    "d2 = Document('De kat is nieuwsgierig.', name='cat2')\n",
    "d3 = Document('The dog wags his tail.', name='dog1')\n",
    "d4 = Document('The dog is happy.', name='dog2')\n",
    "\n",
    "m = Model([d1, d2, d3, d4])\n",
    "m.reduce(2)\n",
    " \n",
    "for d in m.documents:\n",
    "    print()\n",
    "    print(d.name)\n",
    "    for concept, w1 in m.lsa.vectors[d.id].items():\n",
    "        for feature, w2 in m.lsa.concepts[concept].items():\n",
    "            if w1 != 0 and w2 != 0:\n",
    "                print(feature, w1 * w2)\n",
    "\n"
   ]
  },
  {
   "cell_type": "code",
   "execution_count": 3,
   "metadata": {},
   "outputs": [
    {
     "name": "stdout",
     "output_type": "stream",
     "text": [
      "          WORD   TAG    CHUNK   ROLE   ID     PNP    LEMMA          \n",
      "                                                                    \n",
      "  polyartritis   NN     NP      -      -      -      polyartritis   \n",
      "          door   IN     PP      -      -      PNP    door           \n",
      "       actieve   JJ     NP      -      -      PNP    actief         \n",
      "            ra   NN     NP ^    -      -      PNP    ra             \n",
      "         onder   IN     PP      -      -      -      onder          \n",
      "    etanercept   VBZ    VP      -      -      -      etanerceppen   \n",
      "             (   (      -       -      -      -      (              \n",
      "            nu   RB     ADVP    -      -      -      nu             \n",
      "         sinds   IN     PP      -      -      PNP    sinds          \n",
      "            10   CD     NP      -      -      PNP    10             \n",
      "         weken   NNS    NP ^    -      -      PNP    week           \n",
      "             )   )      -       -      -      -      )              \n",
      "            en   CC     -       -      -      -      en             \n",
      "   leflunomide   VBD    VP      -      1      -      leflunomien    \n",
      "            20   CD     NP      OBJ    1      -      20             \n",
      "            mg   NN     NP ^    OBJ    1      -      mg             \n",
      "             (   (      -       -      -      -      (              \n",
      "            10   CD     NP      -      -      -      10             \n",
      "       maanden   NNS    NP ^    -      -      -      maand          \n",
      "             @   SYM    -       -      -      -      @              \n",
      "             2   CD     -       -      -      -      2              \n",
      "             .   .      -       -      -      -      .              \n",
      "\n",
      "          WORD   TAG    CHUNK   ROLE   ID     PNP    LEMMA       \n",
      "                                                                 \n",
      "            in   IN     PP      -      -      PNP    in          \n",
      "         ernst   NN     NP      SBJ    1      PNP    ernst       \n",
      "    toegenomen   VBN    VP      -      1      PNP    toenemen    \n",
      "          pijn   NN     NP      OBJ    1      PNP    pijn        \n",
      "        knieen   NNS    NP ^    OBJ    1      PNP    knie        \n",
      "           bdz   NN     NP ^    OBJ    1      PNP    bdz         \n",
      "             (   (      -       -      -      -      (           \n",
      "      waardoor   RB     VP      -      -      -      waardoor    \n",
      "         lopen   VB     VP ^    -      -      -      lopen       \n",
      "           met   IN     PP      -      -      PNP    met         \n",
      "      rollator   NN     NP      -      -      PNP    rollator    \n",
      "             )   )      -       -      -      -      )           \n",
      "             ,   ,      -       -      -      -      ,           \n",
      "           bij   IN     PP      -      -      PNP    bij         \n",
      "             1   CD     NP      -      -      PNP    1           \n",
      "            of   CC     NP ^    -      -      PNP    of          \n",
      "    secundaire   JJ     NP ^    -      -      PNP    secundair   \n",
      "       artrose   NN     NP ^    -      -      PNP    artrose     \n",
      "             .   .      -       -      -      -      .           \n",
      "\n",
      "          WORD   TAG    CHUNK   ROLE   ID     PNP    LEMMA   \n",
      "                                                             \n",
      "             @   SYM    -       -      -      -      @       \n",
      "             3   CD     -       -      -      -      3       \n",
      "             .   .      -       -      -      -      .       \n",
      "\n",
      "          WORD   TAG    CHUNK   ROLE   ID     PNP    LEMMA       \n",
      "                                                                 \n",
      "     passagere   JJR    NP      -      -      -      passager    \n",
      "          pijn   NN     NP ^    -      -      -      pijn        \n",
      "       lumbale   JJ     NP      -      -      -      lumbaal     \n",
      "            wk   NN     NP ^    -      -      -      wk          \n",
      "             ,   ,      -       -      -      -      ,           \n",
      "     inzakking   NN     NP      -      -      -      inzakking   \n",
      "             ?   .      -       -      -      -      ?           \n",
      "\n",
      "          WORD   TAG    CHUNK   ROLE   ID     PNP    LEMMA         \n",
      "                                                                   \n",
      "   diagnostiek   NN     NP      -      -      -      diagnostiek   \n",
      "   osteoporose   JJ     NP ^    -      -      -      osteoporoos   \n",
      "         volgt   NN     NP ^    -      -      -      volgt         \n",
      "             (   (      -       -      -      -      (             \n",
      "        elders   RB     ADVP    -      -      -      elders        \n",
      "             )   )      -       -      -      -      )             \n",
      "             @   SYM    -       -      -      -      @             \n",
      "             4   CD     -       -      -      -      4             \n",
      "             .   .      -       -      -      -      .             \n",
      "\n",
      "          WORD   TAG    CHUNK   ROLE   ID     PNP    LEMMA     \n",
      "                                                               \n",
      "       diarree   NN     NP      -      -      -      diarree   \n",
      "             .   .      -       -      -      -      .         \n",
      "\n",
      "          WORD   TAG    CHUNK   ROLE   ID     PNP    LEMMA        \n",
      "                                                                  \n",
      "            dd   NN     NP      -      -      -      dd           \n",
      "    metformine   NN     NP ^    -      -      -      metformine   \n",
      "             ,   ,      -       -      -      -      ,            \n",
      "             .   .      -       -      -      -      .            \n",
      "\n",
      "          WORD   TAG    CHUNK   ROLE   ID     PNP    LEMMA       \n",
      "                                                                 \n",
      "     coeliakie   NN     NP      -      -      -      coeliakie   \n",
      "             ?   .      -       -      -      -      ?           \n",
      "\n",
      "           WORD   TAG    CHUNK   ROLE   ID     PNP    LEMMA             \n",
      "                                                                        \n",
      "hyperthyreoidie   NN     NP      -      -      -      hyperthyreoidie   \n",
      "              ?   .      -       -      -      -      ?                 \n",
      "\n",
      "          WORD   TAG    CHUNK   ROLE   ID     PNP    LEMMA        \n",
      "                                                                  \n",
      "    infectieus   NN     NP      -      -      -      infectieus   \n",
      "             ?   .      -       -      -      -      ?            \n",
      "\n",
      "          WORD   TAG    CHUNK   ROLE   ID     PNP    LEMMA   \n",
      "                                                             \n",
      "             @   SYM    -       -      -      -      @       \n",
      "             5   CD     -       -      -      -      5       \n",
      "             .   .      -       -      -      -      .       \n",
      "\n",
      "           WORD   TAG    CHUNK   ROLE   ID     PNP    LEMMA             \n",
      "                                                                        \n",
      "gewichtsverlies   RB     ADVP    -      -      -      gewichtsverlies   \n",
      "             10   CD     NP      -      -      -      10                \n",
      "             kg   NN     NP ^    -      -      -      kg                \n",
      "             in   IN     PP      -      -      PNP    in                \n",
      "              4   CD     NP      -      -      PNP    4                 \n",
      "            mnd   NN     NP ^    -      -      PNP    mnd               \n",
      "              .   .      -       -      -      -      .                 \n",
      "\n",
      "          WORD   TAG    CHUNK   ROLE   ID     PNP    LEMMA     \n",
      "                                                               \n",
      "            dd   NN     NP      -      -      -      dd        \n",
      "           bij   IN     PP      -      -      PNP    bij       \n",
      "       actieve   JJ     NP      -      -      PNP    actief    \n",
      "            ra   NN     NP ^    -      -      PNP    ra        \n",
      "             ,   ,      -       -      -      -      ,         \n",
      "            of   CC     -       -      -      -      of        \n",
      "       relatie   NN     NP      -      -      -      relatie   \n",
      "           met   IN     PP      -      -      -      met       \n",
      "             4   CD     -       -      -      -      4         \n",
      "             @   SYM    -       -      -      -      @         \n",
      "             6   CD     -       -      -      -      6         \n",
      "             .   .      -       -      -      -      .         \n",
      "\n",
      "          WORD   TAG    CHUNK   ROLE   ID     PNP    LEMMA     \n",
      "                                                               \n",
      "       hoesten   NNS    NP      -      -      -      hoest     \n",
      "             ,   ,      -       -      -      -      ,         \n",
      "           bij   IN     PP      -      -      PNP    bij       \n",
      "       gebruik   NN     NP      -      -      PNP    gebruik   \n",
      "        enbrel   NN     NP ^    -      -      PNP    enbrel    \n",
      "             .   .      -       -      -      -      .         \n",
      "\n",
      "          WORD   TAG    CHUNK   ROLE   ID     PNP    LEMMA   \n",
      "                                                             \n",
      "             @   SYM    -       -      -      -      @       \n",
      "             7   CD     -       -      -      -      7       \n",
      "             .   .      -       -      -      -      .       \n",
      "\n",
      "          WORD   TAG    CHUNK   ROLE   ID     PNP    LEMMA            \n",
      "                                                                      \n",
      "hypercalciemie   NN     NP      -      -      -      hypercalciemie   \n",
      "             ,   ,      -       -      -      -      ,                \n",
      "      primaire   JJ     NP      -      -      -      primair          \n",
      "     hyperpara   NN     NP ^    -      -      -      hyperpara        \n",
      "             ?   .      -       -      -      -      ?                \n"
     ]
    }
   ],
   "source": [
    "from pattern.nl import parse\n",
    "from pattern.nl import pprint \n",
    "\n",
    "s = ' polyartritis door actieve ra onder etanercept ( nu sinds 10 weken ) en leflunomide 20 mg ( 10 maanden @ 2 . in ernst toegenomen pijn knieen bdz ( waardoor lopen met rollator ) , bij 1 of secundaire artrose . @ 3 . passagere pijn lumbale wk , inzakking ? diagnostiek osteoporose volgt ( elders ) @ 4 . diarree . dd metformine , . coeliakie ? hyperthyreoidie ? infectieus ? @ 5 . gewichtsverlies 10 kg in 4 mnd . dd bij actieve ra , of relatie met 4 @ 6 . hoesten , bij gebruik enbrel . @ 7 . hypercalciemie , primaire hyperpara ? '\n",
    "#s = parse(s, relations=False, lemmata=True)\n",
    "s = parse(s, \n",
    "   tokenize = True,         # Split punctuation marks from words?\n",
    "       tags = True,         # Parse part-of-speech tags? (NN, JJ, ...)\n",
    "     chunks = True,         # Parse chunks? (NP, VP, PNP, ...)\n",
    "  relations = True,        # Parse chunk relations? (-SBJ, -OBJ, ...)\n",
    "    lemmata = True,        # Parse lemmata? (ate => eat)\n",
    "   encoding = 'utf-8' ,      # Input string encoding.\n",
    "     tagset = None)\n",
    "pprint(s)\n",
    "\n"
   ]
  },
  {
   "cell_type": "code",
   "execution_count": 32,
   "metadata": {},
   "outputs": [
    {
     "name": "stdout",
     "output_type": "stream",
     "text": [
      "({'polyartritis': 0.010045618069675273, 'door': 0.010045618069675273, 'actieve': 0.020091236139350547, 'onder': 0.010045618069675273, 'etanercept': 0.010045618069675273, 'nu': 0.010045618069675273, '10': 0.03013685420902582, 'weken': 0.010045618069675273, '20': 0.010045618069675273, 'mg': 0.010045618069675273, 'maanden': 0.010045618069675273, 'ernst': 0.010045618069675273, 'toegenomen': 0.010045618069675273, 'pijn': 0.020091236139350547, 'knieen': 0.010045618069675273, 'waardoor': 0.010045618069675273, 'lopen': 0.010045618069675273, 'rollator': 0.010045618069675273, 'secundaire': 0.010045618069675273, 'artrose': 0.010045618069675273, 'passagere': 0.010045618069675273, 'lumbale': 0.010045618069675273, 'wk': 0.010045618069675273, 'inzakking': 0.010045618069675273, 'diagnostiek': 0.010045618069675273, 'osteoporose': 0.010045618069675273, 'volgt': 0.010045618069675273, 'elders': 0.010045618069675273, '4': 0.03013685420902582, 'diarree': 0.010045618069675273, 'metformine': 0.010045618069675273, 'coeliakie': 0.010045618069675273, 'hyperthyreoidie': 0.010045618069675273, 'infectieus': 0.010045618069675273, '5': 0.010045618069675273, 'gewichtsverlies': 0.010045618069675273, 'kg': 0.010045618069675273, 'mnd': 0.010045618069675273, 'relatie': 0.010045618069675273, '6': 0.010045618069675273, 'hoesten': 0.010045618069675273, 'gebruik': 0.010045618069675273, 'enbrel': 0.010045618069675273, '7': 0.010045618069675273, 'hypercalciemie': 0.010045618069675273, 'primaire': 0.010045618069675273, 'hyperpara': 0.010045618069675273}, {'ua': 0.013591130329560665, 'ongedifferentieerde': 0.013591130329560665, 'perifere': 0.013591130329560665, 'erosieve': 0.013591130329560665, 'spa': 0.013591130329560665, 'seronegatieve': 0.013591130329560665, '2009': 0.013591130329560665, 'obv': 0.013591130329560665, 'geobjectiveerde': 0.013591130329560665, 'artritis': 0.013591130329560665, 'mcp': 0.013591130329560665, 'rechts': 0.02718226065912133, 'mtp': 0.013591130329560665, 'pols': 0.013591130329560665, 'tenosynovitis': 0.02718226065912133, 'handen': 0.013591130329560665, 'achillespezen': 0.013591130329560665, 'waarvoor': 0.02718226065912133, 'thans': 0.013591130329560665, 'sulfasalazine': 0.013591130329560665, 'vorige': 0.013591130329560665, 'bezoek': 0.013591130329560665, 'mild': 0.013591130329560665, 'actief': 0.013591130329560665, 'dosis': 0.013591130329560665, 'sasp': 0.013591130329560665, 'opgehoogd': 0.013591130329560665, 'pijnsyndroom': 0.013591130329560665, 'recidiverende': 0.013591130329560665, 'zwelling': 0.013591130329560665, 'handruggen': 0.013591130329560665, 'angio': 0.013591130329560665, 'oedeem': 0.013591130329560665})\n"
     ]
    },
    {
     "data": {
      "text/plain": [
       "'\\ncount(\\n      words = words(s, \\n       filter = lambda w: w.strip(\"\\'\").isalnum(),\\n  punctuation = \\'.,;:!?()[]{}`\\'\\'\"@#$^&*+-|=~_\\'), \\n        top = None,         # Filter words not in the top most frequent (int).\\n  threshold = 0,            # Filter words whose count <= threshold.\\n    stemmer = None,         # PORTER | LEMMA | function | None\\n    exclude = [\\'\\\\d\\'],           # Filter words in the exclude list.\\n  stopwords = False,        # Include stop words?\\n   language = \\'nl\\')     \\n'"
      ]
     },
     "execution_count": 32,
     "metadata": {},
     "output_type": "execute_result"
    }
   ],
   "source": [
    "from pattern.vector import words, count\n",
    "from pattern.vector import Document, Model, TFIDF \n",
    "s1 = ' polyartritis door actieve ra onder etanercept ( nu sinds 10 weken ) en leflunomide 20 mg ( 10 maanden @ 2 . in ernst toegenomen pijn knieen bdz ( waardoor lopen met rollator ) , bij 1 of secundaire artrose . @ 3 . passagere pijn lumbale wk , inzakking ? diagnostiek osteoporose volgt ( elders ) @ 4 . diarree . dd metformine , . coeliakie ? hyperthyreoidie ? infectieus ? @ 5 . gewichtsverlies 10 kg in 4 mnd . dd bij actieve ra , of relatie met 4 @ 6 . hoesten , bij gebruik enbrel . @ 7 . hypercalciemie , primaire hyperpara ? '\n",
    "s2 = '1 . ua , ( ongedifferentieerde ) perifere non - erosieve spa dd seronegatieve ra sinds 2009 obv geobjectiveerde artritis mcp rechts , mtp bdz en pols rechts , met tenosynovitis handen / achillespezen , waarvoor thans sulfasalazine en leflunomide . bij vorige bezoek mild actief waarvoor dosis sasp opgehoogd . @ 2 . pijnsyndroom . @ 3 . recidiverende zwelling handruggen dd angio - oedeem / tenosynovitis bij ra . '\n",
    "\n",
    "d1 = Document(s1, type='ra', stopwords=False)\n",
    "d2 = Document(s2, type='ra')\n",
    "m = Model(documents=[d1, d2], weight=TFIDF)\n",
    "#print(d1.vector)\n",
    "print((d1.vector, d2.vector))\n",
    "#print(m.similarity(d1, d2))\n",
    "\n",
    "\n",
    "\"\"\"\n",
    "count(\n",
    "      words = words(s, \n",
    "       filter = lambda w: w.strip(\"'\").isalnum(),\n",
    "  punctuation = '.,;:!?()[]{}`''\\\"@#$^&*+-|=~_'), \n",
    "        top = None,         # Filter words not in the top most frequent (int).\n",
    "  threshold = 0,            # Filter words whose count <= threshold.\n",
    "    stemmer = None,         # PORTER | LEMMA | function | None\n",
    "    exclude = ['\\d'],           # Filter words in the exclude list.\n",
    "  stopwords = False,        # Include stop words?\n",
    "   language = 'nl')     \n",
    "\"\"\""
   ]
  },
  {
   "cell_type": "code",
   "execution_count": 6,
   "metadata": {},
   "outputs": [
    {
     "name": "stdout",
     "output_type": "stream",
     "text": [
      "polyartritis\n",
      "\n",
      "door\n",
      "\n",
      "actieve\n",
      "ra\n",
      "\n",
      "onder\n",
      "\n",
      "etanercept\n",
      "\n",
      "nu\n",
      "\n",
      "sinds\n",
      "\n",
      "10\n",
      "weken\n",
      "\n",
      "leflunomide\n",
      "\n",
      "20\n",
      "mg\n",
      "\n",
      "10\n",
      "maanden\n",
      "\n",
      "in\n",
      "\n",
      "ernst\n",
      "\n",
      "toegenomen\n",
      "\n",
      "pijn\n",
      "knieen\n",
      "bdz\n",
      "\n",
      "waardoor\n",
      "lopen\n",
      "\n",
      "met\n",
      "\n",
      "rollator\n",
      "\n",
      "bij\n",
      "\n",
      "1\n",
      "of\n",
      "secundaire\n",
      "artrose\n",
      "\n",
      "passagere\n",
      "pijn\n",
      "\n",
      "lumbale\n",
      "wk\n",
      "\n",
      "inzakking\n",
      "\n",
      "diagnostiek\n",
      "osteoporose\n",
      "volgt\n",
      "\n",
      "elders\n",
      "\n",
      "diarree\n",
      "\n",
      "dd\n",
      "metformine\n",
      "\n",
      "coeliakie\n",
      "\n",
      "hyperthyreoidie\n",
      "\n",
      "infectieus\n",
      "\n",
      "gewichtsverlies\n",
      "\n",
      "10\n",
      "kg\n",
      "\n",
      "in\n",
      "\n",
      "4\n",
      "mnd\n",
      "\n",
      "dd\n",
      "\n",
      "bij\n",
      "\n",
      "actieve\n",
      "ra\n",
      "\n",
      "relatie\n",
      "\n",
      "met\n",
      "\n",
      "hoesten\n",
      "\n",
      "bij\n",
      "\n",
      "gebruik\n",
      "enbrel\n",
      "\n",
      "hypercalciemie\n",
      "\n",
      "primaire\n",
      "hyperpara\n",
      "\n"
     ]
    }
   ],
   "source": [
    "from pattern.nl import parsetree\n",
    "\n",
    "s = ' polyartritis door actieve ra onder etanercept ( nu sinds 10 weken ) en leflunomide 20 mg ( 10 maanden @ 2 . in ernst toegenomen pijn knieen bdz ( waardoor lopen met rollator ) , bij 1 of secundaire artrose . @ 3 . passagere pijn lumbale wk , inzakking ? diagnostiek osteoporose volgt ( elders ) @ 4 . diarree . dd metformine , . coeliakie ? hyperthyreoidie ? infectieus ? @ 5 . gewichtsverlies 10 kg in 4 mnd . dd bij actieve ra , of relatie met 4 @ 6 . hoesten , bij gebruik enbrel . @ 7 . hypercalciemie , primaire hyperpara ? '\n",
    "#s = parse(s, relations=False, lemmata=True)\n",
    "s = parsetree(s, \n",
    "   tokenize = True,         # Split punctuation marks from words?\n",
    "       tags = True,         # Parse part-of-speech tags? (NN, JJ, ...)\n",
    "     chunks = True,         # Parse chunks? (NP, VP, PNP, ...)\n",
    "  relations = True,        # Parse chunk relations? (-SBJ, -OBJ, ...)\n",
    "    lemmata = True,        # Parse lemmata? (ate => eat)\n",
    "   encoding = 'utf-8' ,      # Input string encoding.\n",
    "     tagset = None)\n",
    "for sentence in s: \n",
    "    for chunk in sentence.chunks:\n",
    "        for word in chunk.words:\n",
    "            print(word)\n",
    "        print()\n"
   ]
  },
  {
   "cell_type": "code",
   "execution_count": 11,
   "metadata": {},
   "outputs": [
    {
     "name": "stdout",
     "output_type": "stream",
     "text": [
      "['doen', 'doe', 'doet', 'doend', 'deden', 'deed', 'gedaan']\n",
      "doen\n",
      "doe\n",
      "[('in', 0.5341432571583417), ('is', 0.2322735073615753), ('ik', 0.08287417577454612), ('na', 0.05053744015897389), ('a', 0.028046246951494897), ('i', 0.02231054105320206), ('it', 0.013097281185078132), ('via', 0.009303585945262398), ('va', 0.004245325625508084), ('la', 0.0038388582783849697), ('if', 0.0037936952398157347), ('ga', 0.0024839671213079217), ('ja', 0.001445217234215518), ('ii', 0.001400054195646283), ('ita', 0.0013097281185078132), ('fa', 0.0012194020413693434), ('ka', 0.0011290759642308735), ('ba', 0.0010839129256616385), ('aa', 0.0005871195014000542), ('ca', 0.0004516303856923494), ('ian', 0.00040646734712311447), ('da', 0.0003613043085538795), ('ma', 0.0003161412699846446), ('iv', 0.0003161412699846446), ('ha', 0.0003161412699846446), ('pa', 0.00027097823141540963), ('oia', 0.0002258151928461747), ('ip', 0.0002258151928461747), ('il', 0.0002258151928461747), ('sa', 0.00018065215427693975), ('ta', 0.00013548911570770481), ('iw', 0.00013548911570770481), ('ua', 9.032607713846988e-05), ('ria', 9.032607713846988e-05), ('im', 9.032607713846988e-05), ('ie', 9.032607713846988e-05), ('gia', 9.032607713846988e-05), ('eia', 9.032607713846988e-05), ('za', 4.516303856923494e-05), ('wa', 4.516303856923494e-05), ('sia', 4.516303856923494e-05), ('qa', 4.516303856923494e-05), ('nia', 4.516303856923494e-05), ('mia', 4.516303856923494e-05), ('iy', 4.516303856923494e-05), ('isa', 4.516303856923494e-05), ('ina', 4.516303856923494e-05), ('ij', 4.516303856923494e-05), ('iea', 4.516303856923494e-05), ('ica', 4.516303856923494e-05), ('iam', 4.516303856923494e-05), ('fia', 4.516303856923494e-05), ('dia', 4.516303856923494e-05), ('cia', 4.516303856923494e-05), ('ai', 4.516303856923494e-05)]\n"
     ]
    },
    {
     "ename": "AttributeError",
     "evalue": "'Text' object has no attribute 'relations'",
     "output_type": "error",
     "traceback": [
      "\u001b[1;31m---------------------------------------------------------------------------\u001b[0m",
      "\u001b[1;31mAttributeError\u001b[0m                            Traceback (most recent call last)",
      "\u001b[1;32m<ipython-input-11-65cc1d786d33>\u001b[0m in \u001b[0;36m<module>\u001b[1;34m()\u001b[0m\n\u001b[0;32m     14\u001b[0m \u001b[1;31m#        print(chunk.type, [(w.string, w.type) for w in chunk.words])\u001b[0m\u001b[1;33m\u001b[0m\u001b[1;33m\u001b[0m\u001b[0m\n\u001b[0;32m     15\u001b[0m \u001b[1;33m\u001b[0m\u001b[0m\n\u001b[1;32m---> 16\u001b[1;33m \u001b[1;32mfor\u001b[0m \u001b[0msentence\u001b[0m \u001b[1;32min\u001b[0m \u001b[0ms\u001b[0m\u001b[1;33m.\u001b[0m\u001b[0mrelations\u001b[0m\u001b[1;33m:\u001b[0m\u001b[1;33m\u001b[0m\u001b[0m\n\u001b[0m\u001b[0;32m     17\u001b[0m     \u001b[0mprint\u001b[0m\u001b[1;33m(\u001b[0m \u001b[0msentence\u001b[0m\u001b[1;33m)\u001b[0m\u001b[1;33m\u001b[0m\u001b[0m\n\u001b[0;32m     18\u001b[0m \u001b[1;33m\u001b[0m\u001b[0m\n",
      "\u001b[1;31mAttributeError\u001b[0m: 'Text' object has no attribute 'relations'"
     ]
    }
   ],
   "source": [
    "from pattern.nl import conjugate, lemma, lexeme, parsetree, suggest\n",
    "\n",
    "print(lexeme('doe'))\n",
    "print(lemma('doen'))\n",
    "print(conjugate('doen', '1sg'))\n",
    "\n",
    "s = parsetree('het monster doet graag de was', relations=True, lemmata=True, chunks=True)\n",
    "# CHUNKING\n",
    "print(suggest(\"ia\"))\n",
    "\n",
    "\n",
    "for sentence in s:\n",
    "    for chunk in sentence.chunks:\n",
    "        print(chunk.type, [(w.string, w.type) for w in chunk.words])\n",
    "        \n",
    "\n",
    "        \n",
    "        \n",
    "#text = Text(s, token=[WORD, POS, CHUNK, PNP, REL, LEMMA])"
   ]
  },
  {
   "cell_type": "code",
   "execution_count": 3,
   "metadata": {},
   "outputs": [
    {
     "name": "stdout",
     "output_type": "stream",
     "text": [
      "0.00 Node(id='cat')\n",
      "1.00 Node(id='tail')\n",
      "0.00 Node(id='cat')\n",
      "1.00 Node(id='tail')\n",
      "1.00 Node(id='purr')\n",
      "0.00 Node(id='cat')\n",
      "0.10 Node(id='tail')\n",
      "0.10 Node(id='purr')\n",
      "1.00 Node(id='sound')\n",
      "0.00 Node(id='cat')\n",
      "0.00 Node(id='dog')\n",
      "0.22 Node(id='tail')\n",
      "0.11 Node(id='purr')\n",
      "1.00 Node(id='sound')\n",
      "0.00 Node(id='cat')\n",
      "0.00 Node(id='dog')\n",
      "0.11 Node(id='purr')\n",
      "0.11 Node(id='bark')\n",
      "0.23 Node(id='tail')\n",
      "1.00 Node(id='sound')\n",
      "0.00 Node(id='cat')\n",
      "0.00 Node(id='dog')\n",
      "0.11 Node(id='purr')\n",
      "0.11 Node(id='bark')\n",
      "0.23 Node(id='tail')\n",
      "1.00 Node(id='sound')\n"
     ]
    }
   ],
   "source": [
    "from pattern.graph import Graph\n",
    "\n",
    "g = Graph()\n",
    "for n1, n2 in (\n",
    "    ('cat', 'tail'), ('cat', 'purr'), ('purr', 'sound'),\n",
    "    ('dog', 'tail'), ('dog', 'bark'), ('bark', 'sound')):\n",
    "    g.add_node(n1)\n",
    "    g.add_node(n2)\n",
    "    g.add_edge(n1, n2, weight=0.0, type='is-related-to')\n",
    "\n",
    "    for n in sorted(g.nodes, key=lambda n: n.weight):\n",
    "        print('%.2f' % n.weight, n)\n",
    "g.export('figures/graph.html', encoding='utf-8')"
   ]
  },
  {
   "cell_type": "markdown",
   "metadata": {},
   "source": [
    "### Processing Typos"
   ]
  },
  {
   "cell_type": "code",
   "execution_count": 38,
   "metadata": {},
   "outputs": [
    {
     "data": {
      "text/plain": [
       "'Rows: 45012\\tColumns: 56'"
      ]
     },
     "execution_count": 38,
     "metadata": {},
     "output_type": "execute_result"
    }
   ],
   "source": [
    "pc_df.getDim()\n"
   ]
  },
  {
   "cell_type": "code",
   "execution_count": 3,
   "metadata": {},
   "outputs": [
    {
     "name": "stdout",
     "output_type": "stream",
     "text": [
      "Rows: 45012\tColumns: 57\n"
     ]
    }
   ],
   "source": [
    "df_test = pc_df.getDF().sample(n=1000)\n",
    "\n",
    "print(pc_df.getDim())"
   ]
  },
  {
   "cell_type": "code",
   "execution_count": 24,
   "metadata": {},
   "outputs": [
    {
     "name": "stdout",
     "output_type": "stream",
     "text": [
      "mte : mtx -> 4\n"
     ]
    }
   ],
   "source": [
    "#global l_score_typo\n",
    "\n",
    "#l_score_typo = [0, 0, 0, 0, 0, 0]\n",
    "\n",
    "def damerauLevenshtein(s1, s2):\n",
    "    d = {}\n",
    "    lenstr1 = len(s1)\n",
    "    lenstr2 = len(s2)\n",
    "    for i in range(-1,lenstr1+1):\n",
    "        d[(i,-1)] = i+1\n",
    "    for j in range(-1,lenstr2+1):\n",
    "        d[(-1,j)] = j+1\n",
    " \n",
    "    for i in range(lenstr1):\n",
    "        for j in range(lenstr2):\n",
    "            if s1[i] == s2[j]:\n",
    "                cost = 0\n",
    "            else:\n",
    "                cost = 1\n",
    "            d[(i,j)] = min(\n",
    "                           d[(i-1,j)] + 1, # deletion\n",
    "                           d[(i,j-1)] + 1, # insertion\n",
    "                           d[(i-1,j-1)] + cost, # substitution\n",
    "                          )\n",
    "            if i and j and s1[i]==s2[j-1] and s1[i-1] == s2[j]:\n",
    "                d[(i,j)] = min (d[(i,j)], d[i-2,j-2] + cost) # transposition\n",
    " \n",
    "    return d[lenstr1-1,lenstr2-1]\n",
    "\n",
    "def isDigit(string):\n",
    "    try: \n",
    "        int(string)\n",
    "        return True\n",
    "    except ValueError:\n",
    "        return False\n",
    "\n",
    "def calculateTyposInAll(text, word):\n",
    "        for x in re.split(' |\\n',str(text)):\n",
    "            if isDigit(x) == False : # NOT in MEDICINE\n",
    "                score = damerauLevenshtein(x, word)\n",
    "                if score != 0 and score < 7:\n",
    "                    l_score_typo[(score-1)] = int(l_score_typo[(score-1)])+1\n",
    "        return text\n",
    "\n",
    "def typoCutOffGraph(df, column, med): # column, medication_list\n",
    "    for x in range(1,7):\n",
    "        df[column] = df[column].apply(lambda x : calculateTyposInAll(x, med))\n",
    "    return\n",
    "\n",
    "#print(l_score_typo)\n",
    "print('mte : mtx -> ' + str(damerauLevenshtein('prednison', 'prendi')))\n",
    "#print('mxt : mtx -> ' + str(damerau_levenshtein_distance('mxt', 'mtx')))\n",
    "#print('met : mtx -> ' + str(damerau_levenshtein_distance('met', 'mtx')))\n",
    "\n",
    "#df_REU['XANTWOORD'] = df_REU['XANTWOORD'].apply(lambda x: handle_acronym(str(x)))\n",
    "\n"
   ]
  },
  {
   "cell_type": "code",
   "execution_count": 40,
   "metadata": {},
   "outputs": [
    {
     "name": "stdout",
     "output_type": "stream",
     "text": [
      "[96, 25, 1535, 371, 20315, 117312, 9048, 185262]\n",
      "[0, 1206, 114, 594, 426, 9048, 185262]\n"
     ]
    },
    {
     "data": {
      "text/plain": [
       "Text(0.5,0,'Damerau-Levenshtein score')"
      ]
     },
     "execution_count": 40,
     "metadata": {},
     "output_type": "execute_result"
    },
    {
     "data": {
      "image/png": "[encoded data removed]",
      "text/plain": [
       "<Figure size 432x288 with 1 Axes>"
      ]
     },
     "metadata": {},
     "output_type": "display_data"
    }
   ],
   "source": [
    "#l_pred = l_score_typo\n",
    "\n",
    "print(l_score_typo)\n",
    "print(l_pred)\n",
    "#figsize=(8, 8), legend=True,\n",
    "#l_score_typo.insert(0, 0)\n",
    "n_list = []\n",
    "#print(l_score_typo)\n",
    "#for x in MEDICATION:\n",
    "#    if x != gold:\n",
    "\n",
    "for x in l_score_typo[0:6]:\n",
    "    n_list.append(x / sum(l_score_typo))\n",
    "#y_axis += [int(i) / summ]\n",
    "pyplt.plot(n_list[0:6])\n",
    "pyplt.xlim(1, 5)\n",
    "pyplt.title('Frequency of Words similar to Prednison calculated with the Damerau-Levenshtein score')\n",
    "pyplt.ylabel('Frequency')\n",
    "pyplt.xlabel('Damerau-Levenshtein score')\n"
   ]
  },
  {
   "cell_type": "markdown",
   "metadata": {},
   "source": [
    "#### Patienten die wel een conclusie maar geen beleid hebben "
   ]
  },
  {
   "cell_type": "code",
   "execution_count": 4,
   "metadata": {},
   "outputs": [
    {
     "name": "stdout",
     "output_type": "stream",
     "text": [
      "['methotrexaat', 'leflunomide', 'sulfasalazine', 'hydroxychloroquine', 'azathioprine', 'ciclosporine', 'abatacept', 'adalimumab', 'anakinra', 'certolizumab', 'etanercept', 'golimumab', 'infliximab', 'rituximab', 'tocilizumab', 'tofacitinib', 'baricitinib', 'depomedrol', 'prednison', 'prednisolon', 'anti-tnf']\n"
     ]
    }
   ],
   "source": [
    "med_list = MEDICINE\n",
    "med_list.pop(6)\n",
    "print(med_list)"
   ]
  },
  {
   "cell_type": "code",
   "execution_count": 6,
   "metadata": {},
   "outputs": [
    {
     "ename": "NameError",
     "evalue": "name 'leg' is not defined",
     "output_type": "error",
     "traceback": [
      "\u001b[1;31m---------------------------------------------------------------------------\u001b[0m",
      "\u001b[1;31mNameError\u001b[0m                                 Traceback (most recent call last)",
      "\u001b[1;32m<ipython-input-6-ef5bd48c439e>\u001b[0m in \u001b[0;36m<module>\u001b[1;34m()\u001b[0m\n\u001b[0;32m     30\u001b[0m hover = HoverTool(\n\u001b[0;32m     31\u001b[0m    tool_tips = [\n\u001b[1;32m---> 32\u001b[1;33m     \u001b[1;33m(\u001b[0m\u001b[1;34m\"name\"\u001b[0m\u001b[1;33m,\u001b[0m \u001b[0mleg\u001b[0m\u001b[1;33m)\u001b[0m\u001b[1;33m,\u001b[0m\u001b[1;33m\u001b[0m\u001b[0m\n\u001b[0m\u001b[0;32m     33\u001b[0m     \u001b[1;33m(\u001b[0m\u001b[1;34m\"index\"\u001b[0m\u001b[1;33m,\u001b[0m \u001b[1;34m\"$index\"\u001b[0m\u001b[1;33m)\u001b[0m\u001b[1;33m,\u001b[0m\u001b[1;33m\u001b[0m\u001b[0m\n\u001b[0;32m     34\u001b[0m     \u001b[1;33m(\u001b[0m\u001b[1;34m\"(x,y)\"\u001b[0m\u001b[1;33m,\u001b[0m \u001b[1;34m\"(@x, @y)\"\u001b[0m\u001b[1;33m)\u001b[0m\u001b[1;33m\u001b[0m\u001b[0m\n",
      "\u001b[1;31mNameError\u001b[0m: name 'leg' is not defined"
     ]
    }
   ],
   "source": [
    "import pandas as pd\n",
    "import numpy as np\n",
    "from bokeh.plotting import figure, show, output_file\n",
    "from bokeh.models import BoxSelectTool, HoverTool\n",
    "from bokeh.models.sources import ColumnDataSource\n",
    "from bokeh.palettes import viridis\n",
    "from bokeh.transform import jitter\n",
    "output_file('MedicationTypos.html')\n",
    "\n",
    "\n",
    "med_list = ['mtx', 'pred']\n",
    "typo_df = pd.DataFrame(columns = med_list) # med_list\n",
    "sum_list = []\n",
    "\n",
    "for x in med_list: # med_list\n",
    "    l_score_typo = pc_df.typoCutOffGraph(df_test, 'XANTWOORD', x) # pc_df.getDF()\n",
    "    n_list = []\n",
    "    if sum(l_score_typo) != 0:\n",
    "        for y in l_score_typo[0:6]:\n",
    "            n_list.append(int(y) / sum(l_score_typo))\n",
    "    else :\n",
    "        n_list =[0.0, 0.0, 0.0, 0.0, 0.0, 0.0]\n",
    "    sum_list.append(sum(l_score_typo))\n",
    "    typo_df[x] = n_list #n_list  \n",
    "\n",
    "    \n",
    "numlines=len(typo_df.columns)\n",
    "mypalette=viridis(22)\n",
    "p = figure(plot_width=1000, plot_height=600)\n",
    "hover = HoverTool(\n",
    "   tool_tips = [\n",
    "    (\"name\", leg),\n",
    "    (\"index\", \"$index\"),\n",
    "    (\"(x,y)\", \"(@x, @y)\")\n",
    "    ] \n",
    ")\n",
    "\n",
    "for (leg, x, y, colnr ) in zip(med_list,[typo_df.index.values]*numlines, [typo_df[name].values for name in typo_df], range(0,numlines)):\n",
    "    my_plot = p.line(x+1, y, line_color=mypalette[colnr], line_width=5, legend=leg + \" : \" + str(sum_list[colnr]))\n",
    "    hover.tool_tips = [\n",
    "    (\"name\", leg),\n",
    "    (\"index\", \"$index\"),\n",
    "    (\"(x,y)\", \"(@x, @y)\")\n",
    "    ]\n",
    "p.add_tools(hover)\n",
    "\n",
    "    \n",
    "show(p)"
   ]
  },
  {
   "cell_type": "code",
   "execution_count": 6,
   "metadata": {},
   "outputs": [
    {
     "data": {
      "text/plain": [
       "' methotrexaat lalalal erokeo methotrexaat d;afp '"
      ]
     },
     "execution_count": 6,
     "metadata": {},
     "output_type": "execute_result"
    }
   ],
   "source": [
    "def handleAcronym(text, acronym_mapping=ACRONYM_MAP):\n",
    "    \"\"\"\n",
    "    This function writes converts acronym to the full medication word\n",
    "    \\b - indicates begin and end of word\n",
    "    \"\"\"\n",
    "    acronyms_pattern = re.compile(r'({})'.format('|'.join(acronym_mapping.keys())), \n",
    "                                      flags=re.IGNORECASE|re.DOTALL)\n",
    "    def expand_match(acronym):\n",
    "        match = acronym.group(0)\n",
    "        expanded_acronym = acronym_mapping.get(match)\n",
    "        return \" \" + expanded_acronym + \" \"\n",
    "\n",
    "    expanded_text = acronyms_pattern.sub(expand_match, text)\n",
    "    expanded_text = re.sub(\"'\", \"\", expanded_text)\n",
    "    expanded_text = re.sub(r'\\s+', ' ', expanded_text)\n",
    "    return str(expanded_text)\n",
    "handleAcronym('mtx lalalal erokeomtx d;afp ')"
   ]
  },
  {
   "cell_type": "code",
   "execution_count": 9,
   "metadata": {},
   "outputs": [],
   "source": [
    "import pandas as pd\n",
    "\n",
    "from bokeh.models import ColumnDataSource, LabelSet\n",
    "from bokeh.plotting import figure, show, output_file\n",
    "from bokeh.sampledata.periodic_table import elements\n",
    "\n",
    "elements = elements.copy()\n",
    "elements = elements[elements[\"atomic number\"] <= 82]\n",
    "elements = elements[~pd.isnull(elements[\"melting point\"])]\n",
    "mass = [float(x.strip(\"[]\")) for x in elements[\"atomic mass\"]]\n",
    "elements[\"atomic mass\"] = mass\n",
    "\n",
    "palette = [\"#053061\", \"#2166ac\", \"#4393c3\", \"#92c5de\", \"#d1e5f0\",\n",
    "           \"#f7f7f7\", \"#fddbc7\", \"#f4a582\", \"#d6604d\", \"#b2182b\", \"#67001f\"]\n",
    "\n",
    "melting_points = elements[\"melting point\"]\n",
    "low = min(melting_points)\n",
    "high = max(melting_points)\n",
    "melting_point_inds = [int(10*(x-low)/(high-low)) for x in melting_points] #gives items in colors a value from 0-10\n",
    "elements['melting_colors'] = [palette[i] for i in melting_point_inds]\n",
    "\n",
    "TITLE = \"Density vs Atomic Weight of Elements (colored by melting point)\"\n",
    "TOOLS = \"hover,pan,wheel_zoom,box_zoom,reset,save\"\n",
    "\n",
    "p = figure(tools=TOOLS, toolbar_location=\"above\", plot_width=1200, title=TITLE, x_axis_label='lala', y_axis_label='po')\n",
    "p.toolbar.logo = \"grey\"\n",
    "p.background_fill_color = \"#dddddd\"\n",
    "#p.xaxis.axis_label = \"atomic weight (amu)\"\n",
    "#p.yaxis.axis_label = \"density (g/cm^3)\"\n",
    "p.grid.grid_line_color = \"white\"\n",
    "\n",
    "source = ColumnDataSource(elements)\n",
    "\n",
    "p.circle(\"atomic mass\", \"density\", size=12, source=source,\n",
    "         color='melting_colors', line_color=\"black\", fill_alpha=0.8)\n",
    "\n",
    "labels = LabelSet(x=\"atomic mass\", y=\"density\", text=\"symbol\", y_offset=8,\n",
    "                  text_font_size=\"8pt\", text_color=\"#555555\",\n",
    "                  source=source, text_align='center')\n",
    "p.add_layout(labels)\n",
    "\n",
    "output_file(\"elements.html\", title=\"elements.py example\")\n",
    "\n",
    "show(p)"
   ]
  },
  {
   "cell_type": "code",
   "execution_count": 133,
   "metadata": {},
   "outputs": [
    {
     "ename": "NameError",
     "evalue": "name 'df_REU' is not defined",
     "output_type": "error",
     "traceback": [
      "\u001b[1;31m---------------------------------------------------------------------------\u001b[0m",
      "\u001b[1;31mNameError\u001b[0m                                 Traceback (most recent call last)",
      "\u001b[1;32m<ipython-input-133-b0214bebb43c>\u001b[0m in \u001b[0;36m<module>\u001b[1;34m()\u001b[0m\n\u001b[1;32m----> 1\u001b[1;33m \u001b[0ma7\u001b[0m \u001b[1;33m=\u001b[0m \u001b[0mdf_REU\u001b[0m\u001b[1;33m[\u001b[0m\u001b[0mdf_REU\u001b[0m\u001b[1;33m[\u001b[0m\u001b[1;34m'STELLING'\u001b[0m\u001b[1;33m]\u001b[0m\u001b[1;33m.\u001b[0m\u001b[0misin\u001b[0m\u001b[1;33m(\u001b[0m\u001b[1;33m[\u001b[0m\u001b[1;34m'Conclusie'\u001b[0m\u001b[1;33m]\u001b[0m\u001b[1;33m)\u001b[0m\u001b[1;33m]\u001b[0m\u001b[1;33m[\u001b[0m\u001b[1;34m'PATNR'\u001b[0m\u001b[1;33m]\u001b[0m\u001b[1;33m.\u001b[0m\u001b[0munique\u001b[0m\u001b[1;33m(\u001b[0m\u001b[1;33m)\u001b[0m\u001b[1;33m\u001b[0m\u001b[0m\n\u001b[0m\u001b[0;32m      2\u001b[0m \u001b[0ma7\u001b[0m \u001b[1;33m=\u001b[0m \u001b[0ma7\u001b[0m\u001b[1;33m[\u001b[0m\u001b[0ma7\u001b[0m \u001b[1;33m!=\u001b[0m \u001b[0mnp\u001b[0m\u001b[1;33m.\u001b[0m\u001b[0marray\u001b[0m\u001b[1;33m(\u001b[0m\u001b[1;32mNone\u001b[0m\u001b[1;33m)\u001b[0m\u001b[1;33m]\u001b[0m\u001b[1;33m\u001b[0m\u001b[0m\n\u001b[0;32m      3\u001b[0m \u001b[0ma8\u001b[0m \u001b[1;33m=\u001b[0m \u001b[0mdf_REU\u001b[0m\u001b[1;33m[\u001b[0m\u001b[0mdf_REU\u001b[0m\u001b[1;33m[\u001b[0m\u001b[1;34m'STELLING'\u001b[0m\u001b[1;33m]\u001b[0m\u001b[1;33m.\u001b[0m\u001b[0misin\u001b[0m\u001b[1;33m(\u001b[0m\u001b[1;33m[\u001b[0m\u001b[1;34m'Beleid'\u001b[0m\u001b[1;33m]\u001b[0m\u001b[1;33m)\u001b[0m\u001b[1;33m]\u001b[0m\u001b[1;33m[\u001b[0m\u001b[1;34m'PATNR'\u001b[0m\u001b[1;33m]\u001b[0m\u001b[1;33m.\u001b[0m\u001b[0munique\u001b[0m\u001b[1;33m(\u001b[0m\u001b[1;33m)\u001b[0m\u001b[1;33m\u001b[0m\u001b[0m\n\u001b[0;32m      4\u001b[0m \u001b[0ma8\u001b[0m \u001b[1;33m=\u001b[0m \u001b[0ma8\u001b[0m\u001b[1;33m[\u001b[0m\u001b[0ma8\u001b[0m \u001b[1;33m!=\u001b[0m \u001b[0mnp\u001b[0m\u001b[1;33m.\u001b[0m\u001b[0marray\u001b[0m\u001b[1;33m(\u001b[0m\u001b[1;32mNone\u001b[0m\u001b[1;33m)\u001b[0m\u001b[1;33m]\u001b[0m\u001b[1;33m\u001b[0m\u001b[0m\n\u001b[0;32m      5\u001b[0m \u001b[0mprint\u001b[0m\u001b[1;33m(\u001b[0m\u001b[0mlen\u001b[0m\u001b[1;33m(\u001b[0m\u001b[0mnp\u001b[0m\u001b[1;33m.\u001b[0m\u001b[0msetdiff1d\u001b[0m\u001b[1;33m(\u001b[0m\u001b[0ma7\u001b[0m\u001b[1;33m,\u001b[0m \u001b[0ma8\u001b[0m\u001b[1;33m)\u001b[0m\u001b[1;33m)\u001b[0m\u001b[1;33m)\u001b[0m\u001b[1;33m\u001b[0m\u001b[0m\n",
      "\u001b[1;31mNameError\u001b[0m: name 'df_REU' is not defined"
     ]
    }
   ],
   "source": [
    "a7 = df_REU[df_REU['STELLING'].isin(['Conclusie'])]['PATNR'].unique()\n",
    "a7 = a7[a7 != np.array(None)]\n",
    "a8 = df_REU[df_REU['STELLING'].isin(['Beleid'])]['PATNR'].unique()\n",
    "a8 = a8[a8 != np.array(None)]\n",
    "print(len(np.setdiff1d(a7, a8)))\n",
    "print(np.setdiff1d(a7, a8))\n"
   ]
  },
  {
   "cell_type": "markdown",
   "metadata": {},
   "source": [
    "#### Function: Handle acronym (for expanding the acronym) and Levenshtein distance"
   ]
  },
  {
   "cell_type": "code",
   "execution_count": 8,
   "metadata": {},
   "outputs": [],
   "source": [
    "freq_list = []\n",
    "for i in MEDICINE:\n",
    "    matching = [s for s in df_proc['XANTWOORD'] if any(xs in s for xs in [i])]\n",
    "    freq_list.append(len(matching))"
   ]
  },
  {
   "cell_type": "code",
   "execution_count": 60,
   "metadata": {},
   "outputs": [
    {
     "data": {
      "text/plain": [
       "'lalalal.reprep,rep3o2rep3'"
      ]
     },
     "execution_count": 60,
     "metadata": {},
     "output_type": "execute_result"
    }
   ],
   "source": [
    "haystack = [\"foo\", \".bar\", \"baz\", \"foo\", \"qurx\", \"bother\"]\n",
    "pattern = r\"\\s\" + \".\" + r\"([a-z]{1,})\"\n",
    "\n",
    "\n",
    "re.sub(pattern, 'rep', 'lalalal. .temd eotkter, 4ok3o2 3oke3')\n"
   ]
  },
  {
   "cell_type": "code",
   "execution_count": 7,
   "metadata": {},
   "outputs": [
    {
     "name": "stdout",
     "output_type": "stream",
     "text": [
      "ad 1 humira weer eens in de 2 weken spuiten ad 3 icc vaatchirirug \n",
      "dit 8.5 . ( . jak2 . ) . ( ) * # is d 7 $ = @ tekst ' [ anti-tnf ] , * methotrexaat , . . - methotrexaat 6 . - 3,5 mtx 8 cortico's \n"
     ]
    },
    {
     "data": {
      "text/plain": [
       "'\\nfor ch in [\\'@\\',\\'-\\', \\',\\', \\'\"\\', \\'#\\', \\'/\\',\\'\\\\\\',\\'+\\',\\':\\',\\']\\',\\'>\\', \\';\\', \\'?\\', \\'[\\',\\'<\\',\\'.\\',\\'!\\',\\'$\\',\\'\\'\\', \\'=\\', \\'&\\']:\\n        if ch != \\'\\\\\\': \\n            pat = re.compile(r\"(\" + re.escape(ch) +  r\"[^\\\\s]{1,}|\" + r\"[^\\\\s]{1,}\" + re.escape(ch) + r\")\" )\\n            #text = re.sub(pat, r\\' \\x01 \\', text)\\n            for x in pat.findall(text):\\n                print(text)\\n                new_text = str(x.split(ch)[0]) + \" \" + ch + \" \" + str(x.split(ch)[1])\\n                text = text.replace(x, new_text)\\n            #    #text = re.sub(x, r\\'\\x01 \\x02\\', text)\\n                \\n    text = text.replace(\"(\",\" \"+\"(\"+\" \")\\n    text = text.replace(\")\",\" \"+\")\"+\" \")\\n'"
      ]
     },
     "execution_count": 7,
     "metadata": {},
     "output_type": "execute_result"
    }
   ],
   "source": [
    "import re\n",
    "def handleStickyChars(text):\n",
    "        \"\"\"\n",
    "        This function surrounds a sticky character with spaces to prevent the algorithm from misinterpreting\n",
    "        medication: mtx.depo -> mtx . depo\n",
    "        \n",
    "        Dots and commas between integers remain: 7,5 mg -> 7,5 mg\n",
    "        \n",
    "        When there is a single quote (\"'\") the function only adds spaces if the quote isn't\n",
    "        followed with a character: (1) methotrexaat' -> methotrexaat '\n",
    "            (2) cortico's -> cortico's \n",
    "            \n",
    "        Only medications that stick to a hyphen will be seperated with spaces: \n",
    "            mtx-infliximab -> mtx - infliximab \n",
    "        \n",
    "        The function also appends an whitespace to digits: 5mtx -> 5 mtx. \n",
    "        Except when there is an acronym like anti-il1 which consists of an\n",
    "        integer!\n",
    "            \n",
    "        Finally, this function removes all of the duplicate whitespace. \n",
    "        \"\"\"\n",
    "        for ch in ['@','-', ',', '\"', '#', '/','\\\\','+',':',']','(',')','>', ';', '?', '[','<','.','!','$','\\'', '=', '&']:\n",
    "            if ch in text:\n",
    "                text = re.sub(re.escape(ch) + r'{2,}', ch, text) # or just two special characters from above list -> TODO\n",
    "                if ch == '\\'':\n",
    "                    text = re.sub(r\"\\'\\s\",\" ' \",text)\n",
    "                elif ch == '-':\n",
    "                    pat = re.compile(r\"([a-z]{1,}-|-[a-z]{1,})\")\n",
    "                    for x in pat.findall(text):\n",
    "                        if str(x.split('-')[0]) in MEDICINE or str(x.split('-')[1]) in MEDICINE:\n",
    "                            new_text = str(x.split('-')[0]) + \" - \" + str(x.split('-')[1])\n",
    "                            text = re.sub(x, new_text, text)\n",
    "                    text = re.sub(r\"\\s\" + re.escape(ch) + r\"([^\\s]{1,})\", \" \" + ch + \" \" + r'\\1', text)\n",
    "                    text = re.sub(r\"([^\\s]{1,})\"+ re.escape(ch) + r\"\\s\", r'\\1 ' + ch + \" \" , text)\n",
    "                elif ch == ',' or ch == '.':\n",
    "                    pat = re.compile(r\"[a-z]{1,}\"+ re.escape(ch) + r\"[a-z]{1,}\")\n",
    "                    for x in pat.findall(text):\n",
    "                        new_text = str(x.split(ch)[0]) + \" \" + ch + \" \" + str(x.split(ch)[1])\n",
    "                        text = re.sub(x, new_text, text)\n",
    "                    text = re.sub(r\"\\s\" + re.escape(ch) + r\"([^\\s]{1,})\", \" \" + ch + \" \" + r'\\1', text)\n",
    "                    text = re.sub(r\"([^\\s]{1,})\"+ re.escape(ch) + r\"\\s\", r'\\1 ' + \" \" + ch + \" \" , text)\n",
    "                else:\n",
    "                    text = text.replace(ch,\" \"+ch+\" \")\n",
    "        pat = re.compile(r'([a-z]{1,})(\\d{1,})')\n",
    "        for r1, r2 in pat.findall():\n",
    "            if (str(r1) + str(r2)) not in ACRONYM_MAP.keys():\n",
    "                new_text = str(r1) + \" \" + str(r2)\n",
    "                text = re.sub((str(r1) + str(r2)), new_text, text)\n",
    "        text = re.sub(r'(\\d{1,})([a-z]{1,})', r'\\1 \\2', text)\n",
    "        text = text.replace('≥', ' >= ')\n",
    "        text = re.sub(r'\\s+', ' ', text)  \n",
    "        return text\n",
    "    \n",
    "def handleSticky(text):\n",
    "    sticky_chars = r'([!#?,.:\";@\\-\\+\\\\/&=$\\]\\[<>\\'\\*`’\\(\\)])'\n",
    "    words = text.split() \n",
    "    new_words = []\n",
    "    for word in words:\n",
    "        new_words.append(re.sub(sticky_chars, r' \\1 ', word))\n",
    "    new_text = \"\"\n",
    "    for word in new_words:\n",
    "        pat1 = re.compile(r'([a-z]{1,})(\\d{1,})')\n",
    "        for r1, r2 in pat1.findall(word):\n",
    "            if r1+r2 not in MEDICINE and r1+r2 not in ACRONYM_MAP.keys():\n",
    "                word = re.sub(r1+r2,\" \" + r1 + \" \" + r2 + \" \", word)\n",
    "        pat2 = re.compile(r'([a-z]{1,})\\s'+sticky_chars+'\\s([a-z]{1,})')\n",
    "        for r1, r2, r3 in pat2.findall(word):\n",
    "            if r1+r2+r3 in MEDICINE or r1+r2+r3 in ACRONYM_MAP.keys():\n",
    "                word = re.sub(r1 + \" \" + r2 + \" \" + r3,\" \" + r1+r2+r3+ \" \", word)\n",
    "        pat3 = re.compile(r'(\\d{1,})\\s([,.])\\s(\\d{1,})')\n",
    "        for r1, r2, r3 in pat3.findall(word):\n",
    "            word = re.sub(r1 + \" \" + r2 + \" \" + r3, \" \"+ r1+r2+r3 + \" \", word)\n",
    "        word = re.sub(r'(\\d{1,})([a-z]{1,})', \" \" + r'\\1' + ' ' + r'\\2' \" \", word)\n",
    "        new_text += word + \" \"\n",
    "    new_text = re.sub(r'\\s+', ' ', new_text)      \n",
    "    return new_text\n",
    "\n",
    "print(handleSticky('ad 1humira weer eens in de 2 weken spuiten ad 3 icc vaatchirirug '))\n",
    "print(handleSticky(\"dit 8.5 .(.jak2.).()* #is d7 $=@tekst' [anti-tnf] ,*methotrexaat,. .-methotrexaat6.-  3,5mtx8 cortico's\"))\n",
    "\n",
    "\n",
    "\n",
    "\n",
    "\n",
    "#print(result)\n",
    "\n",
    "#print(\" \".join(items))\n",
    "        \n",
    "#df_proc = read_csv('REUBEL_nlp.csv')\n",
    "#print(len(df_proc['PATNR'].unique()))\n",
    "#df_proc['XANTWOORD'] = df_proc['XANTWOORD'].apply(lambda x: handle_stickychars(str(x)))\n",
    "#df_proc['XANTWOORD'] = df_proc['XANTWOORD'].apply(lambda x: handle_acronym(str(x), MONTH_MAP))\n",
    "#df_proc['XANTWOORD'] = df_proc['XANTWOORD'].apply(lambda x: handle_acronym(str(x)))\n",
    "\n",
    "\n",
    "#df_REU['XANTWOORD'] = df_REU['XANTWOORD'].apply(lambda x: iterative_levenshtein(str(x), \"lawn\"))\n",
    "\"\"\"\n",
    "for ch in ['@','-', ',', '\"', '#', '/','\\\\','+',':',']','>', ';', '?', '[','<','.','!','$','\\'', '=', '&']:\n",
    "        if ch != '\\\\': \n",
    "            pat = re.compile(r\"(\" + re.escape(ch) +  r\"[^\\s]{1,}|\" + r\"[^\\s]{1,}\" + re.escape(ch) + r\")\" )\n",
    "            #text = re.sub(pat, r' \\1 ', text)\n",
    "            for x in pat.findall(text):\n",
    "                print(text)\n",
    "                new_text = str(x.split(ch)[0]) + \" \" + ch + \" \" + str(x.split(ch)[1])\n",
    "                text = text.replace(x, new_text)\n",
    "            #    #text = re.sub(x, r'\\1 \\2', text)\n",
    "                \n",
    "    text = text.replace(\"(\",\" \"+\"(\"+\" \")\n",
    "    text = text.replace(\")\",\" \"+\")\"+\" \")\n",
    "\"\"\""
   ]
  },
  {
   "cell_type": "code",
   "execution_count": 46,
   "metadata": {},
   "outputs": [
    {
     "ename": "NameError",
     "evalue": "name 'freq_list' is not defined",
     "output_type": "error",
     "traceback": [
      "\u001b[1;31m---------------------------------------------------------------------------\u001b[0m",
      "\u001b[1;31mNameError\u001b[0m                                 Traceback (most recent call last)",
      "\u001b[1;32m<ipython-input-46-d2a05a35ff56>\u001b[0m in \u001b[0;36m<module>\u001b[1;34m()\u001b[0m\n\u001b[1;32m----> 1\u001b[1;33m \u001b[0mdf_match\u001b[0m \u001b[1;33m=\u001b[0m \u001b[0mpd\u001b[0m\u001b[1;33m.\u001b[0m\u001b[0mDataFrame\u001b[0m\u001b[1;33m(\u001b[0m\u001b[1;33m{\u001b[0m\u001b[1;34m'section'\u001b[0m\u001b[1;33m:\u001b[0m\u001b[0mMEDICINE\u001b[0m\u001b[1;33m,\u001b[0m \u001b[1;34m'frequency'\u001b[0m\u001b[1;33m:\u001b[0m\u001b[0mfreq_list\u001b[0m\u001b[1;33m}\u001b[0m\u001b[1;33m)\u001b[0m\u001b[1;33m\u001b[0m\u001b[0m\n\u001b[0m\u001b[0;32m      2\u001b[0m \u001b[1;33m\u001b[0m\u001b[0m\n\u001b[0;32m      3\u001b[0m \u001b[0max\u001b[0m \u001b[1;33m=\u001b[0m \u001b[0mdf_match\u001b[0m\u001b[1;33m.\u001b[0m\u001b[0mplot\u001b[0m\u001b[1;33m(\u001b[0m\u001b[0mkind\u001b[0m\u001b[1;33m=\u001b[0m\u001b[1;34m'bar'\u001b[0m\u001b[1;33m,\u001b[0m \u001b[0mtitle\u001b[0m \u001b[1;33m=\u001b[0m\u001b[1;34m\"Frequency of Medication in dossier\"\u001b[0m\u001b[1;33m,\u001b[0m \u001b[0mx\u001b[0m\u001b[1;33m=\u001b[0m\u001b[1;34m'section'\u001b[0m\u001b[1;33m,\u001b[0m \u001b[0mfigsize\u001b[0m\u001b[1;33m=\u001b[0m\u001b[1;33m(\u001b[0m\u001b[1;36m12\u001b[0m\u001b[1;33m,\u001b[0m \u001b[1;36m12\u001b[0m\u001b[1;33m)\u001b[0m\u001b[1;33m,\u001b[0m \u001b[0mlegend\u001b[0m\u001b[1;33m=\u001b[0m\u001b[1;32mTrue\u001b[0m\u001b[1;33m,\u001b[0m \u001b[0mfontsize\u001b[0m\u001b[1;33m=\u001b[0m\u001b[1;36m12\u001b[0m\u001b[1;33m,\u001b[0m \u001b[0mrot\u001b[0m\u001b[1;33m=\u001b[0m\u001b[1;36m90\u001b[0m\u001b[1;33m)\u001b[0m\u001b[1;33m\u001b[0m\u001b[0m\n",
      "\u001b[1;31mNameError\u001b[0m: name 'freq_list' is not defined"
     ]
    }
   ],
   "source": [
    "df_match = pd.DataFrame({'section':MEDICINE, 'frequency':freq_list})\n",
    "\n",
    "ax = df_match.plot(kind='bar', title =\"Frequency of Medication in dossier\", x='section', figsize=(12, 12), legend=True, fontsize=12, rot=90)\n"
   ]
  },
  {
   "cell_type": "code",
   "execution_count": 120,
   "metadata": {},
   "outputs": [
    {
     "name": "stderr",
     "output_type": "stream",
     "text": [
      "/usr/local/Anaconda/anaconda3/lib/python3.6/site-packages/matplotlib/legend.py:1357: UserWarning: You have mixed positional and keyword arguments, some input may be discarded.\n",
      "  warnings.warn(\"You have mixed positional and keyword \"\n"
     ]
    },
    {
     "data": {
      "image/png": "[encoded data removed]",
      "text/plain": [
       "<matplotlib.figure.Figure at 0x7f1f2eef1a90>"
      ]
     },
     "metadata": {},
     "output_type": "display_data"
    }
   ],
   "source": [
    "# Create a list of colors (from iWantHue)\n",
    "fig = plt.figure(figsize=[10, 10])\n",
    "# Create a pie chart\n",
    "plt.pie(\n",
    "    # using data total)arrests\n",
    "    freq_list,\n",
    "    # with the labels being officer names\n",
    "    labels=matchers,\n",
    "    # with no shadows\n",
    "    shadow=False,\n",
    "    # with one slide exploded out\n",
    "    #explode=(0, 0, 0, 0, 0.15),\n",
    "    # with the start angle at 90%\n",
    "    startangle=90,\n",
    "    # with the percent listed as a fraction\n",
    "    autopct='%1.1f%%',\n",
    "    )\n",
    "\n",
    "# View the plot drop above\n",
    "plt.axis('equal', labeldistance=1.05)\n",
    "plt.title('Occurences of treatment')\n",
    "plt.legend(freq_list, labels=matchers, loc=\"best\", bbox_to_anchor=(-0.1, 1., 0., 0.), fontsize='large')\n",
    "\n",
    "# View the plot\n",
    "plt.tight_layout()\n",
    "plt.show()\n"
   ]
  },
  {
   "cell_type": "code",
   "execution_count": 3,
   "metadata": {},
   "outputs": [],
   "source": [
    "df_REU = df_REU[df_REU['STELLING'].isin(['Beleid', 'Anamnese', 'Conclusie']) ] "
   ]
  },
  {
   "cell_type": "code",
   "execution_count": 7,
   "metadata": {},
   "outputs": [
    {
     "name": "stdout",
     "output_type": "stream",
     "text": [
      "3045\n"
     ]
    }
   ],
   "source": [
    "print(len(df_REU['PATNR'].unique()))"
   ]
  },
  {
   "cell_type": "code",
   "execution_count": 49,
   "metadata": {},
   "outputs": [
    {
     "name": "stdout",
     "output_type": "stream",
     "text": [
      "10623\n"
     ]
    },
    {
     "name": "stderr",
     "output_type": "stream",
     "text": [
      "/usr/local/Anaconda/anaconda3/lib/python3.6/site-packages/matplotlib/legend.py:1357: UserWarning: You have mixed positional and keyword arguments, some input may be discarded.\n",
      "  warnings.warn(\"You have mixed positional and keyword \"\n"
     ]
    },
    {
     "data": {
      "image/png": "[encoded data removed]",
      "text/plain": [
       "<matplotlib.figure.Figure at 0x7f00e9c1a748>"
      ]
     },
     "metadata": {},
     "output_type": "display_data"
    }
   ],
   "source": [
    "#matchers = ['methotrexaat', 'leflunomide', 'sulfasalazine', 'hydrocylchloroquine', 'azathioprine', 'ciclosporine', 'goud', 'abatacept', 'adalimumab', 'anakinra', 'cetrolizumab', 'etanercept', 'golimumab', 'infliximab', 'rituximab', 'tocilizumab', 'tofacitinib', 'baricitinib', 'depomedrol', 'prednison', 'anti-tnf']\n",
    "import matplotlib.pyplot as plt\n",
    "\n",
    "global l_correct\n",
    "\n",
    "l_correct = []\n",
    "\n",
    "def correct_words(text):\n",
    "    for x in re.split(' |, |\\&|\\n',text):\n",
    "        if str(x) in MEDICINE:\n",
    "            l_correct.append(x)\n",
    "    return\n",
    "\n",
    "df_REU = df_REU.dropna(subset=['XANTWOORD'])\n",
    "df_REU['XANTWOORD'].apply(lambda x : correct_words(x))\n",
    "\n",
    "print(len(l_correct))\n",
    "\n",
    "# typos worden berekend in functie hierboven\n",
    "freq_list = ['649', len(l_correct)]\n",
    "# Create a list of colors (from iWantHue)\n",
    "fig = plt.figure(figsize=[10, 10])\n",
    "# Create a pie chart\n",
    "plt.pie(\n",
    "    # using data total)arrests\n",
    "    freq_list,\n",
    "    # with the labels being officer names\n",
    "    labels=['Typos', 'Correct'],\n",
    "    # with no shadows\n",
    "    shadow=False,\n",
    "    # with one slide exploded out\n",
    "    explode=(0.15, 0),\n",
    "    # with the start angle at 90%\n",
    "    startangle=60,\n",
    "    # with the percent listed as a fraction\n",
    "    autopct='%1.1f%%',\n",
    "    )\n",
    "\n",
    "# View the plot drop above\n",
    "plt.axis('equal', labeldistance=-1.05)\n",
    "plt.title('Proportion of typos in medication', fontsize='xx-large')\n",
    "plt.legend(freq_list, labels=['Incorrectly spelled medication', 'Correctly spelled medication'], loc=\"best\", bbox_to_anchor=(0.3, 1., 0., 0.), fontsize='x-large')\n",
    "\n",
    "# View the plot\n",
    "plt.tight_layout()\n",
    "plt.show()\n",
    "\n"
   ]
  },
  {
   "cell_type": "code",
   "execution_count": 11,
   "metadata": {},
   "outputs": [
    {
     "name": "stdout",
     "output_type": "stream",
     "text": [
      "2449\n"
     ]
    }
   ],
   "source": [
    "matchers = ['methotrexaat', 'leflunomide', 'sulfasalazine', 'hydrocylchloroquine', 'azathioprine', 'ciclosporine', 'goud', 'abatacept', 'adalimumab', 'anakinra', 'cetrolizumab', 'etanercept', 'golimumab', 'infliximab', 'rituximab', 'tocilizumab', 'tofacitinib', 'baricitinib', 'depomedrol', 'prednison', 'anti-tnf']\n",
    "pattern = '|'.join(matchers)\n",
    "print(len(df_REU[df_REU['XANTWOORD'].str.contains(pattern)]['PATNR'].unique()))"
   ]
  },
  {
   "cell_type": "markdown",
   "metadata": {},
   "source": [
    "### Remove typo's with levenshtein"
   ]
  },
  {
   "cell_type": "code",
   "execution_count": 3,
   "metadata": {
    "scrolled": true
   },
   "outputs": [
    {
     "name": "stdout",
     "output_type": "stream",
     "text": [
      "dict_keys(['mtx', 'mxt', 'mtz', 'mrx', 'mte', 'mtc', 'trexall', 'otrexup', 'rasuvo', 'arara', 'araav', 'lef', 'arava', 'ara', 'leflu', 'lfn', 'lefl', 'lelf', 'lelfu', 'azulfidine', 'ssz', 'saps', 'ssa', 'sasp', 'saz', 'ssap', 'hcq', 'plaquenil', 'hqc', 'hsq', 'plaquneil', 'palquenil', 'plauqenil', 'plaqeunil', 'plaquenyl', 'plaquinil', 'plquenil', 'plaquenik', 'plaqueniel', 'plaqeuenil', 'plaquwnil', 'plaquienil', 'plaquenuil', 'plaeunil', 'plqauenil', 'plaquenl', 'plaqueni', 'plaquanil', 'imuran', 'ciqorin', 'aza', 'immuran', 'uimuran', 'imuarn', 'neoral', 'enoral', 'cic', 'ciclo', 'diclo', 'au', 'abx', 'aba', 'orencia', 'abt', 'humira', 'ada', 'humria', 'hunira', 'huimira', 'humia', 'huira', 'humiraa', 'humar', 'humiira', 'humir', 'hurmira', 'humari', 'kineret', 'ana', 'anti-il1', 'cimzia', 'cetro', 'certo', 'comzia', 'cmizia', 'cimizia', 'cimxia', 'cizia', 'cimzea', 'enbrel', 'etn', 'ena', 'eta', 'embrel', 'enrbel', 'emnbrel', 'ennbrel', 'enbre', 'enberl', 'ebrel', 'glm', 'simponi', 'goli', 'symponi', 'symponie', 'remicade', 'inflix', 'ifx', 'infx', 'infl', 'inf', 'ing', 'remicadev', 'remicad', 'rituxan', 'rtx', 'rtc', 'ritux', 'rimx', 'rixm', 'rituxm', 'actemra', 'tcz', 'toci', 'tocl', 'toc', 'toco', 'xeljanz', 'tofa', 'olumiant', 'jaki', 'jak2', 'jak', 'bari', 'bare', 'depo', 'medrol', 'med', \"cortico's\", 'corticoid', 'deop', 'edpo', 'depom', 'depoe', 'depoi', 'dpm', 'pred', 'pref', 'perd', 'ored', 'prec', 'rped', 'prednisolon', 'tnfi', 'tnfs', 'tnff', 'atnf'])\n"
     ]
    }
   ],
   "source": [
    "#pc = em.Processing(df_proc)\n",
    "print(ACRONYM_MAP.keys())\n",
    "#pc.typoAnalyzing('XANTWOORD', ACRONYM_MAP.keys())\n"
   ]
  },
  {
   "cell_type": "code",
   "execution_count": 4,
   "metadata": {
    "scrolled": true
   },
   "outputs": [
    {
     "name": "stdout",
     "output_type": "stream",
     "text": [
      "{'methotrexate': 'methotrexaat', 'metohexaat': 'methotrexaat', 'galimumab': 'golimumab'}\n",
      "blablaa methotrexaat methotrexaat golimumab\n"
     ]
    }
   ],
   "source": [
    "\n",
    "def isDigit(string):\n",
    "        try: \n",
    "            int(string)\n",
    "            return True\n",
    "        except ValueError:\n",
    "            return False\n",
    "        \n",
    "def damerauLevenshtein(s, t):\n",
    "        \"\"\"\n",
    "        Not the greatest performance\n",
    "        https://www.guyrutenberg.com/2008/12/15/damerau-levenshtein-distance-in-python/\n",
    "        \"\"\"\n",
    "        d = {}\n",
    "        lenstr1 = len(s)\n",
    "        lenstr2 = len(t)\n",
    "        for i in range(-1,lenstr1+1):\n",
    "            d[(i,-1)] = i+1\n",
    "        for j in range(-1,lenstr2+1):\n",
    "            d[(-1,j)] = j+1\n",
    "     \n",
    "        for i in range(lenstr1):\n",
    "            for j in range(lenstr2):\n",
    "                if s[i] == t[j]:\n",
    "                    cost = 0\n",
    "                else:\n",
    "                    cost = 1\n",
    "                d[(i,j)] = min(\n",
    "                               d[(i-1,j)] + 1, # deletion\n",
    "                               d[(i,j-1)] + 1, # insertion\n",
    "                               d[(i-1,j-1)] + cost, # substitution\n",
    "                              )\n",
    "                if i and j and s[i]==t[j-1] and s[i-1] == t[j]:\n",
    "                    d[(i,j)] = min (d[(i,j)], d[i-2,j-2] + cost) # transposition\n",
    "     \n",
    "        return d[lenstr1-1,lenstr2-1]\n",
    "\n",
    "def correctTypos(text):\n",
    "    d_typos = {}\n",
    "    for x in re.split(' |\\n',str(text)):\n",
    "        for word in MEDICINE:\n",
    "            factor_word = int(len(word)*1/6+1) # vanaf 6 letters naar boven, standaard van 1\n",
    "            if len(x) > len(word)-factor_word and len(x) < len(word)+factor_word \\\n",
    "            and isDigit(x) == False and str(x) not in ACRONYM_MAP.keys() \\\n",
    "            and str(x) not in MEDICINE  and str(x) not in MONTH_MAP.keys() and str(x) != \"goed\": # NOT in MEDICINE\n",
    "                score = damerauLevenshtein(x, word)\n",
    "                if score < factor_word+1 and score != 0:\n",
    "                    #print(str(x) + \" : \" + str(word) + \" : \" + str(score))\n",
    "                    if str(x) in d_typos:\n",
    "                        if word != d_typos[str(x)] and score < damerauLevenshtein(x, d_typos[str(x)]):\n",
    "                            d_typos[str(x)] = str(word)\n",
    "                    else:\n",
    "                        d_typos[str(x)] = str(word)\n",
    "    for x in d_typos.keys():\n",
    "        text = text.replace(str(x), d_typos[str(x)])\n",
    "    print(d_typos)\n",
    "    return text\n",
    "\n",
    "\n",
    "def typoCorrecting(df , column, medication_list):\n",
    "        \"\"\"\n",
    "            column \n",
    "        \"\"\"\n",
    "        df_corrected = df\n",
    "        df_corrected[column] = df[column].apply(lambda x : self.correctTypos(x))\n",
    "        return df_corrected\n",
    "\n",
    "\n",
    "print(correctTypos('blablaa methotrexate metohexaat galimumab'))"
   ]
  },
  {
   "cell_type": "code",
   "execution_count": 10,
   "metadata": {},
   "outputs": [
    {
     "ename": "NameError",
     "evalue": "name 'pc_df' is not defined",
     "output_type": "error",
     "traceback": [
      "\u001b[1;31m---------------------------------------------------------------------------\u001b[0m",
      "\u001b[1;31mNameError\u001b[0m                                 Traceback (most recent call last)",
      "\u001b[1;32m<ipython-input-10-f392503db5f2>\u001b[0m in \u001b[0;36m<module>\u001b[1;34m()\u001b[0m\n\u001b[1;32m----> 1\u001b[1;33m \u001b[0mpc_df\u001b[0m\u001b[1;33m.\u001b[0m\u001b[0mgetDF\u001b[0m\u001b[1;33m(\u001b[0m\u001b[1;33m)\u001b[0m\u001b[1;33m.\u001b[0m\u001b[0mhead\u001b[0m\u001b[1;33m(\u001b[0m\u001b[1;36m5\u001b[0m\u001b[1;33m)\u001b[0m\u001b[1;33m\u001b[0m\u001b[0m\n\u001b[0m",
      "\u001b[1;31mNameError\u001b[0m: name 'pc_df' is not defined"
     ]
    }
   ],
   "source": [
    "pc_df.getDF().head(5)"
   ]
  },
  {
   "cell_type": "code",
   "execution_count": 19,
   "metadata": {},
   "outputs": [
    {
     "name": "stdout",
     "output_type": "stream",
     "text": [
      "nope: das≥\n",
      "nope: saps≥\n"
     ]
    }
   ],
   "source": [
    "from collections import Counter\n",
    "import matplotlib.pyplot as plt\n",
    "\n",
    "ofile = open(r'CandidateTypos.txt', 'w')\n",
    "\n",
    "count_obj = Counter(pc.l_typo)\n",
    "for x in count_obj.most_common():\n",
    "    text = \"Woord: \" + str(x[0]) + \"\\t\\tFrequentie: \" + str(x[1])\n",
    "    try:\n",
    "        ofile.write(text + \"\\n\")\n",
    "    except:\n",
    "        print('nope: ' + str(x[0]))\n",
    "ofile.close()   \n",
    "    \n",
    "#value = c[key]\n",
    "#print(Counter(pc.l_typo))"
   ]
  },
  {
   "cell_type": "markdown",
   "metadata": {},
   "source": [
    "#### Typo Research -> Word cloud of most occuring typos "
   ]
  },
  {
   "cell_type": "code",
   "execution_count": 29,
   "metadata": {},
   "outputs": [
    {
     "name": "stdout",
     "output_type": "stream",
     "text": [
      "{'A': ['B', 'C']}\n"
     ]
    }
   ],
   "source": [
    "def appendValueDict(d, key, value):\n",
    "    \"\"\"\n",
    "        d = dict\n",
    "    \"\"\"\n",
    "    if key in d:\n",
    "        d[key].append(str(value))\n",
    "    else:\n",
    "        d[key] = [str(value)]\n",
    "    return d\n",
    "d_type = {}\n",
    "\n",
    "d_type = appendValueDict(d_type, 'A', 'B')\n",
    "d_type = appendValueDict(d_type, 'A', 'C')\n",
    "print(d_type)"
   ]
  },
  {
   "cell_type": "code",
   "execution_count": 23,
   "metadata": {},
   "outputs": [
    {
     "name": "stdout",
     "output_type": "stream",
     "text": [
      "649\n"
     ]
    }
   ],
   "source": [
    "\n",
    "import importlib.util\n",
    "spec = importlib.util.spec_from_file_location(\"wordcloud\", \"/exports/reum/tdmaarseveen/modules/word_cloud/wordcloud/wordcloud.py\")\n",
    "wordcloud = importlib.util.module_from_spec(spec)\n",
    "spec.loader.exec_module(wordcloud)\n",
    "wordcloud.WordCloud()\n",
    "\n",
    "#from wordcloud import WordCloud, STOPWORDS \n",
    "from collections import Counter\n",
    "import matplotlib.pyplot as plt\n",
    "#l_typo = ['lala', 'pooh', 'winnie', 'pooh', 'kabouter', 'kabouter', 'kabouter', 'kabouter' ]\n",
    "word_could_dict=Counter(l_typo)\n",
    "print(len(l_typo))\n",
    "wordcloud = wordcloud.WordCloud(width = 3000, height = 1500).generate_from_frequencies(word_could_dict)\n",
    "\n",
    "plt.figure(figsize=(15,8))\n",
    "plt.imshow(wordcloud)\n",
    "plt.axis(\"off\")\n",
    "#plt.show()\n",
    "plt.savefig('TyposWordcloud.png', bbox_inches='tight')\n",
    "plt.close()"
   ]
  },
  {
   "cell_type": "code",
   "execution_count": 80,
   "metadata": {},
   "outputs": [
    {
     "data": {
      "text/plain": [
       "'/exports/reum/tdmaarseveen/data/mixed.html'"
      ]
     },
     "execution_count": 80,
     "metadata": {},
     "output_type": "execute_result"
    }
   ],
   "source": [
    "from bokeh.io import show, output_file\n",
    "from bokeh.models import FactorRange\n",
    "from bokeh.plotting import figure\n",
    "from bokeh.plotting import figure, output_file, save\n",
    "\n",
    "\n",
    "factors = [\n",
    "    (\"Q1\", \"jan\"), (\"Q1\", \"feb\"), (\"Q1\", \"mar\"), \n",
    "    (\"Q2\", \"apr\"), (\"Q2\", \"may\"), (\"Q2\", \"jun\"),\n",
    "    (\"Q3\", \"jul\"), (\"Q3\", \"aug\"), (\"Q3\", \"sep\"),\n",
    "    (\"Q4\", \"oct\"), (\"Q4\", \"nov\"), (\"Q4\", \"dec\"),\n",
    "\n",
    "]\n",
    "\n",
    "p = figure(x_range=FactorRange(*factors), plot_height=250,\n",
    "           toolbar_location=None, tools=\"\")\n",
    "\n",
    "x = [ 10, 12, 16, 9, 10, 8, 12, 13, 14, 14, 12, 16 ]\n",
    "p.vbar(x=factors, top=x, width=0.9, alpha=0.5)\n",
    "\n",
    "#p.line(x=[\"Q1\", \"Q2\", \"Q3\", \"Q4\"], y=[12, 9, 13, 14], color=\"red\", line_width=2)\n",
    "\n",
    "p.y_range.start = 0\n",
    "p.x_range.range_padding = 0.1\n",
    "p.xaxis.major_label_orientation = 1\n",
    "p.xgrid.grid_line_color = None\n",
    "\n",
    "output_file(\"mixed.html\")\n",
    "save(p)"
   ]
  },
  {
   "cell_type": "markdown",
   "metadata": {},
   "source": [
    "## Step 4: METEOR"
   ]
  },
  {
   "cell_type": "code",
   "execution_count": 32,
   "metadata": {},
   "outputs": [
    {
     "data": {
      "text/html": [
       "<div>\n",
       "<style scoped>\n",
       "    .dataframe tbody tr th:only-of-type {\n",
       "        vertical-align: middle;\n",
       "    }\n",
       "\n",
       "    .dataframe tbody tr th {\n",
       "        vertical-align: top;\n",
       "    }\n",
       "\n",
       "    .dataframe thead th {\n",
       "        text-align: right;\n",
       "    }\n",
       "</style>\n",
       "<table border=\"1\" class=\"dataframe\">\n",
       "  <thead>\n",
       "    <tr style=\"text-align: right;\">\n",
       "      <th></th>\n",
       "      <th>patientId</th>\n",
       "      <th>objectId</th>\n",
       "      <th>pinCode</th>\n",
       "      <th>SiteID</th>\n",
       "    </tr>\n",
       "  </thead>\n",
       "  <tbody>\n",
       "    <tr>\n",
       "      <th>3</th>\n",
       "      <td>8797095296666</td>\n",
       "      <td>8797095296667</td>\n",
       "      <td>1554758</td>\n",
       "      <td>1</td>\n",
       "    </tr>\n",
       "    <tr>\n",
       "      <th>4</th>\n",
       "      <td>8797095296337</td>\n",
       "      <td>8797095296338</td>\n",
       "      <td>0865644</td>\n",
       "      <td>1</td>\n",
       "    </tr>\n",
       "    <tr>\n",
       "      <th>5</th>\n",
       "      <td>8797095309195</td>\n",
       "      <td>8797095309196</td>\n",
       "      <td>3156594</td>\n",
       "      <td>1</td>\n",
       "    </tr>\n",
       "    <tr>\n",
       "      <th>6</th>\n",
       "      <td>8797095298374</td>\n",
       "      <td>8797095298375</td>\n",
       "      <td>3888302</td>\n",
       "      <td>1</td>\n",
       "    </tr>\n",
       "    <tr>\n",
       "      <th>7</th>\n",
       "      <td>8797093560198</td>\n",
       "      <td>8797093560199</td>\n",
       "      <td>4929148</td>\n",
       "      <td>1</td>\n",
       "    </tr>\n",
       "    <tr>\n",
       "      <th>8</th>\n",
       "      <td>8797095312802</td>\n",
       "      <td>8797095312803</td>\n",
       "      <td>7664209</td>\n",
       "      <td>1</td>\n",
       "    </tr>\n",
       "    <tr>\n",
       "      <th>9</th>\n",
       "      <td>8797095310377</td>\n",
       "      <td>8797095310378</td>\n",
       "      <td>7847042</td>\n",
       "      <td>1</td>\n",
       "    </tr>\n",
       "    <tr>\n",
       "      <th>10</th>\n",
       "      <td>8797093375387</td>\n",
       "      <td>8797093375388</td>\n",
       "      <td>9301761</td>\n",
       "      <td>1</td>\n",
       "    </tr>\n",
       "  </tbody>\n",
       "</table>\n",
       "</div>"
      ],
      "text/plain": [
       "        patientId       objectId    pinCode  SiteID\n",
       "3   8797095296666  8797095296667    1554758       1\n",
       "4   8797095296337  8797095296338    0865644       1\n",
       "5   8797095309195  8797095309196    3156594       1\n",
       "6   8797095298374  8797095298375    3888302       1\n",
       "7   8797093560198  8797093560199    4929148       1\n",
       "8   8797095312802  8797095312803    7664209       1\n",
       "9   8797095310377  8797095310378    7847042       1\n",
       "10  8797093375387  8797093375388    9301761       1"
      ]
     },
     "execution_count": 32,
     "metadata": {},
     "output_type": "execute_result"
    }
   ],
   "source": [
    "df_HIXMET = pd.read_excel('LUMC_Hix_nummers_METEOR.xlsx')\n",
    "#print(getDim(df_HIXMET))\n",
    "#\n",
    "df_HIXMET['pinCode'] = df_HIXMET['pinCode'].str.replace('\\.', '', regex=True)\n",
    "df_HIXMET['pinCode'] = df_HIXMET['pinCode'].str.replace('[a-zA-Z]', '', regex=True)\n",
    "df_HIXMET = df_HIXMET.dropna(subset=['pinCode'])\n",
    "df_HIXMET.head(8)"
   ]
  },
  {
   "cell_type": "code",
   "execution_count": 33,
   "metadata": {},
   "outputs": [
    {
     "name": "stdout",
     "output_type": "stream",
     "text": [
      "2593\n"
     ]
    },
    {
     "ename": "NameError",
     "evalue": "name 'getDim' is not defined",
     "output_type": "error",
     "traceback": [
      "\u001b[1;31m---------------------------------------------------------------------------\u001b[0m",
      "\u001b[1;31mNameError\u001b[0m                                 Traceback (most recent call last)",
      "\u001b[1;32m<ipython-input-33-eb246f81f23d>\u001b[0m in \u001b[0;36m<module>\u001b[1;34m()\u001b[0m\n\u001b[0;32m     14\u001b[0m \u001b[0mprint\u001b[0m\u001b[1;33m(\u001b[0m\u001b[0mlen\u001b[0m\u001b[1;33m(\u001b[0m\u001b[0mnp\u001b[0m\u001b[1;33m.\u001b[0m\u001b[0mintersect1d\u001b[0m\u001b[1;33m(\u001b[0m\u001b[0ma5\u001b[0m\u001b[1;33m,\u001b[0m \u001b[0ma6\u001b[0m\u001b[1;33m)\u001b[0m\u001b[1;33m)\u001b[0m\u001b[1;33m)\u001b[0m\u001b[1;33m\u001b[0m\u001b[0m\n\u001b[0;32m     15\u001b[0m \u001b[1;33m\u001b[0m\u001b[0m\n\u001b[1;32m---> 16\u001b[1;33m \u001b[0mprint\u001b[0m\u001b[1;33m(\u001b[0m\u001b[0mgetDim\u001b[0m\u001b[1;33m(\u001b[0m\u001b[0mdf_proc\u001b[0m\u001b[1;33m)\u001b[0m\u001b[1;33m)\u001b[0m\u001b[1;33m\u001b[0m\u001b[0m\n\u001b[0m\u001b[0;32m     17\u001b[0m \u001b[0mdf_proc\u001b[0m \u001b[1;33m=\u001b[0m \u001b[0mdf_proc\u001b[0m\u001b[1;33m[\u001b[0m\u001b[0mdf_proc\u001b[0m\u001b[1;33m[\u001b[0m\u001b[1;34m'PATNR'\u001b[0m\u001b[1;33m]\u001b[0m\u001b[1;33m.\u001b[0m\u001b[0misin\u001b[0m\u001b[1;33m(\u001b[0m\u001b[0mnp\u001b[0m\u001b[1;33m.\u001b[0m\u001b[0mintersect1d\u001b[0m\u001b[1;33m(\u001b[0m\u001b[0ma5\u001b[0m\u001b[1;33m,\u001b[0m \u001b[0ma6\u001b[0m\u001b[1;33m)\u001b[0m\u001b[1;33m)\u001b[0m\u001b[1;33m]\u001b[0m\u001b[1;33m\u001b[0m\u001b[0m\n\u001b[0;32m     18\u001b[0m \u001b[0mprint\u001b[0m\u001b[1;33m(\u001b[0m\u001b[0mdf_proc\u001b[0m\u001b[1;33m[\u001b[0m\u001b[1;34m'PATNR'\u001b[0m\u001b[1;33m]\u001b[0m\u001b[1;33m.\u001b[0m\u001b[0mhead\u001b[0m\u001b[1;33m(\u001b[0m\u001b[1;36m5\u001b[0m\u001b[1;33m)\u001b[0m\u001b[1;33m.\u001b[0m\u001b[0mapply\u001b[0m\u001b[1;33m(\u001b[0m\u001b[1;32mlambda\u001b[0m \u001b[0mx\u001b[0m \u001b[1;33m:\u001b[0m \u001b[0mdf_HIXMET\u001b[0m\u001b[1;33m.\u001b[0m\u001b[0mloc\u001b[0m\u001b[1;33m[\u001b[0m\u001b[0mdf_HIXMET\u001b[0m\u001b[1;33m[\u001b[0m\u001b[1;34m'pinCode'\u001b[0m\u001b[1;33m]\u001b[0m \u001b[1;33m==\u001b[0m \u001b[0mx\u001b[0m\u001b[1;33m,\u001b[0m \u001b[1;34m'patientId'\u001b[0m\u001b[1;33m]\u001b[0m\u001b[1;33m)\u001b[0m\u001b[1;33m)\u001b[0m\u001b[1;33m\u001b[0m\u001b[0m\n",
      "\u001b[1;31mNameError\u001b[0m: name 'getDim' is not defined"
     ]
    }
   ],
   "source": [
    "#a5 = df_HIXMET['pinCode'].unique()\n",
    "\n",
    "\n",
    "df_proc = pc_df.getDF()\n",
    "\n",
    "a5 = pd.to_numeric(df_HIXMET['pinCode'])\n",
    "a5 = a5[a5 != np.array(None)]\n",
    "a6 = df_proc['PATNR'].unique()\n",
    "a6 = a6[a6 != np.array(None)]\n",
    "\n",
    "\n",
    "\n",
    "# later vervangen met patient id indien er sprake is van overlap\n",
    "print(len(np.intersect1d(a5, a6)))\n",
    "\n",
    "#print(getDim(df_proc))\n",
    "df_proc = df_proc[df_proc['PATNR'].isin(np.intersect1d(a5, a6))]\n",
    "print(df_proc['PATNR'].head(5).apply(lambda x : df_HIXMET.loc[df_HIXMET['pinCode'] == x, 'patientId']))\n",
    "\n",
    "\n",
    "\n",
    "#df_proc['patient_id'] = df_proc['PATNR'].apply(lambda x : df_HIXMET[df_HIXMET['pinCode']\n",
    "#df_proc['patient_id'] = df_proc['PATNR'].apply(lambda x : df_HIXMET[df_HIXMET['pinCode'] == x]['patientId'] )\n",
    "#print(df_proc.head(5)['PATNR', 'patient_id', 'XANTWOORD'])"
   ]
  },
  {
   "cell_type": "code",
   "execution_count": 26,
   "metadata": {},
   "outputs": [
    {
     "name": "stdout",
     "output_type": "stream",
     "text": [
      "Rows: 34805\tColumns: 1801\n",
      "['newpatientid', 'VisitUniqueId', 'patientId', 'Betamethasone1Name', 'Betamethasone1StartDate', 'Betamethasone1EndDate', 'Betamethasone1Amount', 'Betamethasone1Strength', 'Betamethasone1Dosage', 'Betamethasone1Iter', 'Betamethasone1Interval', 'Betamethasone1StopReason', 'Betamethasone1iaInjection', 'Betamethasone1jointCode', 'Betamethasone2Name', 'Betamethasone2StartDate', 'Betamethasone2EndDate', 'Betamethasone2Amount', 'Betamethasone2Strength', 'Betamethasone2Dosage', 'Betamethasone2Iter', 'Betamethasone2Interval', 'Betamethasone2StopReason', 'Betamethasone2iaInjection', 'Betamethasone2jointCode', 'Betamethasone3Name', 'Betamethasone3StartDate', 'Betamethasone3EndDate', 'Betamethasone3Amount', 'Betamethasone3Strength', 'Betamethasone3Dosage', 'Betamethasone3Iter', 'Betamethasone3Interval', 'Betamethasone3StopReason', 'Betamethasone3iaInjection', 'Betamethasone3jointCode', 'Cortivazol1Name', 'Cortivazol1StartDate', 'Cortivazol1EndDate', 'Cortivazol1Amount', 'Cortivazol1Strength', 'Cortivazol1Dosage', 'Cortivazol1Iter', 'Cortivazol1Interval', 'Cortivazol1StopReason', 'Cortivazol1iaInjection', 'Cortivazol1jointCode', 'Depomedrol1Name', 'Depomedrol1StartDate', 'Depomedrol1EndDate', 'Depomedrol1Amount', 'Depomedrol1Strength', 'Depomedrol1Dosage', 'Depomedrol1Iter', 'Depomedrol1Interval', 'Depomedrol1StopReason', 'Depomedrol1iaInjection', 'Depomedrol1jointCode', 'Depomedrol2Name', 'Depomedrol2StartDate', 'Depomedrol2EndDate', 'Depomedrol2Amount', 'Depomedrol2Strength', 'Depomedrol2Dosage', 'Depomedrol2Iter', 'Depomedrol2Interval', 'Depomedrol2StopReason', 'Depomedrol2iaInjection', 'Depomedrol2jointCode', 'Depomedrol3Name', 'Depomedrol3StartDate', 'Depomedrol3EndDate', 'Depomedrol3Amount', 'Depomedrol3Strength', 'Depomedrol3Dosage', 'Depomedrol3Iter', 'Depomedrol3Interval', 'Depomedrol3StopReason', 'Depomedrol3iaInjection', 'Depomedrol3jointCode', 'Depomedrol4Name', 'Depomedrol4StartDate', 'Depomedrol4EndDate', 'Depomedrol4Amount', 'Depomedrol4Strength', 'Depomedrol4Dosage', 'Depomedrol4Iter', 'Depomedrol4Interval', 'Depomedrol4StopReason', 'Depomedrol4iaInjection', 'Depomedrol4jointCode', 'Depomedrol5Name', 'Depomedrol5StartDate', 'Depomedrol5EndDate', 'Depomedrol5Amount', 'Depomedrol5Strength', 'Depomedrol5Dosage', 'Depomedrol5Iter', 'Depomedrol5Interval', 'Depomedrol5StopReason', 'Depomedrol5iaInjection', 'Depomedrol5jointCode', 'Depomedrol6Name', 'Depomedrol6StartDate', 'Depomedrol6EndDate', 'Depomedrol6Amount', 'Depomedrol6Strength', 'Depomedrol6Dosage', 'Depomedrol6Iter', 'Depomedrol6Interval', 'Depomedrol6StopReason', 'Depomedrol6iaInjection', 'Depomedrol6jointCode', 'Dexamethasone1Name', 'Dexamethasone1StartDate', 'Dexamethasone1EndDate', 'Dexamethasone1Amount', 'Dexamethasone1Strength', 'Dexamethasone1Dosage', 'Dexamethasone1Iter', 'Dexamethasone1Interval', 'Dexamethasone1StopReason', 'Dexamethasone1iaInjection', 'Dexamethasone1jointCode', 'Dexamethasone2Name', 'Dexamethasone2StartDate', 'Dexamethasone2EndDate', 'Dexamethasone2Amount', 'Dexamethasone2Strength', 'Dexamethasone2Dosage', 'Dexamethasone2Iter', 'Dexamethasone2Interval', 'Dexamethasone2StopReason', 'Dexamethasone2iaInjection', 'Dexamethasone2jointCode', 'Dexamethasone3Name', 'Dexamethasone3StartDate', 'Dexamethasone3EndDate', 'Dexamethasone3Amount', 'Dexamethasone3Strength', 'Dexamethasone3Dosage', 'Dexamethasone3Iter', 'Dexamethasone3Interval', 'Dexamethasone3StopReason', 'Dexamethasone3iaInjection', 'Dexamethasone3jointCode', 'Dexamethasone4Name', 'Dexamethasone4StartDate', 'Dexamethasone4EndDate', 'Dexamethasone4Amount', 'Dexamethasone4Strength', 'Dexamethasone4Dosage', 'Dexamethasone4Iter', 'Dexamethasone4Interval', 'Dexamethasone4StopReason', 'Dexamethasone4iaInjection', 'Dexamethasone4jointCode', 'Dexamethasone5Name', 'Dexamethasone5StartDate', 'Dexamethasone5EndDate', 'Dexamethasone5Amount', 'Dexamethasone5Strength', 'Dexamethasone5Dosage', 'Dexamethasone5Iter', 'Dexamethasone5Interval', 'Dexamethasone5StopReason', 'Dexamethasone5iaInjection', 'Dexamethasone5jointCode', 'Dexamethasone6Name', 'Dexamethasone6StartDate', 'Dexamethasone6EndDate', 'Dexamethasone6Amount', 'Dexamethasone6Strength', 'Dexamethasone6Dosage', 'Dexamethasone6Iter', 'Dexamethasone6Interval', 'Dexamethasone6StopReason', 'Dexamethasone6iaInjection', 'Dexamethasone6jointCode', 'Dexamethasone7Name', 'Dexamethasone7StartDate', 'Dexamethasone7EndDate', 'Dexamethasone7Amount', 'Dexamethasone7Strength', 'Dexamethasone7Dosage', 'Dexamethasone7Iter', 'Dexamethasone7Interval', 'Dexamethasone7StopReason', 'Dexamethasone7iaInjection', 'Dexamethasone7jointCode', 'Kenacort1Name', 'Kenacort1StartDate', 'Kenacort1EndDate', 'Kenacort1Amount', 'Kenacort1Strength', 'Kenacort1Dosage', 'Kenacort1Iter', 'Kenacort1Interval', 'Kenacort1StopReason', 'Kenacort1iaInjection', 'Kenacort1jointCode', 'Prednisolone1Name', 'Prednisolone1StartDate', 'Prednisolone1EndDate', 'Prednisolone1Amount', 'Prednisolone1Strength', 'Prednisolone1Dosage', 'Prednisolone1Iter', 'Prednisolone1Interval', 'Prednisolone1StopReason', 'Prednisolone1iaInjection', 'Prednisolone1jointCode', 'Prednisolone10Name', 'Prednisolone10StartDate', 'Prednisolone10EndDate', 'Prednisolone10Amount', 'Prednisolone10Strength', 'Prednisolone10Dosage', 'Prednisolone10Iter', 'Prednisolone10Interval', 'Prednisolone10StopReason', 'Prednisolone10iaInjection', 'Prednisolone10jointCode', 'Prednisolone11Name', 'Prednisolone11StartDate', 'Prednisolone11EndDate', 'Prednisolone11Amount', 'Prednisolone11Strength', 'Prednisolone11Dosage', 'Prednisolone11Iter', 'Prednisolone11Interval', 'Prednisolone11StopReason', 'Prednisolone11iaInjection', 'Prednisolone11jointCode', 'Prednisolone12Name', 'Prednisolone12StartDate', 'Prednisolone12EndDate', 'Prednisolone12Amount', 'Prednisolone12Strength', 'Prednisolone12Dosage', 'Prednisolone12Iter', 'Prednisolone12Interval', 'Prednisolone12StopReason', 'Prednisolone12iaInjection', 'Prednisolone12jointCode', 'Prednisolone2Name', 'Prednisolone2StartDate', 'Prednisolone2EndDate', 'Prednisolone2Amount', 'Prednisolone2Strength', 'Prednisolone2Dosage', 'Prednisolone2Iter', 'Prednisolone2Interval', 'Prednisolone2StopReason', 'Prednisolone2iaInjection', 'Prednisolone2jointCode', 'Prednisolone3Name', 'Prednisolone3StartDate', 'Prednisolone3EndDate', 'Prednisolone3Amount', 'Prednisolone3Strength', 'Prednisolone3Dosage', 'Prednisolone3Iter', 'Prednisolone3Interval', 'Prednisolone3StopReason', 'Prednisolone3iaInjection', 'Prednisolone3jointCode', 'Prednisolone4Name', 'Prednisolone4StartDate', 'Prednisolone4EndDate', 'Prednisolone4Amount', 'Prednisolone4Strength', 'Prednisolone4Dosage', 'Prednisolone4Iter', 'Prednisolone4Interval', 'Prednisolone4StopReason', 'Prednisolone4iaInjection', 'Prednisolone4jointCode', 'Prednisolone5Name', 'Prednisolone5StartDate', 'Prednisolone5EndDate', 'Prednisolone5Amount', 'Prednisolone5Strength', 'Prednisolone5Dosage', 'Prednisolone5Iter', 'Prednisolone5Interval', 'Prednisolone5StopReason', 'Prednisolone5iaInjection', 'Prednisolone5jointCode', 'Prednisolone6Name', 'Prednisolone6StartDate', 'Prednisolone6EndDate', 'Prednisolone6Amount', 'Prednisolone6Strength', 'Prednisolone6Dosage', 'Prednisolone6Iter', 'Prednisolone6Interval', 'Prednisolone6StopReason', 'Prednisolone6iaInjection', 'Prednisolone6jointCode', 'Prednisolone7Name', 'Prednisolone7StartDate', 'Prednisolone7EndDate', 'Prednisolone7Amount', 'Prednisolone7Strength', 'Prednisolone7Dosage', 'Prednisolone7Iter', 'Prednisolone7Interval', 'Prednisolone7StopReason', 'Prednisolone7iaInjection', 'Prednisolone7jointCode', 'Prednisolone8Name', 'Prednisolone8StartDate', 'Prednisolone8EndDate', 'Prednisolone8Amount', 'Prednisolone8Strength', 'Prednisolone8Dosage', 'Prednisolone8Iter', 'Prednisolone8Interval', 'Prednisolone8StopReason', 'Prednisolone8iaInjection', 'Prednisolone8jointCode', 'Prednisolone9Name', 'Prednisolone9StartDate', 'Prednisolone9EndDate', 'Prednisolone9Amount', 'Prednisolone9Strength', 'Prednisolone9Dosage', 'Prednisolone9Iter', 'Prednisolone9Interval', 'Prednisolone9StopReason', 'Prednisolone9iaInjection', 'Prednisolone9jointCode', 'Triamcinoloneacetonid1Name', 'Triamcinoloneacetonid1StartDate', 'Triamcinoloneacetonid1EndDate', 'Triamcinoloneacetonid1Amount', 'Triamcinoloneacetonid1Strength', 'Triamcinoloneacetonid1Dosage', 'Triamcinoloneacetonid1Iter', 'Triamcinoloneacetonid1Interval', 'Triamcinoloneacetonid1StopReason', 'var344', 'Triamcinoloneacetonid1jointCode', 'Triamcinoloneacetonid2Name', 'Triamcinoloneacetonid2StartDate', 'Triamcinoloneacetonid2EndDate', 'Triamcinoloneacetonid2Amount', 'Triamcinoloneacetonid2Strength', 'Triamcinoloneacetonid2Dosage', 'Triamcinoloneacetonid2Iter', 'Triamcinoloneacetonid2Interval', 'Triamcinoloneacetonid2StopReason', 'var355', 'Triamcinoloneacetonid2jointCode', 'Triamcinoloneacetonid3Name', 'Triamcinoloneacetonid3StartDate', 'Triamcinoloneacetonid3EndDate', 'Triamcinoloneacetonid3Amount', 'Triamcinoloneacetonid3Strength', 'Triamcinoloneacetonid3Dosage', 'Triamcinoloneacetonid3Iter', 'Triamcinoloneacetonid3Interval', 'Triamcinoloneacetonid3StopReason', 'var366', 'Triamcinoloneacetonid3jointCode', 'visitcount', 'visitstartdateN', 'visitenddateN', 'Deflazacort1Name', 'Deflazacort1StartDate', 'Deflazacort1EndDate', 'Deflazacort1Amount', 'Deflazacort1Strength', 'Deflazacort1Dosage', 'Deflazacort1Iter', 'Deflazacort1Interval', 'Deflazacort1StopReason', 'Deflazacort2Name', 'Deflazacort2StartDate', 'Deflazacort2EndDate', 'Deflazacort2Amount', 'Deflazacort2Strength', 'Deflazacort2Dosage', 'Deflazacort2Iter', 'Deflazacort2Interval', 'Deflazacort2StopReason', 'Deflazacort3Name', 'Deflazacort3StartDate', 'Deflazacort3EndDate', 'Deflazacort3Amount', 'Deflazacort3Strength', 'Deflazacort3Dosage', 'Deflazacort3Iter', 'Deflazacort3Interval', 'Deflazacort3StopReason', 'Deflazacort4Name', 'Deflazacort4StartDate', 'Deflazacort4EndDate', 'Deflazacort4Amount', 'Deflazacort4Strength', 'Deflazacort4Dosage', 'Deflazacort4Iter', 'Deflazacort4Interval', 'Deflazacort4StopReason', 'Deflazacort5Name', 'Deflazacort5StartDate', 'Deflazacort5EndDate', 'Deflazacort5Amount', 'Deflazacort5Strength', 'Deflazacort5Dosage', 'Deflazacort5Iter', 'Deflazacort5Interval', 'Deflazacort5StopReason', 'Deflazacort6Name', 'Deflazacort6StartDate', 'Deflazacort6EndDate', 'Deflazacort6Amount', 'Deflazacort6Strength', 'Deflazacort6Dosage', 'Deflazacort6Iter', 'Deflazacort6Interval', 'Deflazacort6StopReason', 'Deflazacort7Name', 'Deflazacort7StartDate', 'Deflazacort7EndDate', 'Deflazacort7Amount', 'Deflazacort7Strength', 'Deflazacort7Dosage', 'Deflazacort7Iter', 'Deflazacort7Interval', 'Deflazacort7StopReason', 'Deflazacort8Name', 'Deflazacort8StartDate', 'Deflazacort8EndDate', 'Deflazacort8Amount', 'Deflazacort8Strength', 'Deflazacort8Dosage', 'Deflazacort8Iter', 'Deflazacort8Interval', 'Deflazacort8StopReason', 'Deflazacort9Name', 'Deflazacort9StartDate', 'Deflazacort9EndDate', 'Deflazacort9Amount', 'Deflazacort9Strength', 'Deflazacort9Dosage', 'Deflazacort9Iter', 'Deflazacort9Interval', 'Deflazacort9StopReason', 'Methylprednisolone1Name', 'Methylprednisolone1StartDate', 'Methylprednisolone1EndDate', 'Methylprednisolone1Amount', 'Methylprednisolone1Strength', 'Methylprednisolone1Dosage', 'Methylprednisolone1Iter', 'Methylprednisolone1Interval', 'Methylprednisolone1StopReason', 'Methylprednisolone2Name', 'Methylprednisolone2StartDate', 'Methylprednisolone2EndDate', 'Methylprednisolone2Amount', 'Methylprednisolone2Strength', 'Methylprednisolone2Dosage', 'Methylprednisolone2Iter', 'Methylprednisolone2Interval', 'Methylprednisolone2StopReason', 'Methylprednisolone3Name', 'Methylprednisolone3StartDate', 'Methylprednisolone3EndDate', 'Methylprednisolone3Amount', 'Methylprednisolone3Strength', 'Methylprednisolone3Dosage', 'Methylprednisolone3Iter', 'Methylprednisolone3Interval', 'Methylprednisolone3StopReason', 'Methylprednisolone4Name', 'Methylprednisolone4StartDate', 'Methylprednisolone4EndDate', 'Methylprednisolone4Amount', 'Methylprednisolone4Strength', 'Methylprednisolone4Dosage', 'Methylprednisolone4Iter', 'Methylprednisolone4Interval', 'Methylprednisolone4StopReason', 'Methylprednisolone5Name', 'Methylprednisolone5StartDate', 'Methylprednisolone5EndDate', 'Methylprednisolone5Amount', 'Methylprednisolone5Strength', 'Methylprednisolone5Dosage', 'Methylprednisolone5Iter', 'Methylprednisolone5Interval', 'Methylprednisolone5StopReason', 'Methylprednisolone6Name', 'Methylprednisolone6StartDate', 'Methylprednisolone6EndDate', 'Methylprednisolone6Amount', 'Methylprednisolone6Strength', 'Methylprednisolone6Dosage', 'Methylprednisolone6Iter', 'Methylprednisolone6Interval', 'Methylprednisolone6StopReason', 'Paramethasone1Name', 'Paramethasone1StartDate', 'Paramethasone1EndDate', 'Paramethasone1Amount', 'Paramethasone1Strength', 'Paramethasone1Dosage', 'Paramethasone1Iter', 'Paramethasone1Interval', 'Paramethasone1StopReason', 'Prednisone1Name', 'Prednisone1StartDate', 'Prednisone1EndDate', 'Prednisone1Amount', 'Prednisone1Strength', 'Prednisone1Dosage', 'Prednisone1Iter', 'Prednisone1Interval', 'Prednisone1StopReason', 'Prednisone2Name', 'Prednisone2StartDate', 'Prednisone2EndDate', 'Prednisone2Amount', 'Prednisone2Strength', 'Prednisone2Dosage', 'Prednisone2Iter', 'Prednisone2Interval', 'Prednisone2StopReason', 'Prednisone3Name', 'Prednisone3StartDate', 'Prednisone3EndDate', 'Prednisone3Amount', 'Prednisone3Strength', 'Prednisone3Dosage', 'Prednisone3Iter', 'Prednisone3Interval', 'Prednisone3StopReason', 'Prednisone4Name', 'Prednisone4StartDate', 'Prednisone4EndDate', 'Prednisone4Amount', 'Prednisone4Strength', 'Prednisone4Dosage', 'Prednisone4Iter', 'Prednisone4Interval', 'Prednisone4StopReason', 'Prednisone5Name', 'Prednisone5StartDate', 'Prednisone5EndDate', 'Prednisone5Amount', 'Prednisone5Strength', 'Prednisone5Dosage', 'Prednisone5Iter', 'Prednisone5Interval', 'Prednisone5StopReason', 'Prednisone6Name', 'Prednisone6StartDate', 'Prednisone6EndDate', 'Prednisone6Amount', 'Prednisone6Strength', 'Prednisone6Dosage', 'Prednisone6Iter', 'Prednisone6Interval', 'Prednisone6StopReason', 'Prednisone7Name', 'Prednisone7StartDate', 'Prednisone7EndDate', 'Prednisone7Amount', 'Prednisone7Strength', 'Prednisone7Dosage', 'Prednisone7Iter', 'Prednisone7Interval', 'Prednisone7StopReason', 'Prednisone8Name', 'Prednisone8StartDate', 'Prednisone8EndDate', 'Prednisone8Amount', 'Prednisone8Strength', 'Prednisone8Dosage', 'Prednisone8Iter', 'Prednisone8Interval', 'Prednisone8StopReason', 'Prednisone9Name', 'Prednisone9StartDate', 'Prednisone9EndDate', 'Prednisone9Amount', 'Prednisone9Strength', 'Prednisone9Dosage', 'Prednisone9Iter', 'Prednisone9Interval', 'Prednisone9StopReason', 'Abatacept1Name', 'Abatacept1StartDate', 'Abatacept1EndDate', 'Abatacept1Amount', 'Abatacept1Strength', 'Abatacept1Dosage', 'Abatacept1Iter', 'Abatacept1Interval', 'Abatacept1StopReason', 'Abatacept2Name', 'Abatacept2StartDate', 'Abatacept2EndDate', 'Abatacept2Amount', 'Abatacept2Strength', 'Abatacept2Dosage', 'Abatacept2Iter', 'Abatacept2Interval', 'Abatacept2StopReason', 'Abatacept3Name', 'Abatacept3StartDate', 'Abatacept3EndDate', 'Abatacept3Amount', 'Abatacept3Strength', 'Abatacept3Dosage', 'Abatacept3Iter', 'Abatacept3Interval', 'Abatacept3StopReason', 'Abatacept4Name', 'Abatacept4StartDate', 'Abatacept4EndDate', 'Abatacept4Amount', 'Abatacept4Strength', 'Abatacept4Dosage', 'Abatacept4Iter', 'Abatacept4Interval', 'Abatacept4StopReason', 'Abatacept5Name', 'Abatacept5StartDate', 'Abatacept5EndDate', 'Abatacept5Amount', 'Abatacept5Strength', 'Abatacept5Dosage', 'Abatacept5Iter', 'Abatacept5Interval', 'Abatacept5StopReason', 'Abataceptsimilar1Name', 'Abataceptsimilar1StartDate', 'Abataceptsimilar1EndDate', 'Abataceptsimilar1Amount', 'Abataceptsimilar1Strength', 'Abataceptsimilar1Dosage', 'Abataceptsimilar1Iter', 'Abataceptsimilar1Interval', 'Abataceptsimilar1StopReason', 'Adalimumab1Name', 'Adalimumab1StartDate', 'Adalimumab1EndDate', 'Adalimumab1Amount', 'Adalimumab1Strength', 'Adalimumab1Dosage', 'Adalimumab1Iter', 'Adalimumab1Interval', 'Adalimumab1StopReason', 'Adalimumab2Name', 'Adalimumab2StartDate', 'Adalimumab2EndDate', 'Adalimumab2Amount', 'Adalimumab2Strength', 'Adalimumab2Dosage', 'Adalimumab2Iter', 'Adalimumab2Interval', 'Adalimumab2StopReason', 'Adalimumab3Name', 'Adalimumab3StartDate', 'Adalimumab3EndDate', 'Adalimumab3Amount', 'Adalimumab3Strength', 'Adalimumab3Dosage', 'Adalimumab3Iter', 'Adalimumab3Interval', 'Adalimumab3StopReason', 'Adalimumab4Name', 'Adalimumab4StartDate', 'Adalimumab4EndDate', 'Adalimumab4Amount', 'Adalimumab4Strength', 'Adalimumab4Dosage', 'Adalimumab4Iter', 'Adalimumab4Interval', 'Adalimumab4StopReason', 'Adalimumab5Name', 'Adalimumab5StartDate', 'Adalimumab5EndDate', 'Adalimumab5Amount', 'Adalimumab5Strength', 'Adalimumab5Dosage', 'Adalimumab5Iter', 'Adalimumab5Interval', 'Adalimumab5StopReason', 'Adalimumabsimilar1Name', 'Adalimumabsimilar1StartDate', 'Adalimumabsimilar1EndDate', 'Adalimumabsimilar1Amount', 'Adalimumabsimilar1Strength', 'Adalimumabsimilar1Dosage', 'Adalimumabsimilar1Iter', 'Adalimumabsimilar1Interval', 'Adalimumabsimilar1StopReason', 'Anakinra1Name', 'Anakinra1StartDate', 'Anakinra1EndDate', 'Anakinra1Amount', 'Anakinra1Strength', 'Anakinra1Dosage', 'Anakinra1Iter', 'Anakinra1Interval', 'Anakinra1StopReason', 'Anakinra2Name', 'Anakinra2StartDate', 'Anakinra2EndDate', 'Anakinra2Amount', 'Anakinra2Strength', 'Anakinra2Dosage', 'Anakinra2Iter', 'Anakinra2Interval', 'Anakinra2StopReason', 'Anakinra3Name', 'Anakinra3StartDate', 'Anakinra3EndDate', 'Anakinra3Amount', 'Anakinra3Strength', 'Anakinra3Dosage', 'Anakinra3Iter', 'Anakinra3Interval', 'Anakinra3StopReason', 'Aurothiomalaat1Name', 'Aurothiomalaat1StartDate', 'Aurothiomalaat1EndDate', 'Aurothiomalaat1Amount', 'Aurothiomalaat1Strength', 'Aurothiomalaat1Dosage', 'Aurothiomalaat1Iter', 'Aurothiomalaat1Interval', 'Aurothiomalaat1StopReason', 'Aurothiomalaat2Name', 'Aurothiomalaat2StartDate', 'Aurothiomalaat2EndDate', 'Aurothiomalaat2Amount', 'Aurothiomalaat2Strength', 'Aurothiomalaat2Dosage', 'Aurothiomalaat2Iter', 'Aurothiomalaat2Interval', 'Aurothiomalaat2StopReason', 'Aurothiomalaat3Name', 'Aurothiomalaat3StartDate', 'Aurothiomalaat3EndDate', 'Aurothiomalaat3Amount', 'Aurothiomalaat3Strength', 'Aurothiomalaat3Dosage', 'Aurothiomalaat3Iter', 'Aurothiomalaat3Interval', 'Aurothiomalaat3StopReason', 'Azathioprine1Name', 'Azathioprine1StartDate', 'Azathioprine1EndDate', 'Azathioprine1Amount', 'Azathioprine1Strength', 'Azathioprine1Dosage', 'Azathioprine1Iter', 'Azathioprine1Interval', 'Azathioprine1StopReason', 'Azathioprine2Name', 'Azathioprine2StartDate', 'Azathioprine2EndDate', 'Azathioprine2Amount', 'Azathioprine2Strength', 'Azathioprine2Dosage', 'Azathioprine2Iter', 'Azathioprine2Interval', 'Azathioprine2StopReason', 'Azathioprine3Name', 'Azathioprine3StartDate', 'Azathioprine3EndDate', 'Azathioprine3Amount', 'Azathioprine3Strength', 'Azathioprine3Dosage', 'Azathioprine3Iter', 'Azathioprine3Interval', 'Azathioprine3StopReason', 'Azathioprine4Name', 'Azathioprine4StartDate', 'Azathioprine4EndDate', 'Azathioprine4Amount', 'Azathioprine4Strength', 'Azathioprine4Dosage', 'Azathioprine4Iter', 'Azathioprine4Interval', 'Azathioprine4StopReason', 'Azathioprine5Name', 'Azathioprine5StartDate', 'Azathioprine5EndDate', 'Azathioprine5Amount', 'Azathioprine5Strength', 'Azathioprine5Dosage', 'Azathioprine5Iter', 'Azathioprine5Interval', 'Azathioprine5StopReason', 'Baricitinib1Name', 'Baricitinib1StartDate', 'Baricitinib1EndDate', 'Baricitinib1Amount', 'Baricitinib1Strength', 'Baricitinib1Dosage', 'Baricitinib1Iter', 'Baricitinib1Interval', 'Baricitinib1StopReason', 'Bucillamine1Name', 'Bucillamine1StartDate', 'Bucillamine1EndDate', 'Bucillamine1Amount', 'Bucillamine1Strength', 'Bucillamine1Dosage', 'Bucillamine1Iter', 'Bucillamine1Interval', 'Bucillamine1StopReason', 'Bucillamine2Name', 'Bucillamine2StartDate', 'Bucillamine2EndDate', 'Bucillamine2Amount', 'Bucillamine2Strength', 'Bucillamine2Dosage', 'Bucillamine2Iter', 'Bucillamine2Interval', 'Bucillamine2StopReason', 'Certolizumab1Name', 'Certolizumab1StartDate', 'Certolizumab1EndDate', 'Certolizumab1Amount', 'Certolizumab1Strength', 'Certolizumab1Dosage', 'Certolizumab1Iter', 'Certolizumab1Interval', 'Certolizumab1StopReason', 'Certolizumab2Name', 'Certolizumab2StartDate', 'Certolizumab2EndDate', 'Certolizumab2Amount', 'Certolizumab2Strength', 'Certolizumab2Dosage', 'Certolizumab2Iter', 'Certolizumab2Interval', 'Certolizumab2StopReason', 'Certolizumab3Name', 'Certolizumab3StartDate', 'Certolizumab3EndDate', 'Certolizumab3Amount', 'Certolizumab3Strength', 'Certolizumab3Dosage', 'Certolizumab3Iter', 'Certolizumab3Interval', 'Certolizumab3StopReason', 'Certolizumab4Name', 'Certolizumab4StartDate', 'Certolizumab4EndDate', 'Certolizumab4Amount', 'Certolizumab4Strength', 'Certolizumab4Dosage', 'Certolizumab4Iter', 'Certolizumab4Interval', 'Certolizumab4StopReason', 'Ciclosporin1Name', 'Ciclosporin1StartDate', 'Ciclosporin1EndDate', 'Ciclosporin1Amount', 'Ciclosporin1Strength', 'Ciclosporin1Dosage', 'Ciclosporin1Iter', 'Ciclosporin1Interval', 'Ciclosporin1StopReason', 'Ciclosporin2Name', 'Ciclosporin2StartDate', 'Ciclosporin2EndDate', 'Ciclosporin2Amount', 'Ciclosporin2Strength', 'Ciclosporin2Dosage', 'Ciclosporin2Iter', 'Ciclosporin2Interval', 'Ciclosporin2StopReason', 'Ciclosporin3Name', 'Ciclosporin3StartDate', 'Ciclosporin3EndDate', 'Ciclosporin3Amount', 'Ciclosporin3Strength', 'Ciclosporin3Dosage', 'Ciclosporin3Iter', 'Ciclosporin3Interval', 'Ciclosporin3StopReason', 'Cyclophosphamide1Name', 'Cyclophosphamide1StartDate', 'Cyclophosphamide1EndDate', 'Cyclophosphamide1Amount', 'Cyclophosphamide1Strength', 'Cyclophosphamide1Dosage', 'Cyclophosphamide1Iter', 'Cyclophosphamide1Interval', 'Cyclophosphamide1StopReason', 'Cyclophosphamide2Name', 'Cyclophosphamide2StartDate', 'Cyclophosphamide2EndDate', 'Cyclophosphamide2Amount', 'Cyclophosphamide2Strength', 'Cyclophosphamide2Dosage', 'Cyclophosphamide2Iter', 'Cyclophosphamide2Interval', 'Cyclophosphamide2StopReason', 'Cyclophosphamide3Name', 'Cyclophosphamide3StartDate', 'Cyclophosphamide3EndDate', 'Cyclophosphamide3Amount', 'Cyclophosphamide3Strength', 'Cyclophosphamide3Dosage', 'Cyclophosphamide3Iter', 'Cyclophosphamide3Interval', 'Cyclophosphamide3StopReason', 'Etanercept1Name', 'Etanercept1StartDate', 'Etanercept1EndDate', 'Etanercept1Amount', 'Etanercept1Strength', 'Etanercept1Dosage', 'Etanercept1Iter', 'Etanercept1Interval', 'Etanercept1StopReason', 'Etanercept2Name', 'Etanercept2StartDate', 'Etanercept2EndDate', 'Etanercept2Amount', 'Etanercept2Strength', 'Etanercept2Dosage', 'Etanercept2Iter', 'Etanercept2Interval', 'Etanercept2StopReason', 'Etanercept3Name', 'Etanercept3StartDate', 'Etanercept3EndDate', 'Etanercept3Amount', 'Etanercept3Strength', 'Etanercept3Dosage', 'Etanercept3Iter', 'Etanercept3Interval', 'Etanercept3StopReason', 'Etanercept4Name', 'Etanercept4StartDate', 'Etanercept4EndDate', 'Etanercept4Amount', 'Etanercept4Strength', 'Etanercept4Dosage', 'Etanercept4Iter', 'Etanercept4Interval', 'Etanercept4StopReason', 'Etanercept5Name', 'Etanercept5StartDate', 'Etanercept5EndDate', 'Etanercept5Amount', 'Etanercept5Strength', 'Etanercept5Dosage', 'Etanercept5Iter', 'Etanercept5Interval', 'Etanercept5StopReason', 'Etanerceptsimilar1Name', 'Etanerceptsimilar1StartDate', 'Etanerceptsimilar1EndDate', 'Etanerceptsimilar1Amount', 'Etanerceptsimilar1Strength', 'Etanerceptsimilar1Dosage', 'Etanerceptsimilar1Iter', 'Etanerceptsimilar1Interval', 'Etanerceptsimilar1StopReason', 'Golimumab1Name', 'Golimumab1StartDate', 'Golimumab1EndDate', 'Golimumab1Amount', 'Golimumab1Strength', 'Golimumab1Dosage', 'Golimumab1Iter', 'Golimumab1Interval', 'Golimumab1StopReason', 'Golimumab2Name', 'Golimumab2StartDate', 'Golimumab2EndDate', 'Golimumab2Amount', 'Golimumab2Strength', 'Golimumab2Dosage', 'Golimumab2Iter', 'Golimumab2Interval', 'Golimumab2StopReason', 'Golimumab3Name', 'Golimumab3StartDate', 'Golimumab3EndDate', 'Golimumab3Amount', 'Golimumab3Strength', 'Golimumab3Dosage', 'Golimumab3Iter', 'Golimumab3Interval', 'Golimumab3StopReason', 'Golimumab4Name', 'Golimumab4StartDate', 'Golimumab4EndDate', 'Golimumab4Amount', 'Golimumab4Strength', 'Golimumab4Dosage', 'Golimumab4Iter', 'Golimumab4Interval', 'Golimumab4StopReason', 'Hydroxychloroquine1Name', 'Hydroxychloroquine1StartDate', 'Hydroxychloroquine1EndDate', 'Hydroxychloroquine1Amount', 'Hydroxychloroquine1Strength', 'Hydroxychloroquine1Dosage', 'Hydroxychloroquine1Iter', 'Hydroxychloroquine1Interval', 'Hydroxychloroquine1StopReason', 'Hydroxychloroquine2Name', 'Hydroxychloroquine2StartDate', 'Hydroxychloroquine2EndDate', 'Hydroxychloroquine2Amount', 'Hydroxychloroquine2Strength', 'Hydroxychloroquine2Dosage', 'Hydroxychloroquine2Iter', 'Hydroxychloroquine2Interval', 'Hydroxychloroquine2StopReason', 'Hydroxychloroquine3Name', 'Hydroxychloroquine3StartDate', 'Hydroxychloroquine3EndDate', 'Hydroxychloroquine3Amount', 'Hydroxychloroquine3Strength', 'Hydroxychloroquine3Dosage', 'Hydroxychloroquine3Iter', 'Hydroxychloroquine3Interval', 'Hydroxychloroquine3StopReason', 'Hydroxychloroquine4Name', 'Hydroxychloroquine4StartDate', 'Hydroxychloroquine4EndDate', 'Hydroxychloroquine4Amount', 'Hydroxychloroquine4Strength', 'Hydroxychloroquine4Dosage', 'Hydroxychloroquine4Iter', 'Hydroxychloroquine4Interval', 'Hydroxychloroquine4StopReason', 'Hydroxychloroquine5Name', 'Hydroxychloroquine5StartDate', 'Hydroxychloroquine5EndDate', 'Hydroxychloroquine5Amount', 'Hydroxychloroquine5Strength', 'Hydroxychloroquine5Dosage', 'Hydroxychloroquine5Iter', 'Hydroxychloroquine5Interval', 'Hydroxychloroquine5StopReason', 'Infliximab1Name', 'Infliximab1StartDate', 'Infliximab1EndDate', 'Infliximab1Amount', 'Infliximab1Strength', 'Infliximab1Dosage', 'Infliximab1Iter', 'Infliximab1Interval', 'Infliximab1StopReason', 'Infliximab2Name', 'Infliximab2StartDate', 'Infliximab2EndDate', 'Infliximab2Amount', 'Infliximab2Strength', 'Infliximab2Dosage', 'Infliximab2Iter', 'Infliximab2Interval', 'Infliximab2StopReason', 'Infliximab3Name', 'Infliximab3StartDate', 'Infliximab3EndDate', 'Infliximab3Amount', 'Infliximab3Strength', 'Infliximab3Dosage', 'Infliximab3Iter', 'Infliximab3Interval', 'Infliximab3StopReason', 'Infliximab4Name', 'Infliximab4StartDate', 'Infliximab4EndDate', 'Infliximab4Amount', 'Infliximab4Strength', 'Infliximab4Dosage', 'Infliximab4Iter', 'Infliximab4Interval', 'Infliximab4StopReason', 'Infliximab5Name', 'Infliximab5StartDate', 'Infliximab5EndDate', 'Infliximab5Amount', 'Infliximab5Strength', 'Infliximab5Dosage', 'Infliximab5Iter', 'Infliximab5Interval', 'Infliximab5StopReason', 'Infliximab6Name', 'Infliximab6StartDate', 'Infliximab6EndDate', 'Infliximab6Amount', 'Infliximab6Strength', 'Infliximab6Dosage', 'Infliximab6Iter', 'Infliximab6Interval', 'Infliximab6StopReason', 'Infliximabsimilar1Name', 'Infliximabsimilar1StartDate', 'Infliximabsimilar1EndDate', 'Infliximabsimilar1Amount', 'Infliximabsimilar1Strength', 'Infliximabsimilar1Dosage', 'Infliximabsimilar1Iter', 'Infliximabsimilar1Interval', 'Infliximabsimilar1StopReason', 'Leflunomide1Name', 'Leflunomide1StartDate', 'Leflunomide1EndDate', 'Leflunomide1Amount', 'Leflunomide1Strength', 'Leflunomide1Dosage', 'Leflunomide1Iter', 'Leflunomide1Interval', 'Leflunomide1StopReason', 'Leflunomide2Name', 'Leflunomide2StartDate', 'Leflunomide2EndDate', 'Leflunomide2Amount', 'Leflunomide2Strength', 'Leflunomide2Dosage', 'Leflunomide2Iter', 'Leflunomide2Interval', 'Leflunomide2StopReason', 'Leflunomide3Name', 'Leflunomide3StartDate', 'Leflunomide3EndDate', 'Leflunomide3Amount', 'Leflunomide3Strength', 'Leflunomide3Dosage', 'Leflunomide3Iter', 'Leflunomide3Interval', 'Leflunomide3StopReason', 'Leflunomide4Name', 'Leflunomide4StartDate', 'Leflunomide4EndDate', 'Leflunomide4Amount', 'Leflunomide4Strength', 'Leflunomide4Dosage', 'Leflunomide4Iter', 'Leflunomide4Interval', 'Leflunomide4StopReason', 'Methotrexate1Name', 'Methotrexate1StartDate', 'Methotrexate1EndDate', 'Methotrexate1Amount', 'Methotrexate1Strength', 'Methotrexate1Dosage', 'Methotrexate1Iter', 'Methotrexate1Interval', 'Methotrexate1StopReason', 'Methotrexate2Name', 'Methotrexate2StartDate', 'Methotrexate2EndDate', 'Methotrexate2Amount', 'Methotrexate2Strength', 'Methotrexate2Dosage', 'Methotrexate2Iter', 'Methotrexate2Interval', 'Methotrexate2StopReason', 'Methotrexate3Name', 'Methotrexate3StartDate', 'Methotrexate3EndDate', 'Methotrexate3Amount', 'Methotrexate3Strength', 'Methotrexate3Dosage', 'Methotrexate3Iter', 'Methotrexate3Interval', 'Methotrexate3StopReason', 'Methotrexate4Name', 'Methotrexate4StartDate', 'Methotrexate4EndDate', 'Methotrexate4Amount', 'Methotrexate4Strength', 'Methotrexate4Dosage', 'Methotrexate4Iter', 'Methotrexate4Interval', 'Methotrexate4StopReason', 'Methotrexate5Name', 'Methotrexate5StartDate', 'Methotrexate5EndDate', 'Methotrexate5Amount', 'Methotrexate5Strength', 'Methotrexate5Dosage', 'Methotrexate5Iter', 'Methotrexate5Interval', 'Methotrexate5StopReason', 'Methotrexate6Name', 'Methotrexate6StartDate', 'Methotrexate6EndDate', 'Methotrexate6Amount', 'Methotrexate6Strength', 'Methotrexate6Dosage', 'Methotrexate6Iter', 'Methotrexate6Interval', 'Methotrexate6StopReason', 'Methotrexate7Name', 'Methotrexate7StartDate', 'Methotrexate7EndDate', 'Methotrexate7Amount', 'Methotrexate7Strength', 'Methotrexate7Dosage', 'Methotrexate7Iter', 'Methotrexate7Interval', 'Methotrexate7StopReason', 'Methotrexate8Name', 'Methotrexate8StartDate', 'Methotrexate8EndDate', 'Methotrexate8Amount', 'Methotrexate8Strength', 'Methotrexate8Dosage', 'Methotrexate8Iter', 'Methotrexate8Interval', 'Methotrexate8StopReason', 'Mizoribine1Name', 'Mizoribine1StartDate', 'Mizoribine1EndDate', 'Mizoribine1Amount', 'Mizoribine1Strength', 'Mizoribine1Dosage', 'Mizoribine1Iter', 'Mizoribine1Interval', 'Mizoribine1StopReason', 'Penicillamine1Name', 'Penicillamine1StartDate', 'Penicillamine1EndDate', 'Penicillamine1Amount', 'Penicillamine1Strength', 'Penicillamine1Dosage', 'Penicillamine1Iter', 'Penicillamine1Interval', 'Penicillamine1StopReason', 'Penicillamine2Name', 'Penicillamine2StartDate', 'Penicillamine2EndDate', 'Penicillamine2Amount', 'Penicillamine2Strength', 'Penicillamine2Dosage', 'Penicillamine2Iter', 'Penicillamine2Interval', 'Penicillamine2StopReason', 'Rituximab1Name', 'Rituximab1StartDate', 'Rituximab1EndDate', 'Rituximab1Amount', 'Rituximab1Strength', 'Rituximab1Dosage', 'Rituximab1Iter', 'Rituximab1Interval', 'Rituximab1StopReason', 'Rituximab2Name', 'Rituximab2StartDate', 'Rituximab2EndDate', 'Rituximab2Amount', 'Rituximab2Strength', 'Rituximab2Dosage', 'Rituximab2Iter', 'Rituximab2Interval', 'Rituximab2StopReason', 'Rituximab3Name', 'Rituximab3StartDate', 'Rituximab3EndDate', 'Rituximab3Amount', 'Rituximab3Strength', 'Rituximab3Dosage', 'Rituximab3Iter', 'Rituximab3Interval', 'Rituximab3StopReason', 'Rituximab4Name', 'Rituximab4StartDate', 'Rituximab4EndDate', 'Rituximab4Amount', 'Rituximab4Strength', 'Rituximab4Dosage', 'Rituximab4Iter', 'Rituximab4Interval', 'Rituximab4StopReason', 'Rituximabsimilar1Name', 'Rituximabsimilar1StartDate', 'Rituximabsimilar1EndDate', 'Rituximabsimilar1Amount', 'Rituximabsimilar1Strength', 'Rituximabsimilar1Dosage', 'Rituximabsimilar1Iter', 'Rituximabsimilar1Interval', 'Rituximabsimilar1StopReason', 'Sulfasalazine1Name', 'Sulfasalazine1StartDate', 'Sulfasalazine1EndDate', 'Sulfasalazine1Amount', 'Sulfasalazine1Strength', 'Sulfasalazine1Dosage', 'Sulfasalazine1Iter', 'Sulfasalazine1Interval', 'Sulfasalazine1StopReason', 'Sulfasalazine2Name', 'Sulfasalazine2StartDate', 'Sulfasalazine2EndDate', 'Sulfasalazine2Amount', 'Sulfasalazine2Strength', 'Sulfasalazine2Dosage', 'Sulfasalazine2Iter', 'Sulfasalazine2Interval', 'Sulfasalazine2StopReason', 'Sulfasalazine3Name', 'Sulfasalazine3StartDate', 'Sulfasalazine3EndDate', 'Sulfasalazine3Amount', 'Sulfasalazine3Strength', 'Sulfasalazine3Dosage', 'Sulfasalazine3Iter', 'Sulfasalazine3Interval', 'Sulfasalazine3StopReason', 'Sulfasalazine4Name', 'Sulfasalazine4StartDate', 'Sulfasalazine4EndDate', 'Sulfasalazine4Amount', 'Sulfasalazine4Strength', 'Sulfasalazine4Dosage', 'Sulfasalazine4Iter', 'Sulfasalazine4Interval', 'Sulfasalazine4StopReason', 'Sulfasalazine5Name', 'Sulfasalazine5StartDate', 'Sulfasalazine5EndDate', 'Sulfasalazine5Amount', 'Sulfasalazine5Strength', 'Sulfasalazine5Dosage', 'Sulfasalazine5Iter', 'Sulfasalazine5Interval', 'Sulfasalazine5StopReason', 'Sulfasalazine6Name', 'Sulfasalazine6StartDate', 'Sulfasalazine6EndDate', 'Sulfasalazine6Amount', 'Sulfasalazine6Strength', 'Sulfasalazine6Dosage', 'Sulfasalazine6Iter', 'Sulfasalazine6Interval', 'Sulfasalazine6StopReason', 'Tacrolimus1Name', 'Tacrolimus1StartDate', 'Tacrolimus1EndDate', 'Tacrolimus1Amount', 'Tacrolimus1Strength', 'Tacrolimus1Dosage', 'Tacrolimus1Iter', 'Tacrolimus1Interval', 'Tacrolimus1StopReason', 'Tacrolimus2Name', 'Tacrolimus2StartDate', 'Tacrolimus2EndDate', 'Tacrolimus2Amount', 'Tacrolimus2Strength', 'Tacrolimus2Dosage', 'Tacrolimus2Iter', 'Tacrolimus2Interval', 'Tacrolimus2StopReason', 'Tacrolimus3Name', 'Tacrolimus3StartDate', 'Tacrolimus3EndDate', 'Tacrolimus3Amount', 'Tacrolimus3Strength', 'Tacrolimus3Dosage', 'Tacrolimus3Iter', 'Tacrolimus3Interval', 'Tacrolimus3StopReason', 'Tacrolimus4Name', 'Tacrolimus4StartDate', 'Tacrolimus4EndDate', 'Tacrolimus4Amount', 'Tacrolimus4Strength', 'Tacrolimus4Dosage', 'Tacrolimus4Iter', 'Tacrolimus4Interval', 'Tacrolimus4StopReason', 'Tacrolimus5Name', 'Tacrolimus5StartDate', 'Tacrolimus5EndDate', 'Tacrolimus5Amount', 'Tacrolimus5Strength', 'Tacrolimus5Dosage', 'Tacrolimus5Iter', 'Tacrolimus5Interval', 'Tacrolimus5StopReason', 'Tocilizumab1Name', 'Tocilizumab1StartDate', 'Tocilizumab1EndDate', 'Tocilizumab1Amount', 'Tocilizumab1Strength', 'Tocilizumab1Dosage', 'Tocilizumab1Iter', 'Tocilizumab1Interval', 'Tocilizumab1StopReason', 'Tocilizumab2Name', 'Tocilizumab2StartDate', 'Tocilizumab2EndDate', 'Tocilizumab2Amount', 'Tocilizumab2Strength', 'Tocilizumab2Dosage', 'Tocilizumab2Iter', 'Tocilizumab2Interval', 'Tocilizumab2StopReason', 'Tocilizumab3Name', 'Tocilizumab3StartDate', 'Tocilizumab3EndDate', 'Tocilizumab3Amount', 'Tocilizumab3Strength', 'Tocilizumab3Dosage', 'Tocilizumab3Iter', 'Tocilizumab3Interval', 'Tocilizumab3StopReason', 'Tocilizumab4Name', 'Tocilizumab4StartDate', 'Tocilizumab4EndDate', 'Tocilizumab4Amount', 'Tocilizumab4Strength', 'Tocilizumab4Dosage', 'Tocilizumab4Iter', 'Tocilizumab4Interval', 'Tocilizumab4StopReason', 'Tocilizumab5Name', 'Tocilizumab5StartDate', 'Tocilizumab5EndDate', 'Tocilizumab5Amount', 'Tocilizumab5Strength', 'Tocilizumab5Dosage', 'Tocilizumab5Iter', 'Tocilizumab5Interval', 'Tocilizumab5StopReason', 'Tocilizumab6Name', 'Tocilizumab6StartDate', 'Tocilizumab6EndDate', 'Tocilizumab6Amount', 'Tocilizumab6Strength', 'Tocilizumab6Dosage', 'Tocilizumab6Iter', 'Tocilizumab6Interval', 'Tocilizumab6StopReason', 'Tofacitinib1Name', 'Tofacitinib1StartDate', 'Tofacitinib1EndDate', 'Tofacitinib1Amount', 'Tofacitinib1Strength', 'Tofacitinib1Dosage', 'Tofacitinib1Iter', 'Tofacitinib1Interval', 'Tofacitinib1StopReason', 'siteId', 'yearOfBirth', 'sex', 'country', 'Site_country', 'diagnosisdebut', 'symptomsDebut', 'maritalStatus', 'smoking', 'RFC', 'aCCP', 'erosionsPresent', 'weight_in_kg', 'height_in_cm', 'Diagnose1', 'Diagnose2', 'Diagnose3', 'Diagnose4', 'Diagnose5', 'CDAI', 'CRP', 'DAS3', 'DAS4', 'DASMODEL', 'DAS283', 'DAS284', 'DRGLBL', 'ESR', 'HAQ', 'HAQBED', 'HAQCUTMEAT', 'HAQDOCHORES', 'HAQDRESS', 'HAQENTERCAR', 'HAQFAUCETS', 'HAQHELPDRESS', 'HAQHELPEAT', 'HAQHELPERRANDSCHORES', 'HAQHELPGRIPPING', 'HAQHELPHYGEINE', 'HAQHELPREACH', 'HAQHELPSTANDUP', 'HAQHELPWALK', 'HAQLIFTCUP', 'HAQLIFTDOWN', 'HAQLIFTUP', 'HAQOPENCAR', 'HAQOPENJARS', 'HAQOPENMILK', 'HAQOTHER1GROUP', 'HAQOTHER2GROUP', 'HAQPARTICIPATERECREATIONALACTIV', 'HAQPROFILE', 'HAQRUNERRANDS', 'HAQSHAMPOO', 'HAQSTANDUP', 'HAQSTEPS', 'HAQTOILET', 'HAQTUBBATH', 'HAQUSEBATHROOMAPPLIANCES', 'HAQUSEBATHTUPBAR', 'HAQUSEBATHTUPSEAT', 'HAQUSECANE', 'HAQUSECRUTCHES', 'HAQUSEDRESSDEVICES', 'HAQUSEJAROPENER', 'HAQUSEOTHER1', 'HAQUSEOTHER2', 'HAQUSERAISEDTOILETSEAT', 'HAQUSEREACHINGDEVICE', 'HAQUSESPECCHAIR', 'HAQUSEUTENSILS', 'HAQUSEWALKER', 'HAQUSEWHEELCHAIR', 'HAQWALKOUT', 'HAQWALKTWOMILESORTHREEKILOMETER', 'HAQWASH', 'MHAQ', 'PTGLBL', 'PTPAIN', 'RAI', 'RAI28', 'RAPID3', 'SLAnkle', 'SLElbow', 'SLIP', 'SLKnee', 'SLMCP1', 'SLMCP2', 'SLMCP3', 'SLMCP4', 'SLMCP5', 'SLMTP1', 'SLMTP2', 'SLMTP3', 'SLMTP4', 'SLMTP5', 'SLOAC', 'SLPIP2', 'SLPIP3', 'SLPIP4', 'SLPIP5', 'SLSCL', 'SLShoulder', 'SLWrist', 'SRAnkle', 'SRElbow', 'SRIP', 'SRKnee', 'SRMCP1', 'SRMCP2', 'SRMCP3', 'SRMCP4', 'SRMCP5', 'SRMTP1', 'SRMTP2', 'SRMTP3', 'SRMTP4', 'SRMTP5', 'SROAC', 'SRPIP2', 'SRPIP3', 'SRPIP4', 'SRPIP5', 'SRSCL', 'SRShoulder', 'SRWrist', 'SDAI', 'SwollenCount', 'SwollenCount28', 'TCSpine', 'TLAnkle', 'TLElbow', 'TLHip', 'TLIP', 'TLKnee', 'TLMCP1', 'TLMCP2', 'TLMCP3', 'TLMCP4', 'TLMCP5', 'TLMidtarsal', 'TLMTP1', 'TLMTP2', 'TLMTP3', 'TLMTP4', 'TLMTP5', 'TLOAC', 'TLPIP2', 'TLPIP3', 'TLPIP4', 'TLPIP5', 'TLSCL', 'TLShoulder', 'TLSubtalar', 'TLTMJ', 'TLWrist', 'TRAnkle', 'TRElbow', 'TRHip', 'TRIP', 'TRKnee', 'TRMCP1', 'TRMCP2', 'TRMCP3', 'TRMCP4', 'TRMCP5', 'TRMidtarsal', 'TRMTP1', 'TRMTP2', 'TRMTP3', 'TRMTP4', 'TRMTP5', 'TROAC', 'TRPIP2', 'TRPIP3', 'TRPIP4', 'TRPIP5', 'TRSCL', 'TRShoulder', 'TRSubtalar', 'TRTMJ', 'TRWrist', 'c0_smoking', 'c0_date', 'c1_erosionsPresent', 'c1_smoking', 'c1_weight_in_kg', 'c2_erosionsPresent', 'c2_smoking', 'c2_weight_in_kg', 'c3_erosionsPresent', 'c3_smoking', 'c3_weight_in_kg', 'c4_erosionsPresent', 'c4_smoking', 'c4_weight_in_kg', 'c5_erosionsPresent', 'c5_smoking', 'c5_weight_in_kg', 'changedN', 'c1_changedN', 'c2_changedN', 'c3_changedN', 'c4_changedN', 'c5_changedN', '_merge', 'AbataceptName', 'AdalimumabName', 'AnakinraName', 'AurothiomalaatName', 'AzathioprineName', 'BaricitinibName', 'BetamethasoneName', 'BucillamineName', 'CertolizumabName', 'CiclosporinName', 'CortivazolName', 'CyclophosphamideName', 'DeflazacortName', 'DepomedrolName', 'DexamethasoneName', 'EtanerceptName', 'GolimumabName', 'HydroxychloroquineName', 'InfliximabName', 'KenacortName', 'LeflunomideName', 'MethotrexateName', 'MethylprednisoloneName', 'MizoribineName', 'ParamethasoneName', 'PenicillamineName', 'PrednisoloneName', 'PrednisoneName', 'RituximabName', 'SulfasalazineName', 'TacrolimusName', 'TocilizumabName', 'TofacitinibName', 'TriamcinoloneacetonidName', 'InfliximabsimilarName', 'EtanerceptsimilarName', 'AdalimumabsimilarName', 'RituximabsimilarName', 'AbataceptsimilarName', 'DOUBLE', 'medicationmissing', 'swollenCountCheck', 'DOUBLESC', 'swollenCount28Check', 'DOUBLESC28', 'MTPgroupL', 'MTPgroupR', 'MCPgroupL', 'MCPgroupR', 'PIPgroupL', 'PIPgroupR', 'OACgroup', 'SCLgroup', 'TMJgroup', 'RAIcheck', 'DOUBLERAI', 'TLElbow28', 'TRElbow28', 'TLKnee28', 'TRKnee28', 'TLMCP128', 'TLMCP228', 'TLMCP328', 'TLMCP428', 'TLMCP528', 'TRMCP128', 'TRMCP228', 'TRMCP328', 'TRMCP428', 'TRMCP528', 'TLPIP228', 'TRPIP228', 'TLPIP328', 'TRPIP328', 'TLPIP428', 'TRPIP428', 'TLPIP528', 'TRPIP528', 'TLShoulder28', 'TRShoulder28', 'TLWrist28', 'TRWrist28', 'TLIP28', 'TRIP28', 'RAI28check', 'DOUBLERAI28', 'DAS3_ESRrecalculated', 'DAS4_ESRrecalculated', 'DAS283_ESRrecalculated', 'DAS284_ESRrecalculated', 'DAS283_CRPrecalculated', 'DAS284_CRPrecalculated', 'DAS28_recalculatedfromDAS3', 'DAS28_recalculatedfromDAS4', 'DOUBLEAbatacept', 'DOUBLEAdalimumab', 'DOUBLEAnakinra', 'DOUBLEAurothiomalaat', 'DOUBLEAzathioprine', 'DOUBLEBetamethasone', 'DOUBLEBucillamine', 'DOUBLECertolizumab', 'DOUBLECiclosporin', 'DOUBLECortivazol', 'DOUBLECyclophosphamide', 'DOUBLEDeflazacort', 'DOUBLEDepomedrol', 'DOUBLEDexamethasone', 'DOUBLEEtanercept', 'DOUBLEGolimumab', 'DOUBLEHydroxychloroquine', 'DOUBLEInfliximab', 'DOUBLEKenacort', 'DOUBLELeflunomide', 'DOUBLEMethotrexate', 'DOUBLEMethylprednisolone', 'DOUBLEMizoribine', 'DOUBLEParamethasone', 'DOUBLEPenicillamine', 'DOUBLEPrednisolone', 'DOUBLEPrednisone', 'DOUBLERituximab', 'DOUBLESulfasalazine', 'DOUBLETacrolimus', 'DOUBLETocilizumab', 'DOUBLETofacitinib', 'DOUBLETriamcinoloneacetonid', 'DOUBLEInfliximabsimilar', 'DOUBLEEtanerceptsimilar', 'DOUBLEvisit', 'DOUBLEallmediction', 'DOUBLEallmedictionandvisits', 'maxvisitdate', 'minvisitdate', 'visitDateDif', 'maxvisitcount']\n"
     ]
    }
   ],
   "source": [
    "\n",
    "df_MET = pd.read_stata('METEOR_Tjardo.dta')\n",
    "#df_MET.patientId = df_MET.patientId.astype(int)\n",
    "#df_MET.patientId = df_MET.patientId.astype(str)\n",
    "\n",
    "print(getDim(df_MET))\n",
    "print(getHeaders(df_MET))\n",
    "#print(len(df_MET['patientId'].unique()))   LKeTdEvN3fI3MliVyoEJeQ=="
   ]
  },
  {
   "cell_type": "code",
   "execution_count": 27,
   "metadata": {},
   "outputs": [
    {
     "name": "stdout",
     "output_type": "stream",
     "text": [
      "3432\n"
     ]
    }
   ],
   "source": [
    "a7 = pd.to_numeric(df_HIXMET['patientId'])\n",
    "a7 = a7[a7 != np.array(None)]\n",
    "a8 = df_MET['patientId'].unique()\n",
    "a8 = a8[a8 != np.array(None)]\n",
    "\n",
    "print(len(np.intersect1d(a7, a8)))"
   ]
  },
  {
   "cell_type": "markdown",
   "metadata": {},
   "source": [
    "#### Determine overlap DDR_A and METEOR"
   ]
  },
  {
   "cell_type": "code",
   "execution_count": null,
   "metadata": {},
   "outputs": [],
   "source": [
    "a5 = df_MET['patientId'].unique()\n",
    "print(df_MET['patientId'].unique()[0]) \n",
    "a5 = a5[a5 != np.array(None)]\n",
    "a6 = df_REU['PATNR'].unique()\n",
    "print(df_REU['PATNR'].unique()[0]) \n",
    "a6 = a6[a6 != np.array(None)]\n",
    "print(len(np.intersect1d(a5, a6)))\n",
    "\n",
    "# Determine why these patients are missing in the MedicatieVoorschrift Table\n",
    "#print(np.setdiff1d(a4, a3)[:5])\n",
    "\n",
    "#print(getHeaders(df_ddrA.head(5)))"
   ]
  },
  {
   "cell_type": "code",
   "execution_count": 23,
   "metadata": {},
   "outputs": [
    {
     "data": {
      "text/plain": [
       "array([3.66666198, 3.12362862, 1.0238204 , ..., 3.53384805, 2.65899587,\n",
       "       2.47008109])"
      ]
     },
     "execution_count": 23,
     "metadata": {},
     "output_type": "execute_result"
    }
   ],
   "source": [
    "df_MET['DAS4_ESRrecalculated'].unique()"
   ]
  },
  {
   "cell_type": "markdown",
   "metadata": {},
   "source": [
    "df_MET[df_MET['patientId'] == 8797093022725.0]\n",
    "#print(df_MET['patientId'].unique()[0])\n",
    "#df_MET.head()"
   ]
  },
  {
   "cell_type": "markdown",
   "metadata": {},
   "source": [
    "### Zoektocht naar gewrichtspop"
   ]
  },
  {
   "cell_type": "code",
   "execution_count": null,
   "metadata": {},
   "outputs": [],
   "source": [
    "#df_REU.head(5)\n",
    "print(getHeaders(df_REU))\n",
    "#print(len(df_REU['DOSSIERID'].unique()))\n",
    "#print(len(df_REU['DATUM'].unique()))\n",
    "#print(df_REU['STELLING'].unique())\n",
    "\n",
    "#txt_allopt = open(\"Allopt.txt\", \"w\")\n",
    "#for x in df_REU['STELLING'].unique():\n",
    "#    txt_allopt.write(str(x) + \"\\n\")\n",
    "#txt_allopt.close()\n",
    "\n",
    "#makeFile('Allopt.txt', df_REU['STELLING'].unique())\n",
    "makeFile('Allopt2.txt', df_ddrA['STELLING'].unique())\n",
    "\n",
    "print(df_ddrA[df_ddrA['STELLING'] == 'Gewrichtspop'])\n",
    "\n",
    "df_REU[df_REU['ANTWOORD'].str.contains('Gewrichtspop')][['ANTWOORD', 'PATNR','STELLING']].head(22)\n",
    "#mylist = ['gewrichtspop']\n",
    "makeFile('Output.txt', df_REU[df_REU['ANTWOORD'].str.contains('Gewrichtspop')]['ANTWOORD'])\n",
    "\n",
    "#mel_count= df_REU['ANTWOORD'].str.contains('gewrichtspop').sum()\n",
    "#if mel_count>0:\n",
    "#    print (\"There are {m} Mels\".format(m=mel_count))\n",
    "\n",
    "#s.isin(['gewrichtspop'])"
   ]
  },
  {
   "cell_type": "markdown",
   "metadata": {},
   "source": [
    "### Checking wheter or not Medications are mentioned in the conclusion of the converted METEOR data (< 2011) \n",
    "\n",
    "Answer: No Medication found in converted METEOR data"
   ]
  },
  {
   "cell_type": "code",
   "execution_count": 13,
   "metadata": {},
   "outputs": [
    {
     "name": "stdout",
     "output_type": "stream",
     "text": [
      "Medication in conclusion of converted METEOR data: 0\n"
     ]
    }
   ],
   "source": [
    "df_conc = df_REU[df_REU['STELLING'] == 'Conclusie']\n",
    "df_conc = df_conc[df_conc['XANTWOORD'].str.contains('conversie gegevens meteor')]\n",
    "\n",
    "def checkForMed(text):\n",
    "    med_found = False\n",
    "    for x in re.split(' |, |\\&|\\n',text):\n",
    "        #print(x)\n",
    "        if str(x) in MEDICINE:\n",
    "            med_found = True\n",
    "            break\n",
    "    return med_found\n",
    "\n",
    "df_conc['XANTWOORD'] = df_conc['XANTWOORD'].apply(lambda x: handle_stickychars(str(x)))\n",
    "df_conc['XANTWOORD'] = df_conc['XANTWOORD'].apply(lambda x: handle_acronym(str(x)))\n",
    "df_conc['XANTWOORD'] = df_conc['XANTWOORD'].apply(lambda x: handle_acronym(str(x)))\n",
    "\n",
    "\n",
    "print('Medication in conclusion of converted METEOR data: ' + str(len(df_conc[df_conc['XANTWOORD'].apply(lambda x : checkForMed(x))]['XANTWOORD'])))"
   ]
  }
 ],
 "metadata": {
  "kernelspec": {
   "display_name": "Python 3",
   "language": "python",
   "name": "python3"
  },
  "language_info": {
   "codemirror_mode": {
    "name": "ipython",
    "version": 3
   },
   "file_extension": ".py",
   "mimetype": "text/x-python",
   "name": "python",
   "nbconvert_exporter": "python",
   "pygments_lexer": "ipython3",
   "version": "3.6.5"
  }
 },
 "nbformat": 4,
 "nbformat_minor": 2
}
