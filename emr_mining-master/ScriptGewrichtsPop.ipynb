{
 "cells": [
  {
   "cell_type": "code",
   "execution_count": null,
   "metadata": {},
   "outputs": [],
   "source": [
    "# Initializing Pandas & Matplotlib\n",
    "#import sys\n",
    "#sys.path.append('/exports/reum/tdmaarseveen/modules/')\n",
    "import os\n",
    "import pandas as pd\n",
    "import matplotlib as plt\n",
    "import matplotlib.pyplot as pyplt\n",
    "import io\n",
    "import re\n",
    "import numpy as np\n",
    "import datetime\n",
    "import EMR_functions as em\n",
    "import Visualize as vis\n",
    "from acronyms import ACRONYM_MAP\n",
    "from acronyms import MEDICINE\n",
    "from acronyms import TYPO_ACRONYM_MAP\n",
    "from bokeh import __version__ as bv\n",
    "\n",
    "\n",
    "def getcwd():\n",
    "    cwd = os.getcwd()\n",
    "    return cwd\n",
    "\n",
    "def read_csv(f_name):\n",
    "    return pd.read_csv(f_name, sep=\"|\")\n",
    "\n",
    "def remove_rtf(df_rtf, column):\n",
    "    df_clean = df_rtf[~df_rtf[column].str.contains(r\"^\\{.*\\}.*\", na=False)]\n",
    "    return df_clean\n",
    "\n",
    "\n",
    "print('Current versions Modules:\\n')\n",
    "print('Pandas version:\\t\\t' + pd.__version__)\n",
    "print('Matplotlib version:\\t' + plt.__version__)\n",
    "print('numpy version:\\t\\t' + np.__version__)\n",
    "print('Bokeh version:\\t\\t' + bv)"
   ]
  },
  {
   "cell_type": "markdown",
   "metadata": {},
   "source": [
    "### PREPROCESS DDRA"
   ]
  },
  {
   "cell_type": "code",
   "execution_count": null,
   "metadata": {},
   "outputs": [],
   "source": [
    "#em.convert_to_ascii(r\"extractionHIX/DDRA_proc.txt\", r'fin_DDR_A2.txt')"
   ]
  },
  {
   "cell_type": "code",
   "execution_count": null,
   "metadata": {},
   "outputs": [],
   "source": [
    "conv_ddrA = em.build_convenient_list(r\"output_files/fin_DDR_A2.txt\", \"|\", \"ascii\")\n",
    "df_ddrA = em.list_to_df(conv_ddrA)\n",
    "print('data ingelezen')\n",
    "\n",
    "l_joints = [\"Totaal gezwollen gewrichten\", \"Totaal pijnlijke gewrichten\", \\\n",
    "\"Gezwollen gewrichten\", \"Pijnlijke gewrichten\", \\\n",
    "\"DAS 44\", \"DAS 44(3)\", \"Geen gezwollen gewrichten\", \"Geen pijnlijke gewrichten\", \"DAS 28(3)\", \"DAS 28\"]\n",
    "\n",
    "df_joints = df_ddrA.loc[df_ddrA['STELLING'].isin(l_joints)] \n",
    "\n",
    "l_demo = [\"Geslacht\", \"GeboorteDatum\"]\n",
    "df_demo = df_ddrA.loc[df_ddrA['STELLING'].str.contains('|'.join(l_demo), regex=True, case=False)] \n",
    "#df_joints.to_csv(r'output_files/DF_gewrichtspop.csv', sep='|', index=True)"
   ]
  },
  {
   "cell_type": "code",
   "execution_count": null,
   "metadata": {},
   "outputs": [],
   "source": [
    "print('Total Patients:', len(df_ddrA['PATNR'].unique()))\n",
    "print('Patients (DAS):', len(df_joints['PATNR'].unique()))\n",
    "print('Patients (Demographics):', len(df_joints['PATNR'].unique()))"
   ]
  }
 ],
 "metadata": {
  "kernelspec": {
   "display_name": "Python 3",
   "language": "python",
   "name": "python3"
  },
  "language_info": {
   "codemirror_mode": {
    "name": "ipython",
    "version": 3
   },
   "file_extension": ".py",
   "mimetype": "text/x-python",
   "name": "python",
   "nbconvert_exporter": "python",
   "pygments_lexer": "ipython3",
   "version": "3.6.5"
  }
 },
 "nbformat": 4,
 "nbformat_minor": 2
}
