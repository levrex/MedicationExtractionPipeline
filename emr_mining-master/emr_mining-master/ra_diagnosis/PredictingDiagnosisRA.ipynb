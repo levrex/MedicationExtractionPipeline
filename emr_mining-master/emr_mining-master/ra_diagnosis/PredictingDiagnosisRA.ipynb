{
 "cells": [
  {
   "cell_type": "markdown",
   "metadata": {},
   "source": [
    "# RA Diagnosis Example - Machine Learning\n",
    "https://blog.socialcops.com/technology/data-science/machine-learning-python/"
   ]
  },
  {
   "cell_type": "code",
   "execution_count": 1,
   "metadata": {
    "scrolled": true
   },
   "outputs": [
    {
     "name": "stdout",
     "output_type": "stream",
     "text": [
      "Current versions Modules:\n",
      "\n",
      "Pandas version:\t\t0.23.0\n",
      "Matplotlib version:\t2.2.2\n",
      "numpy version:\t\t1.14.3\n",
      "sklearn version:\t0.19.1\n",
      "pattern version:\t3.6\n"
     ]
    }
   ],
   "source": [
    "import sys\n",
    "sys.path.append('../')\n",
    "sys.path.append('../modules/')\n",
    "#print(sys.getsize())\n",
    "from pattern import __version__ as pat_vers\n",
    "import matplotlib.pyplot as plt\n",
    "%matplotlib inline\n",
    "import random\n",
    "import numpy as np\n",
    "import pandas as pd\n",
    "from sklearn import datasets, svm, model_selection, tree, preprocessing, metrics\n",
    "import sklearn.ensemble as ske\n",
    "from matplotlib import __version__ as m_vers\n",
    "from sklearn import __version__ as sk_vers\n",
    "import EMR_functions as em\n",
    "import re\n",
    "import Visualize as vis\n",
    "\n",
    "\n",
    "\n",
    "test_size = 0.5 # factor for splitting data\n",
    "\n",
    "def test_classifier(clf):\n",
    "    scores = model_selection.cross_val_score(clf, X, y, cv=shuffle_validator)\n",
    "    print(\"Accuracy: %0.4f (+/- %0.2f)\" % (scores.mean(), scores.std()))\n",
    "    #return scores\n",
    "\n",
    "print('Current versions Modules:\\n')\n",
    "print('Pandas version:\\t\\t' + pd.__version__)\n",
    "print('Matplotlib version:\\t' + m_vers)\n",
    "print('numpy version:\\t\\t' + np.__version__)\n",
    "print('sklearn version:\\t' + sk_vers)\n",
    "print('pattern version:\\t' + pat_vers)"
   ]
  },
  {
   "cell_type": "markdown",
   "metadata": {},
   "source": [
    "## Step 1: Processing the dataset"
   ]
  },
  {
   "cell_type": "code",
   "execution_count": 2,
   "metadata": {},
   "outputs": [
    {
     "name": "stdout",
     "output_type": "stream",
     "text": [
      "1361\n"
     ]
    },
    {
     "data": {
      "text/html": [
       "<div>\n",
       "<style scoped>\n",
       "    .dataframe tbody tr th:only-of-type {\n",
       "        vertical-align: middle;\n",
       "    }\n",
       "\n",
       "    .dataframe tbody tr th {\n",
       "        vertical-align: top;\n",
       "    }\n",
       "\n",
       "    .dataframe thead th {\n",
       "        text-align: right;\n",
       "    }\n",
       "</style>\n",
       "<table border=\"1\" class=\"dataframe\">\n",
       "  <thead>\n",
       "    <tr style=\"text-align: right;\">\n",
       "      <th></th>\n",
       "      <th>ID</th>\n",
       "      <th>DATUM</th>\n",
       "      <th>PATNR</th>\n",
       "      <th>XANTWOORD</th>\n",
       "      <th>Outcome</th>\n",
       "      <th>j = ja, n= nee, p = possible (overlap geclasificeerd als possible, beginnende RA  = possible, \"meest passend bij RA\" = p, eerder diagnose RA = j (tenzij behandelend reumatoloog dit actief in twijfel trekt))</th>\n",
       "      <th>N.B. zo af en toe krijg ik de indruk dat ws uit de rest van de file wel RA geextraheerd kan worden. Ik heb mij beperkt tot de tekst die in de conclusie staat. Daarin moet RA dus echt genoemd worden (of bv. \"voldoet aan de ACR2010 criteria\"). Werkdiagnose = p</th>\n",
       "    </tr>\n",
       "  </thead>\n",
       "  <tbody>\n",
       "    <tr>\n",
       "      <th>8341</th>\n",
       "      <td>96865216</td>\n",
       "      <td>21-10-2011</td>\n",
       "      <td>4907</td>\n",
       "      <td>psoa in remissie</td>\n",
       "      <td>n</td>\n",
       "      <td>NaN</td>\n",
       "      <td>NaN</td>\n",
       "    </tr>\n",
       "    <tr>\n",
       "      <th>6009</th>\n",
       "      <td>96834035</td>\n",
       "      <td>27-09-2011</td>\n",
       "      <td>6733</td>\n",
       "      <td>1 . slotklachten beide knieen dd meniscusprobl...</td>\n",
       "      <td>n</td>\n",
       "      <td>NaN</td>\n",
       "      <td>NaN</td>\n",
       "    </tr>\n",
       "    <tr>\n",
       "      <th>28669</th>\n",
       "      <td>98580639</td>\n",
       "      <td>07-08-2015</td>\n",
       "      <td>10697</td>\n",
       "      <td>polyartritis</td>\n",
       "      <td>n</td>\n",
       "      <td>NaN</td>\n",
       "      <td>NaN</td>\n",
       "    </tr>\n",
       "    <tr>\n",
       "      <th>2850</th>\n",
       "      <td>96694093</td>\n",
       "      <td>17-05-2011</td>\n",
       "      <td>13818</td>\n",
       "      <td>1 . artritis psoriatica , twee gewrichten onst...</td>\n",
       "      <td>n</td>\n",
       "      <td>NaN</td>\n",
       "      <td>NaN</td>\n",
       "    </tr>\n",
       "    <tr>\n",
       "      <th>9267</th>\n",
       "      <td>97017591</td>\n",
       "      <td>06-03-2012</td>\n",
       "      <td>18820</td>\n",
       "      <td>rustige jia ^meerdere ok ' s te radbout zh</td>\n",
       "      <td>n</td>\n",
       "      <td>NaN</td>\n",
       "      <td>NaN</td>\n",
       "    </tr>\n",
       "  </tbody>\n",
       "</table>\n",
       "</div>"
      ],
      "text/plain": [
       "             ID       DATUM  PATNR  \\\n",
       "8341   96865216  21-10-2011   4907   \n",
       "6009   96834035  27-09-2011   6733   \n",
       "28669  98580639  07-08-2015  10697   \n",
       "2850   96694093  17-05-2011  13818   \n",
       "9267   97017591  06-03-2012  18820   \n",
       "\n",
       "                                               XANTWOORD Outcome  \\\n",
       "8341                                   psoa in remissie        n   \n",
       "6009   1 . slotklachten beide knieen dd meniscusprobl...       n   \n",
       "28669                                      polyartritis        n   \n",
       "2850   1 . artritis psoriatica , twee gewrichten onst...       n   \n",
       "9267         rustige jia ^meerdere ok ' s te radbout zh        n   \n",
       "\n",
       "      j = ja, n= nee, p = possible (overlap geclasificeerd als possible, beginnende RA  = possible, \"meest passend bij RA\" = p, eerder diagnose RA = j (tenzij behandelend reumatoloog dit actief in twijfel trekt))  \\\n",
       "8341                                                 NaN                                                                                                                                                               \n",
       "6009                                                 NaN                                                                                                                                                               \n",
       "28669                                                NaN                                                                                                                                                               \n",
       "2850                                                 NaN                                                                                                                                                               \n",
       "9267                                                 NaN                                                                                                                                                               \n",
       "\n",
       "       N.B. zo af en toe krijg ik de indruk dat ws uit de rest van de file wel RA geextraheerd kan worden. Ik heb mij beperkt tot de tekst die in de conclusie staat. Daarin moet RA dus echt genoemd worden (of bv. \"voldoet aan de ACR2010 criteria\"). Werkdiagnose = p  \n",
       "8341                                                 NaN                                                                                                                                                                                                                   \n",
       "6009                                                 NaN                                                                                                                                                                                                                   \n",
       "28669                                                NaN                                                                                                                                                                                                                   \n",
       "2850                                                 NaN                                                                                                                                                                                                                   \n",
       "9267                                                 NaN                                                                                                                                                                                                                   "
      ]
     },
     "execution_count": 2,
     "metadata": {},
     "output_type": "execute_result"
    }
   ],
   "source": [
    "def binarize(value):\n",
    "    if value == 'j':\n",
    "        return 'y'\n",
    "    elif value == 'n':\n",
    "        return 'n'\n",
    "    elif value == 'p':\n",
    "        return 'n'\n",
    "    #return int(value != 'y')\n",
    "\n",
    "radiag_df = pd.read_csv(r'annotation_v2_20190125.csv', index_col=0, sep=\"|\", na_values=['NA'])\n",
    "radiag_df['Outcome'] = radiag_df['Outcome'].apply(lambda x : binarize(x)) \n",
    "lemma_radiag_df = radiag_df.copy()\n",
    "print(len(radiag_df))\n",
    "radiag_df.head()"
   ]
  },
  {
   "cell_type": "markdown",
   "metadata": {},
   "source": [
    "### Clean Data"
   ]
  },
  {
   "cell_type": "code",
   "execution_count": 3,
   "metadata": {},
   "outputs": [
    {
     "data": {
      "text/html": [
       "<div>\n",
       "<style scoped>\n",
       "    .dataframe tbody tr th:only-of-type {\n",
       "        vertical-align: middle;\n",
       "    }\n",
       "\n",
       "    .dataframe tbody tr th {\n",
       "        vertical-align: top;\n",
       "    }\n",
       "\n",
       "    .dataframe thead th {\n",
       "        text-align: right;\n",
       "    }\n",
       "</style>\n",
       "<table border=\"1\" class=\"dataframe\">\n",
       "  <thead>\n",
       "    <tr style=\"text-align: right;\">\n",
       "      <th></th>\n",
       "      <th>ID</th>\n",
       "      <th>DATUM</th>\n",
       "      <th>PATNR</th>\n",
       "      <th>XANTWOORD</th>\n",
       "      <th>Outcome</th>\n",
       "      <th>j = ja, n= nee, p = possible (overlap geclasificeerd als possible, beginnende RA  = possible, \"meest passend bij RA\" = p, eerder diagnose RA = j (tenzij behandelend reumatoloog dit actief in twijfel trekt))</th>\n",
       "      <th>N.B. zo af en toe krijg ik de indruk dat ws uit de rest van de file wel RA geextraheerd kan worden. Ik heb mij beperkt tot de tekst die in de conclusie staat. Daarin moet RA dus echt genoemd worden (of bv. \"voldoet aan de ACR2010 criteria\"). Werkdiagnose = p</th>\n",
       "    </tr>\n",
       "  </thead>\n",
       "  <tbody>\n",
       "    <tr>\n",
       "      <th>8341</th>\n",
       "      <td>96865216</td>\n",
       "      <td>21-10-2011</td>\n",
       "      <td>4907</td>\n",
       "      <td>psoa in remissie</td>\n",
       "      <td>n</td>\n",
       "      <td>NaN</td>\n",
       "      <td>NaN</td>\n",
       "    </tr>\n",
       "    <tr>\n",
       "      <th>6009</th>\n",
       "      <td>96834035</td>\n",
       "      <td>27-09-2011</td>\n",
       "      <td>6733</td>\n",
       "      <td>slotklacht beide knie dd meniscusprobleem eerd...</td>\n",
       "      <td>n</td>\n",
       "      <td>NaN</td>\n",
       "      <td>NaN</td>\n",
       "    </tr>\n",
       "    <tr>\n",
       "      <th>28669</th>\n",
       "      <td>98580639</td>\n",
       "      <td>07-08-2015</td>\n",
       "      <td>10697</td>\n",
       "      <td>polyartritis</td>\n",
       "      <td>n</td>\n",
       "      <td>NaN</td>\n",
       "      <td>NaN</td>\n",
       "    </tr>\n",
       "    <tr>\n",
       "      <th>2850</th>\n",
       "      <td>96694093</td>\n",
       "      <td>17-05-2011</td>\n",
       "      <td>13818</td>\n",
       "      <td>artritis psoriatica twee gewricht onstook ferr...</td>\n",
       "      <td>n</td>\n",
       "      <td>NaN</td>\n",
       "      <td>NaN</td>\n",
       "    </tr>\n",
       "    <tr>\n",
       "      <th>9267</th>\n",
       "      <td>97017591</td>\n",
       "      <td>06-03-2012</td>\n",
       "      <td>18820</td>\n",
       "      <td>rustig jia meerdere ok  te radbout zh</td>\n",
       "      <td>n</td>\n",
       "      <td>NaN</td>\n",
       "      <td>NaN</td>\n",
       "    </tr>\n",
       "  </tbody>\n",
       "</table>\n",
       "</div>"
      ],
      "text/plain": [
       "             ID       DATUM  PATNR  \\\n",
       "8341   96865216  21-10-2011   4907   \n",
       "6009   96834035  27-09-2011   6733   \n",
       "28669  98580639  07-08-2015  10697   \n",
       "2850   96694093  17-05-2011  13818   \n",
       "9267   97017591  06-03-2012  18820   \n",
       "\n",
       "                                               XANTWOORD Outcome  \\\n",
       "8341                                    psoa in remissie       n   \n",
       "6009   slotklacht beide knie dd meniscusprobleem eerd...       n   \n",
       "28669                                       polyartritis       n   \n",
       "2850   artritis psoriatica twee gewricht onstook ferr...       n   \n",
       "9267               rustig jia meerdere ok  te radbout zh       n   \n",
       "\n",
       "      j = ja, n= nee, p = possible (overlap geclasificeerd als possible, beginnende RA  = possible, \"meest passend bij RA\" = p, eerder diagnose RA = j (tenzij behandelend reumatoloog dit actief in twijfel trekt))  \\\n",
       "8341                                                 NaN                                                                                                                                                               \n",
       "6009                                                 NaN                                                                                                                                                               \n",
       "28669                                                NaN                                                                                                                                                               \n",
       "2850                                                 NaN                                                                                                                                                               \n",
       "9267                                                 NaN                                                                                                                                                               \n",
       "\n",
       "       N.B. zo af en toe krijg ik de indruk dat ws uit de rest van de file wel RA geextraheerd kan worden. Ik heb mij beperkt tot de tekst die in de conclusie staat. Daarin moet RA dus echt genoemd worden (of bv. \"voldoet aan de ACR2010 criteria\"). Werkdiagnose = p  \n",
       "8341                                                 NaN                                                                                                                                                                                                                   \n",
       "6009                                                 NaN                                                                                                                                                                                                                   \n",
       "28669                                                NaN                                                                                                                                                                                                                   \n",
       "2850                                                 NaN                                                                                                                                                                                                                   \n",
       "9267                                                 NaN                                                                                                                                                                                                                   "
      ]
     },
     "execution_count": 3,
     "metadata": {},
     "output_type": "execute_result"
    }
   ],
   "source": [
    "def simpleCleaning(sentence, lemma=False): # Keep in mind: this function removes numbers\n",
    "    sticky_chars = r'([!#?,.:\";@\\-\\+\\\\/&=$\\]\\[<>\\'^\\*`â€™\\(\\)\\d])'\n",
    "    sentence = re.sub(sticky_chars, r' ', sentence)\n",
    "    sentence = sentence.lower()\n",
    "    if (lemma):\n",
    "        return em.lemmatizingText(sentence)\n",
    "    else :\n",
    "        return sentence\n",
    "\n",
    "radiag_df['XANTWOORD'] = radiag_df['XANTWOORD'].apply(lambda x : simpleCleaning(x))\n",
    "lemma_radiag_df['XANTWOORD'] = lemma_radiag_df['XANTWOORD'].apply(lambda x : simpleCleaning(x, lemma=True))\n",
    "lemma_radiag_df.head(5)"
   ]
  },
  {
   "cell_type": "markdown",
   "metadata": {},
   "source": [
    "### Make test & trainingsset"
   ]
  },
  {
   "cell_type": "code",
   "execution_count": 11,
   "metadata": {},
   "outputs": [],
   "source": [
    "X = lemma_radiag_df['XANTWOORD'].values\n",
    "y = lemma_radiag_df[['ID', 'Outcome']].values\n",
    "\n",
    "X_train, X_test, y_full_train, y_full_test = model_selection.train_test_split(X,y,test_size=test_size, random_state=777)\n",
    "y_train = y_full_train[range(len(y_full_train)),1]\n",
    "y_test = y_full_test[range(len(y_full_test)),1]\n",
    "\n",
    "d_test = {'XANTWOORD': X_test, 'Outcome': y_test, 'ID': y_full_test[range(len(y_full_test)),0]}\n",
    "df_test = pd.DataFrame(d_test)"
   ]
  },
  {
   "cell_type": "markdown",
   "metadata": {},
   "source": [
    "### Visualize distribution -> trainingsset"
   ]
  },
  {
   "cell_type": "code",
   "execution_count": 17,
   "metadata": {},
   "outputs": [
    {
     "name": "stdout",
     "output_type": "stream",
     "text": [
      "(469, 211)\n"
     ]
    },
    {
     "data": {
      "image/png": "[encoded data removed]",
      "text/plain": [
       "<Figure size 360x360 with 1 Axes>"
      ]
     },
     "metadata": {},
     "output_type": "display_data"
    }
   ],
   "source": [
    "from collections import Counter\n",
    "\n",
    "labels, values = zip(*Counter(y_train).items())\n",
    "print(values)\n",
    "\n",
    "df = pd.DataFrame({'section':labels, 'frequency':values})\n",
    "ax = df.plot(kind='bar',  title =\"Distribution of RA and Non-RA-cases\", figsize=(5, 5), x='section', legend=True, fontsize=12, rot=0)"
   ]
  },
  {
   "cell_type": "code",
   "execution_count": 31,
   "metadata": {
    "scrolled": true
   },
   "outputs": [
    {
     "name": "stdout",
     "output_type": "stream",
     "text": [
      "195\n"
     ]
    }
   ],
   "source": [
    "count = 0\n",
    "for index, row in test_df.iterrows():\n",
    "    regexp = re.compile(r'\\b((rheumatoid|reumatoide)\\s(arthritis|artritis)|ra)\\b')\n",
    "    if row['Outcome'] == 'n' and regexp.search(row['XANTWOORD']):\n",
    "        count += 1\n",
    "print(count)"
   ]
  },
  {
   "cell_type": "markdown",
   "metadata": {},
   "source": [
    "# #1 Rule Based approach\n",
    "## Step 1: Initialize list of modifiers & targets\n",
    "\n",
    "- Targets = also known as entities\n",
    "- Modifiers = terms that influence the meaning of the sentence (like negation terms)"
   ]
  },
  {
   "cell_type": "code",
   "execution_count": 18,
   "metadata": {},
   "outputs": [
    {
     "name": "stdout",
     "output_type": "stream",
     "text": [
      "<module 'pyConTextNLP.itemData' from 'E:\\\\modules\\\\Anaconda\\\\Program\\\\lib\\\\site-packages\\\\pyConTextNLP\\\\itemData.py'>\n",
      "yes\n"
     ]
    },
    {
     "data": {
      "text/html": [
       "<div>\n",
       "<style scoped>\n",
       "    .dataframe tbody tr th:only-of-type {\n",
       "        vertical-align: middle;\n",
       "    }\n",
       "\n",
       "    .dataframe tbody tr th {\n",
       "        vertical-align: top;\n",
       "    }\n",
       "\n",
       "    .dataframe thead th {\n",
       "        text-align: right;\n",
       "    }\n",
       "</style>\n",
       "<table border=\"1\" class=\"dataframe\">\n",
       "  <thead>\n",
       "    <tr style=\"text-align: right;\">\n",
       "      <th></th>\n",
       "      <th>XANTWOORD</th>\n",
       "      <th>Outcome</th>\n",
       "      <th>ID</th>\n",
       "      <th>PRED2</th>\n",
       "    </tr>\n",
       "  </thead>\n",
       "  <tbody>\n",
       "    <tr>\n",
       "      <th>0</th>\n",
       "      <td>oligoartritis pip gewricht hand bdz bij pen me...</td>\n",
       "      <td>n</td>\n",
       "      <td>97479466</td>\n",
       "      <td>n</td>\n",
       "    </tr>\n",
       "    <tr>\n",
       "      <th>1</th>\n",
       "      <td>alleen de acuut faas recatie zullen een aanwij...</td>\n",
       "      <td>n</td>\n",
       "      <td>97672540</td>\n",
       "      <td>n</td>\n",
       "    </tr>\n",
       "    <tr>\n",
       "      <th>2</th>\n",
       "      <td>jarig patiente bekend met dementie met subacut...</td>\n",
       "      <td>n</td>\n",
       "      <td>98368213</td>\n",
       "      <td>y</td>\n",
       "    </tr>\n",
       "    <tr>\n",
       "      <th>3</th>\n",
       "      <td>ap rustig onder mtx po mg</td>\n",
       "      <td>n</td>\n",
       "      <td>96721813</td>\n",
       "      <td>n</td>\n",
       "    </tr>\n",
       "    <tr>\n",
       "      <th>4</th>\n",
       "      <td>pte met ra die elders onder beh zijn met mtx e...</td>\n",
       "      <td>y</td>\n",
       "      <td>99533532</td>\n",
       "      <td>y</td>\n",
       "    </tr>\n",
       "  </tbody>\n",
       "</table>\n",
       "</div>"
      ],
      "text/plain": [
       "                                           XANTWOORD Outcome        ID PRED2\n",
       "0  oligoartritis pip gewricht hand bdz bij pen me...       n  97479466     n\n",
       "1  alleen de acuut faas recatie zullen een aanwij...       n  97672540     n\n",
       "2  jarig patiente bekend met dementie met subacut...       n  98368213     y\n",
       "3                          ap rustig onder mtx po mg       n  96721813     n\n",
       "4  pte met ra die elders onder beh zijn met mtx e...       y  99533532     y"
      ]
     },
     "execution_count": 18,
     "metadata": {},
     "output_type": "execute_result"
    }
   ],
   "source": [
    "from pyConTextNLP import itemData\n",
    "import pyConTextNLP\n",
    "from textblob import TextBlob\n",
    "import re\n",
    "print(itemData)\n",
    "\n",
    "cop = em.ContextProcessing(df_test, path_mod='../corpus/modifiersNL.yml', \\\n",
    "                 path_tar='../corpus/targets.yml')\n",
    "df_predict = cop.predict_proba()\n",
    "cut_off = 0.6\n",
    "df_predict['PRED'] = df_predict['PRED_PROBA'].apply(lambda x: 'y' if float(x) >= float(cut_off) else 'n')\n",
    "#print(df_predict['PRED'].tolist())\n",
    "\n",
    "print('yes')\n",
    "\n",
    "def simple_rulebased(report):\n",
    "    regexp = re.compile(r'\\b((rheumatoid|reumatoide)\\s(arthritis|artritis)|ra)\\b')\n",
    "    if regexp.search(report):\n",
    "        return 'y'\n",
    "    else :\n",
    "        return 'n'\n",
    "l_context= test_df['XANTWOORD'].apply(lambda x: simple_rulebased(str(x))).tolist()\n",
    "df_pred_simple = df_test.copy()\n",
    "df_pred_simple = df_pred_simple.assign(PRED2=[l_context[x][0] for x in range(len(l_context))])\n",
    "df_pred_simple.head()"
   ]
  },
  {
   "cell_type": "markdown",
   "metadata": {},
   "source": [
    "## Step 2: Predict Context according to the predefined rules"
   ]
  },
  {
   "cell_type": "code",
   "execution_count": 30,
   "metadata": {},
   "outputs": [
    {
     "name": "stdout",
     "output_type": "stream",
     "text": [
      "Cut off:  0.42500000000000004\n"
     ]
    },
    {
     "data": {
      "image/png": "[encoded data removed]",
      "text/plain": [
       "<Figure size 432x432 with 1 Axes>"
      ]
     },
     "metadata": {},
     "output_type": "display_data"
    }
   ],
   "source": [
    "def binarize(value):\n",
    "    return int(value != 'y')\n",
    "\n",
    "# RA needs to be binarized first y -> 0 n -> 1 \n",
    "if 'y' in list(df_predict['Outcome'].unique()):\n",
    "    df_predict['Outcome'] = df_predict['Outcome'].apply(lambda x : binarize(x)) \n",
    "fpr, tpr, thresholds = metrics.roc_curve(df_predict['Outcome'], 1-df_predict['PRED_PROBA'], pos_label=None, sample_weight=None, drop_intermediate=True)\n",
    "plt.figure(figsize=(6,6))\n",
    "vis.append_roc_curve('ROC curve for different classification methods', 'Rule based', fpr, tpr, plt)\n",
    "roc = pd.DataFrame({'fpr' : pd.Series(fpr),'tpr' : pd.Series(tpr), '1-fpr' : pd.Series(1-fpr), 'tf' : pd.Series(tpr - (1-fpr)), 'thresholds' : pd.Series(thresholds)})\n",
    "cut_off = roc.iloc[(roc.tf-0).abs().argsort()[:1]]['thresholds'].values[0]\n",
    "print('Cut off: ', cut_off)\n",
    "plt.show()"
   ]
  },
  {
   "cell_type": "code",
   "execution_count": 104,
   "metadata": {},
   "outputs": [
    {
     "name": "stdout",
     "output_type": "stream",
     "text": [
      "[1, 1, 1, 1, 1, 1, 1, 1, 1, 1, 1, 1, 1, 1, 1, 1, 1, 1, 1, 1, 1, 1, 1, 1, 1, 1, 1, 1, 1, 1, 1, 1, 1, 1, 1, 1, 1, 1, 1, 1, 1, 1, 1, 1, 1, 1, 1, 1, 1, 1, 1, 1, 1, 1, 1, 1, 1, 1, 1, 1, 1, 1, 1, 1, 1, 1, 1, 1, 1, 1, 1, 1, 1, 1, 1, 1, 1, 1, 1, 1, 1, 1, 1, 1, 1, 1, 1, 1, 1, 1, 1, 1, 1, 1, 1, 1, 1, 1, 1, 1, 1, 1, 1, 1, 1, 1, 1, 1, 1, 1, 1, 1, 1, 1, 1, 1, 1, 1, 1, 1, 1, 1, 1, 1, 1, 1, 1, 1, 1, 1, 1, 1, 1, 1, 1, 1, 1, 1, 1, 1, 1, 1, 1, 1, 1, 1, 1, 1, 1, 1, 1, 1, 1, 1, 1, 1, 1, 1, 1, 1, 1, 1, 1, 1, 1, 1, 1, 1, 1, 1, 1, 1, 1, 1, 1, 1, 1, 1, 1, 1, 1, 1, 1, 1, 1, 1, 1, 1, 1, 1, 1, 1, 1, 1, 1, 1, 1, 1, 1, 1, 1, 1, 1, 1, 1, 1, 1, 1, 1, 1, 1, 1, 1, 1, 1, 1, 1, 1, 1, 1, 1, 1, 1, 1, 1, 1, 1, 1, 1, 1, 1, 1, 1, 1, 1, 1, 1, 1, 1, 1, 1, 1, 1, 1, 1, 1, 1, 1, 1, 1, 1, 1, 1, 1, 1, 1, 1, 1, 1, 1, 1, 1, 1, 1, 1, 1, 1, 1, 1, 1, 1, 1, 1, 1, 1, 1, 1, 1, 1, 1, 1, 1, 1, 1, 1, 1, 1, 1, 1, 1, 1, 1, 1, 1, 1, 1, 1, 1, 1, 1, 1, 1, 1, 1, 1, 1, 1, 1, 1, 1, 1, 1, 1, 1, 1, 1, 1, 1, 1, 1, 1, 1, 1, 1, 1, 1, 1, 1, 1, 1, 1, 1, 1, 1, 1, 1, 1, 1, 1, 1, 1, 1, 1, 1, 1, 1, 1, 1, 1, 1, 1, 1, 1, 1, 1, 1, 1, 1, 1, 1, 1, 1, 1, 1, 1, 1, 1, 1, 1, 1, 1, 1, 1, 1, 1, 1, 1, 1, 1, 1, 1, 1, 1, 1, 1, 1, 1, 1, 1, 1, 1, 1, 1, 1, 1, 1, 1, 1, 1, 1, 1, 1, 1, 1, 1, 1, 1, 1, 1, 1, 1, 1, 1, 1, 1, 1, 0, 0, 0, 0, 0, 0, 0, 0, 0, 0, 0, 0, 0, 0, 0, 0, 0, 0, 0, 0, 0, 0, 0, 0, 0, 0, 0, 0, 0, 0, 0, 0, 0, 0, 0, 0, 0, 0, 0, 0, 0, 0, 0, 0, 0, 0, 0, 0, 0, 0, 0, 0, 0, 0, 0, 0, 0, 0, 0, 0, 0, 0, 0, 0, 0, 0, 0, 0, 0, 0, 0, 0, 0, 0, 0, 0, 0, 0, 0, 0, 0, 0, 0, 0, 0, 0, 0, 0, 0, 0, 0, 0, 0, 0, 0, 0, 0, 0, 0, 0, 0, 0, 0, 0, 0, 0, 0, 0, 0, 0, 0, 0, 0, 0, 0, 0, 0, 0, 0, 0, 0, 0, 0, 0, 0, 0, 0, 0, 0, 0, 0, 0, 0, 0, 0, 0, 0, 0, 0, 0, 0, 0, 0, 0, 0, 0, 0, 0, 0, 0, 0, 0, 0, 0, 0, 0, 0, 0, 0, 0, 0, 0, 0, 0, 0, 0, 0, 0, 0, 0, 0, 0, 0, 0, 0, 0, 0, 0, 0, 0, 0, 0, 0, 0, 0, 0, 0, 0, 0, 0, 0, 0, 0, 0, 0, 0, 0, 0, 0, 0, 0, 0, 0, 0, 0, 0, 0, 0, 0, 0, 0, 0, 0, 0, 0, 0, 0, 0, 0, 0, 0, 0, 0, 0, 0, 0, 0, 0, 0, 0, 0, 0, 0, 0, 0, 0, 0, 0, 0, 0, 0, 0, 0, 0, 0, 0, 0, 0, 0, 0, 0, 0, 0, 0, 0, 0, 0, 0, 0, 0, 0, 0, 0, 0, 0]\n",
      "[0, 1, 0, 1, 0, 0, 0, 0, 0, 0, 0, 1, 0, 1, 0, 0, 0, 1, 1, 0, 0, 0, 0, 1, 0, 1, 1, 0, 1, 0, 0, 0, 0, 0, 0, 1, 0, 1, 0, 0, 0, 0, 1, 0, 1, 1, 0, 1, 0, 0, 0, 0, 0, 0, 1, 1, 0, 1, 1, 1, 1, 1, 0, 0, 0, 1, 1, 0, 1, 1, 0, 1, 1, 0, 0, 1, 0, 1, 0, 0, 1, 1, 1, 0, 0, 0, 0, 0, 0, 0, 0, 0, 0, 0, 1, 0, 0, 1, 0, 0, 0, 0, 0, 0, 0, 1, 0, 1, 0, 0, 1, 1, 0, 0, 1, 1, 0, 1, 1, 1, 0, 0, 0, 0, 1, 0, 0, 1, 0, 0, 0, 0, 1, 0, 0, 1, 0, 1, 0, 0, 1, 1, 1, 0, 1, 1, 0, 0, 0, 1, 1, 1, 0, 1, 1, 0, 1, 0, 0, 0, 1, 0, 0, 1, 0, 0, 0, 1, 0, 1, 0, 1, 1, 1, 0, 0, 0, 0, 0, 1, 0, 0, 0, 0, 0, 0, 0, 1, 1, 0, 0, 0, 0, 0, 0, 0, 0, 1, 1, 0, 0, 0, 1, 1, 0, 1, 1, 1, 0, 0, 0, 0, 0, 0, 0, 1, 0, 0, 0, 1, 0, 0, 1, 0, 0, 0, 1, 0, 0, 0, 1, 0, 0, 1, 0, 1, 0, 1, 0, 1, 0, 0, 0, 0, 0, 0, 0, 1, 1, 1, 0, 0, 1, 0, 0, 0, 0, 0, 0, 1, 1, 0, 1, 0, 0, 0, 1, 1, 0, 0, 0, 1, 0, 0, 0, 0, 0, 1, 0, 0, 0, 0, 0, 0, 1, 0, 0, 1, 0, 0, 0, 0, 0, 1, 1, 0, 0, 1, 1, 1, 0, 1, 0, 1, 1, 0, 0, 1, 0, 1, 1, 0, 1, 0, 1, 0, 1, 1, 0, 1, 0, 0, 1, 1, 0, 1, 0, 0, 0, 1, 0, 0, 0, 0, 0, 1, 1, 0, 0, 1, 0, 1, 0, 0, 0, 1, 0, 0, 0, 0, 0, 1, 0, 0, 1, 1, 1, 0, 0, 0, 0, 0, 0, 1, 0, 1, 0, 1, 0, 0, 0, 0, 0, 0, 0, 0, 1, 0, 0, 1, 0, 1, 1, 0, 0, 1, 0, 1, 0, 1, 1, 0, 0, 1, 1, 0, 0, 1, 0, 0, 0, 1, 0, 0, 0, 0, 0, 1, 1, 1, 0, 0, 0, 0, 1, 0, 0, 0, 0, 0, 1, 1, 0, 0, 0, 0, 0, 1, 1, 0, 0, 0, 0, 1, 0, 0, 1, 0, 1, 0, 1, 0, 0, 0, 0, 0, 0, 0, 0, 1, 0, 0, 1, 0, 1, 0, 1, 0, 1, 0, 0, 1, 1, 0, 1, 0, 0, 0, 1, 1, 0, 0, 0, 0, 0, 0, 0, 0, 0, 1, 1, 0, 0, 0, 1, 1, 1, 0, 1, 0, 0, 0, 1, 0, 0, 1, 1, 0, 0, 1, 1, 0, 0, 1, 0, 1, 0, 0, 1, 1, 0, 0, 1, 1, 0, 0, 0, 1, 1, 0, 1, 0, 0, 0, 0, 0, 0, 0, 0, 0, 0, 0, 0, 0, 1, 0, 0, 1, 0, 0, 0, 0, 0, 0, 0, 0, 1, 0, 0, 0, 0, 1, 0, 0, 0, 1, 0, 0, 0, 0, 0, 1, 0, 0, 0, 0, 0, 1, 1, 1, 0, 0, 1, 1, 0, 0, 0, 0, 1, 0, 0, 0, 0, 0, 0, 0, 0, 0, 0, 1, 0, 1, 1, 0, 1, 0, 0, 0, 0, 0, 1, 0, 0, 0, 0, 0, 0, 1, 0, 0, 0, 1, 1, 1, 0, 0, 1, 1, 0, 1, 1, 1, 1, 0, 0, 1, 1, 0, 1, 0, 0, 0, 0, 0, 0, 0, 0, 0, 0, 0, 1, 0, 0, 1, 1, 0, 0, 0, 0, 0, 1, 0, 0, 1, 1, 0, 1, 0, 0, 1, 0, 0, 0, 0, 1, 0, 1, 0, 0, 0, 0, 0, 1, 0, 0, 0, 0, 0, 1, 0, 0]\n"
     ]
    }
   ],
   "source": [
    "import scipy.stats as ss\n",
    "import collections\n",
    "\n",
    "def binarize(value):\n",
    "    return int(value == 'y')\n",
    "\n",
    "if 'y' in list(df_pred_simple['Outcome'].unique()):\n",
    "    df_pred_simple['Outcome'] = df_pred_simple['Outcome'].apply(lambda x : binarize(x))\n",
    "    df_pred_simple['PRED2'] = df_pred_simple['PRED2'].apply(lambda x : binarize(x))\n",
    "\n",
    "d_perf = {}\n",
    "\n",
    "count = 0\n",
    "for index, row in df_pred_simple.iterrows():\n",
    "    d_perf[count] = [row['PRED2'], row['Outcome']]\n",
    "    count += 1\n",
    "    \n",
    "    \n",
    "def func(value):\n",
    "    #print(value[1][0])\n",
    "    return value[1][0]\n",
    "orderedDict = collections.OrderedDict(sorted(d_perf.items(), key=lambda k: func(k), reverse=True))\n",
    "\n",
    "# sorted via predictions\n",
    "l_sorted_pred= []\n",
    "l_sorted_true = []\n",
    "for x in orderedDict.items():\n",
    "    l_sorted_pred.append(x[1][0])\n",
    "    l_sorted_true.append(x[1][1]) \n",
    "    \n",
    "# print(l_sorted_pred)\n",
    "# print(l_sorted_true)"
   ]
  },
  {
   "cell_type": "markdown",
   "metadata": {},
   "source": [
    "## Step 3: Performance of the Rule Based Approach\n",
    "\n",
    "y = 0 because the confusion matrix orders the groups on numbers"
   ]
  },
  {
   "cell_type": "markdown",
   "metadata": {},
   "source": [
    "### Confusion Matrix - Rule Based Approach"
   ]
  },
  {
   "cell_type": "code",
   "execution_count": 33,
   "metadata": {},
   "outputs": [
    {
     "data": {
      "image/png": "[encoded data removed]",
      "text/plain": [
       "<Figure size 432x288 with 2 Axes>"
      ]
     },
     "metadata": {},
     "output_type": "display_data"
    }
   ],
   "source": [
    "from sklearn.metrics import confusion_matrix\n",
    "import numpy as np\n",
    "import pandas as pd \n",
    "import re\n",
    "\n",
    "cut_off = 0.6\n",
    "\n",
    "df_predict['PRED'] = df_predict['PRED_PROBA'].apply(lambda x: 0 if float(x) >= float(cut_off) else 1) # y -> 0 and n -> 1\n",
    "\n",
    "cm = confusion_matrix(df_predict['Outcome'], df_predict['PRED'])\n",
    "\n",
    "plt = vis.plot_confusion_matrix(cm, ['y', 'n'], title=\"Confusion matrix - Rule based approach\\n\")\n",
    "plt.ylabel('Predicted label')\n",
    "plt.xlabel('True label')\n",
    "plt.show()"
   ]
  },
  {
   "cell_type": "markdown",
   "metadata": {},
   "source": [
    "### Confusion Matrix - Exact word matching"
   ]
  },
  {
   "cell_type": "code",
   "execution_count": 35,
   "metadata": {},
   "outputs": [
    {
     "data": {
      "image/png": "[encoded data removed]",
      "text/plain": [
       "<Figure size 432x288 with 2 Axes>"
      ]
     },
     "metadata": {},
     "output_type": "display_data"
    }
   ],
   "source": [
    "\n",
    "cm = confusion_matrix(df_pred_simple['Outcome'], df_pred_simple['PRED2'])\n",
    "\n",
    "plt = vis.plot_confusion_matrix(cm, ['y', 'n'], title=\"Confusion matrix - Rule based approach\\n\")\n",
    "plt.ylabel('Predicted label')\n",
    "plt.xlabel('True label')\n",
    "plt.show()"
   ]
  },
  {
   "cell_type": "markdown",
   "metadata": {},
   "source": [
    "#### Binarize Rule based -> predictions for final comparison with ML-methods"
   ]
  },
  {
   "cell_type": "code",
   "execution_count": 30,
   "metadata": {},
   "outputs": [],
   "source": [
    "from sklearn import metrics\n",
    "def binarize(value):\n",
    "    return int(value == 'y')\n",
    "df_predict['RA'] = df_predict['RA'].apply(lambda x : binarize(x))\n",
    "df_predict['PRED'] = df_predict['PRED'].apply(lambda x : binarize(x))\n"
   ]
  },
  {
   "cell_type": "markdown",
   "metadata": {},
   "source": [
    "# #2 Machine Learning approach"
   ]
  },
  {
   "cell_type": "markdown",
   "metadata": {},
   "source": [
    "## Step 1: Processing the data\n",
    "### Converting words to numerical feature vectors"
   ]
  },
  {
   "cell_type": "code",
   "execution_count": 7,
   "metadata": {},
   "outputs": [
    {
     "data": {
      "text/plain": [
       "(500, 1899)"
      ]
     },
     "execution_count": 7,
     "metadata": {},
     "output_type": "execute_result"
    }
   ],
   "source": [
    "from sklearn.feature_extraction.text import CountVectorizer\n",
    "count_vect = CountVectorizer()\n",
    "X_train_counts = count_vect.fit_transform(X_train) # learning the vocabulary dictionary\n",
    "X_train_counts.shape"
   ]
  },
  {
   "cell_type": "markdown",
   "metadata": {},
   "source": [
    "#### Reduce weightage stopword weights"
   ]
  },
  {
   "cell_type": "code",
   "execution_count": 25,
   "metadata": {},
   "outputs": [
    {
     "data": {
      "text/plain": [
       "(500, 1899)"
      ]
     },
     "execution_count": 25,
     "metadata": {},
     "output_type": "execute_result"
    }
   ],
   "source": [
    "from sklearn.feature_extraction.text import TfidfTransformer\n",
    "tfidf_transformer = TfidfTransformer() ## reduce the occurrence of common words (stopwords)  \n",
    "X_train_tfidf = tfidf_transformer.fit_transform(X_train_counts)\n",
    "X_train_tfidf.shape\n",
    "# shape is the same prob. already happens in previous step"
   ]
  },
  {
   "cell_type": "markdown",
   "metadata": {},
   "source": [
    "## Step 2: Building the Pipeline & Fitting the Models\n",
    "\n",
    "First: Import important modules"
   ]
  },
  {
   "cell_type": "code",
   "execution_count": 19,
   "metadata": {},
   "outputs": [],
   "source": [
    "from sklearn.naive_bayes import MultinomialNB\n",
    "from sklearn.feature_extraction.text import TfidfTransformer\n",
    "from sklearn.feature_extraction.text import CountVectorizer\n",
    "from sklearn.pipeline import Pipeline\n",
    "from sklearn.linear_model import SGDClassifier\n",
    "from sklearn.svm import SVC\n",
    "from sklearn.neural_network import MLPClassifier\n",
    "from sklearn.neural_network import MLPRegressor\n",
    "from sklearn import tree"
   ]
  },
  {
   "cell_type": "markdown",
   "metadata": {},
   "source": [
    "### Different options:\n",
    "Listed below are the following models: Naive Bayes, Gradient Boosting, Neural Networks, Decision tree & SVM."
   ]
  },
  {
   "cell_type": "code",
   "execution_count": 32,
   "metadata": {},
   "outputs": [],
   "source": [
    "pipe_list = [\n",
    "    # Naive Bayes - 0\n",
    "    Pipeline([('vect', CountVectorizer()),\n",
    "                ('tfidf', TfidfTransformer()),\n",
    "                ('clf', MultinomialNB()),\n",
    "            ]),\n",
    "    # Gradient Boosting - 1\n",
    "    Pipeline([('vect', CountVectorizer()),\n",
    "                ('tfidf', TfidfTransformer()),\n",
    "                ('clf', ske.GradientBoostingClassifier(random_state=123))\n",
    "            ]),\n",
    "    # Neural Networks - 2\n",
    "    Pipeline([('vect', CountVectorizer()),\n",
    "                ('tfidf', TfidfTransformer()),\n",
    "                ('clf', MLPClassifier(solver='lbfgs', random_state=123)), # hidden_layer_sizes=(5, 2), , \n",
    "            ]),\n",
    "    # Decision Tree - 3\n",
    "    Pipeline([('vect', CountVectorizer()),\n",
    "                ('tfidf', TfidfTransformer()),\n",
    "                ('clf', tree.DecisionTreeClassifier(random_state=123)),\n",
    "            ]),\n",
    "    # SVM 4 - SVC probability\n",
    "    Pipeline([('vect', CountVectorizer()),\n",
    "                ('tfidf', TfidfTransformer()),\n",
    "                ('clf', SVC(random_state=123, probability=True)),\n",
    "            ]),\n",
    "    # SVM - 5\n",
    "    Pipeline([('vect', CountVectorizer()),\n",
    "                ('tfidf', TfidfTransformer()),\n",
    "                ('clf', SGDClassifier(loss='hinge', penalty='l2',\n",
    "                    alpha=1e-3, random_state=123,\n",
    "                    max_iter=5, tol=None)),\n",
    "            ])\n",
    "    ]\n"
   ]
  },
  {
   "cell_type": "markdown",
   "metadata": {},
   "source": [
    "## Step 3: Performance of the models"
   ]
  },
  {
   "cell_type": "markdown",
   "metadata": {},
   "source": [
    "### Calculate TPR & FPR range for Decision Tree\n",
    "1. The binary 'probabilities' (l_sorted_pred) are sorted from 1's to 0's -> \\[1, 1, 1, 1, 1, 0, 0, 0, 0\\]\n",
    "2. The associated true labels (l_sorted_true) are then used as input in the R-script to create a binary ROC\n"
   ]
  },
  {
   "cell_type": "code",
   "execution_count": 28,
   "metadata": {
    "scrolled": false
   },
   "outputs": [],
   "source": [
    "import collections\n",
    "text_clf = pipe_list[3].fit(X_train, y_train)\n",
    "\n",
    "pred = text_clf.predict(X_test)\n",
    "b_pred = []\n",
    "for x in pred:\n",
    "    if x == 'y':\n",
    "        b_pred.append(1)\n",
    "    elif x == 'n':\n",
    "        b_pred.append(0)\n",
    "d_perf_dt = {}\n",
    "\n",
    "def binarize(value):\n",
    "    return int(value == 'y')\n",
    "\n",
    "count = 0\n",
    "for index, row in df_pred_simple.iterrows():\n",
    "    d_perf_dt[count] = [b_pred[count], binarize(row['Outcome'])]\n",
    "    count += 1\n",
    "    \n",
    "def func(value):\n",
    "    return value[1][0]\n",
    "orderedDict = collections.OrderedDict(sorted(d_perf_dt.items(), key=lambda k: func(k), reverse=True))\n",
    "\n",
    "l_sorted_pred= []\n",
    "l_sorted_true = []\n",
    "for x in orderedDict.items():\n",
    "    l_sorted_pred.append(x[1][0])\n",
    "    l_sorted_true.append(x[1][1]) \n",
    "#print(l_sorted_true)\n",
    "#print(l_sorted_pred)\n"
   ]
  },
  {
   "cell_type": "markdown",
   "metadata": {},
   "source": [
    "### ROC curve for all applied methods \n",
    "To compare Machine Learning (ML) methods with the Rule Based approach"
   ]
  },
  {
   "cell_type": "markdown",
   "metadata": {},
   "source": [
    "#### Decision tree - TPR and FPR range (output from external R-script)"
   ]
  },
  {
   "cell_type": "code",
   "execution_count": 21,
   "metadata": {},
   "outputs": [],
   "source": [
    "#print(pred)\n",
    "fpr_dt = [0, 0.0022075055187638, 0.00441501103752759, 0.00441501103752759, 0.00662251655629139, 0.00662251655629139, 0.00883002207505519, 0.011037527593819, 0.0132450331125828, 0.0132450331125828, 0.0132450331125828, 0.0132450331125828, 0.0154525386313466, 0.0176600441501104, 0.0198675496688742, 0.0198675496688742, 0.022075055187638, 0.022075055187638, 0.022075055187638, 0.0242825607064018, 0.0264900662251656, 0.0286975717439294, 0.0309050772626932, 0.033112582781457, 0.033112582781457, 0.0353200883002208, 0.0375275938189845, 0.0397350993377483, 0.0397350993377483, 0.0397350993377483, 0.0419426048565121, 0.0419426048565121, 0.0441501103752759, 0.0463576158940397, 0.0485651214128035, 0.0485651214128035, 0.0485651214128035, 0.0507726269315673, 0.0507726269315673, 0.0507726269315673, 0.0507726269315673, 0.0529801324503311, 0.0551876379690949, 0.0573951434878587, 0.0596026490066225, 0.0618101545253863, 0.0618101545253863, 0.0640176600441501, 0.0662251655629139, 0.0662251655629139, 0.0684326710816777, 0.0684326710816777, 0.0706401766004415, 0.0728476821192053, 0.0750551876379691, 0.0772626931567329, 0.0794701986754967, 0.0794701986754967, 0.0794701986754967, 0.0816777041942605, 0.0838852097130243, 0.0860927152317881, 0.0883002207505519, 0.0905077262693157, 0.0905077262693157, 0.0927152317880795, 0.0949227373068433, 0.0971302428256071, 0.0993377483443709, 0.101545253863135, 0.103752759381898, 0.105960264900662, 0.108167770419426, 0.11037527593819, 0.112582781456954, 0.112582781456954, 0.112582781456954, 0.112582781456954, 0.112582781456954, 0.114790286975717, 0.114790286975717, 0.114790286975717, 0.114790286975717, 0.114790286975717, 0.116997792494481, 0.119205298013245, 0.121412803532009, 0.123620309050773, 0.125827814569536, 0.1280353200883, 0.130242825607064, 0.132450331125828, 0.132450331125828, 0.134657836644592, 0.136865342163355, 0.136865342163355, 0.139072847682119, 0.139072847682119, 0.141280353200883, 0.143487858719647, 0.143487858719647, 0.143487858719647, 0.145695364238411, 0.145695364238411, 0.145695364238411, 0.147902869757174, 0.150110375275938, 0.152317880794702, 0.152317880794702, 0.154525386313466, 0.15673289183223, 0.15673289183223, 0.158940397350993, 0.161147902869757, 0.163355408388521, 0.165562913907285, 0.165562913907285, 0.167770419426049, 0.167770419426049, 0.169977924944812, 0.169977924944812, 0.172185430463576, 0.17439293598234, 0.176600441501104, 0.176600441501104, 0.176600441501104, 0.178807947019868, 0.181015452538631, 0.183222958057395, 0.183222958057395, 0.183222958057395, 0.185430463576159, 0.187637969094923, 0.187637969094923, 0.187637969094923, 0.189845474613687, 0.19205298013245, 0.194260485651214, 0.194260485651214, 0.194260485651214, 0.196467991169978, 0.198675496688742, 0.200883002207506, 0.200883002207506, 0.203090507726269, 0.205298013245033, 0.205298013245033, 0.205298013245033, 0.207505518763797, 0.209713024282561, 0.211920529801325, 0.214128035320088, 0.216335540838852, 0.218543046357616, 0.218543046357616, 0.22075055187638, 0.22075055187638, 0.222958057395143, 0.225165562913907, 0.225165562913907, 0.227373068432671, 0.229580573951435, 0.229580573951435, 0.231788079470199, 0.231788079470199, 0.231788079470199, 0.233995584988962, 0.236203090507726, 0.236203090507726, 0.23841059602649, 0.23841059602649, 0.23841059602649, 0.240618101545254, 0.242825607064018, 0.245033112582781, 0.245033112582781, 0.247240618101545, 0.247240618101545, 0.249448123620309, 0.249448123620309, 0.251655629139073, 0.251655629139073, 0.253863134657837, 0.2560706401766, 0.258278145695364, 0.260485651214128, 0.260485651214128, 0.262693156732892, 0.262693156732892, 0.264900662251656, 0.267108167770419, 0.269315673289183, 0.271523178807947, 0.271523178807947, 0.273730684326711, 0.275938189845475, 0.275938189845475, 0.278145695364238, 0.278145695364238, 0.280353200883002, 0.282560706401766, 0.282560706401766, 0.28476821192053, 0.28476821192053, 0.286975717439294, 0.289183222958057, 0.289183222958057, 0.289183222958057, 0.291390728476821, 0.293598233995585, 0.293598233995585, 0.295805739514349, 0.298013245033113, 0.300220750551876, 0.30242825607064, 0.304635761589404, 0.304635761589404, 0.306843267108168, 0.309050772626932, 0.311258278145695, 0.311258278145695, 0.313465783664459, 0.315673289183223, 0.317880794701987, 0.317880794701987, 0.320088300220751, 0.320088300220751, 0.322295805739514, 0.322295805739514, 0.322295805739514, 0.322295805739514, 0.322295805739514, 0.324503311258278, 0.326710816777042, 0.328918322295806, 0.328918322295806, 0.33112582781457, 0.333333333333333, 0.335540838852097, 0.337748344370861, 0.339955849889625, 0.342163355408389, 0.344370860927152, 0.346578366445916, 0.346578366445916, 0.346578366445916, 0.34878587196468, 0.350993377483444, 0.350993377483444, 0.353200883002208, 0.353200883002208, 0.355408388520971, 0.355408388520971, 0.355408388520971, 0.357615894039735, 0.359823399558499, 0.362030905077263, 0.364238410596026, 0.364238410596026, 0.36644591611479, 0.36644591611479, 0.368653421633554, 0.370860927152318, 0.370860927152318, 0.373068432671082, 0.373068432671082, 0.373068432671082, 0.373068432671082, 0.375275938189845, 0.377483443708609, 0.377483443708609, 0.379690949227373, 0.379690949227373, 0.379690949227373, 0.381898454746137, 0.381898454746137, 0.384105960264901, 0.386313465783664, 0.388520971302428, 0.390728476821192, 0.392935982339956, 0.39514348785872, 0.397350993377483, 0.399558498896247, 0.401766004415011, 0.401766004415011, 0.403973509933775, 0.403973509933775, 0.406181015452539, 0.408388520971302, 0.410596026490066, 0.410596026490066, 0.41280353200883, 0.415011037527594, 0.417218543046358, 0.419426048565121, 0.421633554083885, 0.423841059602649, 0.423841059602649, 0.426048565121413, 0.428256070640177, 0.43046357615894, 0.432671081677704, 0.432671081677704, 0.434878587196468, 0.437086092715232, 0.437086092715232, 0.439293598233996, 0.439293598233996, 0.441501103752759, 0.441501103752759, 0.443708609271523, 0.445916114790287, 0.448123620309051, 0.450331125827815, 0.450331125827815, 0.452538631346578, 0.454746136865342, 0.456953642384106, 0.45916114790287, 0.461368653421634, 0.463576158940397, 0.465783664459161, 0.467991169977925, 0.467991169977925, 0.470198675496689, 0.470198675496689, 0.470198675496689, 0.472406181015453, 0.474613686534216, 0.47682119205298, 0.479028697571744, 0.481236203090508, 0.483443708609272, 0.485651214128035, 0.487858719646799, 0.487858719646799, 0.487858719646799, 0.490066225165563, 0.492273730684327, 0.494481236203091, 0.494481236203091, 0.494481236203091, 0.494481236203091, 0.496688741721854, 0.496688741721854, 0.496688741721854, 0.498896247240618, 0.498896247240618, 0.501103752759382, 0.501103752759382, 0.503311258278146, 0.503311258278146, 0.503311258278146, 0.50551876379691, 0.507726269315673, 0.509933774834437, 0.509933774834437, 0.512141280353201, 0.514348785871965, 0.516556291390728, 0.518763796909492, 0.520971302428256, 0.52317880794702, 0.525386313465784, 0.527593818984547, 0.527593818984547, 0.527593818984547, 0.529801324503311, 0.532008830022075, 0.532008830022075, 0.532008830022075, 0.532008830022075, 0.534216335540839, 0.534216335540839, 0.536423841059603, 0.538631346578366, 0.54083885209713, 0.54083885209713, 0.543046357615894, 0.545253863134658, 0.547461368653422, 0.549668874172185, 0.551876379690949, 0.554083885209713, 0.556291390728477, 0.556291390728477, 0.556291390728477, 0.558498896247241, 0.560706401766004, 0.562913907284768, 0.565121412803532, 0.567328918322296, 0.567328918322296, 0.56953642384106, 0.571743929359823, 0.573951434878587, 0.576158940397351, 0.578366445916115, 0.580573951434879, 0.582781456953642, 0.584988962472406, 0.584988962472406, 0.58719646799117, 0.589403973509934, 0.591611479028698, 0.591611479028698, 0.593818984547461, 0.596026490066225, 0.596026490066225, 0.598233995584989, 0.600441501103753, 0.602649006622517, 0.60485651214128, 0.60485651214128, 0.60485651214128, 0.60485651214128, 0.607064017660044, 0.609271523178808, 0.611479028697572, 0.611479028697572, 0.613686534216336, 0.615894039735099, 0.618101545253863, 0.620309050772627, 0.622516556291391, 0.624724061810154, 0.624724061810154, 0.626931567328918, 0.626931567328918, 0.629139072847682, 0.631346578366446, 0.63355408388521, 0.635761589403974, 0.637969094922737, 0.640176600441501, 0.640176600441501, 0.642384105960265, 0.642384105960265, 0.644591611479029, 0.646799116997792, 0.649006622516556, 0.65121412803532, 0.653421633554084, 0.655629139072848, 0.657836644591612, 0.660044150110375, 0.662251655629139, 0.664459161147903, 0.666666666666667, 0.66887417218543, 0.671081677704194, 0.671081677704194, 0.671081677704194, 0.673289183222958, 0.675496688741722, 0.677704194260486, 0.679911699779249, 0.682119205298013, 0.684326710816777, 0.686534216335541, 0.686534216335541, 0.686534216335541, 0.688741721854305, 0.690949227373068, 0.690949227373068, 0.693156732891832, 0.695364238410596, 0.695364238410596, 0.69757174392936, 0.699779249448124, 0.701986754966887, 0.704194260485651, 0.706401766004415, 0.706401766004415, 0.706401766004415, 0.706401766004415, 0.708609271523179, 0.710816777041943, 0.713024282560706, 0.713024282560706, 0.71523178807947, 0.71523178807947, 0.717439293598234, 0.719646799116998, 0.721854304635762, 0.724061810154525, 0.726269315673289, 0.726269315673289, 0.726269315673289, 0.728476821192053, 0.730684326710817, 0.732891832229581, 0.735099337748344, 0.735099337748344, 0.737306843267108, 0.739514348785872, 0.739514348785872, 0.741721854304636, 0.7439293598234, 0.746136865342163, 0.748344370860927, 0.750551876379691, 0.750551876379691, 0.752759381898455, 0.752759381898455, 0.752759381898455, 0.752759381898455, 0.754966887417219, 0.757174392935982, 0.757174392935982, 0.757174392935982, 0.759381898454746, 0.76158940397351, 0.763796909492274, 0.763796909492274, 0.766004415011038, 0.768211920529801, 0.770419426048565, 0.772626931567329, 0.774834437086093, 0.777041942604856, 0.77924944812362, 0.781456953642384, 0.781456953642384, 0.783664459161148, 0.783664459161148, 0.783664459161148, 0.785871964679912, 0.785871964679912, 0.785871964679912, 0.788079470198676, 0.790286975717439, 0.790286975717439, 0.792494481236203, 0.794701986754967, 0.796909492273731, 0.796909492273731, 0.799116997792494, 0.799116997792494, 0.799116997792494, 0.799116997792494, 0.801324503311258, 0.803532008830022, 0.805739514348786, 0.80794701986755, 0.810154525386313, 0.812362030905077, 0.812362030905077, 0.814569536423841, 0.816777041942605, 0.818984547461369, 0.821192052980132, 0.821192052980132, 0.823399558498896, 0.82560706401766, 0.827814569536424, 0.830022075055188, 0.832229580573951, 0.834437086092715, 0.836644591611479, 0.836644591611479, 0.836644591611479, 0.838852097130243, 0.838852097130243, 0.841059602649007, 0.841059602649007, 0.84326710816777, 0.84326710816777, 0.84326710816777, 0.84326710816777, 0.845474613686534, 0.847682119205298, 0.847682119205298, 0.849889624724062, 0.849889624724062, 0.849889624724062, 0.849889624724062, 0.849889624724062, 0.849889624724062, 0.852097130242826, 0.852097130242826, 0.854304635761589, 0.854304635761589, 0.856512141280353, 0.858719646799117, 0.858719646799117, 0.858719646799117, 0.860927152317881, 0.860927152317881, 0.860927152317881, 0.863134657836645, 0.865342163355408, 0.865342163355408, 0.867549668874172, 0.867549668874172, 0.869757174392936, 0.869757174392936, 0.8719646799117, 0.8719646799117, 0.874172185430464, 0.874172185430464, 0.874172185430464, 0.874172185430464, 0.876379690949227, 0.878587196467991, 0.880794701986755, 0.880794701986755, 0.883002207505519, 0.885209713024283, 0.885209713024283, 0.887417218543046, 0.88962472406181, 0.891832229580574, 0.894039735099338, 0.896247240618102, 0.898454746136865, 0.898454746136865, 0.898454746136865, 0.900662251655629, 0.902869757174393, 0.905077262693157, 0.907284768211921, 0.909492273730684, 0.911699779249448, 0.913907284768212, 0.916114790286976, 0.916114790286976, 0.91832229580574, 0.91832229580574, 0.920529801324503, 0.920529801324503, 0.920529801324503, 0.922737306843267, 0.924944812362031, 0.924944812362031, 0.927152317880795, 0.927152317880795, 0.927152317880795, 0.929359823399558, 0.929359823399558, 0.931567328918322, 0.933774834437086, 0.933774834437086, 0.93598233995585, 0.938189845474614, 0.938189845474614, 0.940397350993378, 0.942604856512141, 0.944812362030905, 0.947019867549669, 0.949227373068433, 0.951434878587196, 0.951434878587196, 0.95364238410596, 0.95364238410596, 0.955849889624724, 0.958057395143488, 0.960264900662252, 0.962472406181015, 0.964679911699779, 0.964679911699779, 0.966887417218543, 0.966887417218543, 0.969094922737307, 0.969094922737307, 0.971302428256071, 0.973509933774834, 0.973509933774834, 0.975717439293598, 0.977924944812362, 0.980132450331126, 0.98233995584989, 0.984547461368653, 0.986754966887417, 0.988962472406181, 0.991169977924945, 0.991169977924945, 0.993377483443709, 0.995584988962472, 0.997792494481236, 1]\n",
    "tpr_dt = [0, 0, 0, 0.0043859649122807, 0.0043859649122807, 0.0087719298245614, 0.0087719298245614, 0.0087719298245614, 0.0087719298245614, 0.0131578947368421, 0.0175438596491228, 0.0219298245614035, 0.0219298245614035, 0.0219298245614035, 0.0219298245614035, 0.0263157894736842, 0.0263157894736842, 0.0307017543859649, 0.0350877192982456, 0.0350877192982456, 0.0350877192982456, 0.0350877192982456, 0.0350877192982456, 0.0350877192982456, 0.0394736842105263, 0.0394736842105263, 0.0394736842105263, 0.0394736842105263, 0.043859649122807, 0.0482456140350877, 0.0482456140350877, 0.0526315789473684, 0.0526315789473684, 0.0526315789473684, 0.0526315789473684, 0.0570175438596491, 0.0614035087719298, 0.0614035087719298, 0.0657894736842105, 0.0701754385964912, 0.0745614035087719, 0.0745614035087719, 0.0745614035087719, 0.0745614035087719, 0.0745614035087719, 0.0745614035087719, 0.0789473684210526, 0.0789473684210526, 0.0789473684210526, 0.0833333333333333, 0.0833333333333333, 0.087719298245614, 0.087719298245614, 0.087719298245614, 0.087719298245614, 0.087719298245614, 0.087719298245614, 0.0921052631578947, 0.0964912280701754, 0.0964912280701754, 0.0964912280701754, 0.0964912280701754, 0.0964912280701754, 0.0964912280701754, 0.100877192982456, 0.100877192982456, 0.100877192982456, 0.100877192982456, 0.100877192982456, 0.100877192982456, 0.100877192982456, 0.100877192982456, 0.100877192982456, 0.100877192982456, 0.100877192982456, 0.105263157894737, 0.109649122807018, 0.114035087719298, 0.118421052631579, 0.118421052631579, 0.12280701754386, 0.12719298245614, 0.131578947368421, 0.135964912280702, 0.135964912280702, 0.135964912280702, 0.135964912280702, 0.135964912280702, 0.135964912280702, 0.135964912280702, 0.135964912280702, 0.135964912280702, 0.140350877192982, 0.140350877192982, 0.140350877192982, 0.144736842105263, 0.144736842105263, 0.149122807017544, 0.149122807017544, 0.149122807017544, 0.153508771929825, 0.157894736842105, 0.157894736842105, 0.162280701754386, 0.166666666666667, 0.166666666666667, 0.166666666666667, 0.166666666666667, 0.171052631578947, 0.171052631578947, 0.171052631578947, 0.175438596491228, 0.175438596491228, 0.175438596491228, 0.175438596491228, 0.175438596491228, 0.179824561403509, 0.179824561403509, 0.184210526315789, 0.184210526315789, 0.18859649122807, 0.18859649122807, 0.18859649122807, 0.18859649122807, 0.192982456140351, 0.197368421052632, 0.197368421052632, 0.197368421052632, 0.197368421052632, 0.201754385964912, 0.206140350877193, 0.206140350877193, 0.206140350877193, 0.210526315789474, 0.214912280701754, 0.214912280701754, 0.214912280701754, 0.214912280701754, 0.219298245614035, 0.223684210526316, 0.223684210526316, 0.223684210526316, 0.223684210526316, 0.228070175438596, 0.228070175438596, 0.228070175438596, 0.232456140350877, 0.236842105263158, 0.236842105263158, 0.236842105263158, 0.236842105263158, 0.236842105263158, 0.236842105263158, 0.236842105263158, 0.241228070175439, 0.241228070175439, 0.245614035087719, 0.245614035087719, 0.245614035087719, 0.25, 0.25, 0.25, 0.254385964912281, 0.254385964912281, 0.258771929824561, 0.263157894736842, 0.263157894736842, 0.263157894736842, 0.267543859649123, 0.267543859649123, 0.271929824561404, 0.276315789473684, 0.276315789473684, 0.276315789473684, 0.276315789473684, 0.280701754385965, 0.280701754385965, 0.285087719298246, 0.285087719298246, 0.289473684210526, 0.289473684210526, 0.293859649122807, 0.293859649122807, 0.293859649122807, 0.293859649122807, 0.293859649122807, 0.298245614035088, 0.298245614035088, 0.302631578947368, 0.302631578947368, 0.302631578947368, 0.302631578947368, 0.302631578947368, 0.307017543859649, 0.307017543859649, 0.307017543859649, 0.31140350877193, 0.31140350877193, 0.315789473684211, 0.315789473684211, 0.315789473684211, 0.320175438596491, 0.320175438596491, 0.324561403508772, 0.324561403508772, 0.324561403508772, 0.328947368421053, 0.333333333333333, 0.333333333333333, 0.333333333333333, 0.337719298245614, 0.337719298245614, 0.337719298245614, 0.337719298245614, 0.337719298245614, 0.337719298245614, 0.342105263157895, 0.342105263157895, 0.342105263157895, 0.342105263157895, 0.346491228070175, 0.346491228070175, 0.346491228070175, 0.346491228070175, 0.350877192982456, 0.350877192982456, 0.355263157894737, 0.355263157894737, 0.359649122807018, 0.364035087719298, 0.368421052631579, 0.37280701754386, 0.37280701754386, 0.37280701754386, 0.37280701754386, 0.37719298245614, 0.37719298245614, 0.37719298245614, 0.37719298245614, 0.37719298245614, 0.37719298245614, 0.37719298245614, 0.37719298245614, 0.37719298245614, 0.381578947368421, 0.385964912280702, 0.385964912280702, 0.385964912280702, 0.390350877192982, 0.390350877192982, 0.394736842105263, 0.394736842105263, 0.399122807017544, 0.403508771929825, 0.403508771929825, 0.403508771929825, 0.403508771929825, 0.403508771929825, 0.407894736842105, 0.407894736842105, 0.412280701754386, 0.412280701754386, 0.412280701754386, 0.416666666666667, 0.416666666666667, 0.421052631578947, 0.425438596491228, 0.429824561403509, 0.429824561403509, 0.429824561403509, 0.434210526315789, 0.434210526315789, 0.43859649122807, 0.442982456140351, 0.442982456140351, 0.447368421052632, 0.447368421052632, 0.447368421052632, 0.447368421052632, 0.447368421052632, 0.447368421052632, 0.447368421052632, 0.447368421052632, 0.447368421052632, 0.447368421052632, 0.451754385964912, 0.451754385964912, 0.456140350877193, 0.456140350877193, 0.456140350877193, 0.456140350877193, 0.460526315789474, 0.460526315789474, 0.460526315789474, 0.460526315789474, 0.460526315789474, 0.460526315789474, 0.460526315789474, 0.464912280701754, 0.464912280701754, 0.464912280701754, 0.464912280701754, 0.464912280701754, 0.469298245614035, 0.469298245614035, 0.469298245614035, 0.473684210526316, 0.473684210526316, 0.478070175438596, 0.478070175438596, 0.482456140350877, 0.482456140350877, 0.482456140350877, 0.482456140350877, 0.482456140350877, 0.486842105263158, 0.486842105263158, 0.486842105263158, 0.486842105263158, 0.486842105263158, 0.486842105263158, 0.486842105263158, 0.486842105263158, 0.486842105263158, 0.491228070175439, 0.491228070175439, 0.495614035087719, 0.5, 0.5, 0.5, 0.5, 0.5, 0.5, 0.5, 0.5, 0.5, 0.504385964912281, 0.508771929824561, 0.508771929824561, 0.508771929824561, 0.508771929824561, 0.513157894736842, 0.517543859649123, 0.521929824561403, 0.521929824561403, 0.526315789473684, 0.530701754385965, 0.530701754385965, 0.535087719298246, 0.535087719298246, 0.539473684210526, 0.539473684210526, 0.543859649122807, 0.548245614035088, 0.548245614035088, 0.548245614035088, 0.548245614035088, 0.552631578947368, 0.552631578947368, 0.552631578947368, 0.552631578947368, 0.552631578947368, 0.552631578947368, 0.552631578947368, 0.552631578947368, 0.552631578947368, 0.557017543859649, 0.56140350877193, 0.56140350877193, 0.56140350877193, 0.565789473684211, 0.570175438596491, 0.574561403508772, 0.574561403508772, 0.578947368421053, 0.578947368421053, 0.578947368421053, 0.578947368421053, 0.583333333333333, 0.583333333333333, 0.583333333333333, 0.583333333333333, 0.583333333333333, 0.583333333333333, 0.583333333333333, 0.583333333333333, 0.587719298245614, 0.592105263157895, 0.592105263157895, 0.592105263157895, 0.592105263157895, 0.592105263157895, 0.592105263157895, 0.596491228070175, 0.596491228070175, 0.596491228070175, 0.596491228070175, 0.596491228070175, 0.596491228070175, 0.596491228070175, 0.596491228070175, 0.596491228070175, 0.600877192982456, 0.600877192982456, 0.600877192982456, 0.600877192982456, 0.605263157894737, 0.605263157894737, 0.605263157894737, 0.609649122807018, 0.609649122807018, 0.609649122807018, 0.609649122807018, 0.609649122807018, 0.614035087719298, 0.618421052631579, 0.62280701754386, 0.62280701754386, 0.62280701754386, 0.62280701754386, 0.62719298245614, 0.62719298245614, 0.62719298245614, 0.62719298245614, 0.62719298245614, 0.62719298245614, 0.62719298245614, 0.631578947368421, 0.631578947368421, 0.635964912280702, 0.635964912280702, 0.635964912280702, 0.635964912280702, 0.635964912280702, 0.635964912280702, 0.635964912280702, 0.640350877192982, 0.640350877192982, 0.644736842105263, 0.644736842105263, 0.644736842105263, 0.644736842105263, 0.644736842105263, 0.644736842105263, 0.644736842105263, 0.644736842105263, 0.644736842105263, 0.644736842105263, 0.644736842105263, 0.644736842105263, 0.644736842105263, 0.644736842105263, 0.649122807017544, 0.653508771929825, 0.653508771929825, 0.653508771929825, 0.653508771929825, 0.653508771929825, 0.653508771929825, 0.653508771929825, 0.653508771929825, 0.657894736842105, 0.662280701754386, 0.662280701754386, 0.662280701754386, 0.666666666666667, 0.666666666666667, 0.666666666666667, 0.671052631578947, 0.671052631578947, 0.671052631578947, 0.671052631578947, 0.671052631578947, 0.671052631578947, 0.675438596491228, 0.679824561403509, 0.684210526315789, 0.684210526315789, 0.684210526315789, 0.684210526315789, 0.68859649122807, 0.68859649122807, 0.692982456140351, 0.692982456140351, 0.692982456140351, 0.692982456140351, 0.692982456140351, 0.692982456140351, 0.697368421052632, 0.701754385964912, 0.701754385964912, 0.701754385964912, 0.701754385964912, 0.701754385964912, 0.706140350877193, 0.706140350877193, 0.706140350877193, 0.710526315789474, 0.710526315789474, 0.710526315789474, 0.710526315789474, 0.710526315789474, 0.710526315789474, 0.714912280701754, 0.714912280701754, 0.719298245614035, 0.723684210526316, 0.728070175438597, 0.728070175438597, 0.728070175438597, 0.732456140350877, 0.736842105263158, 0.736842105263158, 0.736842105263158, 0.736842105263158, 0.741228070175439, 0.741228070175439, 0.741228070175439, 0.741228070175439, 0.741228070175439, 0.741228070175439, 0.741228070175439, 0.741228070175439, 0.741228070175439, 0.745614035087719, 0.745614035087719, 0.75, 0.754385964912281, 0.754385964912281, 0.758771929824561, 0.763157894736842, 0.763157894736842, 0.763157894736842, 0.767543859649123, 0.767543859649123, 0.767543859649123, 0.767543859649123, 0.771929824561403, 0.771929824561403, 0.776315789473684, 0.780701754385965, 0.785087719298246, 0.785087719298246, 0.785087719298246, 0.785087719298246, 0.785087719298246, 0.785087719298246, 0.785087719298246, 0.789473684210526, 0.789473684210526, 0.789473684210526, 0.789473684210526, 0.789473684210526, 0.793859649122807, 0.793859649122807, 0.793859649122807, 0.793859649122807, 0.793859649122807, 0.793859649122807, 0.793859649122807, 0.793859649122807, 0.798245614035088, 0.802631578947368, 0.802631578947368, 0.807017543859649, 0.807017543859649, 0.81140350877193, 0.81140350877193, 0.815789473684211, 0.820175438596491, 0.824561403508772, 0.824561403508772, 0.824561403508772, 0.828947368421053, 0.828947368421053, 0.833333333333333, 0.837719298245614, 0.842105263157895, 0.846491228070175, 0.850877192982456, 0.850877192982456, 0.855263157894737, 0.855263157894737, 0.859649122807018, 0.859649122807018, 0.859649122807018, 0.864035087719298, 0.868421052631579, 0.868421052631579, 0.87280701754386, 0.87719298245614, 0.87719298245614, 0.87719298245614, 0.881578947368421, 0.881578947368421, 0.885964912280702, 0.885964912280702, 0.890350877192982, 0.890350877192982, 0.894736842105263, 0.894736842105263, 0.899122807017544, 0.903508771929825, 0.907894736842105, 0.907894736842105, 0.907894736842105, 0.907894736842105, 0.912280701754386, 0.912280701754386, 0.912280701754386, 0.916666666666667, 0.916666666666667, 0.916666666666667, 0.916666666666667, 0.916666666666667, 0.916666666666667, 0.916666666666667, 0.921052631578947, 0.925438596491228, 0.925438596491228, 0.925438596491228, 0.925438596491228, 0.925438596491228, 0.925438596491228, 0.925438596491228, 0.925438596491228, 0.925438596491228, 0.929824561403509, 0.929824561403509, 0.934210526315789, 0.934210526315789, 0.93859649122807, 0.942982456140351, 0.942982456140351, 0.942982456140351, 0.947368421052632, 0.947368421052632, 0.951754385964912, 0.956140350877193, 0.956140350877193, 0.960526315789474, 0.960526315789474, 0.960526315789474, 0.964912280701754, 0.964912280701754, 0.964912280701754, 0.969298245614035, 0.969298245614035, 0.969298245614035, 0.969298245614035, 0.969298245614035, 0.969298245614035, 0.969298245614035, 0.973684210526316, 0.973684210526316, 0.978070175438597, 0.978070175438597, 0.978070175438597, 0.978070175438597, 0.978070175438597, 0.978070175438597, 0.982456140350877, 0.982456140350877, 0.986842105263158, 0.986842105263158, 0.991228070175439, 0.991228070175439, 0.991228070175439, 0.995614035087719, 0.995614035087719, 0.995614035087719, 0.995614035087719, 0.995614035087719, 0.995614035087719, 0.995614035087719, 0.995614035087719, 0.995614035087719, 1, 1, 1, 1, 1]"
   ]
  },
  {
   "cell_type": "markdown",
   "metadata": {},
   "source": [
    "#### Exact word-matching  - TPR and FPR range (output from external R-script)"
   ]
  },
  {
   "cell_type": "code",
   "execution_count": 34,
   "metadata": {},
   "outputs": [],
   "source": [
    "fpr_ex = [0, 0.0022075055187638, 0.0022075055187638, 0.00441501103752759, 0.00441501103752759, 0.00662251655629139, 0.00662251655629139, 0.00662251655629139, 0.00883002207505519, 0.00883002207505519, 0.00883002207505519, 0.011037527593819, 0.011037527593819, 0.011037527593819, 0.011037527593819, 0.011037527593819, 0.0132450331125828, 0.0132450331125828, 0.0154525386313466, 0.0154525386313466, 0.0176600441501104, 0.0176600441501104, 0.0176600441501104, 0.0176600441501104, 0.0198675496688742, 0.022075055187638, 0.022075055187638, 0.022075055187638, 0.022075055187638, 0.022075055187638, 0.022075055187638, 0.0242825607064018, 0.0242825607064018, 0.0242825607064018, 0.0264900662251656, 0.0286975717439294, 0.0309050772626932, 0.033112582781457, 0.0353200883002208, 0.0375275938189845, 0.0397350993377483, 0.0397350993377483, 0.0397350993377483, 0.0419426048565121, 0.0441501103752759, 0.0463576158940397, 0.0463576158940397, 0.0485651214128035, 0.0485651214128035, 0.0485651214128035, 0.0507726269315673, 0.0529801324503311, 0.0529801324503311, 0.0551876379690949, 0.0573951434878587, 0.0596026490066225, 0.0618101545253863, 0.0640176600441501, 0.0662251655629139, 0.0662251655629139, 0.0662251655629139, 0.0684326710816777, 0.0706401766004415, 0.0728476821192053, 0.0728476821192053, 0.0750551876379691, 0.0750551876379691, 0.0750551876379691, 0.0750551876379691, 0.0750551876379691, 0.0772626931567329, 0.0772626931567329, 0.0772626931567329, 0.0772626931567329, 0.0794701986754967, 0.0816777041942605, 0.0838852097130243, 0.0838852097130243, 0.0838852097130243, 0.0860927152317881, 0.0883002207505519, 0.0883002207505519, 0.0883002207505519, 0.0905077262693157, 0.0905077262693157, 0.0905077262693157, 0.0905077262693157, 0.0927152317880795, 0.0949227373068433, 0.0971302428256071, 0.0971302428256071, 0.0971302428256071, 0.0971302428256071, 0.0993377483443709, 0.101545253863135, 0.101545253863135, 0.101545253863135, 0.101545253863135, 0.101545253863135, 0.101545253863135, 0.101545253863135, 0.101545253863135, 0.103752759381898, 0.103752759381898, 0.105960264900662, 0.108167770419426, 0.11037527593819, 0.11037527593819, 0.112582781456954, 0.112582781456954, 0.114790286975717, 0.114790286975717, 0.114790286975717, 0.116997792494481, 0.116997792494481, 0.119205298013245, 0.121412803532009, 0.123620309050773, 0.123620309050773, 0.125827814569536, 0.125827814569536, 0.125827814569536, 0.1280353200883, 0.130242825607064, 0.130242825607064, 0.132450331125828, 0.132450331125828, 0.132450331125828, 0.134657836644592, 0.134657836644592, 0.136865342163355, 0.139072847682119, 0.139072847682119, 0.141280353200883, 0.143487858719647, 0.145695364238411, 0.145695364238411, 0.147902869757174, 0.147902869757174, 0.150110375275938, 0.150110375275938, 0.150110375275938, 0.150110375275938, 0.152317880794702, 0.152317880794702, 0.152317880794702, 0.152317880794702, 0.154525386313466, 0.154525386313466, 0.15673289183223, 0.158940397350993, 0.158940397350993, 0.161147902869757, 0.163355408388521, 0.163355408388521, 0.165562913907285, 0.167770419426049, 0.169977924944812, 0.172185430463576, 0.17439293598234, 0.176600441501104, 0.176600441501104, 0.176600441501104, 0.178807947019868, 0.178807947019868, 0.178807947019868, 0.181015452538631, 0.181015452538631, 0.183222958057395, 0.183222958057395, 0.185430463576159, 0.187637969094923, 0.187637969094923, 0.187637969094923, 0.187637969094923, 0.187637969094923, 0.187637969094923, 0.189845474613687, 0.189845474613687, 0.19205298013245, 0.19205298013245, 0.194260485651214, 0.196467991169978, 0.198675496688742, 0.198675496688742, 0.200883002207506, 0.200883002207506, 0.200883002207506, 0.203090507726269, 0.205298013245033, 0.207505518763797, 0.209713024282561, 0.211920529801325, 0.211920529801325, 0.211920529801325, 0.214128035320088, 0.216335540838852, 0.218543046357616, 0.218543046357616, 0.22075055187638, 0.222958057395143, 0.225165562913907, 0.227373068432671, 0.229580573951435, 0.229580573951435, 0.229580573951435, 0.231788079470199, 0.231788079470199, 0.233995584988962, 0.236203090507726, 0.23841059602649, 0.23841059602649, 0.23841059602649, 0.240618101545254, 0.240618101545254, 0.242825607064018, 0.245033112582781, 0.245033112582781, 0.247240618101545, 0.247240618101545, 0.247240618101545, 0.249448123620309, 0.251655629139073, 0.251655629139073, 0.253863134657837, 0.253863134657837, 0.253863134657837, 0.2560706401766, 0.2560706401766, 0.258278145695364, 0.258278145695364, 0.258278145695364, 0.258278145695364, 0.260485651214128, 0.260485651214128, 0.260485651214128, 0.260485651214128, 0.262693156732892, 0.262693156732892, 0.264900662251656, 0.264900662251656, 0.264900662251656, 0.267108167770419, 0.269315673289183, 0.269315673289183, 0.271523178807947, 0.273730684326711, 0.273730684326711, 0.275938189845475, 0.278145695364238, 0.278145695364238, 0.278145695364238, 0.280353200883002, 0.280353200883002, 0.280353200883002, 0.280353200883002, 0.280353200883002, 0.280353200883002, 0.280353200883002, 0.282560706401766, 0.282560706401766, 0.282560706401766, 0.28476821192053, 0.286975717439294, 0.289183222958057, 0.291390728476821, 0.291390728476821, 0.293598233995585, 0.295805739514349, 0.295805739514349, 0.295805739514349, 0.295805739514349, 0.295805739514349, 0.295805739514349, 0.295805739514349, 0.298013245033113, 0.300220750551876, 0.300220750551876, 0.30242825607064, 0.30242825607064, 0.304635761589404, 0.304635761589404, 0.304635761589404, 0.304635761589404, 0.304635761589404, 0.304635761589404, 0.306843267108168, 0.309050772626932, 0.309050772626932, 0.311258278145695, 0.313465783664459, 0.315673289183223, 0.317880794701987, 0.320088300220751, 0.320088300220751, 0.322295805739514, 0.322295805739514, 0.322295805739514, 0.324503311258278, 0.324503311258278, 0.326710816777042, 0.326710816777042, 0.326710816777042, 0.328918322295806, 0.328918322295806, 0.328918322295806, 0.328918322295806, 0.328918322295806, 0.328918322295806, 0.328918322295806, 0.328918322295806, 0.328918322295806, 0.328918322295806, 0.328918322295806, 0.328918322295806, 0.328918322295806, 0.33112582781457, 0.33112582781457, 0.333333333333333, 0.335540838852097, 0.335540838852097, 0.335540838852097, 0.335540838852097, 0.337748344370861, 0.339955849889625, 0.339955849889625, 0.339955849889625, 0.339955849889625, 0.342163355408389, 0.344370860927152, 0.344370860927152, 0.344370860927152, 0.346578366445916, 0.34878587196468, 0.350993377483444, 0.350993377483444, 0.353200883002208, 0.353200883002208, 0.353200883002208, 0.353200883002208, 0.353200883002208, 0.353200883002208, 0.355408388520971, 0.355408388520971, 0.355408388520971, 0.357615894039735, 0.357615894039735, 0.357615894039735, 0.357615894039735, 0.357615894039735, 0.359823399558499, 0.359823399558499, 0.359823399558499, 0.359823399558499, 0.362030905077263, 0.362030905077263, 0.364238410596026, 0.36644591611479, 0.36644591611479, 0.36644591611479, 0.36644591611479, 0.368653421633554, 0.368653421633554, 0.370860927152318, 0.373068432671082, 0.375275938189845, 0.377483443708609, 0.379690949227373, 0.379690949227373, 0.379690949227373, 0.381898454746137, 0.381898454746137, 0.381898454746137, 0.384105960264901, 0.386313465783664, 0.386313465783664, 0.386313465783664, 0.386313465783664, 0.386313465783664, 0.386313465783664, 0.388520971302428, 0.390728476821192, 0.392935982339956, 0.392935982339956, 0.392935982339956, 0.392935982339956, 0.39514348785872, 0.397350993377483, 0.399558498896247, 0.399558498896247, 0.399558498896247, 0.401766004415011, 0.403973509933775, 0.403973509933775, 0.406181015452539, 0.408388520971302, 0.408388520971302, 0.410596026490066, 0.41280353200883, 0.415011037527594, 0.415011037527594, 0.415011037527594, 0.415011037527594, 0.417218543046358, 0.417218543046358, 0.417218543046358, 0.419426048565121, 0.419426048565121, 0.419426048565121, 0.419426048565121, 0.421633554083885, 0.423841059602649, 0.426048565121413, 0.426048565121413, 0.426048565121413, 0.428256070640177, 0.43046357615894, 0.432671081677704, 0.434878587196468, 0.437086092715232, 0.439293598233996, 0.441501103752759, 0.443708609271523, 0.445916114790287, 0.448123620309051, 0.450331125827815, 0.452538631346578, 0.454746136865342, 0.456953642384106, 0.45916114790287, 0.461368653421634, 0.463576158940397, 0.465783664459161, 0.467991169977925, 0.470198675496689, 0.472406181015453, 0.474613686534216, 0.47682119205298, 0.479028697571744, 0.481236203090508, 0.483443708609272, 0.485651214128035, 0.487858719646799, 0.490066225165563, 0.492273730684327, 0.494481236203091, 0.494481236203091, 0.496688741721854, 0.498896247240618, 0.501103752759382, 0.503311258278146, 0.50551876379691, 0.507726269315673, 0.509933774834437, 0.512141280353201, 0.514348785871965, 0.516556291390728, 0.518763796909492, 0.520971302428256, 0.52317880794702, 0.525386313465784, 0.527593818984547, 0.529801324503311, 0.532008830022075, 0.534216335540839, 0.536423841059603, 0.538631346578366, 0.54083885209713, 0.543046357615894, 0.545253863134658, 0.547461368653422, 0.549668874172185, 0.551876379690949, 0.554083885209713, 0.556291390728477, 0.558498896247241, 0.560706401766004, 0.562913907284768, 0.565121412803532, 0.567328918322296, 0.56953642384106, 0.571743929359823, 0.571743929359823, 0.573951434878587, 0.576158940397351, 0.578366445916115, 0.580573951434879, 0.582781456953642, 0.584988962472406, 0.58719646799117, 0.589403973509934, 0.591611479028698, 0.593818984547461, 0.596026490066225, 0.598233995584989, 0.600441501103753, 0.602649006622517, 0.60485651214128, 0.607064017660044, 0.609271523178808, 0.611479028697572, 0.613686534216336, 0.615894039735099, 0.618101545253863, 0.620309050772627, 0.622516556291391, 0.624724061810154, 0.626931567328918, 0.629139072847682, 0.631346578366446, 0.63355408388521, 0.635761589403974, 0.637969094922737, 0.640176600441501, 0.642384105960265, 0.644591611479029, 0.646799116997792, 0.649006622516556, 0.65121412803532, 0.653421633554084, 0.655629139072848, 0.657836644591612, 0.660044150110375, 0.662251655629139, 0.664459161147903, 0.666666666666667, 0.66887417218543, 0.671081677704194, 0.673289183222958, 0.675496688741722, 0.677704194260486, 0.679911699779249, 0.682119205298013, 0.684326710816777, 0.686534216335541, 0.688741721854305, 0.690949227373068, 0.693156732891832, 0.695364238410596, 0.69757174392936, 0.699779249448124, 0.701986754966887, 0.704194260485651, 0.706401766004415, 0.708609271523179, 0.710816777041943, 0.713024282560706, 0.71523178807947, 0.717439293598234, 0.719646799116998, 0.721854304635762, 0.724061810154525, 0.726269315673289, 0.728476821192053, 0.730684326710817, 0.732891832229581, 0.735099337748344, 0.737306843267108, 0.739514348785872, 0.741721854304636, 0.7439293598234, 0.746136865342163, 0.748344370860927, 0.750551876379691, 0.752759381898455, 0.754966887417219, 0.754966887417219, 0.757174392935982, 0.759381898454746, 0.76158940397351, 0.763796909492274, 0.766004415011038, 0.768211920529801, 0.770419426048565, 0.772626931567329, 0.774834437086093, 0.777041942604856, 0.77924944812362, 0.781456953642384, 0.783664459161148, 0.785871964679912, 0.788079470198676, 0.790286975717439, 0.792494481236203, 0.794701986754967, 0.796909492273731, 0.799116997792494, 0.801324503311258, 0.803532008830022, 0.805739514348786, 0.80794701986755, 0.810154525386313, 0.812362030905077, 0.814569536423841, 0.816777041942605, 0.818984547461369, 0.821192052980132, 0.823399558498896, 0.82560706401766, 0.827814569536424, 0.830022075055188, 0.832229580573951, 0.834437086092715, 0.836644591611479, 0.838852097130243, 0.841059602649007, 0.84326710816777, 0.845474613686534, 0.847682119205298, 0.849889624724062, 0.852097130242826, 0.854304635761589, 0.856512141280353, 0.858719646799117, 0.860927152317881, 0.863134657836645, 0.865342163355408, 0.867549668874172, 0.869757174392936, 0.8719646799117, 0.874172185430464, 0.876379690949227, 0.878587196467991, 0.878587196467991, 0.878587196467991, 0.880794701986755, 0.883002207505519, 0.885209713024283, 0.887417218543046, 0.88962472406181, 0.891832229580574, 0.894039735099338, 0.896247240618102, 0.898454746136865, 0.900662251655629, 0.902869757174393, 0.905077262693157, 0.907284768211921, 0.909492273730684, 0.911699779249448, 0.913907284768212, 0.916114790286976, 0.91832229580574, 0.920529801324503, 0.922737306843267, 0.924944812362031, 0.927152317880795, 0.929359823399558, 0.931567328918322, 0.933774834437086, 0.933774834437086, 0.93598233995585, 0.938189845474614, 0.940397350993378, 0.942604856512141, 0.944812362030905, 0.947019867549669, 0.949227373068433, 0.951434878587196, 0.95364238410596, 0.955849889624724, 0.958057395143488, 0.960264900662252, 0.962472406181015, 0.964679911699779, 0.966887417218543, 0.969094922737307, 0.971302428256071, 0.973509933774834, 0.975717439293598, 0.977924944812362, 0.980132450331126, 0.98233995584989, 0.984547461368653, 0.986754966887417, 0.988962472406181, 0.991169977924945, 0.993377483443709, 0.995584988962472, 0.995584988962472, 0.997792494481236, 1]\n",
    "tpr_ex = [0, 0, 0.0043859649122807, 0.0043859649122807, 0.0087719298245614, 0.0087719298245614, 0.0131578947368421, 0.0175438596491228, 0.0175438596491228, 0.0219298245614035, 0.0263157894736842, 0.0263157894736842, 0.0307017543859649, 0.0350877192982456, 0.0394736842105263, 0.043859649122807, 0.043859649122807, 0.0482456140350877, 0.0482456140350877, 0.0526315789473684, 0.0526315789473684, 0.0570175438596491, 0.0614035087719298, 0.0657894736842105, 0.0657894736842105, 0.0657894736842105, 0.0701754385964912, 0.0745614035087719, 0.0789473684210526, 0.0833333333333333, 0.087719298245614, 0.087719298245614, 0.0921052631578947, 0.0964912280701754, 0.0964912280701754, 0.0964912280701754, 0.0964912280701754, 0.0964912280701754, 0.0964912280701754, 0.0964912280701754, 0.0964912280701754, 0.100877192982456, 0.105263157894737, 0.105263157894737, 0.105263157894737, 0.105263157894737, 0.109649122807018, 0.109649122807018, 0.114035087719298, 0.118421052631579, 0.118421052631579, 0.118421052631579, 0.12280701754386, 0.12280701754386, 0.12280701754386, 0.12280701754386, 0.12280701754386, 0.12280701754386, 0.12280701754386, 0.12719298245614, 0.131578947368421, 0.131578947368421, 0.131578947368421, 0.131578947368421, 0.135964912280702, 0.135964912280702, 0.140350877192982, 0.144736842105263, 0.149122807017544, 0.153508771929825, 0.153508771929825, 0.157894736842105, 0.162280701754386, 0.166666666666667, 0.166666666666667, 0.166666666666667, 0.166666666666667, 0.171052631578947, 0.175438596491228, 0.175438596491228, 0.175438596491228, 0.179824561403509, 0.184210526315789, 0.184210526315789, 0.18859649122807, 0.192982456140351, 0.197368421052632, 0.197368421052632, 0.197368421052632, 0.197368421052632, 0.201754385964912, 0.206140350877193, 0.210526315789474, 0.210526315789474, 0.210526315789474, 0.214912280701754, 0.219298245614035, 0.223684210526316, 0.228070175438596, 0.232456140350877, 0.236842105263158, 0.241228070175439, 0.241228070175439, 0.245614035087719, 0.245614035087719, 0.245614035087719, 0.245614035087719, 0.25, 0.25, 0.254385964912281, 0.254385964912281, 0.258771929824561, 0.263157894736842, 0.263157894736842, 0.267543859649123, 0.267543859649123, 0.267543859649123, 0.267543859649123, 0.271929824561404, 0.271929824561404, 0.276315789473684, 0.280701754385965, 0.280701754385965, 0.280701754385965, 0.285087719298246, 0.285087719298246, 0.289473684210526, 0.293859649122807, 0.293859649122807, 0.298245614035088, 0.298245614035088, 0.298245614035088, 0.302631578947368, 0.302631578947368, 0.302631578947368, 0.302631578947368, 0.307017543859649, 0.307017543859649, 0.31140350877193, 0.31140350877193, 0.315789473684211, 0.320175438596491, 0.324561403508772, 0.324561403508772, 0.328947368421053, 0.333333333333333, 0.337719298245614, 0.337719298245614, 0.342105263157895, 0.342105263157895, 0.342105263157895, 0.346491228070175, 0.346491228070175, 0.346491228070175, 0.350877192982456, 0.350877192982456, 0.350877192982456, 0.350877192982456, 0.350877192982456, 0.350877192982456, 0.350877192982456, 0.355263157894737, 0.359649122807018, 0.359649122807018, 0.364035087719298, 0.368421052631579, 0.368421052631579, 0.37280701754386, 0.37280701754386, 0.37719298245614, 0.37719298245614, 0.37719298245614, 0.381578947368421, 0.385964912280702, 0.390350877192982, 0.394736842105263, 0.399122807017544, 0.399122807017544, 0.403508771929825, 0.403508771929825, 0.407894736842105, 0.407894736842105, 0.407894736842105, 0.407894736842105, 0.412280701754386, 0.412280701754386, 0.416666666666667, 0.421052631578947, 0.421052631578947, 0.421052631578947, 0.421052631578947, 0.421052631578947, 0.421052631578947, 0.425438596491228, 0.429824561403509, 0.429824561403509, 0.429824561403509, 0.429824561403509, 0.434210526315789, 0.434210526315789, 0.434210526315789, 0.434210526315789, 0.434210526315789, 0.434210526315789, 0.43859649122807, 0.442982456140351, 0.442982456140351, 0.447368421052632, 0.447368421052632, 0.447368421052632, 0.447368421052632, 0.451754385964912, 0.456140350877193, 0.456140350877193, 0.460526315789474, 0.460526315789474, 0.460526315789474, 0.464912280701754, 0.464912280701754, 0.469298245614035, 0.473684210526316, 0.473684210526316, 0.473684210526316, 0.478070175438596, 0.478070175438596, 0.482456140350877, 0.486842105263158, 0.486842105263158, 0.491228070175439, 0.491228070175439, 0.495614035087719, 0.5, 0.504385964912281, 0.504385964912281, 0.508771929824561, 0.513157894736842, 0.517543859649123, 0.517543859649123, 0.521929824561403, 0.521929824561403, 0.526315789473684, 0.530701754385965, 0.530701754385965, 0.530701754385965, 0.535087719298246, 0.535087719298246, 0.535087719298246, 0.539473684210526, 0.539473684210526, 0.539473684210526, 0.543859649122807, 0.548245614035088, 0.548245614035088, 0.552631578947368, 0.557017543859649, 0.56140350877193, 0.565789473684211, 0.570175438596491, 0.574561403508772, 0.574561403508772, 0.578947368421053, 0.583333333333333, 0.583333333333333, 0.583333333333333, 0.583333333333333, 0.583333333333333, 0.587719298245614, 0.587719298245614, 0.587719298245614, 0.592105263157895, 0.596491228070175, 0.600877192982456, 0.605263157894737, 0.609649122807018, 0.614035087719298, 0.614035087719298, 0.614035087719298, 0.618421052631579, 0.618421052631579, 0.62280701754386, 0.62280701754386, 0.62719298245614, 0.631578947368421, 0.635964912280702, 0.640350877192982, 0.644736842105263, 0.644736842105263, 0.644736842105263, 0.649122807017544, 0.649122807017544, 0.649122807017544, 0.649122807017544, 0.649122807017544, 0.649122807017544, 0.653508771929825, 0.653508771929825, 0.657894736842105, 0.662280701754386, 0.662280701754386, 0.666666666666667, 0.666666666666667, 0.671052631578947, 0.675438596491228, 0.675438596491228, 0.679824561403509, 0.684210526315789, 0.68859649122807, 0.692982456140351, 0.697368421052632, 0.701754385964912, 0.706140350877193, 0.710526315789474, 0.714912280701754, 0.719298245614035, 0.723684210526316, 0.728070175438597, 0.728070175438597, 0.732456140350877, 0.732456140350877, 0.732456140350877, 0.736842105263158, 0.741228070175439, 0.745614035087719, 0.745614035087719, 0.745614035087719, 0.75, 0.754385964912281, 0.758771929824561, 0.758771929824561, 0.758771929824561, 0.763157894736842, 0.767543859649123, 0.767543859649123, 0.767543859649123, 0.767543859649123, 0.771929824561403, 0.771929824561403, 0.776315789473684, 0.780701754385965, 0.785087719298246, 0.789473684210526, 0.793859649122807, 0.793859649122807, 0.798245614035088, 0.802631578947368, 0.802631578947368, 0.807017543859649, 0.81140350877193, 0.815789473684211, 0.820175438596491, 0.820175438596491, 0.824561403508772, 0.828947368421053, 0.833333333333333, 0.833333333333333, 0.837719298245614, 0.837719298245614, 0.837719298245614, 0.842105263157895, 0.846491228070175, 0.850877192982456, 0.850877192982456, 0.855263157894737, 0.855263157894737, 0.855263157894737, 0.855263157894737, 0.855263157894737, 0.855263157894737, 0.859649122807018, 0.864035087719298, 0.864035087719298, 0.868421052631579, 0.87280701754386, 0.87280701754386, 0.87280701754386, 0.87719298245614, 0.881578947368421, 0.885964912280702, 0.890350877192982, 0.894736842105263, 0.894736842105263, 0.894736842105263, 0.894736842105263, 0.899122807017544, 0.903508771929825, 0.907894736842105, 0.907894736842105, 0.907894736842105, 0.907894736842105, 0.912280701754386, 0.916666666666667, 0.916666666666667, 0.916666666666667, 0.921052631578947, 0.921052631578947, 0.921052631578947, 0.925438596491228, 0.925438596491228, 0.925438596491228, 0.925438596491228, 0.929824561403509, 0.934210526315789, 0.93859649122807, 0.93859649122807, 0.942982456140351, 0.947368421052632, 0.947368421052632, 0.951754385964912, 0.956140350877193, 0.960526315789474, 0.960526315789474, 0.960526315789474, 0.960526315789474, 0.964912280701754, 0.969298245614035, 0.969298245614035, 0.969298245614035, 0.969298245614035, 0.969298245614035, 0.969298245614035, 0.969298245614035, 0.969298245614035, 0.969298245614035, 0.969298245614035, 0.969298245614035, 0.969298245614035, 0.969298245614035, 0.969298245614035, 0.969298245614035, 0.969298245614035, 0.969298245614035, 0.969298245614035, 0.969298245614035, 0.969298245614035, 0.969298245614035, 0.969298245614035, 0.969298245614035, 0.969298245614035, 0.969298245614035, 0.969298245614035, 0.969298245614035, 0.969298245614035, 0.969298245614035, 0.969298245614035, 0.969298245614035, 0.969298245614035, 0.973684210526316, 0.973684210526316, 0.973684210526316, 0.973684210526316, 0.973684210526316, 0.973684210526316, 0.973684210526316, 0.973684210526316, 0.973684210526316, 0.973684210526316, 0.973684210526316, 0.973684210526316, 0.973684210526316, 0.973684210526316, 0.973684210526316, 0.973684210526316, 0.973684210526316, 0.973684210526316, 0.973684210526316, 0.973684210526316, 0.973684210526316, 0.973684210526316, 0.973684210526316, 0.973684210526316, 0.973684210526316, 0.973684210526316, 0.973684210526316, 0.973684210526316, 0.973684210526316, 0.973684210526316, 0.973684210526316, 0.973684210526316, 0.973684210526316, 0.973684210526316, 0.973684210526316, 0.973684210526316, 0.978070175438597, 0.978070175438597, 0.978070175438597, 0.978070175438597, 0.978070175438597, 0.978070175438597, 0.978070175438597, 0.978070175438597, 0.978070175438597, 0.978070175438597, 0.978070175438597, 0.978070175438597, 0.978070175438597, 0.978070175438597, 0.978070175438597, 0.978070175438597, 0.978070175438597, 0.978070175438597, 0.978070175438597, 0.978070175438597, 0.978070175438597, 0.978070175438597, 0.978070175438597, 0.978070175438597, 0.978070175438597, 0.978070175438597, 0.978070175438597, 0.978070175438597, 0.978070175438597, 0.978070175438597, 0.978070175438597, 0.978070175438597, 0.978070175438597, 0.978070175438597, 0.978070175438597, 0.978070175438597, 0.978070175438597, 0.978070175438597, 0.978070175438597, 0.978070175438597, 0.978070175438597, 0.978070175438597, 0.978070175438597, 0.978070175438597, 0.978070175438597, 0.978070175438597, 0.978070175438597, 0.978070175438597, 0.978070175438597, 0.978070175438597, 0.978070175438597, 0.978070175438597, 0.978070175438597, 0.978070175438597, 0.978070175438597, 0.978070175438597, 0.978070175438597, 0.978070175438597, 0.978070175438597, 0.978070175438597, 0.978070175438597, 0.978070175438597, 0.978070175438597, 0.978070175438597, 0.978070175438597, 0.978070175438597, 0.978070175438597, 0.978070175438597, 0.978070175438597, 0.978070175438597, 0.978070175438597, 0.978070175438597, 0.978070175438597, 0.978070175438597, 0.978070175438597, 0.978070175438597, 0.978070175438597, 0.978070175438597, 0.978070175438597, 0.978070175438597, 0.978070175438597, 0.978070175438597, 0.978070175438597, 0.978070175438597, 0.982456140350877, 0.982456140350877, 0.982456140350877, 0.982456140350877, 0.982456140350877, 0.982456140350877, 0.982456140350877, 0.982456140350877, 0.982456140350877, 0.982456140350877, 0.982456140350877, 0.982456140350877, 0.982456140350877, 0.982456140350877, 0.982456140350877, 0.982456140350877, 0.982456140350877, 0.982456140350877, 0.982456140350877, 0.982456140350877, 0.982456140350877, 0.982456140350877, 0.982456140350877, 0.982456140350877, 0.982456140350877, 0.982456140350877, 0.982456140350877, 0.982456140350877, 0.982456140350877, 0.982456140350877, 0.982456140350877, 0.982456140350877, 0.982456140350877, 0.982456140350877, 0.982456140350877, 0.982456140350877, 0.982456140350877, 0.982456140350877, 0.982456140350877, 0.982456140350877, 0.982456140350877, 0.982456140350877, 0.982456140350877, 0.982456140350877, 0.982456140350877, 0.982456140350877, 0.982456140350877, 0.982456140350877, 0.982456140350877, 0.982456140350877, 0.982456140350877, 0.982456140350877, 0.982456140350877, 0.982456140350877, 0.982456140350877, 0.982456140350877, 0.982456140350877, 0.986842105263158, 0.991228070175439, 0.991228070175439, 0.991228070175439, 0.991228070175439, 0.991228070175439, 0.991228070175439, 0.991228070175439, 0.991228070175439, 0.991228070175439, 0.991228070175439, 0.991228070175439, 0.991228070175439, 0.991228070175439, 0.991228070175439, 0.991228070175439, 0.991228070175439, 0.991228070175439, 0.991228070175439, 0.991228070175439, 0.991228070175439, 0.991228070175439, 0.991228070175439, 0.991228070175439, 0.991228070175439, 0.991228070175439, 0.991228070175439, 0.995614035087719, 0.995614035087719, 0.995614035087719, 0.995614035087719, 0.995614035087719, 0.995614035087719, 0.995614035087719, 0.995614035087719, 0.995614035087719, 0.995614035087719, 0.995614035087719, 0.995614035087719, 0.995614035087719, 0.995614035087719, 0.995614035087719, 0.995614035087719, 0.995614035087719, 0.995614035087719, 0.995614035087719, 0.995614035087719, 0.995614035087719, 0.995614035087719, 0.995614035087719, 0.995614035087719, 0.995614035087719, 0.995614035087719, 0.995614035087719, 0.995614035087719, 0.995614035087719, 1, 1, 1]"
   ]
  },
  {
   "cell_type": "markdown",
   "metadata": {},
   "source": [
    "#### Required function for ROC-plot visualisation "
   ]
  },
  {
   "cell_type": "code",
   "execution_count": 25,
   "metadata": {},
   "outputs": [],
   "source": [
    "def plot_multi_roc(models, title, lbls, X_train, X_test, y_train, y_test):\n",
    "    \"\"\" \n",
    "    models = list of Pipelines (sklearn)\n",
    "    \"\"\"\n",
    "    lw=3\n",
    "    colors = ['c', 'b', 'g', 'm', 'c']\n",
    "    plt.rcParams.update({'font.size': 15})\n",
    "    for x in range(len(models)):\n",
    "        estimator = models[x].fit(X_train, y_train)\n",
    "        pred = estimator.predict_proba(X_test)[:,1]\n",
    "        y_b = y_test.copy()\n",
    "        for i in range(len(y_test)): # MAKE BINARY (y = 1, n = 0)\n",
    "            y_b[i] = int(y_b[i] == 'y')\n",
    "        fpr, tpr, threshold = metrics.roc_curve(list(y_b), list(pred), pos_label=1)\n",
    "        auc = np.trapz(tpr,fpr)\n",
    "        i = np.arange(len(tpr)) # index for df\n",
    "        plt.plot(fpr, tpr, colors[x], lw=lw, label = lbls[x] + ' (AUC = %0.2f)' % (auc))\n",
    "    plt.xlim([0, 1])\n",
    "    plt.ylim([0, 1])\n",
    "    plt.legend(loc = 'lower right')\n",
    "    plt.ylabel('Sensitivity (TPR)')\n",
    "    plt.xlabel('1 - Specificity (FPR)')\n",
    "    plt.title(title)\n",
    "    plt.rcParams.update({'font.size': 20})\n",
    "    return plt\n",
    "\n",
    "def append_roc_curve(title, lbl, fpr, tpr, plt, clr='darkorange'):\n",
    "    \"\"\"\n",
    "    Append ROC curve to plot\n",
    "    \n",
    "    title : title of the plot\n",
    "    tpr : array consisting of true positive rate fractions\n",
    "    fpr : array consisting of false positive rate fractions\n",
    "    lbl : label\n",
    "    plt : pre-existing plot\n",
    "    pred : predictions made by the estimator\n",
    "    \"\"\"\n",
    "    roc_auc = np.trapz(tpr,fpr)\n",
    "    lw = 3\n",
    "    plt.plot(fpr, tpr, color=clr,\n",
    "             lw=lw, label=lbl + ' (AUC = %0.2f)' % roc_auc)\n",
    "    plt.xlim([0.0, 1.0])\n",
    "    plt.ylim([0.0, 1.05])\n",
    "    plt.ylabel('Sensitiviteit (TPR)')\n",
    "    plt.xlabel('1 - Specificiteit (FPR)')\n",
    "    plt.title('Receiver operating characteristic example')\n",
    "    plt.legend(loc=\"lower right\")\n",
    "    return plt\n",
    "\n",
    "\n",
    "\n"
   ]
  },
  {
   "cell_type": "code",
   "execution_count": 35,
   "metadata": {},
   "outputs": [
    {
     "data": {
      "image/png": "[encoded data removed]",
      "text/plain": [
       "<Figure size 864x864 with 1 Axes>"
      ]
     },
     "metadata": {},
     "output_type": "display_data"
    }
   ],
   "source": [
    "lbls = ['Naive Bayes', 'Gradient Boosting', 'Neural Networks', 'SVM']\n",
    "plt.rcParams.update({'font.size': 20})\n",
    "\n",
    "filtered_pipe = pipe_list[:3] + pipe_list[4:5]\n",
    "\n",
    "# Rule Based ->  binarized first (y -> 0; n -> 1)\n",
    "def binarize(value):\n",
    "    return int(value != 'y')\n",
    "if 'y' in list(df_predict['Outcome'].unique()):\n",
    "    df_predict['Outcome'] = df_predict['Outcome'].apply(lambda x : binarize(x)) \n",
    "\n",
    "plt.figure(figsize=(12,12))\n",
    "append_roc_curve('ROC curve for different classification methods', 'Exact word-matching', fpr_ex, tpr_ex, plt, 'r')\n",
    "\n",
    "append_roc_curve('ROC curve for different classification methods', 'Decision Tree', fpr_dt, tpr_dt, plt, 'y')\n",
    "\n",
    "#vis.append_roc_curve('ROC curve for different classification methods', 'Rule based', fpr, tpr, plt)\n",
    "# ML methods\n",
    "plt = plot_multi_roc(filtered_pipe[:5],'ROC curve for different classification methods', lbls, X_train, X_test, y_train, y_test)\n",
    "\n"
   ]
  },
  {
   "cell_type": "markdown",
   "metadata": {},
   "source": [
    "### Write predictions rule based to csv file"
   ]
  },
  {
   "cell_type": "code",
   "execution_count": 34,
   "metadata": {},
   "outputs": [],
   "source": [
    "def binarize(value):\n",
    "    if (value): \n",
    "        return 'n'\n",
    "    else :\n",
    "        return 'y'\n",
    "\n",
    "    \n",
    "df_predict = df_predict.assign(TRUE=df_predict['RA'])\n",
    "df_predict['TRUE'] = df_predict['TRUE'].apply(lambda x: binarize(x))\n",
    "df_predict = df_predict.assign(PRED=df_predict['PRED_PROBA'])\n",
    "\n",
    "df_predict[['TRUE', 'PRED']].to_csv(r'../output_files/predictions/pred' + 'RuleBased' + '.csv', sep='|', index=False)"
   ]
  },
  {
   "cell_type": "markdown",
   "metadata": {},
   "source": [
    "### Measure time performance\n",
    "tp_list = time point list (necessary for calculating the standard deviation)"
   ]
  },
  {
   "cell_type": "code",
   "execution_count": 103,
   "metadata": {},
   "outputs": [
    {
     "name": "stdout",
     "output_type": "stream",
     "text": [
      "Training Time (Mean of 100 iterations):\n",
      "\n",
      "Naive Bayes  : 0.02 seconds \tSTD: 0.00\n",
      "Gradient Boosting  : 0.40 seconds \tSTD: 0.01\n",
      "Neural Networks  : 6.54 seconds \tSTD: 0.55\n",
      "Decision Tree  : 0.03 seconds \tSTD: 0.00\n",
      "SVM  : 0.21 seconds \tSTD: 0.00\n",
      "\n",
      "Testing Time (Mean of 100 iterations):\n",
      "\n",
      "Naive Bayes  : 0.01 seconds \tSTD: 0.00\n",
      "Gradient Boosting  : 0.01 seconds \tSTD: 0.00\n",
      "Neural Networks  : 0.04 seconds \tSTD: 0.01\n",
      "Decision Tree  : 0.01 seconds \tSTD: 0.00\n",
      "SVM  : 0.05 seconds \tSTD: 0.00\n",
      "Rule based  : 2.57 seconds \tSTD: 0.03\n"
     ]
    }
   ],
   "source": [
    "import time\n",
    "import statistics\n",
    "\n",
    "print('Training Time (Mean of 100 iterations):\\n')\n",
    "lbls = ['Naive Bayes', 'Gradient Boosting', 'Neural Networks', 'Decision Tree', 'SVM', 'Rule based']\n",
    "tot_it = 100\n",
    "\n",
    "for x in range(len(lbls)-1): # all methods except for rule based are fitted\n",
    "    tp_list = []\n",
    "    t0 = time.time()\n",
    "    for y in range(tot_it):\n",
    "        t2 = time.time()\n",
    "        pipe_list[x].fit(X_train, y_train)\n",
    "        tp_list.append(time.time() - t2) \n",
    "    t1 = time.time()\n",
    "    total = t1-t0\n",
    "    print(lbls[x], ' : %0.2f seconds' % (total/tot_it), '\\tSTD: %0.2f' % statistics.stdev(tp_list))\n",
    "    \n",
    "print('\\nTesting Time (Mean of 100 iterations):\\n')\n",
    "for x in range(len(lbls)):\n",
    "    tp_list = []\n",
    "    t0 = time.time()\n",
    "    for y in range(tot_it):\n",
    "        t2 = time.time()\n",
    "        if x == len(lbls)-1: # equal to rule based\n",
    "            cop.predict()\n",
    "        else :\n",
    "            pipe_list[x].predict_proba(X_test)[:,1]\n",
    "        tp_list.append(time.time() - t2) \n",
    "    t1 = time.time()\n",
    "    total = t1-t0\n",
    "    print(lbls[x], ' : %0.2f seconds' % (total/tot_it), '\\tSTD: %0.2f' % statistics.stdev(tp_list))\n"
   ]
  },
  {
   "cell_type": "markdown",
   "metadata": {},
   "source": [
    "## Incorrect predictions"
   ]
  },
  {
   "cell_type": "code",
   "execution_count": 61,
   "metadata": {},
   "outputs": [
    {
     "name": "stdout",
     "output_type": "stream",
     "text": [
      "\" patiente bekend met artroos thans met toenemen pijn en zwelling van handgewricht en knie seronegatief dd artroos ra \"\n",
      "\n",
      " has been classified as  y and should be  n \n",
      "\n",
      "\" vrouw jaar ^ acpa rf non erosief ua wv inclusie improved ^ x h v cf eerder geen erosie ^ huidig med geen dmard \"\n",
      "\n",
      " has been classified as  y and should be  n \n",
      "\n",
      "\" polyartritis bij sl of toch seronegatief ra wel mtx adalimumab cellceppen aza leflu ritux krijgen aug en sep geen baat plaq mg dd verlagen ivm geen baat en wel risico  nu naar mg ^ verder toenemen duizeligheid en misselijkheid leflunomien ook verlagen naar d mg \"\n",
      "\n",
      " has been classified as  y and should be  n \n",
      "\n",
      "\" acpa rf artralgie ^ handartroos \"\n",
      "\n",
      " has been classified as  y and should be  n \n",
      "\n",
      "\" sjogr erosief ra wv hcq vanwege intolerantie meerdere dmard na recente opvlamming met artritis mcp zonder progressie van schade nu weer anamnestisch klachtenvrij wat betreffen artritis \"\n",
      "\n",
      " has been classified as  y and should be  n \n",
      "\n",
      "\" jarig man met ^ reumatoid artritis klinisch rustig na depomdrol i m nu opstart methotrexaat mg week ^ falen op dmard mtx ivm gasto intestinaal bijwerking lef ivm interstitieel longafwijking ssa ivm ineffectiviteit ^ positief mantoux en quantiferon test wv nu antibiotica voorlopig geen start biological ^ status na interstitieel longafwijking allergisch alveolitis mogelijk drug induced bij arava bij staken sinds april ^ multi co morbiditeit zien vg ^ analyse erectieprobleem door uroloog seksuoloog wv verwijzing \"\n",
      "\n",
      " has been classified as  n and should be  y \n",
      "\n",
      "\" rf po acpa po monoartritis met nu anamnestisch polyartritis \"\n",
      "\n",
      " has been classified as  y and should be  n \n",
      "\n",
      "\" rf positieve anti ccp negatief anf positieve anti dna negatieve anti ena negatief non erosief polyartritis waarschijnlijk rf positief ra waarvoor prednison en hcq geen andere dmard ivm en goed respon thans in remissie ^ transiente leverenzymstoornis viraal hepatitis reeds uitgesloot waarvoor biopen verrichten geen specifiek kenmerken dd tgv nsaid \"\n",
      "\n",
      " has been classified as  y and should be  n \n",
      "\n",
      "\" anticcp oligoartritis ra wv mtx mg remissie sinds \"\n",
      "\n",
      " has been classified as  y and should be  n \n",
      "\n",
      "\" tintelend gevoel been met locaal drukpijn dd wervelinzakking maligniteit imponeren als neurologisch zien kpr afwijken ^ geen artritis geen verdenking recidief seronegatief ra ^ dikker knie dd artroos ^ bewegingsbeperking heup dd artroos nd artritis m bechterew zien leeftijd en houding onwaarschijnlijk \"\n",
      "\n",
      " has been classified as  y and should be  n \n",
      "\n",
      "\" koorts misselijkheid braken en diarrhee onder enbrel mtx plaquenil dd meest wrsch infectieus viraal ssyc clostridium ^ nierinsufficientie dd prerenaal bij braken diarrhee contrast nefropathie bij diclophenac toch glomerulonefritis ^ op ct thorax noduli pulmonaal dd bij ra toch maligne infectieus sarcoidoos ^ stijging leverchemie dd hepatitis medicamenteus cholestaas geen aanwijzing op echo abdoom \"\n",
      "\n",
      " has been classified as  y and should be  n \n",
      "\n",
      "\" spier en gewrichtsklacht sinds enkele maand bij lo symmetrishe polyartritis dd ra \"\n",
      "\n",
      " has been classified as  y and should be  n \n",
      "\n",
      "\" mogelijk dus toch artritis met bursitis rechter schouder in al fors aangedaneen schouder met peesruptuur ^ wellicht door synoviaal woekering tijdelijk afvloedbelemmering wezen ^ ^ huidbeeld schouder pa rijnland erythema elevatum diutinum kunnen passen bij extra articulair manifestatie van ra soort vasculitis \"\n",
      "\n",
      " has been classified as  y and should be  n \n",
      "\n",
      "\" reuma rustig \"\n",
      "\n",
      " has been classified as  n and should be  y \n",
      "\n",
      "\" artritis rechter knie en linker pols aanvankelijk verdenken voor septisch artritis echter kweken negatief geen koorts en geen herstel onder antibiotica daarom staken nu dd kristal artritis flaar ra lijken onwaarschijnlijk bij voorheen relatief mild seronegatief ziektebeeld ^ hevig rugpijn met aankleuring facetgewricht op mri dd septisch kristal zijn beschrijven autoimmuun ^ leukocyturie en bacteriurie totnutoe duiden als verontreiniging \"\n",
      "\n",
      " has been classified as  y and should be  n \n",
      "\n",
      "\" al langer bestanen extensie beperking dig tm rechts nu met verdenking enig artritis vannen deze pip gewrihcen en tevens artrtis mcp rechts patient vinden het echter stabiel en geven geen pijn aan ^ dd actief ra ^ artroos ^ diabetisch cheiroartropathie \"\n",
      "\n",
      " has been classified as  y and should be  n \n",
      "\n",
      "\" artriutis rechter knie dd oa autoimmuun in kader van sl minder wrsch ra kristalartropathie dd surmenage ^ sl mctd lijken verder rustig echter lab en urine volgen og ^ dubieus therapie trouw ^ nog geen npsl zorgpad gestart vraag ana vp om contact op te nemen met pte \"\n",
      "\n",
      " has been classified as  y and should be  n \n",
      "\n",
      "\" rf positieve anti ccp positief erosief oligoartritis ra sinds wrvr sasp thans pols klacht rechts verdenken voor tendinogene klacht ^ chron licht stijgen bse zonder hypergammaglob met zeer gering m proteine ^ roodheid en zwelling rechter onderbe na tripl artrodees dd post operatief infectie normaal post operatief verandering \"\n",
      "\n",
      " has been classified as  y and should be  n \n",
      "\n",
      "\" monoartritis rechter knie bij niet ziek patiente met ra wv mtx ^ geen koorts ^ laag inflammatieparameter ^ i a puncti helder vocht met sporadisch een leukocyt zonder kristal \"\n",
      "\n",
      " has been classified as  y and should be  n \n",
      "\n",
      "\" reuamtoien artritit ogen in remissi dubieus artrtis van de rechter mtp gewricht ^ artroos hand met noduli van heberd ^ rugpijn \"\n",
      "\n",
      " has been classified as  n and should be  y \n",
      "\n",
      "\" rf positief erosief symmetrisch polyartritis van de hand sinds en tevens uitgebreien handartroos klinisch meest passen bij inflammatoir oa dd ra paraneoplastisch hcq sinds stoppen wegens oogklacht ^ m kahler wv chemotherapie sinds via dr hardy rijnland \"\n",
      "\n",
      " has been classified as  y and should be  n \n",
      "\n",
      "\" artritis sporiatica rf ra in remissie \"\n",
      "\n",
      " has been classified as  y and should be  n \n",
      "\n",
      "\" ra pmr overlapbeeld wv prednison in remissie ^ onderbuiksklacht en tevens toenemennen vermoeidheid ^ verhogen bs al langer bestaand \"\n",
      "\n",
      " has been classified as  y and should be  n \n",
      "\n",
      "\" verdenking septisch artritis rechter knie bij patiente bekend met seronegatief polyartritis duiden als ra reeds dag behandelen met flucloxacilline en vorig week behandelen met onbekend antibioticum vanwege cystitis ^ focus \"\n",
      "\n",
      " has been classified as  y and should be  n \n",
      "\n",
      "\" rf negatieve anti ccp negatief anf negatief non erosief ua ra sinds waarvoor mtx nb voldoet niet aan of criteria voor ra in remissie ^ licht stijgen kreatinine dd prerenaal renaal postrenaal ^ osteoporoos \"\n",
      "\n",
      " has been classified as  y and should be  n \n",
      "\n"
     ]
    }
   ],
   "source": [
    "predictions = text_clf.predict(X_test)\n",
    "for inp, prediction, label in zip(X_test, predictions, y_test):\n",
    "    if prediction != label:\n",
    "        print('\"', inp, '\"\\n\\n', 'has been classified as ', prediction, 'and should be ', label, '\\n') "
   ]
  },
  {
   "cell_type": "markdown",
   "metadata": {},
   "source": [
    "# Optional Visualizations"
   ]
  },
  {
   "cell_type": "markdown",
   "metadata": {},
   "source": [
    "### Visualize Decision Tree - graphviz \n",
    "Outputs a file that can be visualized in http://viz-js.com/ "
   ]
  },
  {
   "cell_type": "code",
   "execution_count": 87,
   "metadata": {},
   "outputs": [
    {
     "data": {
      "text/plain": [
       "'Predicting RA diagnosis'"
      ]
     },
     "execution_count": 87,
     "metadata": {},
     "output_type": "execute_result"
    }
   ],
   "source": [
    "import graphviz \n",
    "\n",
    "count_vect = CountVectorizer()\n",
    "X_train_counts = count_vect.fit_transform(X_train) # learning the vocabulary dictionary\n",
    "tfidf_transformer = TfidfTransformer() ## remove common words\n",
    "X_train_tfidf = tfidf_transformer.fit_transform(X_train_counts)\n",
    "\n",
    "clf = tree.DecisionTreeClassifier()\n",
    "test_clf = clf.fit(X_train_tfidf, y_train)\n",
    "\n",
    "dot_data = tree.export_graphviz(test_clf, out_file=None, feature_names=count_vect.get_feature_names(), class_names=['POSITIVE', 'NEGATIVE'],  \n",
    "        filled=True, rounded=True, special_characters=True)  \n",
    "        \n",
    "graph = graphviz.Source(dot_data) \n",
    "graph.save(\"PredictingRAtree\")\n",
    "#graph.render(\"Predicting RA diagnosis\") "
   ]
  },
  {
   "cell_type": "markdown",
   "metadata": {},
   "source": [
    "### Visualize Gradient Boosting - graphviz\n",
    "Outputs a file that can be visualized in http://viz-js.com/ "
   ]
  },
  {
   "cell_type": "code",
   "execution_count": 39,
   "metadata": {},
   "outputs": [
    {
     "data": {
      "text/plain": [
       "'Predicting RA diagnosis GBM'"
      ]
     },
     "execution_count": 39,
     "metadata": {},
     "output_type": "execute_result"
    }
   ],
   "source": [
    "\n",
    "import graphviz \n",
    "\n",
    "count_vect = CountVectorizer()\n",
    "X_train_counts = count_vect.fit_transform(X_train) # learning the vocabulary dictionary\n",
    "tfidf_transformer = TfidfTransformer() ## remove common words\n",
    "X_train_tfidf = tfidf_transformer.fit_transform(X_train_counts)\n",
    "\n",
    "clf = ske.GradientBoostingClassifier(n_estimators=50)\n",
    "test_clf = clf.fit(X_train_tfidf, y_train)\n",
    "sub_tree_42 = clf.estimators_[1, 0]\n",
    "\n",
    "dot_data = tree.export_graphviz(\n",
    "    sub_tree_42,\n",
    "    out_file=None, feature_names=count_vect.get_feature_names(), class_names=['POSITIVE', 'NEGATIVE'],  \n",
    "        filled=True, rounded=True, special_characters=True)  \n",
    "graph = graphviz.Source(dot_data) \n",
    "graph.save(\"Predicting RA diagnosis GBM\")\n",
    "#graph.render(\"Predicting RA diagnosis\") "
   ]
  },
  {
   "cell_type": "markdown",
   "metadata": {},
   "source": [
    "### Visualize Learning Curve\n",
    "To determine the optimal sample size for the trainingsset"
   ]
  },
  {
   "cell_type": "code",
   "execution_count": 64,
   "metadata": {},
   "outputs": [
    {
     "data": {
      "image/png": "[encoded data removed]",
      "text/plain": [
       "<matplotlib.figure.Figure at 0x7fe2312e0518>"
      ]
     },
     "metadata": {},
     "output_type": "display_data"
    }
   ],
   "source": [
    "from sklearn.model_selection import learning_curve\n",
    "from sklearn.svm import SVC\n",
    "\n",
    "clf = ske.GradientBoostingClassifier(n_estimators=50) # tree.DecisionTreeClassifier(random_state=777)\n",
    "\n",
    "count_vect = CountVectorizer()\n",
    "X_train_counts = count_vect.fit_transform(X_train) # learning the vocabulary dictionary\n",
    "tfidf_transformer = TfidfTransformer() ## remove common words\n",
    "X_train_tfidf = tfidf_transformer.fit_transform(X_train_counts)\n",
    "\n",
    "plot = vis.plot_learning_curve(clf, 'Learning curve Gradient Boosting', X_train_tfidf, y_train, train_sizes=[50, 100, 150, 200, 250, 300, 350], cv=5)\n",
    "\n",
    "plot.show()"
   ]
  },
  {
   "cell_type": "markdown",
   "metadata": {},
   "source": [
    "### Optimize Parameter "
   ]
  },
  {
   "cell_type": "code",
   "execution_count": 89,
   "metadata": {},
   "outputs": [],
   "source": [
    "from sklearn.model_selection import GridSearchCV\n",
    "parameters = {'vect__ngram_range': [(1, 1), (1, 2)],\n",
    "        'tfidf__use_idf': (True, False),\n",
    "        'clf__alpha': (1e-2, 1e-3),}\n",
    "#gs_clf = GridSearchCV(text_clf, parameters, n_jobs=-1) # n_jobs -> multiple cores\n",
    "#gs_clf = gs_clf.fit(X_train, y_train)"
   ]
  },
  {
   "cell_type": "code",
   "execution_count": 12,
   "metadata": {},
   "outputs": [
    {
     "name": "stdout",
     "output_type": "stream",
     "text": [
      "Automatically created module for IPython interactive environment\n",
      "# Tuning hyper-parameters for precision\n",
      "\n",
      "Best parameters set found on development set:\n",
      "\n",
      "{'C': 10, 'gamma': 0.001, 'kernel': 'rbf'}\n",
      "\n",
      "Grid scores on development set:\n",
      "\n",
      "0.986 (+/-0.016) for {'C': 1, 'gamma': 0.001, 'kernel': 'rbf'}\n",
      "0.959 (+/-0.029) for {'C': 1, 'gamma': 0.0001, 'kernel': 'rbf'}\n",
      "0.988 (+/-0.017) for {'C': 10, 'gamma': 0.001, 'kernel': 'rbf'}\n",
      "0.982 (+/-0.026) for {'C': 10, 'gamma': 0.0001, 'kernel': 'rbf'}\n",
      "0.988 (+/-0.017) for {'C': 20, 'gamma': 0.001, 'kernel': 'rbf'}\n",
      "0.985 (+/-0.019) for {'C': 20, 'gamma': 0.0001, 'kernel': 'rbf'}\n",
      "0.988 (+/-0.017) for {'C': 30, 'gamma': 0.001, 'kernel': 'rbf'}\n",
      "0.983 (+/-0.022) for {'C': 30, 'gamma': 0.0001, 'kernel': 'rbf'}\n",
      "0.975 (+/-0.014) for {'C': 1, 'kernel': 'linear'}\n",
      "0.975 (+/-0.014) for {'C': 10, 'kernel': 'linear'}\n",
      "0.975 (+/-0.014) for {'C': 20, 'kernel': 'linear'}\n",
      "0.975 (+/-0.014) for {'C': 30, 'kernel': 'linear'}\n",
      "\n",
      "Detailed classification report:\n",
      "\n",
      "The model is trained on the full development set.\n",
      "The scores are computed on the full evaluation set.\n",
      "\n",
      "             precision    recall  f1-score   support\n",
      "\n",
      "          0       1.00      1.00      1.00        89\n",
      "          1       0.97      1.00      0.98        90\n",
      "          2       0.99      0.98      0.98        92\n",
      "          3       1.00      0.99      0.99        93\n",
      "          4       1.00      1.00      1.00        76\n",
      "          5       0.99      0.98      0.99       108\n",
      "          6       0.99      1.00      0.99        89\n",
      "          7       0.99      1.00      0.99        78\n",
      "          8       1.00      0.98      0.99        92\n",
      "          9       0.99      0.99      0.99        92\n",
      "\n",
      "avg / total       0.99      0.99      0.99       899\n",
      "\n",
      "\n",
      "# Tuning hyper-parameters for recall\n",
      "\n",
      "Best parameters set found on development set:\n",
      "\n",
      "{'C': 10, 'gamma': 0.001, 'kernel': 'rbf'}\n",
      "\n",
      "Grid scores on development set:\n",
      "\n",
      "0.986 (+/-0.019) for {'C': 1, 'gamma': 0.001, 'kernel': 'rbf'}\n",
      "0.957 (+/-0.029) for {'C': 1, 'gamma': 0.0001, 'kernel': 'rbf'}\n",
      "0.987 (+/-0.019) for {'C': 10, 'gamma': 0.001, 'kernel': 'rbf'}\n",
      "0.981 (+/-0.028) for {'C': 10, 'gamma': 0.0001, 'kernel': 'rbf'}\n",
      "0.987 (+/-0.019) for {'C': 20, 'gamma': 0.001, 'kernel': 'rbf'}\n",
      "0.984 (+/-0.021) for {'C': 20, 'gamma': 0.0001, 'kernel': 'rbf'}\n",
      "0.987 (+/-0.019) for {'C': 30, 'gamma': 0.001, 'kernel': 'rbf'}\n",
      "0.982 (+/-0.021) for {'C': 30, 'gamma': 0.0001, 'kernel': 'rbf'}\n",
      "0.972 (+/-0.012) for {'C': 1, 'kernel': 'linear'}\n",
      "0.972 (+/-0.012) for {'C': 10, 'kernel': 'linear'}\n",
      "0.972 (+/-0.012) for {'C': 20, 'kernel': 'linear'}\n",
      "0.972 (+/-0.012) for {'C': 30, 'kernel': 'linear'}\n",
      "\n",
      "Detailed classification report:\n",
      "\n",
      "The model is trained on the full development set.\n",
      "The scores are computed on the full evaluation set.\n",
      "\n",
      "             precision    recall  f1-score   support\n",
      "\n",
      "          0       1.00      1.00      1.00        89\n",
      "          1       0.97      1.00      0.98        90\n",
      "          2       0.99      0.98      0.98        92\n",
      "          3       1.00      0.99      0.99        93\n",
      "          4       1.00      1.00      1.00        76\n",
      "          5       0.99      0.98      0.99       108\n",
      "          6       0.99      1.00      0.99        89\n",
      "          7       0.99      1.00      0.99        78\n",
      "          8       1.00      0.98      0.99        92\n",
      "          9       0.99      0.99      0.99        92\n",
      "\n",
      "avg / total       0.99      0.99      0.99       899\n",
      "\n",
      "\n"
     ]
    }
   ],
   "source": [
    "from __future__ import print_function\n",
    "\n",
    "from sklearn import datasets\n",
    "from sklearn.model_selection import train_test_split\n",
    "from sklearn.model_selection import GridSearchCV\n",
    "from sklearn.metrics import classification_report\n",
    "from sklearn.svm import SVC\n",
    "\n",
    "print(__doc__)\n",
    "\n",
    "# Loading the Digits dataset\n",
    "digits = datasets.load_digits()\n",
    "\n",
    "# To apply an classifier on this data, we need to flatten the image, to\n",
    "# turn the data in a (samples, feature) matrix:\n",
    "n_samples = len(digits.images)\n",
    "X = digits.images.reshape((n_samples, -1))\n",
    "y = digits.target\n",
    "\n",
    "# Split the dataset in two equal parts\n",
    "X_train, X_test, y_train, y_test = train_test_split(\n",
    "    X, y, test_size=0.5, random_state=0)\n",
    "\n",
    "# Set the parameters by cross-validation\n",
    "\n",
    "epochs = [5, 10]\n",
    "batches = [5, 10, 100]\n",
    "optimizers = ['rmsprop', 'adam']\n",
    "\n",
    "tuned_parameters = [{'kernel': ['rbf'], 'gamma': [1e-3, 1e-4],\n",
    "                     'C': [1, 10, 20, 30]},\n",
    "                    {'kernel': ['linear'], 'C': [1, 10, 20, 30]}]\n",
    "\n",
    "tuned_parameters = [{'kernel': ['rbf'], 'gamma': [1e-3, 1e-4],\n",
    "                     'C': [1, 10, 20, 30]},\n",
    "                    {'kernel': ['linear'], 'C': [1, 10, 20, 30]}]\n",
    "\n",
    "scores = ['precision', 'recall']\n",
    "\n",
    "for score in scores:\n",
    "    print(\"# Tuning hyper-parameters for %s\" % score)\n",
    "    print()\n",
    "\n",
    "    clf = GridSearchCV(SVC(), tuned_parameters, cv=5,\n",
    "                       scoring='%s_macro' % score)\n",
    "    clf.fit(X_train, y_train)\n",
    "\n",
    "    print(\"Best parameters set found on development set:\")\n",
    "    print()\n",
    "    print(clf.best_params_)\n",
    "    print()\n",
    "    print(\"Grid scores on development set:\")\n",
    "    print()\n",
    "    means = clf.cv_results_['mean_test_score']\n",
    "    stds = clf.cv_results_['std_test_score']\n",
    "    for mean, std, params in zip(means, stds, clf.cv_results_['params']):\n",
    "        print(\"%0.3f (+/-%0.03f) for %r\"\n",
    "              % (mean, std * 2, params))\n",
    "    print()\n",
    "\n",
    "    print(\"Detailed classification report:\")\n",
    "    print()\n",
    "    print(\"The model is trained on the full development set.\")\n",
    "    print(\"The scores are computed on the full evaluation set.\")\n",
    "    print()\n",
    "    y_true, y_pred = y_test, clf.predict(X_test)\n",
    "    print(classification_report(y_true, y_pred))\n",
    "    print()\n",
    "\n",
    "# Note the problem is too easy: the hyperparameter plateau is too flat and the\n",
    "# output model is the same for precision and recall with ties in quality."
   ]
  },
  {
   "cell_type": "code",
   "execution_count": null,
   "metadata": {},
   "outputs": [],
   "source": []
  }
 ],
 "metadata": {
  "kernelspec": {
   "display_name": "Python 3",
   "language": "python",
   "name": "python3"
  },
  "language_info": {
   "codemirror_mode": {
    "name": "ipython",
    "version": 3
   },
   "file_extension": ".py",
   "mimetype": "text/x-python",
   "name": "python",
   "nbconvert_exporter": "python",
   "pygments_lexer": "ipython3",
   "version": "3.6.5"
  }
 },
 "nbformat": 4,
 "nbformat_minor": 2
}
